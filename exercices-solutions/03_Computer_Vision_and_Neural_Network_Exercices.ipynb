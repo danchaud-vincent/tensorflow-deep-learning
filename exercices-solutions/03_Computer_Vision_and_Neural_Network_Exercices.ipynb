{
  "nbformat": 4,
  "nbformat_minor": 0,
  "metadata": {
    "colab": {
      "name": "03-Computer_Vision_and_Neural_Network_Exercices.ipynb",
      "provenance": [],
      "collapsed_sections": [],
      "authorship_tag": "ABX9TyNpBUxV0X9pIEcX7F00rO9F",
      "include_colab_link": true
    },
    "kernelspec": {
      "name": "python3",
      "display_name": "Python 3"
    },
    "language_info": {
      "name": "python"
    }
  },
  "cells": [
    {
      "cell_type": "markdown",
      "metadata": {
        "id": "view-in-github",
        "colab_type": "text"
      },
      "source": [
        "<a href=\"https://colab.research.google.com/github/danchaud-vincent/tensorflow-deep-learning/blob/main/exercices-solutions/03_Computer_Vision_and_Neural_Network_Exercices.ipynb\" target=\"_parent\"><img src=\"https://colab.research.google.com/assets/colab-badge.svg\" alt=\"Open In Colab\"/></a>"
      ]
    },
    {
      "cell_type": "markdown",
      "source": [
        "# 03 - Computer Vision and Neural Networks Exercices"
      ],
      "metadata": {
        "id": "XHZCJTk0vu4d"
      }
    },
    {
      "cell_type": "markdown",
      "source": [
        "Take a dataset on kaggle (ex: cat vs dog) and Build a CNN image classifier using the techniques we've built in the course notebook. \n",
        "\n",
        "Find an ideal learning rate for a simple convolutional neurol network model on the dataset."
      ],
      "metadata": {
        "id": "lNHqxpO-v9Rj"
      }
    },
    {
      "cell_type": "code",
      "execution_count": null,
      "metadata": {
        "id": "YXatJDJ3vinA"
      },
      "outputs": [],
      "source": [
        ""
      ]
    }
  ]
}