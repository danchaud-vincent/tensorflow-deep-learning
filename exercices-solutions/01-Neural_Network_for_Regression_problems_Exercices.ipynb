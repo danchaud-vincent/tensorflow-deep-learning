{
 "cells": [
  {
   "cell_type": "markdown",
   "metadata": {},
   "source": [
    "# 01- Neural Networks for regression problems **Exercices**"
   ]
  },
  {
   "cell_type": "markdown",
   "metadata": {},
   "source": [
    "1. Create your own regression dataset and build fit a model to it.\n",
    "2. Try building a neural network with 4 Dens layers and fitting it to your own regression dataset, how doest it perform?\n",
    "3. Try and improve the results we got on the insurance dataset, some things you might want to try include:\n",
    "    - Building a larger model.\n",
    "    - Increasing the number of units in each layer.\n",
    "    - Lookup the documentation of **Adam** and find out what the first parameter is, what happens if you increase it by 10?\n",
    "    - What happens if you train for longer?\n",
    "4. Import the [Boston pricing dataset](https://www.tensorflow.org/api_docs/python/tf/keras/datasets/boston_housing/load_data) from Tensorflow `tf.keras.datasets` and model it."
   ]
  },
  {
   "cell_type": "code",
   "execution_count": 1,
   "metadata": {},
   "outputs": [],
   "source": [
    "# import librairies\n",
    "import pandas as pd\n",
    "import numpy as np\n",
    "import matplotlib.pyplot as plt\n",
    "import tensorflow as tf"
   ]
  },
  {
   "cell_type": "markdown",
   "metadata": {},
   "source": [
    "### 1. Create your own regression dataset and build fit a model to it."
   ]
  },
  {
   "cell_type": "markdown",
   "metadata": {},
   "source": [
    "### Create a dataset and visualize it"
   ]
  },
  {
   "cell_type": "code",
   "execution_count": 44,
   "metadata": {},
   "outputs": [
    {
     "data": {
      "text/plain": [
       "<matplotlib.collections.PathCollection at 0x18d72967100>"
      ]
     },
     "execution_count": 44,
     "metadata": {},
     "output_type": "execute_result"
    },
    {
     "data": {
      "image/png": "[encoded data removed]",
      "text/plain": [
       "<Figure size 432x288 with 1 Axes>"
      ]
     },
     "metadata": {
      "needs_background": "light"
     },
     "output_type": "display_data"
    }
   ],
   "source": [
    "# Create a dataset \n",
    "X = np.arange(-1000,1000,12)\n",
    "y = np.arange(-900,1100,12)\n",
    "\n",
    "# View the data\n",
    "plt.scatter(X,y)"
   ]
  },
  {
   "cell_type": "markdown",
   "metadata": {},
   "source": [
    "### Split the data into a training and test set"
   ]
  },
  {
   "cell_type": "code",
   "execution_count": 45,
   "metadata": {},
   "outputs": [
    {
     "data": {
      "text/plain": [
       "((133,), (34,), (133,), (34,))"
      ]
     },
     "execution_count": 45,
     "metadata": {},
     "output_type": "execute_result"
    }
   ],
   "source": [
    "# Split the data\n",
    "from sklearn.model_selection import train_test_split\n",
    "X_train, X_test, y_train, y_test = train_test_split(X,y,test_size=0.2)\n",
    "\n",
    "X_train.shape, X_test.shape, y_train.shape, y_test.shape"
   ]
  },
  {
   "cell_type": "code",
   "execution_count": 47,
   "metadata": {},
   "outputs": [
    {
     "data": {
      "image/png": "[encoded data removed]",
      "text/plain": [
       "<Figure size 720x504 with 1 Axes>"
      ]
     },
     "metadata": {
      "needs_background": "light"
     },
     "output_type": "display_data"
    }
   ],
   "source": [
    "# Visualize the training set and testing set\n",
    "\n",
    "plt.figure(figsize=(10,7))\n",
    "\n",
    "# training set\n",
    "plt.scatter(X_train,y_train, c=\"blue\",label=\"Training set\")\n",
    "\n",
    "# test set\n",
    "plt.scatter(X_test,y_test, c = \"red\", label=\"Test set\")\n",
    "\n",
    "# legend\n",
    "plt.legend()\n",
    "\n",
    "plt.show()"
   ]
  },
  {
   "cell_type": "markdown",
   "metadata": {},
   "source": [
    "### Build a model"
   ]
  },
  {
   "cell_type": "code",
   "execution_count": 49,
   "metadata": {},
   "outputs": [
    {
     "name": "stdout",
     "output_type": "stream",
     "text": [
      "Epoch 1/100\n",
      "5/5 [==============================] - 0s 998us/step - loss: 320.3220 - mae: 320.3220\n",
      "Epoch 2/100\n",
      "5/5 [==============================] - 0s 1ms/step - loss: 302.9496 - mae: 302.9496\n",
      "Epoch 3/100\n",
      "5/5 [==============================] - 0s 1ms/step - loss: 285.6267 - mae: 285.6267\n",
      "Epoch 4/100\n",
      "5/5 [==============================] - 0s 2ms/step - loss: 268.7196 - mae: 268.7196\n",
      "Epoch 5/100\n",
      "5/5 [==============================] - 0s 1ms/step - loss: 252.0170 - mae: 252.0170\n",
      "Epoch 6/100\n",
      "5/5 [==============================] - 0s 2ms/step - loss: 235.2018 - mae: 235.2018\n",
      "Epoch 7/100\n",
      "5/5 [==============================] - 0s 1ms/step - loss: 218.2558 - mae: 218.2558\n",
      "Epoch 8/100\n",
      "5/5 [==============================] - 0s 2ms/step - loss: 201.7807 - mae: 201.7807\n",
      "Epoch 9/100\n",
      "5/5 [==============================] - 0s 2ms/step - loss: 185.0868 - mae: 185.0868\n",
      "Epoch 10/100\n",
      "5/5 [==============================] - 0s 1ms/step - loss: 168.9220 - mae: 168.9220\n",
      "Epoch 11/100\n",
      "5/5 [==============================] - 0s 2ms/step - loss: 153.3012 - mae: 153.3012\n",
      "Epoch 12/100\n",
      "5/5 [==============================] - 0s 1ms/step - loss: 139.0773 - mae: 139.0773\n",
      "Epoch 13/100\n",
      "5/5 [==============================] - 0s 2ms/step - loss: 125.4800 - mae: 125.4800\n",
      "Epoch 14/100\n",
      "5/5 [==============================] - 0s 2ms/step - loss: 113.8201 - mae: 113.8201\n",
      "Epoch 15/100\n",
      "5/5 [==============================] - 0s 1ms/step - loss: 103.8860 - mae: 103.8860\n",
      "Epoch 16/100\n",
      "5/5 [==============================] - 0s 1ms/step - loss: 99.4231 - mae: 99.4231\n",
      "Epoch 17/100\n",
      "5/5 [==============================] - 0s 2ms/step - loss: 98.8960 - mae: 98.8960\n",
      "Epoch 18/100\n",
      "5/5 [==============================] - 0s 1ms/step - loss: 98.9304 - mae: 98.9304\n",
      "Epoch 19/100\n",
      "5/5 [==============================] - 0s 2ms/step - loss: 98.9209 - mae: 98.9209\n",
      "Epoch 20/100\n",
      "5/5 [==============================] - 0s 997us/step - loss: 98.9876 - mae: 98.9876\n",
      "Epoch 21/100\n",
      "5/5 [==============================] - 0s 2ms/step - loss: 99.0550 - mae: 99.0550\n",
      "Epoch 22/100\n",
      "5/5 [==============================] - 0s 2ms/step - loss: 99.0354 - mae: 99.0354\n",
      "Epoch 23/100\n",
      "5/5 [==============================] - 0s 2ms/step - loss: 98.9911 - mae: 98.9911\n",
      "Epoch 24/100\n",
      "5/5 [==============================] - 0s 1ms/step - loss: 99.0371 - mae: 99.0371\n",
      "Epoch 25/100\n",
      "5/5 [==============================] - 0s 1ms/step - loss: 98.9380 - mae: 98.9380\n",
      "Epoch 26/100\n",
      "5/5 [==============================] - 0s 2ms/step - loss: 98.8610 - mae: 98.8610\n",
      "Epoch 27/100\n",
      "5/5 [==============================] - 0s 2ms/step - loss: 98.8268 - mae: 98.8268\n",
      "Epoch 28/100\n",
      "5/5 [==============================] - 0s 2ms/step - loss: 98.7567 - mae: 98.7567\n",
      "Epoch 29/100\n",
      "5/5 [==============================] - 0s 2ms/step - loss: 98.7357 - mae: 98.7357\n",
      "Epoch 30/100\n",
      "5/5 [==============================] - 0s 2ms/step - loss: 98.7037 - mae: 98.7037\n",
      "Epoch 31/100\n",
      "5/5 [==============================] - 0s 1ms/step - loss: 98.6707 - mae: 98.6707\n",
      "Epoch 32/100\n",
      "5/5 [==============================] - 0s 2ms/step - loss: 98.6635 - mae: 98.6635\n",
      "Epoch 33/100\n",
      "5/5 [==============================] - 0s 2ms/step - loss: 98.6599 - mae: 98.6599\n",
      "Epoch 34/100\n",
      "5/5 [==============================] - 0s 1ms/step - loss: 98.6284 - mae: 98.6284\n",
      "Epoch 35/100\n",
      "5/5 [==============================] - 0s 2ms/step - loss: 98.6028 - mae: 98.6028\n",
      "Epoch 36/100\n",
      "5/5 [==============================] - 0s 2ms/step - loss: 98.5606 - mae: 98.5606\n",
      "Epoch 37/100\n",
      "5/5 [==============================] - 0s 1ms/step - loss: 98.5483 - mae: 98.5483\n",
      "Epoch 38/100\n",
      "5/5 [==============================] - 0s 2ms/step - loss: 98.5249 - mae: 98.5249\n",
      "Epoch 39/100\n",
      "5/5 [==============================] - 0s 2ms/step - loss: 98.4704 - mae: 98.4704\n",
      "Epoch 40/100\n",
      "5/5 [==============================] - 0s 2ms/step - loss: 98.5585 - mae: 98.5585\n",
      "Epoch 41/100\n",
      "5/5 [==============================] - 0s 2ms/step - loss: 98.4395 - mae: 98.4395\n",
      "Epoch 42/100\n",
      "5/5 [==============================] - 0s 1ms/step - loss: 98.4070 - mae: 98.4070\n",
      "Epoch 43/100\n",
      "5/5 [==============================] - 0s 2ms/step - loss: 98.3986 - mae: 98.3986\n",
      "Epoch 44/100\n",
      "5/5 [==============================] - 0s 2ms/step - loss: 98.3776 - mae: 98.3776\n",
      "Epoch 45/100\n",
      "5/5 [==============================] - 0s 1ms/step - loss: 98.3745 - mae: 98.3745\n",
      "Epoch 46/100\n",
      "5/5 [==============================] - 0s 2ms/step - loss: 98.3169 - mae: 98.3169\n",
      "Epoch 47/100\n",
      "5/5 [==============================] - 0s 1ms/step - loss: 98.2757 - mae: 98.2757\n",
      "Epoch 48/100\n",
      "5/5 [==============================] - 0s 2ms/step - loss: 98.2088 - mae: 98.2088\n",
      "Epoch 49/100\n",
      "5/5 [==============================] - 0s 1ms/step - loss: 98.1605 - mae: 98.1605\n",
      "Epoch 50/100\n",
      "5/5 [==============================] - 0s 2ms/step - loss: 98.1610 - mae: 98.1610\n",
      "Epoch 51/100\n",
      "5/5 [==============================] - 0s 1ms/step - loss: 98.1337 - mae: 98.1337\n",
      "Epoch 52/100\n",
      "5/5 [==============================] - 0s 1ms/step - loss: 98.2140 - mae: 98.2140\n",
      "Epoch 53/100\n",
      "5/5 [==============================] - 0s 3ms/step - loss: 98.1105 - mae: 98.1105\n",
      "Epoch 54/100\n",
      "5/5 [==============================] - 0s 2ms/step - loss: 98.1453 - mae: 98.1453\n",
      "Epoch 55/100\n",
      "5/5 [==============================] - 0s 2ms/step - loss: 98.0879 - mae: 98.0879\n",
      "Epoch 56/100\n",
      "5/5 [==============================] - 0s 2ms/step - loss: 98.1053 - mae: 98.1053\n",
      "Epoch 57/100\n",
      "5/5 [==============================] - 0s 1ms/step - loss: 98.0907 - mae: 98.0907\n",
      "Epoch 58/100\n",
      "5/5 [==============================] - 0s 1ms/step - loss: 97.9770 - mae: 97.9770\n",
      "Epoch 59/100\n",
      "5/5 [==============================] - 0s 2ms/step - loss: 97.9761 - mae: 97.9761\n",
      "Epoch 60/100\n",
      "5/5 [==============================] - 0s 1ms/step - loss: 97.9441 - mae: 97.9441\n",
      "Epoch 61/100\n",
      "5/5 [==============================] - 0s 2ms/step - loss: 97.9109 - mae: 97.9109\n",
      "Epoch 62/100\n",
      "5/5 [==============================] - 0s 1ms/step - loss: 97.8699 - mae: 97.8699\n",
      "Epoch 63/100\n",
      "5/5 [==============================] - 0s 1ms/step - loss: 97.9051 - mae: 97.9051\n",
      "Epoch 64/100\n",
      "5/5 [==============================] - 0s 2ms/step - loss: 97.8692 - mae: 97.8692\n",
      "Epoch 65/100\n",
      "5/5 [==============================] - 0s 1ms/step - loss: 97.8757 - mae: 97.8757\n",
      "Epoch 66/100\n",
      "5/5 [==============================] - 0s 2ms/step - loss: 97.8151 - mae: 97.8151\n",
      "Epoch 67/100\n",
      "5/5 [==============================] - 0s 2ms/step - loss: 97.8653 - mae: 97.8653\n",
      "Epoch 68/100\n",
      "5/5 [==============================] - 0s 3ms/step - loss: 97.8359 - mae: 97.8359\n",
      "Epoch 69/100\n",
      "5/5 [==============================] - 0s 2ms/step - loss: 97.8014 - mae: 97.8014\n",
      "Epoch 70/100\n",
      "5/5 [==============================] - 0s 2ms/step - loss: 97.7668 - mae: 97.7668\n",
      "Epoch 71/100\n",
      "5/5 [==============================] - 0s 2ms/step - loss: 97.7841 - mae: 97.7841\n",
      "Epoch 72/100\n",
      "5/5 [==============================] - 0s 2ms/step - loss: 97.6519 - mae: 97.6519\n",
      "Epoch 73/100\n",
      "5/5 [==============================] - 0s 2ms/step - loss: 97.6130 - mae: 97.6130\n",
      "Epoch 74/100\n",
      "5/5 [==============================] - 0s 2ms/step - loss: 97.6078 - mae: 97.6078\n",
      "Epoch 75/100\n",
      "5/5 [==============================] - 0s 1ms/step - loss: 97.5226 - mae: 97.5226\n",
      "Epoch 76/100\n",
      "5/5 [==============================] - 0s 1ms/step - loss: 97.6462 - mae: 97.6462\n",
      "Epoch 77/100\n",
      "5/5 [==============================] - 0s 1ms/step - loss: 97.4348 - mae: 97.4348\n",
      "Epoch 78/100\n",
      "5/5 [==============================] - 0s 2ms/step - loss: 97.3553 - mae: 97.3553\n",
      "Epoch 79/100\n",
      "5/5 [==============================] - 0s 2ms/step - loss: 97.3704 - mae: 97.3704\n",
      "Epoch 80/100\n",
      "5/5 [==============================] - 0s 1ms/step - loss: 97.3712 - mae: 97.3712\n",
      "Epoch 81/100\n",
      "5/5 [==============================] - 0s 2ms/step - loss: 97.3470 - mae: 97.3470\n",
      "Epoch 82/100\n",
      "5/5 [==============================] - 0s 2ms/step - loss: 97.3221 - mae: 97.3221\n",
      "Epoch 83/100\n",
      "5/5 [==============================] - 0s 1ms/step - loss: 97.2958 - mae: 97.2958\n",
      "Epoch 84/100\n",
      "5/5 [==============================] - 0s 2ms/step - loss: 97.2901 - mae: 97.2901\n",
      "Epoch 85/100\n",
      "5/5 [==============================] - 0s 1ms/step - loss: 97.3297 - mae: 97.3297\n",
      "Epoch 86/100\n",
      "5/5 [==============================] - 0s 2ms/step - loss: 97.3053 - mae: 97.3053\n",
      "Epoch 87/100\n",
      "5/5 [==============================] - 0s 2ms/step - loss: 97.2703 - mae: 97.2703\n",
      "Epoch 88/100\n",
      "5/5 [==============================] - 0s 2ms/step - loss: 97.1967 - mae: 97.1967\n",
      "Epoch 89/100\n",
      "5/5 [==============================] - 0s 1ms/step - loss: 97.1703 - mae: 97.1703\n",
      "Epoch 90/100\n",
      "5/5 [==============================] - 0s 1ms/step - loss: 97.1408 - mae: 97.1408\n",
      "Epoch 91/100\n",
      "5/5 [==============================] - 0s 2ms/step - loss: 97.0251 - mae: 97.0251\n",
      "Epoch 92/100\n",
      "5/5 [==============================] - 0s 1ms/step - loss: 96.9556 - mae: 96.9556\n",
      "Epoch 93/100\n",
      "5/5 [==============================] - 0s 1ms/step - loss: 96.9242 - mae: 96.9242\n",
      "Epoch 94/100\n",
      "5/5 [==============================] - 0s 2ms/step - loss: 96.8823 - mae: 96.8823\n",
      "Epoch 95/100\n",
      "5/5 [==============================] - 0s 2ms/step - loss: 96.9383 - mae: 96.9383\n",
      "Epoch 96/100\n",
      "5/5 [==============================] - 0s 998us/step - loss: 96.9136 - mae: 96.9136\n",
      "Epoch 97/100\n",
      "5/5 [==============================] - 0s 2ms/step - loss: 96.9385 - mae: 96.9385\n",
      "Epoch 98/100\n",
      "5/5 [==============================] - 0s 2ms/step - loss: 96.8129 - mae: 96.8129\n",
      "Epoch 99/100\n",
      "5/5 [==============================] - 0s 1ms/step - loss: 96.7630 - mae: 96.7630\n",
      "Epoch 100/100\n",
      "5/5 [==============================] - 0s 2ms/step - loss: 96.7999 - mae: 96.7999\n"
     ]
    }
   ],
   "source": [
    "tf.random.set_seed(42)\n",
    "\n",
    "# Create a model\n",
    "model_1 = tf.keras.Sequential([\n",
    "    tf.keras.layers.Dense(10),\n",
    "    tf.keras.layers.Dense(1)\n",
    "])\n",
    "\n",
    "# Compile the model\n",
    "model_1.compile(loss = tf.keras.losses.mae,\n",
    "                optimizer = tf.keras.optimizers.Adam(),\n",
    "                metrics = [\"mae\"])\n",
    "\n",
    "# fit the model\n",
    "history1 = model_1.fit(tf.expand_dims(X_train,axis=-1), y_train,epochs = 100)"
   ]
  },
  {
   "cell_type": "code",
   "execution_count": 50,
   "metadata": {},
   "outputs": [
    {
     "name": "stdout",
     "output_type": "stream",
     "text": [
      "2/2 [==============================] - 0s 2ms/step - loss: 97.7562 - mae: 97.7562\n"
     ]
    },
    {
     "data": {
      "text/plain": [
       "[97.75617218017578, 97.75617218017578]"
      ]
     },
     "execution_count": 50,
     "metadata": {},
     "output_type": "execute_result"
    }
   ],
   "source": [
    "# Evaluate the model\n",
    "model_1.evaluate(X_test,y_test)"
   ]
  },
  {
   "cell_type": "code",
   "execution_count": 51,
   "metadata": {},
   "outputs": [
    {
     "data": {
      "text/plain": [
       "<Figure size 720x504 with 0 Axes>"
      ]
     },
     "metadata": {},
     "output_type": "display_data"
    },
    {
     "data": {
      "image/png": "[encoded data removed]",
      "text/plain": [
       "<Figure size 432x288 with 1 Axes>"
      ]
     },
     "metadata": {
      "needs_background": "light"
     },
     "output_type": "display_data"
    }
   ],
   "source": [
    "# Visualize the loss during the training\n",
    "plt.figure(figsize=(10,7))\n",
    "pd.DataFrame(history1.history).plot()\n",
    "plt.show()"
   ]
  },
  {
   "cell_type": "code",
   "execution_count": 52,
   "metadata": {},
   "outputs": [],
   "source": [
    "# Make some predictions\n",
    "y_pred = model_1.predict(X_test)"
   ]
  },
  {
   "cell_type": "code",
   "execution_count": 58,
   "metadata": {},
   "outputs": [],
   "source": [
    "def plot_predictions(X_train = X_train, y_train = y_train, X_test = X_test, y_test = y_test, predictions = y_pred):\n",
    "    \"\"\"\n",
    "    Plot the Training set, the test set and the predictions on a figure\n",
    "\n",
    "    Inputs:\n",
    "    - X_train : features data of the training set\n",
    "    - y_train : labels of the training set\n",
    "    - X_test : features data of the test set\n",
    "    - y_test : labels of the test set\n",
    "    - predictions : result of the prediction made by the model\n",
    "    \"\"\"\n",
    "\n",
    "    plt.figure(figsize=(10,7))\n",
    "\n",
    "    # training set\n",
    "    plt.scatter(X_train,y_train, c=\"blue\",label=\"Training set\")\n",
    "\n",
    "    # test set\n",
    "    plt.scatter(X_test,y_test, c = \"red\", label=\"Test set\")\n",
    "\n",
    "    # predictions\n",
    "    plt.scatter(X_test, predictions, c = \"green\", label = \"Predictions\")\n",
    "\n",
    "    # legend\n",
    "    plt.legend()\n",
    "\n",
    "    plt.show()"
   ]
  },
  {
   "cell_type": "code",
   "execution_count": 62,
   "metadata": {},
   "outputs": [
    {
     "data": {
      "image/png": "[encoded data removed]",
      "text/plain": [
       "<Figure size 720x504 with 1 Axes>"
      ]
     },
     "metadata": {
      "needs_background": "light"
     },
     "output_type": "display_data"
    }
   ],
   "source": [
    "# Visualize the prediction\n",
    "plot_predictions(predictions = y_pred)"
   ]
  },
  {
   "cell_type": "markdown",
   "metadata": {},
   "source": [
    "### 2. Try building a neural network with 4 Dense layers and fitting it to the regression dataset"
   ]
  },
  {
   "cell_type": "code",
   "execution_count": null,
   "metadata": {},
   "outputs": [],
   "source": [
    "# Build a neural network with 4 layers\n",
    "\n",
    "tf.random.set_seed(42)"
   ]
  }
 ],
 "metadata": {
  "interpreter": {
   "hash": "247ab06e135bb35fa78c5eff31b2a9a0050dcb5fb773c2631d2a29ac689eeccb"
  },
  "kernelspec": {
   "display_name": "Python 3.9.4 64-bit",
   "language": "python",
   "name": "python3"
  },
  "language_info": {
   "codemirror_mode": {
    "name": "ipython",
    "version": 3
   },
   "file_extension": ".py",
   "mimetype": "text/x-python",
   "name": "python",
   "nbconvert_exporter": "python",
   "pygments_lexer": "ipython3",
   "version": "3.8.8"
  },
  "orig_nbformat": 4
 },
 "nbformat": 4,
 "nbformat_minor": 2
}
