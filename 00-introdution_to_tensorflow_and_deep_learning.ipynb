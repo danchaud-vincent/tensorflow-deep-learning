{
 "cells": [
  {
   "cell_type": "markdown",
   "metadata": {},
   "source": [
    "# 00 - Getting started with Tensorflow"
   ]
  },
  {
   "cell_type": "markdown",
   "metadata": {},
   "source": [
    "## 1. Introduction to Deep Learning"
   ]
  },
  {
   "cell_type": "markdown",
   "metadata": {},
   "source": [
    "### What is deep learning?"
   ]
  },
  {
   "cell_type": "markdown",
   "metadata": {},
   "source": [
    "Artificial intelligence is a field that is trying to get a computer to think for itself. Then Machine learning is turning things (data) into number and <b>finding patterns</b> in those numbers. Deep learning is a subfield of machine Learning. "
   ]
  },
  {
   "cell_type": "markdown",
   "metadata": {},
   "source": [
    "<center><img rel=\"slide ML vs DL\" src=\"images/00-ml-vs-dl.png\" heigth=200px width=600px></center>"
   ]
  },
  {
   "cell_type": "markdown",
   "metadata": {},
   "source": [
    "### Why use deep learning?"
   ]
  },
  {
   "cell_type": "markdown",
   "metadata": {},
   "source": [
    "<b>Better reason :</b> For a complex problem, can you think of all the rules you'd have to code? Probably not... For example driving a car requires to follow a lot of rules (signs, pedestrian, other cars...)\n",
    "\n",
    "**When use machine learning ?**\n",
    "\n",
    "- rule 1 of Google's Machine Learning Handbook: \"If you can build a ***simple rule-based*** system that doesn't require machine learning, do that.\"\n",
    "\n"
   ]
  },
  {
   "cell_type": "markdown",
   "metadata": {},
   "source": [
    "### What deep learning is good for ?\n"
   ]
  },
  {
   "cell_type": "markdown",
   "metadata": {},
   "source": [
    "- **Problems with long lists of rules** : when the traditional approach fails, machine learning/deep learning may help.\n",
    "- **Continually changing environments** : deep learning can adapt(\"learn\") to new scenarios.\n",
    "- **Discovering insights within large collections of data** : can you imagine trying to hand-craft rules for what 101 different kinds of food look like?"
   ]
  },
  {
   "cell_type": "markdown",
   "metadata": {},
   "source": [
    "### What deep learning is not good for ?\n"
   ]
  },
  {
   "cell_type": "markdown",
   "metadata": {},
   "source": [
    "- **When you need explainability** : the patterns learned by a deep learning model are typically uninterpretable by a human.\n",
    "- **When the traditional approach is a better option** : if you can accomplish what you need with a simple rule-based system.\n",
    "- **When errors are unacceptable** : since the outputs of deep learning model aren't always predictable.\n",
    "- **When you don't have much data** : deep learning models usually require a fairly amount of data to produce great results"
   ]
  },
  {
   "cell_type": "markdown",
   "metadata": {},
   "source": [
    "### What are neural networks?"
   ]
  },
  {
   "cell_type": "markdown",
   "metadata": {},
   "source": [
    "**Examples of uses :**\n",
    "\n",
    "<center><img rel=\"slide ML vs DL\" src=\"images/00-neural-networks.png\" heigth=200px width=800px></center>\n",
    "\n",
    "\n",
    "**Anatomy of Neural Networks :**\n",
    "\n",
    "<center><img rel=\"slide ML vs DL\" src=\"images/00-anatomy-neural-networks.png\" heigth=200px width=800px></center>"
   ]
  },
  {
   "cell_type": "markdown",
   "metadata": {},
   "source": [
    "### What is deep learning already being used for?"
   ]
  },
  {
   "cell_type": "markdown",
   "metadata": {},
   "source": [
    "<center><img rel=\"slide ML vs DL\" src=\"images/00-deeplearning-use-cases.png\" heigth=200px width=800px></center>"
   ]
  },
  {
   "cell_type": "markdown",
   "metadata": {},
   "source": []
  }
 ],
 "metadata": {
  "language_info": {
   "name": "python"
  },
  "orig_nbformat": 4
 },
 "nbformat": 4,
 "nbformat_minor": 2
}
