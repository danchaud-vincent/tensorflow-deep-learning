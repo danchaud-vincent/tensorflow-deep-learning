{
  "nbformat": 4,
  "nbformat_minor": 0,
  "metadata": {
    "colab": {
      "provenance": [],
      "authorship_tag": "ABX9TyP39N2FpXuh39YG8zG4Bhfd",
      "include_colab_link": true
    },
    "kernelspec": {
      "name": "python3",
      "display_name": "Python 3"
    },
    "language_info": {
      "name": "python"
    },
    "accelerator": "GPU",
    "gpuClass": "standard"
  },
  "cells": [
    {
      "cell_type": "markdown",
      "metadata": {
        "id": "view-in-github",
        "colab_type": "text"
      },
      "source": [
        "<a href=\"https://colab.research.google.com/github/danchaud-vincent/tensorflow-deep-learning/blob/main/07_food_vision_milestone_project_1.ipynb\" target=\"_parent\"><img src=\"https://colab.research.google.com/assets/colab-badge.svg\" alt=\"Open In Colab\"/></a>"
      ]
    },
    {
      "cell_type": "markdown",
      "source": [
        "# 07 - Food vision milestone Project 1"
      ],
      "metadata": {
        "id": "1KhtQ8diX6qU"
      }
    },
    {
      "cell_type": "markdown",
      "source": [
        "In the previous chapter (**transfer learning part 3: scaling up**) we build Food Vision mini: a transfer learning model which beat the original results of the [Food 101 paper](https://data.vision.ee.ethz.ch/cvl/datasets_extra/food-101/) with only 10% of the data.\n",
        "\n",
        "Now, what would happen if we used all the data ?\n",
        "\n",
        "Well, that's we're going to find out in this notebook!\n",
        "\n",
        "We're going to be building Food Vision Big, using all of the data from the Food101 dataset.\n",
        "\n",
        "This time **we've got the goal of beating [DeepFood](https://www.researchgate.net/publication/304163308_DeepFood_Deep_Learning-Based_Food_Image_Recognition_for_Computer-Aided_Dietary_Assessment), a 2016 paper which used a Convolutional Neural Network trained for 2-3 days to achieve 77.4% top-1 accuracy.\n",
        "\n",
        "> **Note :** **Top-1 accuracy** means \"accuracy for the top softmax activation value output by the model\" (because softmax outputs a value for every class, but top-1 means only the highest one is evaluated). **Top-5 accuracy** means \"accuracy for the top 5 softmax activation values output by the model\", in other words, did the true label appear in the top 5 activation values? Top-5 accuracy scores are usually noticeably higher than top-1.\n",
        "\n",
        "\n",
        "<table>\n",
        "    <thead>\n",
        "        <tr>\n",
        "            <th></th>\n",
        "            <th>🍔👁 Food Vision Big™</th>\n",
        "            <th>🍔👁 Food Vision mini</th>\n",
        "        </tr>\n",
        "    </thead>\n",
        "    <tbody>\n",
        "        <tr>\n",
        "            <td>Dataset source</td>\n",
        "            <td>TensorFlow Datasets</td>\n",
        "            <td>Preprocessed download from Kaggle</td>\t\n",
        "        </tr>\n",
        "        <tr>\n",
        "            <td>Train data</td>\n",
        "            <td>75,750 images</td>\n",
        "            <td>7,575 images</td>\t\n",
        "        </tr>\n",
        "        <tr>\n",
        "            <td>Test data</td>\n",
        "            <td>25,250 images</td>\n",
        "            <td>25,250 images</td>\t\n",
        "        </tr>\n",
        "        <tr>\n",
        "            <td>Mixed precision</td>\n",
        "            <td>Yes</td>\n",
        "            <td>No</td>\t\n",
        "        </tr>\n",
        "        <tr>\n",
        "            <td>Data loading</td>\n",
        "            <td>Perform tf.data API</td>\n",
        "            <td>TensorFlow pre-built function</td>\t\n",
        "        </tr>\n",
        "        <tr>\n",
        "            <td>Target results</td>\n",
        "            <td>77,4% top-1 accuracy</td>\n",
        "            <td>50,76% top-1 accuracy</td>\t\n",
        "        </tr>\n",
        "    </tbody>\n",
        "</table>\n",
        "\n",
        "Alongside attempting to beat the DeepFood paper, we're going to learn about two methods to significantly improve the speed of our model training:\n",
        "1. Prefetching\n",
        "2. Mixed precision training"
      ],
      "metadata": {
        "id": "Yvzx6LoDar4P"
      }
    },
    {
      "cell_type": "code",
      "source": [],
      "metadata": {
        "id": "t_Eesun7cBUo"
      },
      "execution_count": null,
      "outputs": []
    }
  ]
}