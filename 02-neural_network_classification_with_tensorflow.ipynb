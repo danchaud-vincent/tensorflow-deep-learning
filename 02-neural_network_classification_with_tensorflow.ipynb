{
 "cells": [
  {
   "cell_type": "markdown",
   "metadata": {},
   "source": [
    "# 02 - Neural Network Classification with TensorFlow"
   ]
  },
  {
   "cell_type": "markdown",
   "metadata": {},
   "source": [
    "**Content of this notebook :**\n",
    "- Architecture of a classification model\n",
    "- Input shapes and output shapes\n",
    "    - `X` : features/data (inputs)\n",
    "    - `y` : labels (outputs)\n",
    "        - \"What class do the inputs belong to?\"\n",
    "- Creating custom data to view and fit\n",
    "- Steps in modelling for binary and multiclass classification\n",
    "    - Creating a model\n",
    "    - Compiling a model\n",
    "        - Defining a loss function\n",
    "        - Setting up an optimizer\n",
    "            - Finding the best learning rate\n",
    "        - Creating evaluation metrics\n",
    "    - Fitting a model (getting it to find patterns in our data)\n",
    "    - Improving a model\n",
    "- The power of non-linearity\n",
    "- Evaluating classification models\n",
    "    - Visualizing the model\n",
    "    - Looking at training curves\n",
    "    - Compare predictions to ground truth"
   ]
  },
  {
   "cell_type": "markdown",
   "metadata": {},
   "source": [
    "## What is a Classification problem?"
   ]
  },
  {
   "cell_type": "markdown",
   "metadata": {},
   "source": [
    "A `classification problem` involves predicting whether something is one thing or another.\n",
    "\n",
    "For example we might want to:\n",
    "- Predict whether or not someone has heart disease based on their health parameters. This is called **binary classification** since there are only two options.\n",
    "- Decide whether a photo is of food, a person or a dog. This is called **multi-class classification** sine there are more than two options.\n",
    "- Predict what categories should be assigned to Wikipedia article. This is called **multi-label classification** since a single article could have more than one category assigned."
   ]
  },
  {
   "cell_type": "markdown",
   "metadata": {},
   "source": [
    "## Typical Architecture of neural network classification models with TensorFlow"
   ]
  },
  {
   "cell_type": "code",
   "execution_count": null,
   "metadata": {},
   "outputs": [],
   "source": []
  }
 ],
 "metadata": {
  "language_info": {
   "name": "python"
  },
  "orig_nbformat": 4
 },
 "nbformat": 4,
 "nbformat_minor": 2
}
