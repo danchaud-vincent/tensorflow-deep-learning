{
 "cells": [
  {
   "cell_type": "markdown",
   "metadata": {},
   "source": [
    "# 🛠 TensorFlow Exercices"
   ]
  },
  {
   "cell_type": "markdown",
   "metadata": {},
   "source": [
    "## 00-TensorFlow Fundamentals Exercices"
   ]
  },
  {
   "cell_type": "markdown",
   "metadata": {},
   "source": [
    "1. Create a vector, scalar, matrix and tensor with values of your choosing using `tf.constant()`.\n",
    "2. Find the **shape, rank and size** of the tensors you created in 1.\n",
    "3. Create two tensors containing random values between 0 and 1 with shape [5, 300].\n",
    "4. Multiply the two tensors you created in 3 using **matrix multiplication**.\n",
    "5. Multiply the two tensors you created in 3 using dot product.\n",
    "6. Create a tensor with **random values** between 0 and 1 with shape [224, 224, 3].\n",
    "7. Find the **min and max values** of the tensor you created in 6 along the first axis.\n",
    "8. Created a tensor with random values of shape [1, 224, 224, 3] then **squeeze** it to change the shape to [224, 224, 3].\n",
    "9. Create a tensor with shape [10] using your own choice of values, then find the **index** which has the **maximum value**.\n",
    "10. **One-hot encode** the tensor you created in 9."
   ]
  },
  {
   "cell_type": "markdown",
   "metadata": {},
   "source": []
  }
 ],
 "metadata": {
  "language_info": {
   "name": "python"
  },
  "orig_nbformat": 4
 },
 "nbformat": 4,
 "nbformat_minor": 2
}
