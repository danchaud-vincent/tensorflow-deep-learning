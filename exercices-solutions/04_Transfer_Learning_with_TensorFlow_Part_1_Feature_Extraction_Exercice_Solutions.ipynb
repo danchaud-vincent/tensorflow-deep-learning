{
  "nbformat": 4,
  "nbformat_minor": 0,
  "metadata": {
    "colab": {
      "name": "04_Transfer_Learning_with_TensorFlow_Part_1_Feature_Extraction_Exercice_Solutions.ipynb",
      "provenance": [],
      "collapsed_sections": [],
      "authorship_tag": "ABX9TyNoW0xppQvALMUqQexMwYrU",
      "include_colab_link": true
    },
    "kernelspec": {
      "name": "python3",
      "display_name": "Python 3"
    },
    "language_info": {
      "name": "python"
    }
  },
  "cells": [
    {
      "cell_type": "markdown",
      "metadata": {
        "id": "view-in-github",
        "colab_type": "text"
      },
      "source": [
        "<a href=\"https://colab.research.google.com/github/danchaud-vincent/tensorflow-deep-learning/blob/main/exercices-solutions/04_Transfer_Learning_with_TensorFlow_Part_1_Feature_Extraction_Exercice_Solutions.ipynb\" target=\"_parent\"><img src=\"https://colab.research.google.com/assets/colab-badge.svg\" alt=\"Open In Colab\"/></a>"
      ]
    },
    {
      "cell_type": "markdown",
      "source": [
        "# 04 - Transfer Learning with TensorFlow Part 1: Feature Extraction Exercice Solutions\n",
        "\n",
        "1. Build and fit a model using the same data we have here but with the MobileNetV2 architecture feature extraction from TensorFlow Hub. How does it perform compared to our other mdoels?\n",
        "2. Name 3 different image classification models on TensorFlow Hub that we haven't used.\n",
        "3. Build a model to classify images of two different things you've taken photos of.\n",
        "- You can use any feature extraction layer from TensorFlow Hub you like for this.\n",
        "- You should aim to have at least 10 images of each class, for example to build a fridge versus oven classifier, you'll want 10 images of fridges and 10 images of ovens.\n",
        "4. What is the current best performing model on ImageNet?"
      ],
      "metadata": {
        "id": "1D7fssd25dfG"
      }
    },
    {
      "cell_type": "code",
      "source": [],
      "metadata": {
        "id": "_TLE9XwxDFEk"
      },
      "execution_count": null,
      "outputs": []
    },
    {
      "cell_type": "markdown",
      "source": [
        "# 1. Build and fit a model using the same data `10_food_classes` but with the MobileNetV2 architecture feature extraction from TensorFlow Hub\n"
      ],
      "metadata": {
        "id": "1HzqUG9YALAJ"
      }
    },
    {
      "cell_type": "markdown",
      "source": [
        "## 1.1 Get the data"
      ],
      "metadata": {
        "id": "cX333bdWAaiH"
      }
    },
    {
      "cell_type": "code",
      "execution_count": 2,
      "metadata": {
        "colab": {
          "base_uri": "https://localhost:8080/"
        },
        "id": "KuLG4i4d5QyE",
        "outputId": "818613fb-5eeb-4778-a1f0-706ee8cbb5a4"
      },
      "outputs": [
        {
          "output_type": "stream",
          "name": "stdout",
          "text": [
            "--2022-08-30 18:28:49--  https://storage.googleapis.com/ztm_tf_course/food_vision/10_food_classes_10_percent.zip\n",
            "Resolving storage.googleapis.com (storage.googleapis.com)... 173.194.210.128, 173.194.211.128, 173.194.212.128, ...\n",
            "Connecting to storage.googleapis.com (storage.googleapis.com)|173.194.210.128|:443... connected.\n",
            "HTTP request sent, awaiting response... 200 OK\n",
            "Length: 168546183 (161M) [application/zip]\n",
            "Saving to: ‘10_food_classes_10_percent.zip’\n",
            "\n",
            "10_food_classes_10_ 100%[===================>] 160.74M   144MB/s    in 1.1s    \n",
            "\n",
            "2022-08-30 18:28:50 (144 MB/s) - ‘10_food_classes_10_percent.zip’ saved [168546183/168546183]\n",
            "\n"
          ]
        }
      ],
      "source": [
        "# download the data\n",
        "!wget https://storage.googleapis.com/ztm_tf_course/food_vision/10_food_classes_10_percent.zip"
      ]
    },
    {
      "cell_type": "code",
      "source": [
        "# extract the data inside the zip file\n",
        "import zipfile\n",
        "\n",
        "zip_ref = zipfile.ZipFile(\"10_food_classes_10_percent.zip\")\n",
        "zip_ref.extractall()\n",
        "zip_ref.close()"
      ],
      "metadata": {
        "id": "MZi6BPXyAlLg"
      },
      "execution_count": 6,
      "outputs": []
    },
    {
      "cell_type": "code",
      "source": [
        "# explore the data folder\n",
        "import os\n",
        "\n",
        "for dirpath, dirnames, filenames in os.walk(\"10_food_classes_10_percent\"):\n",
        "  print(f\"{dirpath} contains : {len(dirnames)} directories, {len(filenames)} files\")"
      ],
      "metadata": {
        "colab": {
          "base_uri": "https://localhost:8080/"
        },
        "id": "ie_XnVn8A6ls",
        "outputId": "7d4228ef-3aa6-4a08-895f-4927ccfab0c1"
      },
      "execution_count": 8,
      "outputs": [
        {
          "output_type": "stream",
          "name": "stdout",
          "text": [
            "10_food_classes_10_percent contains : 2 directories, 0 files\n",
            "10_food_classes_10_percent/test contains : 10 directories, 0 files\n",
            "10_food_classes_10_percent/test/ice_cream contains : 0 directories, 250 files\n",
            "10_food_classes_10_percent/test/hamburger contains : 0 directories, 250 files\n",
            "10_food_classes_10_percent/test/chicken_wings contains : 0 directories, 250 files\n",
            "10_food_classes_10_percent/test/pizza contains : 0 directories, 250 files\n",
            "10_food_classes_10_percent/test/ramen contains : 0 directories, 250 files\n",
            "10_food_classes_10_percent/test/steak contains : 0 directories, 250 files\n",
            "10_food_classes_10_percent/test/chicken_curry contains : 0 directories, 250 files\n",
            "10_food_classes_10_percent/test/grilled_salmon contains : 0 directories, 250 files\n",
            "10_food_classes_10_percent/test/sushi contains : 0 directories, 250 files\n",
            "10_food_classes_10_percent/test/fried_rice contains : 0 directories, 250 files\n",
            "10_food_classes_10_percent/train contains : 10 directories, 0 files\n",
            "10_food_classes_10_percent/train/ice_cream contains : 0 directories, 75 files\n",
            "10_food_classes_10_percent/train/hamburger contains : 0 directories, 75 files\n",
            "10_food_classes_10_percent/train/chicken_wings contains : 0 directories, 75 files\n",
            "10_food_classes_10_percent/train/pizza contains : 0 directories, 75 files\n",
            "10_food_classes_10_percent/train/ramen contains : 0 directories, 75 files\n",
            "10_food_classes_10_percent/train/steak contains : 0 directories, 75 files\n",
            "10_food_classes_10_percent/train/chicken_curry contains : 0 directories, 75 files\n",
            "10_food_classes_10_percent/train/grilled_salmon contains : 0 directories, 75 files\n",
            "10_food_classes_10_percent/train/sushi contains : 0 directories, 75 files\n",
            "10_food_classes_10_percent/train/fried_rice contains : 0 directories, 75 files\n"
          ]
        }
      ]
    },
    {
      "cell_type": "markdown",
      "source": [
        "Our training directories have 75 images per classes rather than the test directories which have 250 images per classes."
      ],
      "metadata": {
        "id": "sq4qFboBBbLr"
      }
    },
    {
      "cell_type": "code",
      "source": [
        "# Get the class names\n",
        "import pathlib \n",
        "\n",
        "data_dir = pathlib.Path(\"10_food_classes_10_percent/train/\")\n",
        "\n",
        "for i in data_dir.glob(\"*\"):\n",
        "  print(i.name)"
      ],
      "metadata": {
        "colab": {
          "base_uri": "https://localhost:8080/"
        },
        "id": "Ier4C90iA7sG",
        "outputId": "fb40b8d9-0c36-45b9-94cd-450f650d36ee"
      },
      "execution_count": 10,
      "outputs": [
        {
          "output_type": "stream",
          "name": "stdout",
          "text": [
            "ice_cream\n",
            "hamburger\n",
            "chicken_wings\n",
            "pizza\n",
            "ramen\n",
            "steak\n",
            "chicken_curry\n",
            "grilled_salmon\n",
            "sushi\n",
            "fried_rice\n"
          ]
        }
      ]
    },
    {
      "cell_type": "code",
      "source": [
        "# get the class names in an array\n",
        "import numpy as np\n",
        "class_names = np.array(sorted([i.name for i in data_dir.glob(\"*\")]))\n",
        "class_names"
      ],
      "metadata": {
        "colab": {
          "base_uri": "https://localhost:8080/"
        },
        "id": "2R2vXpHrCnBQ",
        "outputId": "d50fa4e9-e90d-4ec9-a731-b8c17941b978"
      },
      "execution_count": 12,
      "outputs": [
        {
          "output_type": "execute_result",
          "data": {
            "text/plain": [
              "array(['chicken_curry', 'chicken_wings', 'fried_rice', 'grilled_salmon',\n",
              "       'hamburger', 'ice_cream', 'pizza', 'ramen', 'steak', 'sushi'],\n",
              "      dtype='<U14')"
            ]
          },
          "metadata": {},
          "execution_count": 12
        }
      ]
    },
    {
      "cell_type": "markdown",
      "source": [
        "## 1.2 Preparing the data"
      ],
      "metadata": {
        "id": "shgnkoEDC-7A"
      }
    },
    {
      "cell_type": "code",
      "source": [],
      "metadata": {
        "id": "MIZsnXmtC3NX"
      },
      "execution_count": null,
      "outputs": []
    }
  ]
}