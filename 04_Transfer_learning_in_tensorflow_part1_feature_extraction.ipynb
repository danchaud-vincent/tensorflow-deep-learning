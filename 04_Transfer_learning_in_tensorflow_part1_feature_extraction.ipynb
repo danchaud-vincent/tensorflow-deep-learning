{
  "nbformat": 4,
  "nbformat_minor": 0,
  "metadata": {
    "colab": {
      "name": "04-Transfer_learning_in_tensorflow_part1_feature_extraction.ipynb",
      "provenance": [],
      "collapsed_sections": [],
      "authorship_tag": "ABX9TyM7+2lUq+gkbiyVcmc6/yXi",
      "include_colab_link": true
    },
    "kernelspec": {
      "name": "python3",
      "display_name": "Python 3"
    },
    "language_info": {
      "name": "python"
    },
    "accelerator": "GPU",
    "gpuClass": "standard"
  },
  "cells": [
    {
      "cell_type": "markdown",
      "metadata": {
        "id": "view-in-github",
        "colab_type": "text"
      },
      "source": [
        "<a href=\"https://colab.research.google.com/github/danchaud-vincent/tensorflow-deep-learning/blob/main/04_Transfer_learning_in_tensorflow_part1_feature_extraction.ipynb\" target=\"_parent\"><img src=\"https://colab.research.google.com/assets/colab-badge.svg\" alt=\"Open In Colab\"/></a>"
      ]
    },
    {
      "cell_type": "markdown",
      "source": [
        "# 04 - Transer learning in tensorflow part 1 Feature Extraction"
      ],
      "metadata": {
        "id": "1eHvjsu0haOK"
      }
    },
    {
      "cell_type": "markdown",
      "source": [
        "We've built a bunch of convolutional neural networks from scratch and they all them to be learning, however, there is still plenty of room for improvement.\n",
        "\n",
        "However, doing this is very time consuming.\n",
        "\n",
        "Luckily, there's a technique we can use to save time.\n",
        "\n",
        "It's called **transfer learning**, in other words, taking the patterns (also called weights) another model has learned from another problem and using them for our own problem.\n",
        "\n",
        "There are two main benefits to using transfer learning:\n",
        "\n",
        "1. Can leverage an existing neural network architecture proven to work on problems similar to our own.\n",
        "2. Can leverage a working neural network architecture which has **already learned** patterns on similar data to our own. This often results in achieving great results with less custom data.\n",
        "\n",
        "What this means is, instead of hand-crafting our own neural network architectures or building them from scratch, we can utilise models which have worked for others.\n",
        "\n",
        "And instead of training our own models from scratch on our own datasets, we can take the patterns a model has learned  from datasets such as [`ImageNet`](https://image-net.org/) (millions of images different objects) and use them as the foundation of our own. Doing this often leads to getting great results with less data."
      ],
      "metadata": {
        "id": "fFxs2ywNkI9j"
      }
    },
    {
      "cell_type": "markdown",
      "source": [
        "## What we're going to cover\n",
        "\n",
        "We're going to go through the following with TensorFlow:\n",
        "- Introduce transfer learning \n",
        "- Using a smaller dataset to experiment faster (10% of training samples of 10 classes of food)\n",
        "- Build a transer learning feature extraction model using Tensorflow Hub\n",
        "- Introduce the TensorBoard callback to track model training results\n",
        "- Compare model results using TensorBoard"
      ],
      "metadata": {
        "id": "rqP7WSkGmFSx"
      }
    },
    {
      "cell_type": "markdown",
      "source": [
        "## Using a GPU\n",
        "\n",
        "To begin, let's check to see if we're using a GPU. Using a GPU will make sure our model trains faster than using just a CPU.\n"
      ],
      "metadata": {
        "id": "nvtoEMUlmqho"
      }
    },
    {
      "cell_type": "code",
      "source": [
        "!nvidia-smi"
      ],
      "metadata": {
        "colab": {
          "base_uri": "https://localhost:8080/"
        },
        "id": "rQSAHgjHmknS",
        "outputId": "8c333c0a-1db0-4693-884f-2a49aa01677a"
      },
      "execution_count": 1,
      "outputs": [
        {
          "output_type": "stream",
          "name": "stdout",
          "text": [
            "Sat Aug 20 14:19:54 2022       \n",
            "+-----------------------------------------------------------------------------+\n",
            "| NVIDIA-SMI 460.32.03    Driver Version: 460.32.03    CUDA Version: 11.2     |\n",
            "|-------------------------------+----------------------+----------------------+\n",
            "| GPU  Name        Persistence-M| Bus-Id        Disp.A | Volatile Uncorr. ECC |\n",
            "| Fan  Temp  Perf  Pwr:Usage/Cap|         Memory-Usage | GPU-Util  Compute M. |\n",
            "|                               |                      |               MIG M. |\n",
            "|===============================+======================+======================|\n",
            "|   0  Tesla T4            Off  | 00000000:00:04.0 Off |                    0 |\n",
            "| N/A   39C    P8     9W /  70W |      0MiB / 15109MiB |      0%      Default |\n",
            "|                               |                      |                  N/A |\n",
            "+-------------------------------+----------------------+----------------------+\n",
            "                                                                               \n",
            "+-----------------------------------------------------------------------------+\n",
            "| Processes:                                                                  |\n",
            "|  GPU   GI   CI        PID   Type   Process name                  GPU Memory |\n",
            "|        ID   ID                                                   Usage      |\n",
            "|=============================================================================|\n",
            "|  No running processes found                                                 |\n",
            "+-----------------------------------------------------------------------------+\n"
          ]
        }
      ]
    },
    {
      "cell_type": "markdown",
      "source": [
        "## Downloading and becoming one with the data"
      ],
      "metadata": {
        "id": "DAC0AiWsoNMH"
      }
    },
    {
      "cell_type": "code",
      "source": [
        "# Get data (10% of 10 food classes from Food101)\n",
        "import zipfile\n",
        "\n",
        "# Download the data\n",
        "!wget https://storage.googleapis.com/ztm_tf_course/food_vision/10_food_classes_10_percent.zip\n",
        "\n",
        "\n",
        "# Unzip the downloaded file\n",
        "zip_ref = zipfile.ZipFile(\"10_food_classes_10_percent.zip\")\n",
        "zip_ref.extractall()\n",
        "zip_ref.close()"
      ],
      "metadata": {
        "colab": {
          "base_uri": "https://localhost:8080/"
        },
        "id": "Uu7AKSlQnppE",
        "outputId": "a5324480-186d-43c9-f172-e0533d959414"
      },
      "execution_count": 4,
      "outputs": [
        {
          "output_type": "stream",
          "name": "stdout",
          "text": [
            "--2022-08-20 14:23:41--  https://storage.googleapis.com/ztm_tf_course/food_vision/10_food_classes_10_percent.zip\n",
            "Resolving storage.googleapis.com (storage.googleapis.com)... 172.217.212.128, 142.250.1.128, 108.177.111.128, ...\n",
            "Connecting to storage.googleapis.com (storage.googleapis.com)|172.217.212.128|:443... connected.\n",
            "HTTP request sent, awaiting response... 200 OK\n",
            "Length: 168546183 (161M) [application/zip]\n",
            "Saving to: ‘10_food_classes_10_percent.zip.1’\n",
            "\n",
            "10_food_classes_10_ 100%[===================>] 160.74M   268MB/s    in 0.6s    \n",
            "\n",
            "2022-08-20 14:23:42 (268 MB/s) - ‘10_food_classes_10_percent.zip.1’ saved [168546183/168546183]\n",
            "\n"
          ]
        }
      ]
    },
    {
      "cell_type": "code",
      "source": [
        "# How many images in each Folder? Inspect our data\n",
        "import os\n",
        "\n",
        "# Walk through 10 percent data directory and list number of files\n",
        "for dirpath, dirnames, filenames in os.walk(\"10_food_classes_10_percent\"):\n",
        "  print(f\"There are {len(dirnames)} directories ({dirnames}), {len(filenames)} images in '{dirpath}'\")"
      ],
      "metadata": {
        "colab": {
          "base_uri": "https://localhost:8080/"
        },
        "id": "_SGEURzvouZm",
        "outputId": "ea531167-47d1-4bcd-db56-b4d0de3d8f33"
      },
      "execution_count": 11,
      "outputs": [
        {
          "output_type": "stream",
          "name": "stdout",
          "text": [
            "There are 2 directories (['test', 'train']), 0 images in '10_food_classes_10_percent'\n",
            "There are 10 directories (['steak', 'grilled_salmon', 'fried_rice', 'chicken_wings', 'sushi', 'hamburger', 'chicken_curry', 'pizza', 'ramen', 'ice_cream']), 0 images in '10_food_classes_10_percent/test'\n",
            "There are 0 directories ([]), 250 images in '10_food_classes_10_percent/test/steak'\n",
            "There are 0 directories ([]), 250 images in '10_food_classes_10_percent/test/grilled_salmon'\n",
            "There are 0 directories ([]), 250 images in '10_food_classes_10_percent/test/fried_rice'\n",
            "There are 0 directories ([]), 250 images in '10_food_classes_10_percent/test/chicken_wings'\n",
            "There are 0 directories ([]), 250 images in '10_food_classes_10_percent/test/sushi'\n",
            "There are 0 directories ([]), 250 images in '10_food_classes_10_percent/test/hamburger'\n",
            "There are 0 directories ([]), 250 images in '10_food_classes_10_percent/test/chicken_curry'\n",
            "There are 0 directories ([]), 250 images in '10_food_classes_10_percent/test/pizza'\n",
            "There are 0 directories ([]), 250 images in '10_food_classes_10_percent/test/ramen'\n",
            "There are 0 directories ([]), 250 images in '10_food_classes_10_percent/test/ice_cream'\n",
            "There are 10 directories (['steak', 'grilled_salmon', 'fried_rice', 'chicken_wings', 'sushi', 'hamburger', 'chicken_curry', 'pizza', 'ramen', 'ice_cream']), 0 images in '10_food_classes_10_percent/train'\n",
            "There are 0 directories ([]), 75 images in '10_food_classes_10_percent/train/steak'\n",
            "There are 0 directories ([]), 75 images in '10_food_classes_10_percent/train/grilled_salmon'\n",
            "There are 0 directories ([]), 75 images in '10_food_classes_10_percent/train/fried_rice'\n",
            "There are 0 directories ([]), 75 images in '10_food_classes_10_percent/train/chicken_wings'\n",
            "There are 0 directories ([]), 75 images in '10_food_classes_10_percent/train/sushi'\n",
            "There are 0 directories ([]), 75 images in '10_food_classes_10_percent/train/hamburger'\n",
            "There are 0 directories ([]), 75 images in '10_food_classes_10_percent/train/chicken_curry'\n",
            "There are 0 directories ([]), 75 images in '10_food_classes_10_percent/train/pizza'\n",
            "There are 0 directories ([]), 75 images in '10_food_classes_10_percent/train/ramen'\n",
            "There are 0 directories ([]), 75 images in '10_food_classes_10_percent/train/ice_cream'\n"
          ]
        }
      ]
    },
    {
      "cell_type": "markdown",
      "source": [
        "Notice how each of the training directories now has 75 images rather than 750 images. This is key to demonstrating how well transfer learning can perform with less labelled images.\n",
        "\n",
        "The test directories still have the same amount of images. This means we'll be training on less data but evaluating our models on the same amount of test data."
      ],
      "metadata": {
        "id": "bqjkWJTnpydK"
      }
    },
    {
      "cell_type": "code",
      "source": [
        ""
      ],
      "metadata": {
        "id": "7CgAfhIcpRex"
      },
      "execution_count": null,
      "outputs": []
    }
  ]
}