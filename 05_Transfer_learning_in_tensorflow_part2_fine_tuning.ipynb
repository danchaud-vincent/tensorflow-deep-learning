{
  "nbformat": 4,
  "nbformat_minor": 0,
  "metadata": {
    "colab": {
      "provenance": [],
      "collapsed_sections": [],
      "authorship_tag": "ABX9TyNgtbvXRjkyL0RJ5avztQW4",
      "include_colab_link": true
    },
    "kernelspec": {
      "name": "python3",
      "display_name": "Python 3"
    },
    "language_info": {
      "name": "python"
    },
    "accelerator": "GPU"
  },
  "cells": [
    {
      "cell_type": "markdown",
      "metadata": {
        "id": "view-in-github",
        "colab_type": "text"
      },
      "source": [
        "<a href=\"https://colab.research.google.com/github/danchaud-vincent/tensorflow-deep-learning/blob/main/05_Transfer_learning_in_tensorflow_part2_fine_tuning.ipynb\" target=\"_parent\"><img src=\"https://colab.research.google.com/assets/colab-badge.svg\" alt=\"Open In Colab\"/></a>"
      ]
    },
    {
      "cell_type": "markdown",
      "source": [
        "# 05. Transfer Learning with TensorFlow Part 2: Fine-tuning"
      ],
      "metadata": {
        "id": "oKfQArbiYHeu"
      }
    },
    {
      "cell_type": "markdown",
      "source": [
        "In the previous section, we saw how we could leverage feature extraction transfer learning to get far better results on our Food Vision project than building our own models (even with less data).\n",
        "\n",
        "Now we're going to cover another type of transfer learning: fine-tuning.\n",
        "\n",
        "In **fine-tuning transfer learning** the pre-trained model weights from another model are unfrozen and tweaked during to better suit your own data.\n",
        "\n",
        "For feature extraction transfer learning, you may only train the top 1-3 layers of a pre-trained model with your own data, in fine-tuning transfer learning, you might train 1-3+ of pre-trained model.\n",
        "\n",
        "![](https://raw.githubusercontent.com/danchaud-vincent/tensorflow-deep-learning/main/images/05-transfer-learning-feature-extraction-vs-fine-tuning.png)"
      ],
      "metadata": {
        "id": "ezI2AdvMYFI9"
      }
    },
    {
      "cell_type": "markdown",
      "source": [
        "# What we're going to cover\n",
        "\n",
        "We're going to go through the follow with TensorFlow:\n",
        "- Introduce fine-tuning, a type of transfer learning to modify a pre-trained model to be more suited to your data.\n",
        "- Using the Keras Functional API (a different way to build models in Keras)\n",
        "- Using a smaller dataset to experiment faster (e.g. 1-10% of training samples of 10 classes of food)\n",
        "- Data augmentation (how to make your training dataset more diverse without adding more data)\n",
        "- Running a series of modelling experiments on our Food Vision data:\n",
        "  - Model 0: a transfer learning model using Keras Functional API\n",
        "  - Model 1: a feature extraction transfer learning model on 1% of the data with data augmentation\n",
        "  - Model 2 : a feature extraction transfer learning model on 10 % of the data with data augmentation\n",
        "  - Model 3: a fine-tuned transfer learning model on 10% of the data\n",
        "  - Model 4: a fine-tuned transfer learning model on 100% of the data\n",
        "- Introduce the ModelCheckpoint callback to save intermediate training results\n",
        "- Compare model experiments results using TensorBoard"
      ],
      "metadata": {
        "id": "dsqKUaq6jTdt"
      }
    },
    {
      "cell_type": "code",
      "source": [
        "# Using a GPU?\n",
        "!nvidia-smi"
      ],
      "metadata": {
        "colab": {
          "base_uri": "https://localhost:8080/"
        },
        "id": "rQaOixQWkW0Y",
        "outputId": "2c28c369-5ea8-4c58-8d24-94b392f366b9"
      },
      "execution_count": 1,
      "outputs": [
        {
          "output_type": "stream",
          "name": "stdout",
          "text": [
            "Tue Oct  4 14:34:28 2022       \n",
            "+-----------------------------------------------------------------------------+\n",
            "| NVIDIA-SMI 460.32.03    Driver Version: 460.32.03    CUDA Version: 11.2     |\n",
            "|-------------------------------+----------------------+----------------------+\n",
            "| GPU  Name        Persistence-M| Bus-Id        Disp.A | Volatile Uncorr. ECC |\n",
            "| Fan  Temp  Perf  Pwr:Usage/Cap|         Memory-Usage | GPU-Util  Compute M. |\n",
            "|                               |                      |               MIG M. |\n",
            "|===============================+======================+======================|\n",
            "|   0  Tesla T4            Off  | 00000000:00:04.0 Off |                    0 |\n",
            "| N/A   56C    P8    10W /  70W |      0MiB / 15109MiB |      0%      Default |\n",
            "|                               |                      |                  N/A |\n",
            "+-------------------------------+----------------------+----------------------+\n",
            "                                                                               \n",
            "+-----------------------------------------------------------------------------+\n",
            "| Processes:                                                                  |\n",
            "|  GPU   GI   CI        PID   Type   Process name                  GPU Memory |\n",
            "|        ID   ID                                                   Usage      |\n",
            "|=============================================================================|\n",
            "|  No running processes found                                                 |\n",
            "+-----------------------------------------------------------------------------+\n"
          ]
        }
      ]
    },
    {
      "cell_type": "markdown",
      "source": [
        "## Creating helper functions\n",
        "\n",
        "Throughout your machine learning experiments, you'll likely come accross snippets of code you want to use over and over again.\n",
        "\n",
        "For example, a plotting function which plots a model's `history` object (see `plot_loss_curves()` below).\n",
        "\n",
        "You could recreate these functions over and over again. But as you might have guessed, rewritting the same functions becomes tedious.\n",
        "\n",
        "One of the solutions is to store them in a helper functions script such as `helper_functions.py`. And then import the necessary functionality when you need it.\n",
        "\n",
        "\n",
        "Let's see what this looks like."
      ],
      "metadata": {
        "id": "M0HG8i19jTUA"
      }
    },
    {
      "cell_type": "code",
      "source": [
        "# Get helper_functions.py script from course GitHub\n",
        "!wget https://raw.githubusercontent.com/danchaud-vincent/tensorflow-deep-learning/main/utils/helper_functions.py "
      ],
      "metadata": {
        "colab": {
          "base_uri": "https://localhost:8080/"
        },
        "id": "5BmHk2qUtmve",
        "outputId": "a82a897b-aa1a-4905-9b2e-ebdeff68e2d9"
      },
      "execution_count": 2,
      "outputs": [
        {
          "output_type": "stream",
          "name": "stdout",
          "text": [
            "--2022-10-04 14:34:28--  https://raw.githubusercontent.com/danchaud-vincent/tensorflow-deep-learning/main/utils/helper_functions.py\n",
            "Resolving raw.githubusercontent.com (raw.githubusercontent.com)... 185.199.108.133, 185.199.111.133, 185.199.109.133, ...\n",
            "Connecting to raw.githubusercontent.com (raw.githubusercontent.com)|185.199.108.133|:443... connected.\n",
            "HTTP request sent, awaiting response... 200 OK\n",
            "Length: 2614 (2.6K) [text/plain]\n",
            "Saving to: ‘helper_functions.py’\n",
            "\n",
            "helper_functions.py 100%[===================>]   2.55K  --.-KB/s    in 0s      \n",
            "\n",
            "2022-10-04 14:34:28 (35.4 MB/s) - ‘helper_functions.py’ saved [2614/2614]\n",
            "\n"
          ]
        }
      ]
    },
    {
      "cell_type": "code",
      "source": [
        "# import Helper functions we're going to use\n",
        "from helper_functions import create_tensorboard_callback, plot_loss_curves, walk_through_dir, unzip_data"
      ],
      "metadata": {
        "id": "gQnBafFPtwpi"
      },
      "execution_count": 3,
      "outputs": []
    },
    {
      "cell_type": "markdown",
      "source": [
        "### 1O Food Classes: Working with less data"
      ],
      "metadata": {
        "id": "oJuX3A_EjhCH"
      }
    },
    {
      "cell_type": "markdown",
      "source": [
        "We saw in the previous notebook that we could get great results with only 10% of the training data using transfer learning with TensorFlow Hub.\n",
        "\n",
        "In this notebook, we're going to continue to work with smaller subsets of the data, except this time we'll have a look at how we can use the in-built pretrained models within the `tf.keras.applications` module as well as how to fine-tune them to our own custom dataset.\n",
        "\n",
        "We'll also practice using a new but similar dataloader function to what we've used before, `image_dataset_from_directory()` which is part of the `tf.keras.preprocessing` module.\n",
        "\n",
        "Finally, we'll also be practicing using the [`Keras Functional API`](https://keras.io/guides/functional_api/) for building deep learning models. The Functional API is a more flexible way to create models than the tf.keras.Sequential API."
      ],
      "metadata": {
        "id": "Vd5Z-IGcjkt-"
      }
    },
    {
      "cell_type": "code",
      "source": [
        "# Get 10% of the data of the 10 classes\n",
        "!wget https://storage.googleapis.com/ztm_tf_course/food_vision/10_food_classes_10_percent.zip"
      ],
      "metadata": {
        "id": "BiVTo1O0t8ak",
        "colab": {
          "base_uri": "https://localhost:8080/"
        },
        "outputId": "73da0f29-6611-4159-9ed8-bd047a4c1d16"
      },
      "execution_count": 4,
      "outputs": [
        {
          "output_type": "stream",
          "name": "stdout",
          "text": [
            "--2022-10-04 14:34:31--  https://storage.googleapis.com/ztm_tf_course/food_vision/10_food_classes_10_percent.zip\n",
            "Resolving storage.googleapis.com (storage.googleapis.com)... 172.217.194.128, 142.251.10.128, 142.251.12.128, ...\n",
            "Connecting to storage.googleapis.com (storage.googleapis.com)|172.217.194.128|:443... connected.\n",
            "HTTP request sent, awaiting response... 200 OK\n",
            "Length: 168546183 (161M) [application/zip]\n",
            "Saving to: ‘10_food_classes_10_percent.zip’\n",
            "\n",
            "10_food_classes_10_ 100%[===================>] 160.74M  42.9MB/s    in 3.8s    \n",
            "\n",
            "2022-10-04 14:34:35 (42.9 MB/s) - ‘10_food_classes_10_percent.zip’ saved [168546183/168546183]\n",
            "\n"
          ]
        }
      ]
    },
    {
      "cell_type": "code",
      "source": [
        "# unzip the data\n",
        "unzip_data(\"/content/10_food_classes_10_percent.zip\")"
      ],
      "metadata": {
        "id": "aEqo5SJFlbQV"
      },
      "execution_count": 5,
      "outputs": []
    },
    {
      "cell_type": "code",
      "source": [
        "# walkthrough the directories\n",
        "walk_through_dir(\"/content/10_food_classes_10_percent\")"
      ],
      "metadata": {
        "id": "-L8KGh_nllqk",
        "colab": {
          "base_uri": "https://localhost:8080/"
        },
        "outputId": "31322458-e619-464c-fd19-d93fed869fc2"
      },
      "execution_count": 6,
      "outputs": [
        {
          "output_type": "stream",
          "name": "stdout",
          "text": [
            "/content/10_food_classes_10_percent: There are 2 directories and 0 files\n",
            "/content/10_food_classes_10_percent/test: There are 10 directories and 0 files\n",
            "/content/10_food_classes_10_percent/test/grilled_salmon: There are 0 directories and 250 files\n",
            "/content/10_food_classes_10_percent/test/hamburger: There are 0 directories and 250 files\n",
            "/content/10_food_classes_10_percent/test/steak: There are 0 directories and 250 files\n",
            "/content/10_food_classes_10_percent/test/chicken_curry: There are 0 directories and 250 files\n",
            "/content/10_food_classes_10_percent/test/pizza: There are 0 directories and 250 files\n",
            "/content/10_food_classes_10_percent/test/chicken_wings: There are 0 directories and 250 files\n",
            "/content/10_food_classes_10_percent/test/ramen: There are 0 directories and 250 files\n",
            "/content/10_food_classes_10_percent/test/ice_cream: There are 0 directories and 250 files\n",
            "/content/10_food_classes_10_percent/test/fried_rice: There are 0 directories and 250 files\n",
            "/content/10_food_classes_10_percent/test/sushi: There are 0 directories and 250 files\n",
            "/content/10_food_classes_10_percent/train: There are 10 directories and 0 files\n",
            "/content/10_food_classes_10_percent/train/grilled_salmon: There are 0 directories and 75 files\n",
            "/content/10_food_classes_10_percent/train/hamburger: There are 0 directories and 75 files\n",
            "/content/10_food_classes_10_percent/train/steak: There are 0 directories and 75 files\n",
            "/content/10_food_classes_10_percent/train/chicken_curry: There are 0 directories and 75 files\n",
            "/content/10_food_classes_10_percent/train/pizza: There are 0 directories and 75 files\n",
            "/content/10_food_classes_10_percent/train/chicken_wings: There are 0 directories and 75 files\n",
            "/content/10_food_classes_10_percent/train/ramen: There are 0 directories and 75 files\n",
            "/content/10_food_classes_10_percent/train/ice_cream: There are 0 directories and 75 files\n",
            "/content/10_food_classes_10_percent/train/fried_rice: There are 0 directories and 75 files\n",
            "/content/10_food_classes_10_percent/train/sushi: There are 0 directories and 75 files\n"
          ]
        }
      ]
    },
    {
      "cell_type": "code",
      "source": [
        "# Create training and test directories\n",
        "train_dir = \"10_food_classes_10_percent/train/\"\n",
        "test_dir = \"10_food_classes_10_percent/test/\""
      ],
      "metadata": {
        "id": "NTN786l7nipK"
      },
      "execution_count": 7,
      "outputs": []
    },
    {
      "cell_type": "markdown",
      "source": [
        "Now we've got some image data, we need a way of loading it into a TensorFlow compatible format.\n",
        "\n",
        "Previously we've used the `ImageDataGenerator` class. And while this works well and is still very commonly used, this time we're going to use the `image_data_from_directory` function.\n",
        "\n",
        "It works much the same way as `ImageDataGenerator`'s `flow_from_directory` method meaning your images need to be in the following file format:\n",
        "\n",
        "Example of file structure:\n",
        "10_food_classes_10_percent <- top level folder\n",
        "└───train <- training images \n",
        "│   │   │     \n",
        "│   └───pizza\n",
        "    \n",
        "│- - - - -  1008104.jpg'\n",
        "\n",
        "│- - - - -  1638227.jpg\n",
        " \n",
        "│- - - - -  ...      \n",
        "│   └───steak\n",
        "\n",
        "│- - - - -  1000205.jpg\n",
        "\n",
        "│- - - - -  1647351.jpg\n",
        "\n",
        "│- - - - -   ...\n",
        "      \n",
        "└───test <- testing images\n",
        "\n",
        "│   └───pizza\n",
        "\n",
        "│- - - - -  1001116.jpg\n",
        "\n",
        "│- - - - -  1507019.jpg\n",
        "\n",
        "│- - - - -  ...      \n",
        "\n",
        "│   └───steak\n",
        "\n",
        "│- - - - -  100274.jpg\n",
        "\n",
        "│- - - - -  1653815.jpg\n",
        "\n",
        "│- - - - -  ...   \n",
        "\n",
        "One of the main benefits of using `tf.keras.preprocessing.image_dataset_from_directory()` rather than `ImageDataGenerator` is that it creates a `tf.data.Dataset` object rather than a generator. The main advantage of this is the `tf.data.Dataset` API is much more efficient (faster) than the `ImageDataGenerator` API which is paramount for larger datasets.\n",
        "\n"
      ],
      "metadata": {
        "id": "z-DPeXrpoNtx"
      }
    },
    {
      "cell_type": "code",
      "source": [
        "# Create data inputs\n",
        "\n",
        "import tensorflow as tf\n",
        "\n",
        "IMG_SIZE = (224,224)\n",
        "BATCH_SIZE = 32\n",
        "\n",
        "train_data_10_percent = tf.keras.preprocessing.image_dataset_from_directory(directory=train_dir,\n",
        "                                                                            image_size=IMG_SIZE,\n",
        "                                                                            label_mode=\"categorical\", # what type are the labels?\n",
        "                                                                            batch_size=BATCH_SIZE) # batch_size is 32 by default, this is generally a good number\n",
        "\n",
        "test_data_10_percent = tf.keras.preprocessing.image_dataset_from_directory(directory=test_dir,\n",
        "                                                                           image_size=IMG_SIZE,\n",
        "                                                                           label_mode=\"categorical\",\n",
        "                                                                           batch_size=BATCH_SIZE)                                                                         "
      ],
      "metadata": {
        "colab": {
          "base_uri": "https://localhost:8080/"
        },
        "id": "0LjvGJP3oLGu",
        "outputId": "af73cda9-dcc9-4c9d-cc37-4c6624069be6"
      },
      "execution_count": 8,
      "outputs": [
        {
          "output_type": "stream",
          "name": "stdout",
          "text": [
            "Found 750 files belonging to 10 classes.\n",
            "Found 2500 files belonging to 10 classes.\n"
          ]
        }
      ]
    },
    {
      "cell_type": "markdown",
      "source": [
        "It looks like our dataloaders have found the correct number of images for each dataset.\n",
        "\n",
        "For now, the main parameters we're concerned about in the `image_dataset_from_directory()` function are:\n",
        "- `directory` - the filepath of the target directory we're loading images in from.\n",
        "- `image_size` - the target size of the images we're going to load in (height, width).\n",
        "- `batch_size` - the batch size of the images we're going to load in. For example if the batch_size is 32 (the default), batches of 32 images and labels at a time will be passed to the model."
      ],
      "metadata": {
        "id": "HVm-d7ymsWqA"
      }
    },
    {
      "cell_type": "code",
      "source": [
        "# Check the training data datatype\n",
        "train_data_10_percent"
      ],
      "metadata": {
        "colab": {
          "base_uri": "https://localhost:8080/"
        },
        "id": "PAyUIAGusNfR",
        "outputId": "9585bf74-fa9a-4bd4-fbe3-563a8a07d176"
      },
      "execution_count": 9,
      "outputs": [
        {
          "output_type": "execute_result",
          "data": {
            "text/plain": [
              "<BatchDataset element_spec=(TensorSpec(shape=(None, 224, 224, 3), dtype=tf.float32, name=None), TensorSpec(shape=(None, 10), dtype=tf.float32, name=None))>"
            ]
          },
          "metadata": {},
          "execution_count": 9
        }
      ]
    },
    {
      "cell_type": "markdown",
      "source": [
        "In the above output:\n",
        "- `(None, 224, 224, 3)` refers to the tensor shape of our images where `None` is the batch size, `224` is the height (and width) and `3` is the color channel (red, green blue).\n",
        "- `(None, 10)` refers to the tensor shape of the labels where `None` is the batch size and `10` is the number of possible labels (the 10 different food classes).\n",
        "- Both image tensors and labels are of the datatype `tf.float32`.\n",
        "\n",
        "The `batch_size` is `None` due to it only being used during model training. You can think `None` as a placeholder waiting to be filled with the `batch_size` parameter from `image_dataset_from_directory()`.\n",
        "\n",
        "Another benefit of using `tf.data.Dataset` API are the associated methods which come with it.\n",
        "\n",
        "For example, if we want to find the name of the classes we were working with, we could use the `class_names` attribute."
      ],
      "metadata": {
        "id": "uEEfb85wvp1C"
      }
    },
    {
      "cell_type": "code",
      "source": [
        "# get the class names of our dataset\n",
        "train_data_10_percent.class_names"
      ],
      "metadata": {
        "colab": {
          "base_uri": "https://localhost:8080/"
        },
        "id": "hcbWYoTHvhka",
        "outputId": "5d61b19e-a10d-4576-b37b-3666f08979ae"
      },
      "execution_count": 10,
      "outputs": [
        {
          "output_type": "execute_result",
          "data": {
            "text/plain": [
              "['chicken_curry',\n",
              " 'chicken_wings',\n",
              " 'fried_rice',\n",
              " 'grilled_salmon',\n",
              " 'hamburger',\n",
              " 'ice_cream',\n",
              " 'pizza',\n",
              " 'ramen',\n",
              " 'steak',\n",
              " 'sushi']"
            ]
          },
          "metadata": {},
          "execution_count": 10
        }
      ]
    },
    {
      "cell_type": "code",
      "source": [
        "# See an example of batch of data\n",
        "train_data_10_percent.take(1)"
      ],
      "metadata": {
        "colab": {
          "base_uri": "https://localhost:8080/"
        },
        "id": "nrL4nUlOxFJ1",
        "outputId": "e93b0b8c-6786-453f-d757-ecae813d8994"
      },
      "execution_count": 11,
      "outputs": [
        {
          "output_type": "execute_result",
          "data": {
            "text/plain": [
              "<TakeDataset element_spec=(TensorSpec(shape=(None, 224, 224, 3), dtype=tf.float32, name=None), TensorSpec(shape=(None, 10), dtype=tf.float32, name=None))>"
            ]
          },
          "metadata": {},
          "execution_count": 11
        }
      ]
    },
    {
      "cell_type": "code",
      "source": [
        "for images, labels in train_data_10_percent.take(1):\n",
        "  print(images)\n",
        "  print(labels)"
      ],
      "metadata": {
        "colab": {
          "base_uri": "https://localhost:8080/"
        },
        "id": "Rbx2VKNXxMQ3",
        "outputId": "20318a46-640d-4710-fd3f-07fcaa20f8e1"
      },
      "execution_count": 12,
      "outputs": [
        {
          "output_type": "stream",
          "name": "stdout",
          "text": [
            "tf.Tensor(\n",
            "[[[[1.19751595e+02 1.07751595e+02 1.07751595e+02]\n",
            "   [1.21745537e+02 1.09745537e+02 1.09745537e+02]\n",
            "   [1.23039223e+02 1.11039223e+02 1.11039223e+02]\n",
            "   ...\n",
            "   [7.90090561e+01 6.30090599e+01 6.37947960e+01]\n",
            "   [9.00227356e+01 7.50227356e+01 7.80227356e+01]\n",
            "   [7.74074249e+01 6.54074249e+01 6.94074249e+01]]\n",
            "\n",
            "  [[1.19937180e+02 1.07937180e+02 1.07937180e+02]\n",
            "   [1.20967796e+02 1.08967796e+02 1.08967796e+02]\n",
            "   [1.23096619e+02 1.11096619e+02 1.11096619e+02]\n",
            "   ...\n",
            "   [9.75188370e+01 8.15188370e+01 8.23045731e+01]\n",
            "   [8.44631042e+01 6.94631042e+01 7.24631042e+01]\n",
            "   [8.47994003e+01 7.27994003e+01 7.67994003e+01]]\n",
            "\n",
            "  [[1.20084824e+02 1.08084824e+02 1.08084824e+02]\n",
            "   [1.20084824e+02 1.08084824e+02 1.08084824e+02]\n",
            "   [1.23196114e+02 1.11196114e+02 1.11196114e+02]\n",
            "   ...\n",
            "   [8.48886642e+01 6.88886642e+01 6.96744003e+01]\n",
            "   [9.36168823e+01 7.86168823e+01 8.16168823e+01]\n",
            "   [7.25082703e+01 6.05082703e+01 6.45082703e+01]]\n",
            "\n",
            "  ...\n",
            "\n",
            "  [[7.52982254e+01 6.92982254e+01 7.92982254e+01]\n",
            "   [7.89662247e+01 7.59480438e+01 8.49541092e+01]\n",
            "   [7.76259689e+01 7.68220749e+01 8.46523972e+01]\n",
            "   ...\n",
            "   [1.06359474e+02 1.03359474e+02 1.20492798e+02]\n",
            "   [1.08406578e+02 1.05406578e+02 1.26406578e+02]\n",
            "   [1.02436432e+02 9.85212708e+01 1.21351593e+02]]\n",
            "\n",
            "  [[8.06384048e+01 7.37366104e+01 8.50893021e+01]\n",
            "   [8.31703110e+01 7.86355438e+01 8.81578674e+01]\n",
            "   [8.12739487e+01 8.02739487e+01 8.58230515e+01]\n",
            "   ...\n",
            "   [9.42196732e+01 9.21214676e+01 1.09340248e+02]\n",
            "   [9.45561218e+01 9.15561218e+01 1.11654327e+02]\n",
            "   [9.44890823e+01 9.05872879e+01 1.11136391e+02]]\n",
            "\n",
            "  [[8.22857132e+01 7.42857132e+01 8.72857132e+01]\n",
            "   [8.68571472e+01 8.14729156e+01 8.92684555e+01]\n",
            "   [8.56419144e+01 8.41750717e+01 8.86498642e+01]\n",
            "   ...\n",
            "   [9.50071106e+01 9.45322571e+01 1.09928680e+02]\n",
            "   [9.39285583e+01 9.09285583e+01 1.09928558e+02]\n",
            "   [9.22141113e+01 8.72141113e+01 1.07214111e+02]]]\n",
            "\n",
            "\n",
            " [[[6.86989822e+01 5.37704086e+01 3.74132652e+01]\n",
            "   [7.05969391e+01 5.45969391e+01 3.85969391e+01]\n",
            "   [7.17193909e+01 5.57193871e+01 4.07193871e+01]\n",
            "   ...\n",
            "   [2.05505112e+02 1.94505112e+02 8.92244949e+01]\n",
            "   [2.07071442e+02 1.96142883e+02 8.79285583e+01]\n",
            "   [2.09127563e+02 1.99127563e+02 8.69540482e+01]]\n",
            "\n",
            "  [[7.67142868e+01 5.77857132e+01 4.37857132e+01]\n",
            "   [7.76428604e+01 5.87142868e+01 4.47142868e+01]\n",
            "   [7.89285736e+01 6.00000000e+01 4.60000000e+01]\n",
            "   ...\n",
            "   [2.07928574e+02 1.95984695e+02 9.42142410e+01]\n",
            "   [2.07000000e+02 1.96000000e+02 9.08520279e+01]\n",
            "   [2.07071426e+02 1.96096939e+02 8.92142181e+01]]\n",
            "\n",
            "  [[8.65000000e+01 6.25765305e+01 4.90765305e+01]\n",
            "   [8.74438782e+01 6.37448997e+01 4.96734695e+01]\n",
            "   [9.06683655e+01 6.44540863e+01 5.05969391e+01]\n",
            "   ...\n",
            "   [2.08234726e+02 1.97000000e+02 9.92142868e+01]\n",
            "   [2.07000000e+02 1.95000000e+02 9.52856903e+01]\n",
            "   [2.07000000e+02 1.95280640e+02 9.27142181e+01]]\n",
            "\n",
            "  ...\n",
            "\n",
            "  [[1.36362000e+02 1.18428246e+02 7.82753067e+01]\n",
            "   [1.67744751e+02 1.53576370e+02 1.07862175e+02]\n",
            "   [1.88668304e+02 1.77050949e+02 1.24285675e+02]\n",
            "   ...\n",
            "   [2.30214264e+02 2.33214264e+02 1.86214264e+02]\n",
            "   [2.30928558e+02 2.33357086e+02 1.84086685e+02]\n",
            "   [2.29000000e+02 2.31428528e+02 1.81428528e+02]]\n",
            "\n",
            "  [[1.11122345e+02 8.88876190e+01 6.12907410e+01]\n",
            "   [1.42928391e+02 1.24581436e+02 8.91477966e+01]\n",
            "   [1.71101944e+02 1.56933533e+02 1.09673355e+02]\n",
            "   ...\n",
            "   [2.31785736e+02 2.34214264e+02 1.84943863e+02]\n",
            "   [2.30857117e+02 2.32994904e+02 1.82581558e+02]\n",
            "   [2.28596893e+02 2.31596893e+02 1.78596893e+02]]\n",
            "\n",
            "  [[9.64539413e+01 7.14539413e+01 5.01682320e+01]\n",
            "   [1.12668022e+02 9.04587402e+01 6.08619080e+01]\n",
            "   [1.45157730e+02 1.28290344e+02 8.53516541e+01]\n",
            "   ...\n",
            "   [2.30428558e+02 2.32857086e+02 1.82857086e+02]\n",
            "   [2.28571381e+02 2.31571381e+02 1.78571381e+02]\n",
            "   [2.26285645e+02 2.29285645e+02 1.76285645e+02]]]\n",
            "\n",
            "\n",
            " [[[1.33724487e+02 4.75663261e+01 6.42091827e+01]\n",
            "   [9.00459137e+01 2.05663242e+01 3.17346916e+01]\n",
            "   [1.68520401e+02 1.21668373e+02 1.25158165e+02]\n",
            "   ...\n",
            "   [2.28209198e+02 2.21056152e+02 1.92688843e+02]\n",
            "   [2.11096939e+02 2.03188797e+02 1.80234726e+02]\n",
            "   [2.06749771e+02 2.00979385e+02 1.78979385e+02]]\n",
            "\n",
            "  [[1.34005096e+02 2.58112221e+01 5.20255089e+01]\n",
            "   [1.21367348e+02 2.65765324e+01 4.85051041e+01]\n",
            "   [1.66102036e+02 9.18469391e+01 1.06760208e+02]\n",
            "   ...\n",
            "   [2.13953842e+02 2.08025269e+02 1.81810989e+02]\n",
            "   [2.41392914e+02 2.36525604e+02 2.14459290e+02]\n",
            "   [2.38127640e+02 2.35724655e+02 2.16296036e+02]]\n",
            "\n",
            "  [[1.29673462e+02 2.66836758e+01 5.60408173e+01]\n",
            "   [1.07163261e+02 8.49489594e+00 3.63367310e+01]\n",
            "   [1.08811226e+02 1.54846983e+01 4.13163300e+01]\n",
            "   ...\n",
            "   [2.49117401e+02 2.47545975e+02 2.23903168e+02]\n",
            "   [2.45510101e+02 2.45081558e+02 2.25637695e+02]\n",
            "   [2.27025406e+02 2.29091797e+02 2.12749954e+02]]\n",
            "\n",
            "  ...\n",
            "\n",
            "  [[2.05479553e+02 2.09836700e+02 1.86061172e+02]\n",
            "   [2.06632675e+02 1.98989807e+02 1.60561234e+02]\n",
            "   [2.21897858e+02 2.02897812e+02 1.44923325e+02]\n",
            "   ...\n",
            "   [5.66254914e-01 2.46921968e+00 1.25495565e+00]\n",
            "   [1.45920360e+00 1.45920360e+00 1.45920360e+00]\n",
            "   [0.00000000e+00 0.00000000e+00 0.00000000e+00]]\n",
            "\n",
            "  [[2.05540787e+02 2.08831604e+02 1.79137711e+02]\n",
            "   [2.02433624e+02 1.93857101e+02 1.55142792e+02]\n",
            "   [2.04295898e+02 1.80081589e+02 1.23739746e+02]\n",
            "   ...\n",
            "   [1.51533794e+00 4.11220741e+00 7.29601800e-01]\n",
            "   [0.00000000e+00 1.00510395e+00 5.10390941e-03]\n",
            "   [4.59242836e-02 9.18485671e-02 2.09184861e+00]]\n",
            "\n",
            "  [[1.98816238e+02 2.01372360e+02 1.67831528e+02]\n",
            "   [1.98979523e+02 1.87550949e+02 1.47765244e+02]\n",
            "   [1.95902878e+02 1.69055893e+02 1.11407959e+02]\n",
            "   ...\n",
            "   [5.96915424e-01 1.88770962e+00 1.53060600e-01]\n",
            "   [3.31660360e-01 4.28062582e+00 3.28062558e+00]\n",
            "   [5.10303736e-01 4.28070211e+00 5.28070211e+00]]]\n",
            "\n",
            "\n",
            " ...\n",
            "\n",
            "\n",
            " [[[1.31734695e+02 1.48918365e+02 1.60433670e+02]\n",
            "   [9.33214264e+01 1.10515305e+02 1.24112236e+02]\n",
            "   [7.28418350e+01 9.00561218e+01 1.07923470e+02]\n",
            "   ...\n",
            "   [2.45295929e+02 1.43168304e+02 8.95918045e+01]\n",
            "   [2.52096939e+02 1.44025513e+02 9.23826599e+01]\n",
            "   [2.48362183e+02 1.37647903e+02 8.70050430e+01]]\n",
            "\n",
            "  [[6.43265305e+01 8.50918350e+01 9.94234695e+01]\n",
            "   [7.23010178e+01 9.12959213e+01 1.08015312e+02]\n",
            "   [6.52193832e+01 8.32755051e+01 1.03107140e+02]\n",
            "   ...\n",
            "   [2.47040802e+02 1.54581528e+02 9.75101242e+01]\n",
            "   [2.42285706e+02 1.42795883e+02 8.80050735e+01]\n",
            "   [2.46260406e+02 1.42092041e+02 8.85001373e+01]]\n",
            "\n",
            "  [[7.08571472e+01 9.35000000e+01 1.14714287e+02]\n",
            "   [5.77142868e+01 8.03571472e+01 1.01571426e+02]\n",
            "   [6.78163223e+01 8.88622437e+01 1.10841835e+02]\n",
            "   ...\n",
            "   [2.45907913e+02 1.65162903e+02 1.08948647e+02]\n",
            "   [2.41056137e+02 1.48255066e+02 9.11836319e+01]\n",
            "   [2.46857422e+02 1.47500244e+02 8.84237061e+01]]\n",
            "\n",
            "  ...\n",
            "\n",
            "  [[5.10917854e+01 7.18775177e+01 1.00448990e+02]\n",
            "   [4.72091026e+01 6.82091064e+01 9.72091064e+01]\n",
            "   [4.67907219e+01 6.77907257e+01 9.84540253e+01]\n",
            "   ...\n",
            "   [6.52855835e+01 7.83314896e+01 1.14265083e+02]\n",
            "   [6.11019936e+01 7.43162613e+01 1.09744789e+02]\n",
            "   [6.03521500e+01 7.35664139e+01 1.08994942e+02]]\n",
            "\n",
            "  [[4.38163185e+01 6.68163147e+01 9.78163147e+01]\n",
            "   [4.33367424e+01 6.63367462e+01 9.73367462e+01]\n",
            "   [5.18979797e+01 7.48979797e+01 1.05897980e+02]\n",
            "   ...\n",
            "   [6.58162918e+01 7.88162918e+01 1.13816292e+02]\n",
            "   [6.83723373e+01 8.13723373e+01 1.16372337e+02]\n",
            "   [6.13369827e+01 7.43369827e+01 1.08336983e+02]]\n",
            "\n",
            "  [[4.71124458e+01 7.21124420e+01 1.03112442e+02]\n",
            "   [4.59541893e+01 7.09541931e+01 1.01954193e+02]\n",
            "   [4.95815773e+01 7.25815735e+01 1.04367294e+02]\n",
            "   ...\n",
            "   [6.09898224e+01 7.39898224e+01 1.08989822e+02]\n",
            "   [6.87348251e+01 8.17348251e+01 1.15734825e+02]\n",
            "   [6.17603378e+01 7.47603378e+01 1.08760338e+02]]]\n",
            "\n",
            "\n",
            " [[[0.00000000e+00 0.00000000e+00 0.00000000e+00]\n",
            "   [0.00000000e+00 0.00000000e+00 0.00000000e+00]\n",
            "   [0.00000000e+00 0.00000000e+00 0.00000000e+00]\n",
            "   ...\n",
            "   [6.49897842e+01 7.09897842e+01 6.09897804e+01]\n",
            "   [6.39081688e+01 6.99081650e+01 5.99081688e+01]\n",
            "   [6.11734810e+01 6.71734772e+01 5.71734810e+01]]\n",
            "\n",
            "  [[0.00000000e+00 0.00000000e+00 0.00000000e+00]\n",
            "   [0.00000000e+00 0.00000000e+00 0.00000000e+00]\n",
            "   [0.00000000e+00 0.00000000e+00 0.00000000e+00]\n",
            "   ...\n",
            "   [6.39591866e+01 6.99591827e+01 5.79591866e+01]\n",
            "   [6.59286041e+01 7.19286041e+01 5.99286041e+01]\n",
            "   [6.23826714e+01 6.83826675e+01 5.63826714e+01]]\n",
            "\n",
            "  [[0.00000000e+00 0.00000000e+00 0.00000000e+00]\n",
            "   [0.00000000e+00 0.00000000e+00 0.00000000e+00]\n",
            "   [0.00000000e+00 0.00000000e+00 0.00000000e+00]\n",
            "   ...\n",
            "   [6.88520050e+01 7.28520050e+01 5.76836472e+01]\n",
            "   [6.56275558e+01 6.96275558e+01 5.42856979e+01]\n",
            "   [6.70102005e+01 7.10102005e+01 5.60153084e+01]]\n",
            "\n",
            "  ...\n",
            "\n",
            "  [[8.95969849e+01 8.10918732e+01 4.65306969e+01]\n",
            "   [7.87141571e+01 6.87141571e+01 3.34998894e+01]\n",
            "   [9.24233932e+01 8.24233932e+01 4.72091255e+01]\n",
            "   ...\n",
            "   [1.62142334e+01 1.30458546e+01 0.00000000e+00]\n",
            "   [1.58264542e+01 1.34999695e+01 1.98963091e-01]\n",
            "   [1.45713501e+01 1.23570862e+01 7.65237585e-02]]\n",
            "\n",
            "  [[8.67806396e+01 7.77806396e+01 4.67806358e+01]\n",
            "   [8.79999771e+01 7.69999771e+01 4.68673210e+01]\n",
            "   [9.00255127e+01 7.90255127e+01 4.86275635e+01]\n",
            "   ...\n",
            "   [1.27550869e+01 1.08010149e+01 0.00000000e+00]\n",
            "   [1.09948673e+01 1.17959394e+01 0.00000000e+00]\n",
            "   [8.66836834e+00 9.66836834e+00 0.00000000e+00]]\n",
            "\n",
            "  [[9.06069870e+01 8.16069870e+01 5.26069870e+01]\n",
            "   [8.99032364e+01 7.89032364e+01 5.09032326e+01]\n",
            "   [9.21582184e+01 8.11582184e+01 5.31582222e+01]\n",
            "   ...\n",
            "   [1.37908354e+01 1.24337187e+01 0.00000000e+00]\n",
            "   [1.26429443e+01 1.36429443e+01 3.31671268e-01]\n",
            "   [9.78582764e+00 1.17858276e+01 1.27565026e-01]]]\n",
            "\n",
            "\n",
            " [[[2.26984695e+02 2.44397949e+02 1.98158173e+02]\n",
            "   [2.25857132e+02 2.43857132e+02 1.94000000e+02]\n",
            "   [2.29857132e+02 2.49933670e+02 1.96704086e+02]\n",
            "   ...\n",
            "   [1.83494812e+02 2.35066284e+02 1.99280548e+02]\n",
            "   [1.82188797e+02 2.36188797e+02 2.00188797e+02]\n",
            "   [1.80928467e+02 2.36101974e+02 1.99515228e+02]]\n",
            "\n",
            "  [[2.28903061e+02 2.48903061e+02 1.96096939e+02]\n",
            "   [2.26285706e+02 2.46285706e+02 1.93295914e+02]\n",
            "   [2.30586731e+02 2.51229584e+02 1.99872452e+02]\n",
            "   ...\n",
            "   [1.86387680e+02 2.36499939e+02 2.01015289e+02]\n",
            "   [1.85846954e+02 2.37857162e+02 2.01857162e+02]\n",
            "   [1.86025436e+02 2.38831635e+02 2.02831635e+02]]\n",
            "\n",
            "  [[2.23714294e+02 2.48928574e+02 1.90285721e+02]\n",
            "   [2.23000000e+02 2.46484680e+02 1.90142853e+02]\n",
            "   [2.27260193e+02 2.49596939e+02 2.00903061e+02]\n",
            "   ...\n",
            "   [1.89336716e+02 2.38188812e+02 2.02806183e+02]\n",
            "   [1.89943863e+02 2.39301010e+02 2.04086731e+02]\n",
            "   [1.88147934e+02 2.37505081e+02 2.02719360e+02]]\n",
            "\n",
            "  ...\n",
            "\n",
            "  [[2.42000061e+02 2.52428589e+02 4.22244301e+01]\n",
            "   [2.43484741e+02 2.52857162e+02 4.04285278e+01]\n",
            "   [2.45571472e+02 2.51974548e+02 3.61224136e+01]\n",
            "   ...\n",
            "   [2.39785736e+02 2.42000000e+02 9.33149242e+00]\n",
            "   [2.39000000e+02 2.46872482e+02 5.04076576e+00]\n",
            "   [2.39137741e+02 2.48494919e+02 1.04847336e+01]]\n",
            "\n",
            "  [[2.44382660e+02 2.51428589e+02 3.36224327e+01]\n",
            "   [2.40005066e+02 2.47938751e+02 2.70050488e+01]\n",
            "   [2.45499939e+02 2.51285645e+02 2.87295036e+01]\n",
            "   ...\n",
            "   [2.41714294e+02 2.42285767e+02 2.85693359e+00]\n",
            "   [2.41209229e+02 2.45852020e+02 6.63377419e-02]\n",
            "   [2.42071442e+02 2.45760162e+02 9.92864990e+00]]\n",
            "\n",
            "  [[2.44459152e+02 2.52459152e+02 2.99183178e+01]\n",
            "   [2.41520538e+02 2.49852203e+02 2.42807083e+01]\n",
            "   [2.41566452e+02 2.49061386e+02 1.95766068e+01]\n",
            "   ...\n",
            "   [2.42347031e+02 2.42653183e+02 3.15275550e+00]\n",
            "   [2.45071533e+02 2.43331665e+02 0.00000000e+00]\n",
            "   [2.45071533e+02 2.40642822e+02 6.14306641e+00]]]], shape=(32, 224, 224, 3), dtype=float32)\n",
            "tf.Tensor(\n",
            "[[0. 0. 0. 0. 0. 0. 1. 0. 0. 0.]\n",
            " [0. 0. 0. 0. 0. 0. 0. 0. 0. 1.]\n",
            " [0. 0. 0. 0. 0. 0. 1. 0. 0. 0.]\n",
            " [0. 0. 0. 0. 0. 1. 0. 0. 0. 0.]\n",
            " [0. 0. 0. 0. 1. 0. 0. 0. 0. 0.]\n",
            " [0. 0. 0. 1. 0. 0. 0. 0. 0. 0.]\n",
            " [0. 0. 0. 0. 0. 0. 0. 0. 0. 1.]\n",
            " [0. 0. 0. 0. 0. 0. 0. 0. 0. 1.]\n",
            " [1. 0. 0. 0. 0. 0. 0. 0. 0. 0.]\n",
            " [0. 1. 0. 0. 0. 0. 0. 0. 0. 0.]\n",
            " [0. 0. 0. 0. 0. 1. 0. 0. 0. 0.]\n",
            " [0. 0. 0. 0. 0. 0. 0. 0. 0. 1.]\n",
            " [0. 0. 0. 0. 0. 0. 0. 1. 0. 0.]\n",
            " [0. 0. 0. 0. 0. 0. 0. 0. 0. 1.]\n",
            " [0. 0. 0. 0. 0. 0. 0. 0. 1. 0.]\n",
            " [0. 0. 0. 0. 0. 1. 0. 0. 0. 0.]\n",
            " [0. 0. 0. 0. 0. 0. 0. 1. 0. 0.]\n",
            " [0. 0. 0. 0. 0. 0. 0. 0. 0. 1.]\n",
            " [0. 1. 0. 0. 0. 0. 0. 0. 0. 0.]\n",
            " [0. 0. 0. 1. 0. 0. 0. 0. 0. 0.]\n",
            " [0. 1. 0. 0. 0. 0. 0. 0. 0. 0.]\n",
            " [0. 0. 0. 0. 1. 0. 0. 0. 0. 0.]\n",
            " [0. 0. 0. 0. 0. 0. 1. 0. 0. 0.]\n",
            " [0. 0. 0. 0. 0. 0. 0. 1. 0. 0.]\n",
            " [0. 0. 1. 0. 0. 0. 0. 0. 0. 0.]\n",
            " [0. 0. 0. 0. 0. 0. 0. 1. 0. 0.]\n",
            " [0. 1. 0. 0. 0. 0. 0. 0. 0. 0.]\n",
            " [1. 0. 0. 0. 0. 0. 0. 0. 0. 0.]\n",
            " [0. 0. 0. 0. 1. 0. 0. 0. 0. 0.]\n",
            " [0. 0. 0. 0. 0. 0. 0. 0. 1. 0.]\n",
            " [0. 0. 0. 0. 0. 0. 0. 1. 0. 0.]\n",
            " [0. 0. 0. 0. 0. 0. 1. 0. 0. 0.]], shape=(32, 10), dtype=float32)\n"
          ]
        }
      ]
    },
    {
      "cell_type": "markdown",
      "source": [
        "Notice how the image arrays come out as tensors of pixel values where as the labels come out as one-hot encodings (e.g. `[0. 0. 0. 0. 1. 0. 0. 0. 0. 0.]` for `hamburger`)"
      ],
      "metadata": {
        "id": "_cbnmJ4Gx3cY"
      }
    },
    {
      "cell_type": "markdown",
      "source": [
        "### Model 0: Building a transfer learning model using the Keras Functional API\n",
        "\n",
        "Let's build a model.\n",
        "\n",
        "To do so we're going to be using the `tf.keras.applications` module as it contains a series of already trained (on ImageNet) computer vision models as well as the Keras Functional API to construct our model.\n",
        "\n",
        "We're going to go through the following steps:\n",
        "\n",
        "1. Instantiate a pre-trained base model object by choosing a target model such as `EfficientNetB0` from `tf.keras.applications`, setting the `include_top` parameter to `False` (we do this because we're going to create our own top, which are the output layers for the model).\n",
        "2. Set the base model's `trainable` attribute to `False` to freeze all the weights in the pre-trained model.\n",
        "3. Define an input layer for our model, for example, what shape of data should our model expect?\n",
        "4. [Optional] Normalize the inputs to our model if it requires. Some computer vision models such as `ResNetV250` require their inputs to be between 0 & 1.\n",
        "> **Note :** As of writing, the `EfficientNetB0` models in `tf.keras.applications` module do not require images to be normalized on input, where as many of the other models do. \n",
        "\n",
        "5. Pass the inputs to the base model.\n",
        "6. Pool the outputs of the base model into a shape compatible with the output activation layer (turn base model output tensors into same shape as label tensors). This can be done using `tf.keras.layers.GlobalAveragePooling2D()` or `tf.keras.layers.GlobalMaxPooling2D()` though the former is more common in practice).\n",
        "7. Create an output activation layer using `tf.keras.layers.Dense()` with the appropriate activation function and number of neurons.\n",
        "8. Combine the inputs and outputs layer into a model using `tf.keras.Model()`\n",
        "9. Compile the model using the appropriate loss function and choose of optimizer.\n",
        "10. Fit the model for desired number of epochs and with necessary callbacks."
      ],
      "metadata": {
        "id": "DPAvgDhUy5-w"
      }
    },
    {
      "cell_type": "code",
      "source": [
        "# Create a model\n",
        "base_model = tf.keras.applications.efficientnet.EfficientNetB0(include_top=False)\n",
        "base_model.trainable = False\n",
        "\n",
        "# inputs\n",
        "inputs = tf.keras.layers.Input(shape=IMG_SIZE + (3,), name = 'inputLayer')\n",
        "\n",
        "# layers\n",
        "x = base_model(inputs, training=False)\n",
        "x = tf.keras.layers.GlobalAveragePooling2D(name=\"poolingLayer\")(x)\n",
        "x = tf.keras.layers.Dense(len(train_data_10_percent.class_names), name=\"outputLayer\")(x)\n",
        "outputs = tf.keras.layers.Activation(activation=\"softmax\", name='activationlayer')(x)\n",
        "\n",
        "# model\n",
        "model = tf.keras.Model(inputs, outputs)\n"
      ],
      "metadata": {
        "id": "-wuFN02QxWAI"
      },
      "execution_count": 12,
      "outputs": []
    },
    {
      "cell_type": "code",
      "source": [
        "len(train_data_10_percent.class_names)"
      ],
      "metadata": {
        "colab": {
          "base_uri": "https://localhost:8080/"
        },
        "id": "C0J_HjXXgiGy",
        "outputId": "cf8d98ed-ef4c-44f3-d357-fe30c857d6d1"
      },
      "execution_count": 14,
      "outputs": [
        {
          "output_type": "execute_result",
          "data": {
            "text/plain": [
              "10"
            ]
          },
          "metadata": {},
          "execution_count": 14
        }
      ]
    },
    {
      "cell_type": "code",
      "source": [
        "# 1. Create the base model with tf.keras.applications\n",
        "base_model = tf.keras.applications.EfficientNetB0(include_top=False)\n",
        "\n",
        "# 2. Freeze the base model (so the underlying pre-trained patterns aren't updated)\n",
        "base_model.trainabal = False\n",
        "\n",
        "# 3. Create inputs into our model\n",
        "inputs = tf.keras.layers.Input(shape=IMG_SIZE + (3,), name='inputLayer')\n",
        "\n",
        "# 4. If using a model like ResNet50V2 you will need to normalize inputs \n",
        "# x = tf.keras.layers.experimental.preprocessing.Rescaling(1/255.)(inputs)\n",
        "\n",
        "# 5. Pass the inputs to the base_model\n",
        "x = base_model(inputs)\n",
        "# Check data shape after passing it to base_model\n",
        "print(f\"Shape after passing inputs through base model: {x.shape}\")\n",
        "\n",
        "# 6. Average pool the outputs of the base model (aggregate all the most important information, reduce number of computations)\n",
        "x = tf.keras.layers.GlobalAveragePooling2D(name='global_average_pooling_layer')(x)\n",
        "\n",
        "print(f\"Shape after GlobalAveragePooling2D: {x.shape}\")\n",
        "\n",
        "# 7. Create the output activation layer\n",
        "outputs = tf.keras.layers.Dense(len(train_data_10_percent.class_names), activation=\"softmax\", name=\"outputLayer\")(x)\n",
        "\n",
        "# 8. Combine the inputs with the outputs into a model\n",
        "model_0 = tf.keras.Model(inputs, outputs)"
      ],
      "metadata": {
        "colab": {
          "base_uri": "https://localhost:8080/"
        },
        "id": "XlsgCMdIeXr6",
        "outputId": "34ed98f3-4a11-48e9-8591-ba8d11b259d9"
      },
      "execution_count": 16,
      "outputs": [
        {
          "output_type": "stream",
          "name": "stdout",
          "text": [
            "Shape after passing inputs through base model: (None, 7, 7, 1280)\n",
            "Shape after GlobalAveragePooling2D: (None, 1280)\n"
          ]
        }
      ]
    },
    {
      "cell_type": "code",
      "source": [],
      "metadata": {
        "id": "4fmaPeafgtE4"
      },
      "execution_count": null,
      "outputs": []
    }
  ]
}