{
  "cells": [
    {
      "cell_type": "markdown",
      "metadata": {
        "id": "view-in-github",
        "colab_type": "text"
      },
      "source": [
        "<a href=\"https://colab.research.google.com/github/danchaud-vincent/tensorflow-deep-learning/blob/main/exercices/TensorFlow_Exercices.ipynb\" target=\"_parent\"><img src=\"https://colab.research.google.com/assets/colab-badge.svg\" alt=\"Open In Colab\"/></a>"
      ]
    },
    {
      "cell_type": "markdown",
      "metadata": {
        "id": "q0BsBHp04EPY"
      },
      "source": [
        "# 🛠 TensorFlow Exercices"
      ]
    },
    {
      "cell_type": "markdown",
      "metadata": {
        "id": "S_23Gmym4EPZ"
      },
      "source": [
        "## 00-TensorFlow Fundamentals Exercices"
      ]
    },
    {
      "cell_type": "markdown",
      "metadata": {
        "id": "uydg-iPd4EPZ"
      },
      "source": [
        "1. Create a vector, scalar, matrix and tensor with values of your choosing using `tf.constant()`.\n",
        "2. Find the **shape, rank and size** of the tensors you created in 1.\n",
        "3. Create two tensors containing random values between 0 and 1 with shape [5, 300].\n",
        "4. Multiply the two tensors you created in 3 using **matrix multiplication**.\n",
        "5. Multiply the two tensors you created in 3 using dot product.\n",
        "6. Create a tensor with **random values** between 0 and 1 with shape [224, 224, 3].\n",
        "7. Find the **min and max values** of the tensor you created in 6 along the first axis.\n",
        "8. Created a tensor with random values of shape [1, 224, 224, 3] then **squeeze** it to change the shape to [224, 224, 3].\n",
        "9. Create a tensor with shape [10] using your own choice of values, then find the **index** which has the **maximum value**.\n",
        "10. **One-hot encode** the tensor you created in 9."
      ]
    },
    {
      "cell_type": "markdown",
      "metadata": {
        "id": "vi0G7p0X4EPZ"
      },
      "source": [
        "## 01 - Neural Network for Regression problems Exercices"
      ]
    },
    {
      "cell_type": "markdown",
      "metadata": {
        "id": "koZjjVFt4EPa"
      },
      "source": [
        "1. Create your own regression dataset and build fit a model to it.\n",
        "2. Try building a neural network with 4 Dens layers and fitting it to your own regression dataset, how doest it perform?\n",
        "3. Try and improve the results we got on the insurance dataset, some things you might want to try include:\n",
        "    - Building a larger model.\n",
        "    - Increasing the number of units in each layer.\n",
        "    - Lookup the documentation of **Adam** and find out what the first parameter is, what happens if you increase it by 10?\n",
        "    - What happens if you train for longer?\n",
        "4. Import the [Boston pricing dataset](https://www.tensorflow.org/api_docs/python/tf/keras/datasets/boston_housing/load_data) from Tensorflow `tf.keras.datasets` and model it."
      ]
    },
    {
      "cell_type": "markdown",
      "metadata": {
        "id": "iUf9yCrF4EPa"
      },
      "source": [
        "## 02 - Neural Network for Classification problems Exercices"
      ]
    },
    {
      "cell_type": "markdown",
      "metadata": {
        "id": "H9uFg_R04EPb"
      },
      "source": [
        "1. Play with neural networks in the TensorFlow Playground for 10-minutes. Especially try different values of the learning, what happens when you decrease it? What happens when you increase it?\n",
        "2. Replicate the model pictured in the TensorFlow Playground diagram below using TensorFlow code. Compile it using the Adam optimizer, binary crossentropy loss and accuracy metric. Once it's compiled check a summary of the model.\n",
        "\n",
        "<center><img src=\"https://github.com/danchaud-vincent/tensorflow-deep-learning/blob/main/images/02-tensorflow-playground-replication-exercise.png?raw=1\" width=650px></center>\n",
        "\n",
        "3. Create a classification dataset using Scikit-Learn's make_moons() function, visualize it and then build a model to fit it at over 85% accuracy.\n",
        "4. Create a function (or write code) to visualize multiple image predictions for the fashion MNIST at the same time. Plot at least three different images and their prediciton labels at the same time. Hint: see the classifcation tutorial in the TensorFlow documentation for ideas.\n",
        "5. Recreate TensorFlow's softmax activation function in your own code. Make sure it can accept a tensor and return that tensor after having the softmax function applied to it.\n",
        "6. Train a model to get 88%+ accuracy on the fashion MNIST test set. Plot a confusion matrix to see the results after.\n",
        "7. Make a function to show an image of a certain class of the fashion MNIST dataset and make a prediction on it. For example, plot 3 images of the T-shirt class with their predictions."
      ]
    },
    {
      "cell_type": "markdown",
      "metadata": {
        "id": "dKA-C71w4EPb"
      },
      "source": [
        "## 04 -  Transfer Learning in TensorFlow Part 1: Feature Extraction Exercices\n",
        "\n",
        "1. Build and fit a model using the same data we have here but with the MobileNetV2 architecture feature extraction from TensorFlow Hub. How does it perform compared to our other mdoels?\n",
        "2. Name 3 different image classification models on TensorFlow Hub that we haven't used.\n",
        "3. Build a model to classify images of two different things you've taken photos of.\n",
        "- You can use any feature extraction layer from TensorFlow Hub you like for this.\n",
        "- You should aim to have at least 10 images of each class, for example to build a fridge versus oven classifier, you'll want 10 images of fridges and 10 images of ovens.\n",
        "4. What is the current best performing model on ImageNet?"
      ]
    },
    {
      "cell_type": "markdown",
      "source": [
        "## 05 - Transfer Learning in TensorFlow Part 2: Fine-tuning Exercices\n",
        "\n",
        "1. Use feature-extraction to train a transfer learning model on 10% of the Food Vision data for 10 epochs using `tf.keras.applications.EfficientNetB0` as the base model. Use the `ModelCheckpoint` callback to save the weights to file.\n",
        "2. Fine-tune the last 20 layers of the base model you trained in 2 for another 10 epochs. How did it go?\n",
        "3. Fine-tune the last 30 layers of the base model you trained in 2 for another 10 epochs. How dit it go ?\n",
        "4. Write a function to visualize an image from any dataset (train or test file) and any class (e.g. \"steak\", \"pizza\",... etc), visualize it and make a prediction on it using a trained model."
      ],
      "metadata": {
        "id": "mJbem8FMaPgR"
      }
    }
  ],
  "metadata": {
    "language_info": {
      "name": "python"
    },
    "orig_nbformat": 4,
    "colab": {
      "provenance": [],
      "collapsed_sections": [],
      "include_colab_link": true
    }
  },
  "nbformat": 4,
  "nbformat_minor": 0
}