{
 "cells": [
  {
   "cell_type": "markdown",
   "metadata": {},
   "source": [
    "# 🛠 TensorFlow Exercices"
   ]
  },
  {
   "cell_type": "markdown",
   "metadata": {},
   "source": [
    "## 00-TensorFlow Fundamentals Exercices"
   ]
  },
  {
   "cell_type": "markdown",
   "metadata": {},
   "source": [
    "1. Create a vector, scalar, matrix and tensor with values of your choosing using `tf.constant()`.\n",
    "2. Find the **shape, rank and size** of the tensors you created in 1.\n",
    "3. Create two tensors containing random values between 0 and 1 with shape [5, 300].\n",
    "4. Multiply the two tensors you created in 3 using **matrix multiplication**.\n",
    "5. Multiply the two tensors you created in 3 using dot product.\n",
    "6. Create a tensor with **random values** between 0 and 1 with shape [224, 224, 3].\n",
    "7. Find the **min and max values** of the tensor you created in 6 along the first axis.\n",
    "8. Created a tensor with random values of shape [1, 224, 224, 3] then **squeeze** it to change the shape to [224, 224, 3].\n",
    "9. Create a tensor with shape [10] using your own choice of values, then find the **index** which has the **maximum value**.\n",
    "10. **One-hot encode** the tensor you created in 9."
   ]
  },
  {
   "cell_type": "markdown",
   "metadata": {},
   "source": [
    "## 01 - Neural Network for Regression problems Exercices"
   ]
  },
  {
   "cell_type": "markdown",
   "metadata": {},
   "source": [
    "1. Create your own regression dataset and build fit a model to it.\n",
    "2. Try building a neural network with 4 Dens layers and fitting it to your own regression dataset, how doest it perform?\n",
    "3. Try and improve the results we got on the insurance dataset, some things you might want to try include:\n",
    "    - Building a larger model.\n",
    "    - Increasing the number of units in each layer.\n",
    "    - Lookup the documentation of **Adam** and find out what the first parameter is, what happens if you increase it by 10?\n",
    "    - What happens if you train for longer?\n",
    "4. Import the [Boston pricing dataset](https://www.tensorflow.org/api_docs/python/tf/keras/datasets/boston_housing/load_data) from Tensorflow `tf.keras.datasets` and model it."
   ]
  }
 ],
 "metadata": {
  "language_info": {
   "name": "python"
  },
  "orig_nbformat": 4
 },
 "nbformat": 4,
 "nbformat_minor": 2
}
