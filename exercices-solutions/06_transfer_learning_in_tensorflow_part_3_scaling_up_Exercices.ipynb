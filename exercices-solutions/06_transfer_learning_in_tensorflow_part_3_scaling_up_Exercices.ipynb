{
  "nbformat": 4,
  "nbformat_minor": 0,
  "metadata": {
    "colab": {
      "provenance": [],
      "collapsed_sections": [],
      "authorship_tag": "ABX9TyNoNFEVU8x7LqkiXRAJa+dE",
      "include_colab_link": true
    },
    "kernelspec": {
      "name": "python3",
      "display_name": "Python 3"
    },
    "language_info": {
      "name": "python"
    }
  },
  "cells": [
    {
      "cell_type": "markdown",
      "metadata": {
        "id": "view-in-github",
        "colab_type": "text"
      },
      "source": [
        "<a href=\"https://colab.research.google.com/github/danchaud-vincent/tensorflow-deep-learning/blob/main/exercices-solutions/06_transfer_learning_in_tensorflow_part_3_scaling_up_Exercices.ipynb\" target=\"_parent\"><img src=\"https://colab.research.google.com/assets/colab-badge.svg\" alt=\"Open In Colab\"/></a>"
      ]
    },
    {
      "cell_type": "markdown",
      "source": [
        "# 06_transfer_learning_in_tensorflow_part_3_scaling_up_Exercices.ipynb"
      ],
      "metadata": {
        "id": "9WmclUkDs18N"
      }
    },
    {
      "cell_type": "markdown",
      "source": [
        "1. Take 3 of your own photos of food and use the trained model to make predictions on them, share your predictions with the other students in Discord and show off your Food Vision model 🍔👁.\n",
        "2. Train a feature-extraction transfer learning model for 10 epochs on the same data and compare its performance versus a model which used feature extraction for 5 epochs and fine-tuning for 5 epochs (like we've used in this notebook). Which method is better?\n",
        "3. Recreate our first model (the feature extraction model) with mixed_precision turned on."
      ],
      "metadata": {
        "id": "PhyVDWhls3aS"
      }
    },
    {
      "cell_type": "code",
      "execution_count": null,
      "metadata": {
        "id": "pWiQvmAhssW2"
      },
      "outputs": [],
      "source": []
    }
  ]
}