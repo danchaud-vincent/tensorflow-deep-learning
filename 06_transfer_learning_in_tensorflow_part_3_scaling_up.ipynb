{
  "nbformat": 4,
  "nbformat_minor": 0,
  "metadata": {
    "colab": {
      "provenance": [],
      "collapsed_sections": [],
      "authorship_tag": "ABX9TyPvmVxeaVx8YeCZn5k3yBBz",
      "include_colab_link": true
    },
    "kernelspec": {
      "name": "python3",
      "display_name": "Python 3"
    },
    "language_info": {
      "name": "python"
    },
    "accelerator": "GPU"
  },
  "cells": [
    {
      "cell_type": "markdown",
      "metadata": {
        "id": "view-in-github",
        "colab_type": "text"
      },
      "source": [
        "<a href=\"https://colab.research.google.com/github/danchaud-vincent/tensorflow-deep-learning/blob/main/06_transfer_learning_in_tensorflow_part_3_scaling_up.ipynb\" target=\"_parent\"><img src=\"https://colab.research.google.com/assets/colab-badge.svg\" alt=\"Open In Colab\"/></a>"
      ]
    },
    {
      "cell_type": "markdown",
      "source": [
        "# 06 - Transfer Learning with TensorFlow Part 3: Scaling up (Food Vision mini)\n",
        "\n",
        "In the previous two notebooks (**transfer learning part 1: feature extraction** and **part 2: fine-tuning**) we've seen the power of transfer learning.\n",
        "\n",
        "Now we know our smaller modelling experiments are working, it's time to step things up a notch with more data.\n",
        "\n",
        "This is a common practice in machine learning and deep learning: get a model working on a small amount of data before scaling it up to a larger amount of data.\n",
        "\n",
        "It's time to get closer to our Food Vision project coming to life. In this notebook we're going to scale up from  using 10 classes of the Food101 data to using all of the classes in the Food101 dataset.\n",
        "\n",
        "Our goal is to **beat the original Food101 paper's results with 10% of data**.\n",
        "\n",
        "![](https://raw.githubusercontent.com/danchaud-vincent/tensorflow-deep-learning/main/images/06-ml-serial-experimentation.png)\n",
        "***Machine learning practitioners are serial experimenters. Start small, get a model working, see if yout experiments work then gradually scale them up to where you want to go (we're going to be looking at scaling up throughout this notebook).*\n",
        "\n",
        "## What we're going to cover\n",
        "\n",
        "We're going to go through the follow with TensorFlow:\n",
        "- Downloading and preparing 10% of the Food101 data (10% of training data).\n",
        "- Training a feature extraction transfer learning model on 10% of the Food101 training data.\n",
        "- Fine-tuning our feature extraction model.\n",
        "- Saving and loaded our trained model.\n",
        "- Evaluating the performance of our Food Vision model trained on 10% of the training data\n",
        "  - Finding our model's most wrong predictions\n",
        "- Making predictions with our Food Vision model on custom images of food."
      ],
      "metadata": {
        "id": "Grz5DaDiActN"
      }
    },
    {
      "cell_type": "code",
      "execution_count": 1,
      "metadata": {
        "colab": {
          "base_uri": "https://localhost:8080/"
        },
        "id": "K4T24nPlAZpD",
        "outputId": "717b82b1-e78d-47bf-92e8-b4b76d60b853"
      },
      "outputs": [
        {
          "output_type": "stream",
          "name": "stdout",
          "text": [
            "Mon Oct 17 17:39:45 2022       \n",
            "+-----------------------------------------------------------------------------+\n",
            "| NVIDIA-SMI 460.32.03    Driver Version: 460.32.03    CUDA Version: 11.2     |\n",
            "|-------------------------------+----------------------+----------------------+\n",
            "| GPU  Name        Persistence-M| Bus-Id        Disp.A | Volatile Uncorr. ECC |\n",
            "| Fan  Temp  Perf  Pwr:Usage/Cap|         Memory-Usage | GPU-Util  Compute M. |\n",
            "|                               |                      |               MIG M. |\n",
            "|===============================+======================+======================|\n",
            "|   0  Tesla T4            Off  | 00000000:00:04.0 Off |                    0 |\n",
            "| N/A   70C    P8    11W /  70W |      0MiB / 15109MiB |      0%      Default |\n",
            "|                               |                      |                  N/A |\n",
            "+-------------------------------+----------------------+----------------------+\n",
            "                                                                               \n",
            "+-----------------------------------------------------------------------------+\n",
            "| Processes:                                                                  |\n",
            "|  GPU   GI   CI        PID   Type   Process name                  GPU Memory |\n",
            "|        ID   ID                                                   Usage      |\n",
            "|=============================================================================|\n",
            "|  No running processes found                                                 |\n",
            "+-----------------------------------------------------------------------------+\n"
          ]
        }
      ],
      "source": [
        "# Are we using a GPU?\n",
        "!nvidia-smi"
      ]
    },
    {
      "cell_type": "markdown",
      "source": [
        "## Creating Helper Functions\n",
        "\n",
        "\n",
        "We've created a series of helper functions throughout the previous notebooks. Instead of rewriting them (tedious), we'll import the `helper_functions.py` file from the Github repo.\n"
      ],
      "metadata": {
        "id": "56h8Aj7IFKwB"
      }
    },
    {
      "cell_type": "code",
      "source": [
        "# Get helper functions file\n",
        "!wget https://raw.githubusercontent.com/danchaud-vincent/tensorflow-deep-learning/main/utils/helper_functions.py"
      ],
      "metadata": {
        "colab": {
          "base_uri": "https://localhost:8080/"
        },
        "id": "B3haQ2AnFDfF",
        "outputId": "7ca1e115-68e6-4aac-efba-e7f987a34ee8"
      },
      "execution_count": 2,
      "outputs": [
        {
          "output_type": "stream",
          "name": "stdout",
          "text": [
            "--2022-10-17 17:39:45--  https://raw.githubusercontent.com/danchaud-vincent/tensorflow-deep-learning/main/utils/helper_functions.py\n",
            "Resolving raw.githubusercontent.com (raw.githubusercontent.com)... 185.199.108.133, 185.199.109.133, 185.199.110.133, ...\n",
            "Connecting to raw.githubusercontent.com (raw.githubusercontent.com)|185.199.108.133|:443... connected.\n",
            "HTTP request sent, awaiting response... 200 OK\n",
            "Length: 4405 (4.3K) [text/plain]\n",
            "Saving to: ‘helper_functions.py’\n",
            "\n",
            "helper_functions.py 100%[===================>]   4.30K  --.-KB/s    in 0s      \n",
            "\n",
            "2022-10-17 17:39:46 (60.1 MB/s) - ‘helper_functions.py’ saved [4405/4405]\n",
            "\n"
          ]
        }
      ]
    },
    {
      "cell_type": "code",
      "source": [
        "# Import series of helper function for the notebook\n",
        "from helper_functions import plot_loss_curves, unzip_data, compare_historys, walk_through_dir, create_tensorboard_callback"
      ],
      "metadata": {
        "id": "QkXAhaIXFmME"
      },
      "execution_count": 3,
      "outputs": []
    },
    {
      "cell_type": "markdown",
      "source": [
        "## 101 Food Classes: Working with less data\n",
        "\n",
        "So far we've confirmed the transfer learning model's we've been using work pretty well with the 10 Food Classes dataset. Now it's time to step it up and see how they go with the full 101 Food Classes.\n",
        "\n",
        "In the original Food101 dataset there's 1000 images per class (750 of each class in the training set and 250 of each class in the test set), totalling 101,000 images.\n",
        "\n",
        "We could start modelling straight away on this large dataset but in the spirit of continually experimenting, we're going to see how our previously working model's go with 10% of the training data.\n",
        "\n",
        "This means for each of the 101 food classes we'll be building a model on 75 training images and evaluating it on 250 test images."
      ],
      "metadata": {
        "id": "6Z1seV0ZGCT4"
      }
    },
    {
      "cell_type": "markdown",
      "source": [
        "## Downloading and preprocessing the data\n",
        "\n",
        "Just as before we'll download a subset of the Food101 dataset which has been extracted from the original dataset (to see the preprocessing of the data check out the [ Food Vision preprocessing notebook](https://github.com/mrdbourke/tensorflow-deep-learning/blob/main/extras/image_data_modification.ipynb).\n",
        "\n",
        "We download the data as a zip file so we'll use our unzip_data() function to unzip it."
      ],
      "metadata": {
        "id": "2-EKe9i5H1tw"
      }
    },
    {
      "cell_type": "code",
      "source": [
        "# Download the data\n",
        "!wget https://storage.googleapis.com/ztm_tf_course/food_vision/101_food_classes_10_percent.zip"
      ],
      "metadata": {
        "id": "oiC27lYzF-K5",
        "colab": {
          "base_uri": "https://localhost:8080/"
        },
        "outputId": "252d5ea0-9c50-42af-cec0-8e2f065a5c1e"
      },
      "execution_count": 4,
      "outputs": [
        {
          "output_type": "stream",
          "name": "stdout",
          "text": [
            "--2022-10-17 17:39:48--  https://storage.googleapis.com/ztm_tf_course/food_vision/101_food_classes_10_percent.zip\n",
            "Resolving storage.googleapis.com (storage.googleapis.com)... 74.125.68.128, 142.250.4.128, 74.125.24.128, ...\n",
            "Connecting to storage.googleapis.com (storage.googleapis.com)|74.125.68.128|:443... connected.\n",
            "HTTP request sent, awaiting response... 200 OK\n",
            "Length: 1625420029 (1.5G) [application/zip]\n",
            "Saving to: ‘101_food_classes_10_percent.zip’\n",
            "\n",
            "101_food_classes_10 100%[===================>]   1.51G  74.4MB/s    in 24s     \n",
            "\n",
            "2022-10-17 17:40:13 (65.3 MB/s) - ‘101_food_classes_10_percent.zip’ saved [1625420029/1625420029]\n",
            "\n"
          ]
        }
      ]
    },
    {
      "cell_type": "code",
      "source": [
        "# unzip the data\n",
        "unzip_data(\"101_food_classes_10_percent.zip\")"
      ],
      "metadata": {
        "id": "DBa3H8HVJcWt"
      },
      "execution_count": 5,
      "outputs": []
    },
    {
      "cell_type": "code",
      "source": [
        "# train and test directories\n",
        "train_dir = \"101_food_classes_10_percent/train/\"\n",
        "test_dir = \"101_food_classes_10_percent/test/\""
      ],
      "metadata": {
        "id": "H_02ZahNJjea"
      },
      "execution_count": 6,
      "outputs": []
    },
    {
      "cell_type": "code",
      "source": [
        "# Walk through our dir\n",
        "walk_through_dir(\"101_food_classes_10_percent\")"
      ],
      "metadata": {
        "colab": {
          "base_uri": "https://localhost:8080/"
        },
        "id": "s0v3GA_yJrBG",
        "outputId": "dbafcbc9-2758-4eac-bfae-5d7c42aaa9ed"
      },
      "execution_count": 7,
      "outputs": [
        {
          "output_type": "stream",
          "name": "stdout",
          "text": [
            "101_food_classes_10_percent: There are 2 directories and 0 files\n",
            "101_food_classes_10_percent/test: There are 101 directories and 0 files\n",
            "101_food_classes_10_percent/test/bread_pudding: There are 0 directories and 250 files\n",
            "101_food_classes_10_percent/test/donuts: There are 0 directories and 250 files\n",
            "101_food_classes_10_percent/test/beignets: There are 0 directories and 250 files\n",
            "101_food_classes_10_percent/test/prime_rib: There are 0 directories and 250 files\n",
            "101_food_classes_10_percent/test/ice_cream: There are 0 directories and 250 files\n",
            "101_food_classes_10_percent/test/risotto: There are 0 directories and 250 files\n",
            "101_food_classes_10_percent/test/pork_chop: There are 0 directories and 250 files\n",
            "101_food_classes_10_percent/test/cup_cakes: There are 0 directories and 250 files\n",
            "101_food_classes_10_percent/test/poutine: There are 0 directories and 250 files\n",
            "101_food_classes_10_percent/test/foie_gras: There are 0 directories and 250 files\n",
            "101_food_classes_10_percent/test/creme_brulee: There are 0 directories and 250 files\n",
            "101_food_classes_10_percent/test/ravioli: There are 0 directories and 250 files\n",
            "101_food_classes_10_percent/test/caesar_salad: There are 0 directories and 250 files\n",
            "101_food_classes_10_percent/test/samosa: There are 0 directories and 250 files\n",
            "101_food_classes_10_percent/test/dumplings: There are 0 directories and 250 files\n",
            "101_food_classes_10_percent/test/tuna_tartare: There are 0 directories and 250 files\n",
            "101_food_classes_10_percent/test/omelette: There are 0 directories and 250 files\n",
            "101_food_classes_10_percent/test/scallops: There are 0 directories and 250 files\n",
            "101_food_classes_10_percent/test/cannoli: There are 0 directories and 250 files\n",
            "101_food_classes_10_percent/test/sushi: There are 0 directories and 250 files\n",
            "101_food_classes_10_percent/test/baby_back_ribs: There are 0 directories and 250 files\n",
            "101_food_classes_10_percent/test/grilled_cheese_sandwich: There are 0 directories and 250 files\n",
            "101_food_classes_10_percent/test/seaweed_salad: There are 0 directories and 250 files\n",
            "101_food_classes_10_percent/test/paella: There are 0 directories and 250 files\n",
            "101_food_classes_10_percent/test/tacos: There are 0 directories and 250 files\n",
            "101_food_classes_10_percent/test/guacamole: There are 0 directories and 250 files\n",
            "101_food_classes_10_percent/test/ramen: There are 0 directories and 250 files\n",
            "101_food_classes_10_percent/test/fish_and_chips: There are 0 directories and 250 files\n",
            "101_food_classes_10_percent/test/beet_salad: There are 0 directories and 250 files\n",
            "101_food_classes_10_percent/test/takoyaki: There are 0 directories and 250 files\n",
            "101_food_classes_10_percent/test/filet_mignon: There are 0 directories and 250 files\n",
            "101_food_classes_10_percent/test/churros: There are 0 directories and 250 files\n",
            "101_food_classes_10_percent/test/chocolate_cake: There are 0 directories and 250 files\n",
            "101_food_classes_10_percent/test/lobster_bisque: There are 0 directories and 250 files\n",
            "101_food_classes_10_percent/test/peking_duck: There are 0 directories and 250 files\n",
            "101_food_classes_10_percent/test/crab_cakes: There are 0 directories and 250 files\n",
            "101_food_classes_10_percent/test/pancakes: There are 0 directories and 250 files\n",
            "101_food_classes_10_percent/test/shrimp_and_grits: There are 0 directories and 250 files\n",
            "101_food_classes_10_percent/test/beef_tartare: There are 0 directories and 250 files\n",
            "101_food_classes_10_percent/test/clam_chowder: There are 0 directories and 250 files\n",
            "101_food_classes_10_percent/test/chicken_curry: There are 0 directories and 250 files\n",
            "101_food_classes_10_percent/test/macarons: There are 0 directories and 250 files\n",
            "101_food_classes_10_percent/test/eggs_benedict: There are 0 directories and 250 files\n",
            "101_food_classes_10_percent/test/pho: There are 0 directories and 250 files\n",
            "101_food_classes_10_percent/test/miso_soup: There are 0 directories and 250 files\n",
            "101_food_classes_10_percent/test/strawberry_shortcake: There are 0 directories and 250 files\n",
            "101_food_classes_10_percent/test/red_velvet_cake: There are 0 directories and 250 files\n",
            "101_food_classes_10_percent/test/pizza: There are 0 directories and 250 files\n",
            "101_food_classes_10_percent/test/spring_rolls: There are 0 directories and 250 files\n",
            "101_food_classes_10_percent/test/pulled_pork_sandwich: There are 0 directories and 250 files\n",
            "101_food_classes_10_percent/test/breakfast_burrito: There are 0 directories and 250 files\n",
            "101_food_classes_10_percent/test/huevos_rancheros: There are 0 directories and 250 files\n",
            "101_food_classes_10_percent/test/mussels: There are 0 directories and 250 files\n",
            "101_food_classes_10_percent/test/lobster_roll_sandwich: There are 0 directories and 250 files\n",
            "101_food_classes_10_percent/test/fried_rice: There are 0 directories and 250 files\n",
            "101_food_classes_10_percent/test/apple_pie: There are 0 directories and 250 files\n",
            "101_food_classes_10_percent/test/nachos: There are 0 directories and 250 files\n",
            "101_food_classes_10_percent/test/grilled_salmon: There are 0 directories and 250 files\n",
            "101_food_classes_10_percent/test/oysters: There are 0 directories and 250 files\n",
            "101_food_classes_10_percent/test/spaghetti_bolognese: There are 0 directories and 250 files\n",
            "101_food_classes_10_percent/test/ceviche: There are 0 directories and 250 files\n",
            "101_food_classes_10_percent/test/panna_cotta: There are 0 directories and 250 files\n",
            "101_food_classes_10_percent/test/sashimi: There are 0 directories and 250 files\n",
            "101_food_classes_10_percent/test/cheese_plate: There are 0 directories and 250 files\n",
            "101_food_classes_10_percent/test/hot_dog: There are 0 directories and 250 files\n",
            "101_food_classes_10_percent/test/escargots: There are 0 directories and 250 files\n",
            "101_food_classes_10_percent/test/hot_and_sour_soup: There are 0 directories and 250 files\n",
            "101_food_classes_10_percent/test/macaroni_and_cheese: There are 0 directories and 250 files\n",
            "101_food_classes_10_percent/test/greek_salad: There are 0 directories and 250 files\n",
            "101_food_classes_10_percent/test/steak: There are 0 directories and 250 files\n",
            "101_food_classes_10_percent/test/beef_carpaccio: There are 0 directories and 250 files\n",
            "101_food_classes_10_percent/test/hummus: There are 0 directories and 250 files\n",
            "101_food_classes_10_percent/test/deviled_eggs: There are 0 directories and 250 files\n",
            "101_food_classes_10_percent/test/hamburger: There are 0 directories and 250 files\n",
            "101_food_classes_10_percent/test/french_toast: There are 0 directories and 250 files\n",
            "101_food_classes_10_percent/test/pad_thai: There are 0 directories and 250 files\n",
            "101_food_classes_10_percent/test/gyoza: There are 0 directories and 250 files\n",
            "101_food_classes_10_percent/test/edamame: There are 0 directories and 250 files\n",
            "101_food_classes_10_percent/test/chicken_quesadilla: There are 0 directories and 250 files\n",
            "101_food_classes_10_percent/test/chocolate_mousse: There are 0 directories and 250 files\n",
            "101_food_classes_10_percent/test/french_fries: There are 0 directories and 250 files\n",
            "101_food_classes_10_percent/test/tiramisu: There are 0 directories and 250 files\n",
            "101_food_classes_10_percent/test/french_onion_soup: There are 0 directories and 250 files\n",
            "101_food_classes_10_percent/test/caprese_salad: There are 0 directories and 250 files\n",
            "101_food_classes_10_percent/test/gnocchi: There are 0 directories and 250 files\n",
            "101_food_classes_10_percent/test/falafel: There are 0 directories and 250 files\n",
            "101_food_classes_10_percent/test/croque_madame: There are 0 directories and 250 files\n",
            "101_food_classes_10_percent/test/fried_calamari: There are 0 directories and 250 files\n",
            "101_food_classes_10_percent/test/carrot_cake: There are 0 directories and 250 files\n",
            "101_food_classes_10_percent/test/bruschetta: There are 0 directories and 250 files\n",
            "101_food_classes_10_percent/test/waffles: There are 0 directories and 250 files\n",
            "101_food_classes_10_percent/test/club_sandwich: There are 0 directories and 250 files\n",
            "101_food_classes_10_percent/test/baklava: There are 0 directories and 250 files\n",
            "101_food_classes_10_percent/test/lasagna: There are 0 directories and 250 files\n",
            "101_food_classes_10_percent/test/garlic_bread: There are 0 directories and 250 files\n",
            "101_food_classes_10_percent/test/bibimbap: There are 0 directories and 250 files\n",
            "101_food_classes_10_percent/test/frozen_yogurt: There are 0 directories and 250 files\n",
            "101_food_classes_10_percent/test/onion_rings: There are 0 directories and 250 files\n",
            "101_food_classes_10_percent/test/cheesecake: There are 0 directories and 250 files\n",
            "101_food_classes_10_percent/test/spaghetti_carbonara: There are 0 directories and 250 files\n",
            "101_food_classes_10_percent/test/chicken_wings: There are 0 directories and 250 files\n",
            "101_food_classes_10_percent/train: There are 101 directories and 0 files\n",
            "101_food_classes_10_percent/train/bread_pudding: There are 0 directories and 75 files\n",
            "101_food_classes_10_percent/train/donuts: There are 0 directories and 75 files\n",
            "101_food_classes_10_percent/train/beignets: There are 0 directories and 75 files\n",
            "101_food_classes_10_percent/train/prime_rib: There are 0 directories and 75 files\n",
            "101_food_classes_10_percent/train/ice_cream: There are 0 directories and 75 files\n",
            "101_food_classes_10_percent/train/risotto: There are 0 directories and 75 files\n",
            "101_food_classes_10_percent/train/pork_chop: There are 0 directories and 75 files\n",
            "101_food_classes_10_percent/train/cup_cakes: There are 0 directories and 75 files\n",
            "101_food_classes_10_percent/train/poutine: There are 0 directories and 75 files\n",
            "101_food_classes_10_percent/train/foie_gras: There are 0 directories and 75 files\n",
            "101_food_classes_10_percent/train/creme_brulee: There are 0 directories and 75 files\n",
            "101_food_classes_10_percent/train/ravioli: There are 0 directories and 75 files\n",
            "101_food_classes_10_percent/train/caesar_salad: There are 0 directories and 75 files\n",
            "101_food_classes_10_percent/train/samosa: There are 0 directories and 75 files\n",
            "101_food_classes_10_percent/train/dumplings: There are 0 directories and 75 files\n",
            "101_food_classes_10_percent/train/tuna_tartare: There are 0 directories and 75 files\n",
            "101_food_classes_10_percent/train/omelette: There are 0 directories and 75 files\n",
            "101_food_classes_10_percent/train/scallops: There are 0 directories and 75 files\n",
            "101_food_classes_10_percent/train/cannoli: There are 0 directories and 75 files\n",
            "101_food_classes_10_percent/train/sushi: There are 0 directories and 75 files\n",
            "101_food_classes_10_percent/train/baby_back_ribs: There are 0 directories and 75 files\n",
            "101_food_classes_10_percent/train/grilled_cheese_sandwich: There are 0 directories and 75 files\n",
            "101_food_classes_10_percent/train/seaweed_salad: There are 0 directories and 75 files\n",
            "101_food_classes_10_percent/train/paella: There are 0 directories and 75 files\n",
            "101_food_classes_10_percent/train/tacos: There are 0 directories and 75 files\n",
            "101_food_classes_10_percent/train/guacamole: There are 0 directories and 75 files\n",
            "101_food_classes_10_percent/train/ramen: There are 0 directories and 75 files\n",
            "101_food_classes_10_percent/train/fish_and_chips: There are 0 directories and 75 files\n",
            "101_food_classes_10_percent/train/beet_salad: There are 0 directories and 75 files\n",
            "101_food_classes_10_percent/train/takoyaki: There are 0 directories and 75 files\n",
            "101_food_classes_10_percent/train/filet_mignon: There are 0 directories and 75 files\n",
            "101_food_classes_10_percent/train/churros: There are 0 directories and 75 files\n",
            "101_food_classes_10_percent/train/chocolate_cake: There are 0 directories and 75 files\n",
            "101_food_classes_10_percent/train/lobster_bisque: There are 0 directories and 75 files\n",
            "101_food_classes_10_percent/train/peking_duck: There are 0 directories and 75 files\n",
            "101_food_classes_10_percent/train/crab_cakes: There are 0 directories and 75 files\n",
            "101_food_classes_10_percent/train/pancakes: There are 0 directories and 75 files\n",
            "101_food_classes_10_percent/train/shrimp_and_grits: There are 0 directories and 75 files\n",
            "101_food_classes_10_percent/train/beef_tartare: There are 0 directories and 75 files\n",
            "101_food_classes_10_percent/train/clam_chowder: There are 0 directories and 75 files\n",
            "101_food_classes_10_percent/train/chicken_curry: There are 0 directories and 75 files\n",
            "101_food_classes_10_percent/train/macarons: There are 0 directories and 75 files\n",
            "101_food_classes_10_percent/train/eggs_benedict: There are 0 directories and 75 files\n",
            "101_food_classes_10_percent/train/pho: There are 0 directories and 75 files\n",
            "101_food_classes_10_percent/train/miso_soup: There are 0 directories and 75 files\n",
            "101_food_classes_10_percent/train/strawberry_shortcake: There are 0 directories and 75 files\n",
            "101_food_classes_10_percent/train/red_velvet_cake: There are 0 directories and 75 files\n",
            "101_food_classes_10_percent/train/pizza: There are 0 directories and 75 files\n",
            "101_food_classes_10_percent/train/spring_rolls: There are 0 directories and 75 files\n",
            "101_food_classes_10_percent/train/pulled_pork_sandwich: There are 0 directories and 75 files\n",
            "101_food_classes_10_percent/train/breakfast_burrito: There are 0 directories and 75 files\n",
            "101_food_classes_10_percent/train/huevos_rancheros: There are 0 directories and 75 files\n",
            "101_food_classes_10_percent/train/mussels: There are 0 directories and 75 files\n",
            "101_food_classes_10_percent/train/lobster_roll_sandwich: There are 0 directories and 75 files\n",
            "101_food_classes_10_percent/train/fried_rice: There are 0 directories and 75 files\n",
            "101_food_classes_10_percent/train/apple_pie: There are 0 directories and 75 files\n",
            "101_food_classes_10_percent/train/nachos: There are 0 directories and 75 files\n",
            "101_food_classes_10_percent/train/grilled_salmon: There are 0 directories and 75 files\n",
            "101_food_classes_10_percent/train/oysters: There are 0 directories and 75 files\n",
            "101_food_classes_10_percent/train/spaghetti_bolognese: There are 0 directories and 75 files\n",
            "101_food_classes_10_percent/train/ceviche: There are 0 directories and 75 files\n",
            "101_food_classes_10_percent/train/panna_cotta: There are 0 directories and 75 files\n",
            "101_food_classes_10_percent/train/sashimi: There are 0 directories and 75 files\n",
            "101_food_classes_10_percent/train/cheese_plate: There are 0 directories and 75 files\n",
            "101_food_classes_10_percent/train/hot_dog: There are 0 directories and 75 files\n",
            "101_food_classes_10_percent/train/escargots: There are 0 directories and 75 files\n",
            "101_food_classes_10_percent/train/hot_and_sour_soup: There are 0 directories and 75 files\n",
            "101_food_classes_10_percent/train/macaroni_and_cheese: There are 0 directories and 75 files\n",
            "101_food_classes_10_percent/train/greek_salad: There are 0 directories and 75 files\n",
            "101_food_classes_10_percent/train/steak: There are 0 directories and 75 files\n",
            "101_food_classes_10_percent/train/beef_carpaccio: There are 0 directories and 75 files\n",
            "101_food_classes_10_percent/train/hummus: There are 0 directories and 75 files\n",
            "101_food_classes_10_percent/train/deviled_eggs: There are 0 directories and 75 files\n",
            "101_food_classes_10_percent/train/hamburger: There are 0 directories and 75 files\n",
            "101_food_classes_10_percent/train/french_toast: There are 0 directories and 75 files\n",
            "101_food_classes_10_percent/train/pad_thai: There are 0 directories and 75 files\n",
            "101_food_classes_10_percent/train/gyoza: There are 0 directories and 75 files\n",
            "101_food_classes_10_percent/train/edamame: There are 0 directories and 75 files\n",
            "101_food_classes_10_percent/train/chicken_quesadilla: There are 0 directories and 75 files\n",
            "101_food_classes_10_percent/train/chocolate_mousse: There are 0 directories and 75 files\n",
            "101_food_classes_10_percent/train/french_fries: There are 0 directories and 75 files\n",
            "101_food_classes_10_percent/train/tiramisu: There are 0 directories and 75 files\n",
            "101_food_classes_10_percent/train/french_onion_soup: There are 0 directories and 75 files\n",
            "101_food_classes_10_percent/train/caprese_salad: There are 0 directories and 75 files\n",
            "101_food_classes_10_percent/train/gnocchi: There are 0 directories and 75 files\n",
            "101_food_classes_10_percent/train/falafel: There are 0 directories and 75 files\n",
            "101_food_classes_10_percent/train/croque_madame: There are 0 directories and 75 files\n",
            "101_food_classes_10_percent/train/fried_calamari: There are 0 directories and 75 files\n",
            "101_food_classes_10_percent/train/carrot_cake: There are 0 directories and 75 files\n",
            "101_food_classes_10_percent/train/bruschetta: There are 0 directories and 75 files\n",
            "101_food_classes_10_percent/train/waffles: There are 0 directories and 75 files\n",
            "101_food_classes_10_percent/train/club_sandwich: There are 0 directories and 75 files\n",
            "101_food_classes_10_percent/train/baklava: There are 0 directories and 75 files\n",
            "101_food_classes_10_percent/train/lasagna: There are 0 directories and 75 files\n",
            "101_food_classes_10_percent/train/garlic_bread: There are 0 directories and 75 files\n",
            "101_food_classes_10_percent/train/bibimbap: There are 0 directories and 75 files\n",
            "101_food_classes_10_percent/train/frozen_yogurt: There are 0 directories and 75 files\n",
            "101_food_classes_10_percent/train/onion_rings: There are 0 directories and 75 files\n",
            "101_food_classes_10_percent/train/cheesecake: There are 0 directories and 75 files\n",
            "101_food_classes_10_percent/train/spaghetti_carbonara: There are 0 directories and 75 files\n",
            "101_food_classes_10_percent/train/chicken_wings: There are 0 directories and 75 files\n"
          ]
        }
      ]
    },
    {
      "cell_type": "markdown",
      "source": [
        "Let's use the `image_dataset_from_directory()` function to turn our images and labels into a `tf.data.Dataset`, a TensorFlow datatype which allows for us to pass it directory to our model.\n",
        "\n",
        "For the test dataset, we're going to set `shuffle=False` so we can perform repeatable evaluation and visualization on it later."
      ],
      "metadata": {
        "id": "c_7irFWbJ5Di"
      }
    },
    {
      "cell_type": "code",
      "source": [
        "# Setup data inputs\n",
        "import tensorflow as tf\n",
        "IMG_SIZE = (224,224)\n",
        "\n",
        "train_data = tf.keras.preprocessing.image_dataset_from_directory(train_dir,\n",
        "                                                                label_mode=\"categorical\",\n",
        "                                                                image_size=IMG_SIZE)\n",
        "\n",
        "test_data = tf.keras.preprocessing.image_dataset_from_directory(test_dir,\n",
        "                                                                label_mode=\"categorical\",\n",
        "                                                                image_size=IMG_SIZE,\n",
        "                                                                shuffle=False)"
      ],
      "metadata": {
        "colab": {
          "base_uri": "https://localhost:8080/"
        },
        "id": "U-_Yu0kVJy1D",
        "outputId": "9ca0ceb2-9e6e-4dac-de43-5f8f66dc6b2d"
      },
      "execution_count": 8,
      "outputs": [
        {
          "output_type": "stream",
          "name": "stdout",
          "text": [
            "Found 7575 files belonging to 101 classes.\n",
            "Found 25250 files belonging to 101 classes.\n"
          ]
        }
      ]
    },
    {
      "cell_type": "markdown",
      "source": [
        "## Train a big dog model with transfer learning on 10% of 101 food classes\n",
        "\n",
        "Our food image data has been imported into TensorFlow, time to model it.\n",
        "\n",
        "To keep our experiments swift, we're going to start by using feature extraction transfer learning with a pre-trained model for a few epochs and then fine-tune for a few more epochs.\n",
        "\n",
        "More specifically, our goal will be to see if we can beeat the baseline from original **Food101 paper** (50.76% accuracy on 101 classes) with 10% of the training data and the following modelling setup:\n",
        "\n",
        "- A `ModelCheckpoint` callback to save our progress during training, this means we could experiment with further training later without having to train from scratch every time.\n",
        "- Data augmentation built right into the model\n",
        "- A headless (no top layers) `EfficientNetB0` architecture from `\n",
        "tf.keras.applications` as our base model.\n",
        "- A `Dense` layer with 101 hidden neurons (same as number of food classes) and softmax activation as the output layer.\n",
        "- Categorical crossentropy as the loss function since we're dealing with more than two classes.\n",
        "- The Adam optimizer with the default settings.\n",
        "- Fitting for 5 full passes on the training data while evaluating on 15% of the test data.\n",
        "\n",
        "It seems like a lot but these are all things we've covered before in the **Transfer Learning in TensorFlow Part 2: Fine-tuning notebook**.\n",
        "\n",
        "Let's start by creating the `ModelCheckpoint` callback."
      ],
      "metadata": {
        "id": "rBzNa4JaCHfi"
      }
    },
    {
      "cell_type": "code",
      "source": [
        "# Create a ModelCheckpoint callback\n",
        "checkpoint_path = \"101_classes_10_percent_data_model_checkpoint\"\n",
        "\n",
        "checkpoint_callback = tf.keras.callbacks.ModelCheckpoint(checkpoint_path,\n",
        "                                                         save_weights_only=True,\n",
        "                                                         monitor='val_accuracy',\n",
        "                                                         save_best_only=True)"
      ],
      "metadata": {
        "id": "eutpFHM2KzOF"
      },
      "execution_count": 9,
      "outputs": []
    },
    {
      "cell_type": "code",
      "source": [
        "# Create a data augmentation layer\n",
        "from tensorflow.keras import layers\n",
        "from tensorflow.keras.layers.experimental import preprocessing\n",
        "from tensorflow.keras.models import Sequential\n",
        "\n",
        "# Setup data augmentation\n",
        "data_augmentation = Sequential([\n",
        "    preprocessing.RandomFlip(\"horizontal\"),\n",
        "    preprocessing.RandomHeight(0.2),\n",
        "    preprocessing.RandomWidth(0.2),\n",
        "    preprocessing.RandomRotation(0.2),\n",
        "    preprocessing.RandomZoom(0.2),\n",
        "    # preprocessing.Rescaling(1/255.) # rescale inputs of images to between 0 and 1 (not need for EfficientNet models)\n",
        "], name=\"data_augmentation_layer\")"
      ],
      "metadata": {
        "id": "07FTtPLPFZ88"
      },
      "execution_count": 17,
      "outputs": []
    },
    {
      "cell_type": "code",
      "source": [],
      "metadata": {
        "id": "BZdsnNniF_e8"
      },
      "execution_count": null,
      "outputs": []
    }
  ]
}