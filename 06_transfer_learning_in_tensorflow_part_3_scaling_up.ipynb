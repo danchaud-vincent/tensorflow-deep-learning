{
  "nbformat": 4,
  "nbformat_minor": 0,
  "metadata": {
    "colab": {
      "provenance": [],
      "collapsed_sections": [],
      "mount_file_id": "1z7H9ut5XfZ7en67WCB6auGmif60Ckzsq",
      "authorship_tag": "ABX9TyMCDLmO0VRLYTT8VoKRi3mx",
      "include_colab_link": true
    },
    "kernelspec": {
      "name": "python3",
      "display_name": "Python 3"
    },
    "language_info": {
      "name": "python"
    },
    "accelerator": "GPU"
  },
  "cells": [
    {
      "cell_type": "markdown",
      "metadata": {
        "id": "view-in-github",
        "colab_type": "text"
      },
      "source": [
        "<a href=\"https://colab.research.google.com/github/danchaud-vincent/tensorflow-deep-learning/blob/main/06_transfer_learning_in_tensorflow_part_3_scaling_up.ipynb\" target=\"_parent\"><img src=\"https://colab.research.google.com/assets/colab-badge.svg\" alt=\"Open In Colab\"/></a>"
      ]
    },
    {
      "cell_type": "markdown",
      "source": [
        "# 06 - Transfer Learning with TensorFlow Part 3: Scaling up (Food Vision mini)\n",
        "\n",
        "In the previous two notebooks (**transfer learning part 1: feature extraction** and **part 2: fine-tuning**) we've seen the power of transfer learning.\n",
        "\n",
        "Now we know our smaller modelling experiments are working, it's time to step things up a notch with more data.\n",
        "\n",
        "This is a common practice in machine learning and deep learning: get a model working on a small amount of data before scaling it up to a larger amount of data.\n",
        "\n",
        "It's time to get closer to our Food Vision project coming to life. In this notebook we're going to scale up from  using 10 classes of the Food101 data to using all of the classes in the Food101 dataset.\n",
        "\n",
        "Our goal is to **beat the original Food101 paper's results with 10% of data**.\n",
        "\n",
        "![](https://raw.githubusercontent.com/danchaud-vincent/tensorflow-deep-learning/main/images/06-ml-serial-experimentation.png)\n",
        "***Machine learning practitioners are serial experimenters. Start small, get a model working, see if yout experiments work then gradually scale them up to where you want to go (we're going to be looking at scaling up throughout this notebook).*\n",
        "\n",
        "## What we're going to cover\n",
        "\n",
        "We're going to go through the follow with TensorFlow:\n",
        "- Downloading and preparing 10% of the Food101 data (10% of training data).\n",
        "- Training a feature extraction transfer learning model on 10% of the Food101 training data.\n",
        "- Fine-tuning our feature extraction model.\n",
        "- Saving and loaded our trained model.\n",
        "- Evaluating the performance of our Food Vision model trained on 10% of the training data\n",
        "  - Finding our model's most wrong predictions\n",
        "- Making predictions with our Food Vision model on custom images of food."
      ],
      "metadata": {
        "id": "Grz5DaDiActN"
      }
    },
    {
      "cell_type": "code",
      "execution_count": 14,
      "metadata": {
        "colab": {
          "base_uri": "https://localhost:8080/"
        },
        "id": "K4T24nPlAZpD",
        "outputId": "17c3ced7-e830-44d0-cd76-0d11e1d93e10"
      },
      "outputs": [
        {
          "output_type": "stream",
          "name": "stdout",
          "text": [
            "Tue Oct 18 17:56:53 2022       \n",
            "+-----------------------------------------------------------------------------+\n",
            "| NVIDIA-SMI 460.32.03    Driver Version: 460.32.03    CUDA Version: 11.2     |\n",
            "|-------------------------------+----------------------+----------------------+\n",
            "| GPU  Name        Persistence-M| Bus-Id        Disp.A | Volatile Uncorr. ECC |\n",
            "| Fan  Temp  Perf  Pwr:Usage/Cap|         Memory-Usage | GPU-Util  Compute M. |\n",
            "|                               |                      |               MIG M. |\n",
            "|===============================+======================+======================|\n",
            "|   0  Tesla T4            Off  | 00000000:00:04.0 Off |                    0 |\n",
            "| N/A   44C    P0    27W /  70W |    342MiB / 15109MiB |      0%      Default |\n",
            "|                               |                      |                  N/A |\n",
            "+-------------------------------+----------------------+----------------------+\n",
            "                                                                               \n",
            "+-----------------------------------------------------------------------------+\n",
            "| Processes:                                                                  |\n",
            "|  GPU   GI   CI        PID   Type   Process name                  GPU Memory |\n",
            "|        ID   ID                                                   Usage      |\n",
            "|=============================================================================|\n",
            "+-----------------------------------------------------------------------------+\n"
          ]
        }
      ],
      "source": [
        "# Are we using a GPU?\n",
        "!nvidia-smi"
      ]
    },
    {
      "cell_type": "markdown",
      "source": [
        "## Creating Helper Functions\n",
        "\n",
        "\n",
        "We've created a series of helper functions throughout the previous notebooks. Instead of rewriting them (tedious), we'll import the `helper_functions.py` file from the Github repo.\n"
      ],
      "metadata": {
        "id": "56h8Aj7IFKwB"
      }
    },
    {
      "cell_type": "code",
      "source": [
        "# Get helper functions file\n",
        "!wget https://raw.githubusercontent.com/danchaud-vincent/tensorflow-deep-learning/main/utils/helper_functions.py"
      ],
      "metadata": {
        "colab": {
          "base_uri": "https://localhost:8080/"
        },
        "id": "B3haQ2AnFDfF",
        "outputId": "e096166f-48e9-4754-84d6-af1b17feeba6"
      },
      "execution_count": 15,
      "outputs": [
        {
          "output_type": "stream",
          "name": "stdout",
          "text": [
            "--2022-10-18 17:56:53--  https://raw.githubusercontent.com/danchaud-vincent/tensorflow-deep-learning/main/utils/helper_functions.py\n",
            "Resolving raw.githubusercontent.com (raw.githubusercontent.com)... 185.199.109.133, 185.199.108.133, 185.199.110.133, ...\n",
            "Connecting to raw.githubusercontent.com (raw.githubusercontent.com)|185.199.109.133|:443... connected.\n",
            "HTTP request sent, awaiting response... 200 OK\n",
            "Length: 4405 (4.3K) [text/plain]\n",
            "Saving to: ‘helper_functions.py.1’\n",
            "\n",
            "\rhelper_functions.py   0%[                    ]       0  --.-KB/s               \rhelper_functions.py 100%[===================>]   4.30K  --.-KB/s    in 0s      \n",
            "\n",
            "2022-10-18 17:56:53 (49.1 MB/s) - ‘helper_functions.py.1’ saved [4405/4405]\n",
            "\n"
          ]
        }
      ]
    },
    {
      "cell_type": "code",
      "source": [
        "# Import series of helper function for the notebook\n",
        "from helper_functions import plot_loss_curves, unzip_data, compare_historys, walk_through_dir, create_tensorboard_callback"
      ],
      "metadata": {
        "id": "QkXAhaIXFmME"
      },
      "execution_count": 16,
      "outputs": []
    },
    {
      "cell_type": "markdown",
      "source": [
        "## 101 Food Classes: Working with less data\n",
        "\n",
        "So far we've confirmed the transfer learning model's we've been using work pretty well with the 10 Food Classes dataset. Now it's time to step it up and see how they go with the full 101 Food Classes.\n",
        "\n",
        "In the original Food101 dataset there's 1000 images per class (750 of each class in the training set and 250 of each class in the test set), totalling 101,000 images.\n",
        "\n",
        "We could start modelling straight away on this large dataset but in the spirit of continually experimenting, we're going to see how our previously working model's go with 10% of the training data.\n",
        "\n",
        "This means for each of the 101 food classes we'll be building a model on 75 training images and evaluating it on 250 test images."
      ],
      "metadata": {
        "id": "6Z1seV0ZGCT4"
      }
    },
    {
      "cell_type": "markdown",
      "source": [
        "## Downloading and preprocessing the data\n",
        "\n",
        "Just as before we'll download a subset of the Food101 dataset which has been extracted from the original dataset (to see the preprocessing of the data check out the [ Food Vision preprocessing notebook](https://github.com/mrdbourke/tensorflow-deep-learning/blob/main/extras/image_data_modification.ipynb).\n",
        "\n",
        "We download the data as a zip file so we'll use our unzip_data() function to unzip it."
      ],
      "metadata": {
        "id": "2-EKe9i5H1tw"
      }
    },
    {
      "cell_type": "code",
      "source": [
        "# Download the data\n",
        "!wget https://storage.googleapis.com/ztm_tf_course/food_vision/101_food_classes_10_percent.zip"
      ],
      "metadata": {
        "id": "oiC27lYzF-K5",
        "colab": {
          "base_uri": "https://localhost:8080/"
        },
        "outputId": "20a8d42b-c643-4ea5-a2dc-2829f5c79d64"
      },
      "execution_count": 17,
      "outputs": [
        {
          "output_type": "stream",
          "name": "stdout",
          "text": [
            "--2022-10-18 17:56:53--  https://storage.googleapis.com/ztm_tf_course/food_vision/101_food_classes_10_percent.zip\n",
            "Resolving storage.googleapis.com (storage.googleapis.com)... 74.125.70.128, 74.125.132.128, 74.125.202.128, ...\n",
            "Connecting to storage.googleapis.com (storage.googleapis.com)|74.125.70.128|:443... connected.\n",
            "HTTP request sent, awaiting response... 200 OK\n",
            "Length: 1625420029 (1.5G) [application/zip]\n",
            "Saving to: ‘101_food_classes_10_percent.zip.1’\n",
            "\n",
            "101_food_classes_10 100%[===================>]   1.51G  79.6MB/s    in 11s     \n",
            "\n",
            "2022-10-18 17:57:05 (137 MB/s) - ‘101_food_classes_10_percent.zip.1’ saved [1625420029/1625420029]\n",
            "\n"
          ]
        }
      ]
    },
    {
      "cell_type": "code",
      "source": [
        "# unzip the data\n",
        "unzip_data(\"101_food_classes_10_percent.zip\")"
      ],
      "metadata": {
        "id": "DBa3H8HVJcWt"
      },
      "execution_count": 18,
      "outputs": []
    },
    {
      "cell_type": "code",
      "source": [
        "# train and test directories\n",
        "train_dir = \"101_food_classes_10_percent/train/\"\n",
        "test_dir = \"101_food_classes_10_percent/test/\""
      ],
      "metadata": {
        "id": "H_02ZahNJjea"
      },
      "execution_count": 19,
      "outputs": []
    },
    {
      "cell_type": "code",
      "source": [
        "# Walk through our dir\n",
        "walk_through_dir(\"101_food_classes_10_percent\")"
      ],
      "metadata": {
        "colab": {
          "base_uri": "https://localhost:8080/"
        },
        "id": "s0v3GA_yJrBG",
        "outputId": "7919453f-6d7f-4f95-863a-dc70beb329aa"
      },
      "execution_count": 20,
      "outputs": [
        {
          "output_type": "stream",
          "name": "stdout",
          "text": [
            "101_food_classes_10_percent: There are 2 directories and 0 files\n",
            "101_food_classes_10_percent/train: There are 101 directories and 0 files\n",
            "101_food_classes_10_percent/train/gyoza: There are 0 directories and 75 files\n",
            "101_food_classes_10_percent/train/cup_cakes: There are 0 directories and 75 files\n",
            "101_food_classes_10_percent/train/sashimi: There are 0 directories and 75 files\n",
            "101_food_classes_10_percent/train/waffles: There are 0 directories and 75 files\n",
            "101_food_classes_10_percent/train/french_toast: There are 0 directories and 75 files\n",
            "101_food_classes_10_percent/train/pho: There are 0 directories and 75 files\n",
            "101_food_classes_10_percent/train/hot_and_sour_soup: There are 0 directories and 75 files\n",
            "101_food_classes_10_percent/train/ramen: There are 0 directories and 75 files\n",
            "101_food_classes_10_percent/train/hot_dog: There are 0 directories and 75 files\n",
            "101_food_classes_10_percent/train/baby_back_ribs: There are 0 directories and 75 files\n",
            "101_food_classes_10_percent/train/bruschetta: There are 0 directories and 75 files\n",
            "101_food_classes_10_percent/train/ravioli: There are 0 directories and 75 files\n",
            "101_food_classes_10_percent/train/chicken_quesadilla: There are 0 directories and 75 files\n",
            "101_food_classes_10_percent/train/oysters: There are 0 directories and 75 files\n",
            "101_food_classes_10_percent/train/clam_chowder: There are 0 directories and 75 files\n",
            "101_food_classes_10_percent/train/chocolate_cake: There are 0 directories and 75 files\n",
            "101_food_classes_10_percent/train/hamburger: There are 0 directories and 75 files\n",
            "101_food_classes_10_percent/train/carrot_cake: There are 0 directories and 75 files\n",
            "101_food_classes_10_percent/train/onion_rings: There are 0 directories and 75 files\n",
            "101_food_classes_10_percent/train/seaweed_salad: There are 0 directories and 75 files\n",
            "101_food_classes_10_percent/train/tiramisu: There are 0 directories and 75 files\n",
            "101_food_classes_10_percent/train/croque_madame: There are 0 directories and 75 files\n",
            "101_food_classes_10_percent/train/risotto: There are 0 directories and 75 files\n",
            "101_food_classes_10_percent/train/grilled_cheese_sandwich: There are 0 directories and 75 files\n",
            "101_food_classes_10_percent/train/club_sandwich: There are 0 directories and 75 files\n",
            "101_food_classes_10_percent/train/caesar_salad: There are 0 directories and 75 files\n",
            "101_food_classes_10_percent/train/bibimbap: There are 0 directories and 75 files\n",
            "101_food_classes_10_percent/train/red_velvet_cake: There are 0 directories and 75 files\n",
            "101_food_classes_10_percent/train/grilled_salmon: There are 0 directories and 75 files\n",
            "101_food_classes_10_percent/train/hummus: There are 0 directories and 75 files\n",
            "101_food_classes_10_percent/train/samosa: There are 0 directories and 75 files\n",
            "101_food_classes_10_percent/train/shrimp_and_grits: There are 0 directories and 75 files\n",
            "101_food_classes_10_percent/train/cannoli: There are 0 directories and 75 files\n",
            "101_food_classes_10_percent/train/deviled_eggs: There are 0 directories and 75 files\n",
            "101_food_classes_10_percent/train/mussels: There are 0 directories and 75 files\n",
            "101_food_classes_10_percent/train/panna_cotta: There are 0 directories and 75 files\n",
            "101_food_classes_10_percent/train/pad_thai: There are 0 directories and 75 files\n",
            "101_food_classes_10_percent/train/ice_cream: There are 0 directories and 75 files\n",
            "101_food_classes_10_percent/train/strawberry_shortcake: There are 0 directories and 75 files\n",
            "101_food_classes_10_percent/train/macarons: There are 0 directories and 75 files\n",
            "101_food_classes_10_percent/train/steak: There are 0 directories and 75 files\n",
            "101_food_classes_10_percent/train/bread_pudding: There are 0 directories and 75 files\n",
            "101_food_classes_10_percent/train/garlic_bread: There are 0 directories and 75 files\n",
            "101_food_classes_10_percent/train/beef_tartare: There are 0 directories and 75 files\n",
            "101_food_classes_10_percent/train/huevos_rancheros: There are 0 directories and 75 files\n",
            "101_food_classes_10_percent/train/crab_cakes: There are 0 directories and 75 files\n",
            "101_food_classes_10_percent/train/falafel: There are 0 directories and 75 files\n",
            "101_food_classes_10_percent/train/prime_rib: There are 0 directories and 75 files\n",
            "101_food_classes_10_percent/train/pizza: There are 0 directories and 75 files\n",
            "101_food_classes_10_percent/train/foie_gras: There are 0 directories and 75 files\n",
            "101_food_classes_10_percent/train/nachos: There are 0 directories and 75 files\n",
            "101_food_classes_10_percent/train/tuna_tartare: There are 0 directories and 75 files\n",
            "101_food_classes_10_percent/train/spaghetti_carbonara: There are 0 directories and 75 files\n",
            "101_food_classes_10_percent/train/fried_calamari: There are 0 directories and 75 files\n",
            "101_food_classes_10_percent/train/beet_salad: There are 0 directories and 75 files\n",
            "101_food_classes_10_percent/train/french_fries: There are 0 directories and 75 files\n",
            "101_food_classes_10_percent/train/churros: There are 0 directories and 75 files\n",
            "101_food_classes_10_percent/train/guacamole: There are 0 directories and 75 files\n",
            "101_food_classes_10_percent/train/tacos: There are 0 directories and 75 files\n",
            "101_food_classes_10_percent/train/paella: There are 0 directories and 75 files\n",
            "101_food_classes_10_percent/train/eggs_benedict: There are 0 directories and 75 files\n",
            "101_food_classes_10_percent/train/baklava: There are 0 directories and 75 files\n",
            "101_food_classes_10_percent/train/caprese_salad: There are 0 directories and 75 files\n",
            "101_food_classes_10_percent/train/beef_carpaccio: There are 0 directories and 75 files\n",
            "101_food_classes_10_percent/train/fish_and_chips: There are 0 directories and 75 files\n",
            "101_food_classes_10_percent/train/dumplings: There are 0 directories and 75 files\n",
            "101_food_classes_10_percent/train/french_onion_soup: There are 0 directories and 75 files\n",
            "101_food_classes_10_percent/train/peking_duck: There are 0 directories and 75 files\n",
            "101_food_classes_10_percent/train/spring_rolls: There are 0 directories and 75 files\n",
            "101_food_classes_10_percent/train/cheesecake: There are 0 directories and 75 files\n",
            "101_food_classes_10_percent/train/takoyaki: There are 0 directories and 75 files\n",
            "101_food_classes_10_percent/train/frozen_yogurt: There are 0 directories and 75 files\n",
            "101_food_classes_10_percent/train/escargots: There are 0 directories and 75 files\n",
            "101_food_classes_10_percent/train/fried_rice: There are 0 directories and 75 files\n",
            "101_food_classes_10_percent/train/chocolate_mousse: There are 0 directories and 75 files\n",
            "101_food_classes_10_percent/train/poutine: There are 0 directories and 75 files\n",
            "101_food_classes_10_percent/train/chicken_curry: There are 0 directories and 75 files\n",
            "101_food_classes_10_percent/train/pork_chop: There are 0 directories and 75 files\n",
            "101_food_classes_10_percent/train/apple_pie: There are 0 directories and 75 files\n",
            "101_food_classes_10_percent/train/breakfast_burrito: There are 0 directories and 75 files\n",
            "101_food_classes_10_percent/train/beignets: There are 0 directories and 75 files\n",
            "101_food_classes_10_percent/train/scallops: There are 0 directories and 75 files\n",
            "101_food_classes_10_percent/train/pancakes: There are 0 directories and 75 files\n",
            "101_food_classes_10_percent/train/pulled_pork_sandwich: There are 0 directories and 75 files\n",
            "101_food_classes_10_percent/train/sushi: There are 0 directories and 75 files\n",
            "101_food_classes_10_percent/train/lobster_roll_sandwich: There are 0 directories and 75 files\n",
            "101_food_classes_10_percent/train/greek_salad: There are 0 directories and 75 files\n",
            "101_food_classes_10_percent/train/chicken_wings: There are 0 directories and 75 files\n",
            "101_food_classes_10_percent/train/spaghetti_bolognese: There are 0 directories and 75 files\n",
            "101_food_classes_10_percent/train/ceviche: There are 0 directories and 75 files\n",
            "101_food_classes_10_percent/train/omelette: There are 0 directories and 75 files\n",
            "101_food_classes_10_percent/train/donuts: There are 0 directories and 75 files\n",
            "101_food_classes_10_percent/train/macaroni_and_cheese: There are 0 directories and 75 files\n",
            "101_food_classes_10_percent/train/miso_soup: There are 0 directories and 75 files\n",
            "101_food_classes_10_percent/train/edamame: There are 0 directories and 75 files\n",
            "101_food_classes_10_percent/train/cheese_plate: There are 0 directories and 75 files\n",
            "101_food_classes_10_percent/train/gnocchi: There are 0 directories and 75 files\n",
            "101_food_classes_10_percent/train/lasagna: There are 0 directories and 75 files\n",
            "101_food_classes_10_percent/train/lobster_bisque: There are 0 directories and 75 files\n",
            "101_food_classes_10_percent/train/creme_brulee: There are 0 directories and 75 files\n",
            "101_food_classes_10_percent/train/filet_mignon: There are 0 directories and 75 files\n",
            "101_food_classes_10_percent/test: There are 101 directories and 0 files\n",
            "101_food_classes_10_percent/test/gyoza: There are 0 directories and 250 files\n",
            "101_food_classes_10_percent/test/cup_cakes: There are 0 directories and 250 files\n",
            "101_food_classes_10_percent/test/sashimi: There are 0 directories and 250 files\n",
            "101_food_classes_10_percent/test/waffles: There are 0 directories and 250 files\n",
            "101_food_classes_10_percent/test/french_toast: There are 0 directories and 250 files\n",
            "101_food_classes_10_percent/test/pho: There are 0 directories and 250 files\n",
            "101_food_classes_10_percent/test/hot_and_sour_soup: There are 0 directories and 250 files\n",
            "101_food_classes_10_percent/test/ramen: There are 0 directories and 250 files\n",
            "101_food_classes_10_percent/test/hot_dog: There are 0 directories and 250 files\n",
            "101_food_classes_10_percent/test/baby_back_ribs: There are 0 directories and 250 files\n",
            "101_food_classes_10_percent/test/bruschetta: There are 0 directories and 250 files\n",
            "101_food_classes_10_percent/test/ravioli: There are 0 directories and 250 files\n",
            "101_food_classes_10_percent/test/chicken_quesadilla: There are 0 directories and 250 files\n",
            "101_food_classes_10_percent/test/oysters: There are 0 directories and 250 files\n",
            "101_food_classes_10_percent/test/clam_chowder: There are 0 directories and 250 files\n",
            "101_food_classes_10_percent/test/chocolate_cake: There are 0 directories and 250 files\n",
            "101_food_classes_10_percent/test/hamburger: There are 0 directories and 250 files\n",
            "101_food_classes_10_percent/test/carrot_cake: There are 0 directories and 250 files\n",
            "101_food_classes_10_percent/test/onion_rings: There are 0 directories and 250 files\n",
            "101_food_classes_10_percent/test/seaweed_salad: There are 0 directories and 250 files\n",
            "101_food_classes_10_percent/test/tiramisu: There are 0 directories and 250 files\n",
            "101_food_classes_10_percent/test/croque_madame: There are 0 directories and 250 files\n",
            "101_food_classes_10_percent/test/risotto: There are 0 directories and 250 files\n",
            "101_food_classes_10_percent/test/grilled_cheese_sandwich: There are 0 directories and 250 files\n",
            "101_food_classes_10_percent/test/club_sandwich: There are 0 directories and 250 files\n",
            "101_food_classes_10_percent/test/caesar_salad: There are 0 directories and 250 files\n",
            "101_food_classes_10_percent/test/bibimbap: There are 0 directories and 250 files\n",
            "101_food_classes_10_percent/test/red_velvet_cake: There are 0 directories and 250 files\n",
            "101_food_classes_10_percent/test/grilled_salmon: There are 0 directories and 250 files\n",
            "101_food_classes_10_percent/test/hummus: There are 0 directories and 250 files\n",
            "101_food_classes_10_percent/test/samosa: There are 0 directories and 250 files\n",
            "101_food_classes_10_percent/test/shrimp_and_grits: There are 0 directories and 250 files\n",
            "101_food_classes_10_percent/test/cannoli: There are 0 directories and 250 files\n",
            "101_food_classes_10_percent/test/deviled_eggs: There are 0 directories and 250 files\n",
            "101_food_classes_10_percent/test/mussels: There are 0 directories and 250 files\n",
            "101_food_classes_10_percent/test/panna_cotta: There are 0 directories and 250 files\n",
            "101_food_classes_10_percent/test/pad_thai: There are 0 directories and 250 files\n",
            "101_food_classes_10_percent/test/ice_cream: There are 0 directories and 250 files\n",
            "101_food_classes_10_percent/test/strawberry_shortcake: There are 0 directories and 250 files\n",
            "101_food_classes_10_percent/test/macarons: There are 0 directories and 250 files\n",
            "101_food_classes_10_percent/test/steak: There are 0 directories and 250 files\n",
            "101_food_classes_10_percent/test/bread_pudding: There are 0 directories and 250 files\n",
            "101_food_classes_10_percent/test/garlic_bread: There are 0 directories and 250 files\n",
            "101_food_classes_10_percent/test/beef_tartare: There are 0 directories and 250 files\n",
            "101_food_classes_10_percent/test/huevos_rancheros: There are 0 directories and 250 files\n",
            "101_food_classes_10_percent/test/crab_cakes: There are 0 directories and 250 files\n",
            "101_food_classes_10_percent/test/falafel: There are 0 directories and 250 files\n",
            "101_food_classes_10_percent/test/prime_rib: There are 0 directories and 250 files\n",
            "101_food_classes_10_percent/test/pizza: There are 0 directories and 250 files\n",
            "101_food_classes_10_percent/test/foie_gras: There are 0 directories and 250 files\n",
            "101_food_classes_10_percent/test/nachos: There are 0 directories and 250 files\n",
            "101_food_classes_10_percent/test/tuna_tartare: There are 0 directories and 250 files\n",
            "101_food_classes_10_percent/test/spaghetti_carbonara: There are 0 directories and 250 files\n",
            "101_food_classes_10_percent/test/fried_calamari: There are 0 directories and 250 files\n",
            "101_food_classes_10_percent/test/beet_salad: There are 0 directories and 250 files\n",
            "101_food_classes_10_percent/test/french_fries: There are 0 directories and 250 files\n",
            "101_food_classes_10_percent/test/churros: There are 0 directories and 250 files\n",
            "101_food_classes_10_percent/test/guacamole: There are 0 directories and 250 files\n",
            "101_food_classes_10_percent/test/tacos: There are 0 directories and 250 files\n",
            "101_food_classes_10_percent/test/paella: There are 0 directories and 250 files\n",
            "101_food_classes_10_percent/test/eggs_benedict: There are 0 directories and 250 files\n",
            "101_food_classes_10_percent/test/baklava: There are 0 directories and 250 files\n",
            "101_food_classes_10_percent/test/caprese_salad: There are 0 directories and 250 files\n",
            "101_food_classes_10_percent/test/beef_carpaccio: There are 0 directories and 250 files\n",
            "101_food_classes_10_percent/test/fish_and_chips: There are 0 directories and 250 files\n",
            "101_food_classes_10_percent/test/dumplings: There are 0 directories and 250 files\n",
            "101_food_classes_10_percent/test/french_onion_soup: There are 0 directories and 250 files\n",
            "101_food_classes_10_percent/test/peking_duck: There are 0 directories and 250 files\n",
            "101_food_classes_10_percent/test/spring_rolls: There are 0 directories and 250 files\n",
            "101_food_classes_10_percent/test/cheesecake: There are 0 directories and 250 files\n",
            "101_food_classes_10_percent/test/takoyaki: There are 0 directories and 250 files\n",
            "101_food_classes_10_percent/test/frozen_yogurt: There are 0 directories and 250 files\n",
            "101_food_classes_10_percent/test/escargots: There are 0 directories and 250 files\n",
            "101_food_classes_10_percent/test/fried_rice: There are 0 directories and 250 files\n",
            "101_food_classes_10_percent/test/chocolate_mousse: There are 0 directories and 250 files\n",
            "101_food_classes_10_percent/test/poutine: There are 0 directories and 250 files\n",
            "101_food_classes_10_percent/test/chicken_curry: There are 0 directories and 250 files\n",
            "101_food_classes_10_percent/test/pork_chop: There are 0 directories and 250 files\n",
            "101_food_classes_10_percent/test/apple_pie: There are 0 directories and 250 files\n",
            "101_food_classes_10_percent/test/breakfast_burrito: There are 0 directories and 250 files\n",
            "101_food_classes_10_percent/test/beignets: There are 0 directories and 250 files\n",
            "101_food_classes_10_percent/test/scallops: There are 0 directories and 250 files\n",
            "101_food_classes_10_percent/test/pancakes: There are 0 directories and 250 files\n",
            "101_food_classes_10_percent/test/pulled_pork_sandwich: There are 0 directories and 250 files\n",
            "101_food_classes_10_percent/test/sushi: There are 0 directories and 250 files\n",
            "101_food_classes_10_percent/test/lobster_roll_sandwich: There are 0 directories and 250 files\n",
            "101_food_classes_10_percent/test/greek_salad: There are 0 directories and 250 files\n",
            "101_food_classes_10_percent/test/chicken_wings: There are 0 directories and 250 files\n",
            "101_food_classes_10_percent/test/spaghetti_bolognese: There are 0 directories and 250 files\n",
            "101_food_classes_10_percent/test/ceviche: There are 0 directories and 250 files\n",
            "101_food_classes_10_percent/test/omelette: There are 0 directories and 250 files\n",
            "101_food_classes_10_percent/test/donuts: There are 0 directories and 250 files\n",
            "101_food_classes_10_percent/test/macaroni_and_cheese: There are 0 directories and 250 files\n",
            "101_food_classes_10_percent/test/miso_soup: There are 0 directories and 250 files\n",
            "101_food_classes_10_percent/test/edamame: There are 0 directories and 250 files\n",
            "101_food_classes_10_percent/test/cheese_plate: There are 0 directories and 250 files\n",
            "101_food_classes_10_percent/test/gnocchi: There are 0 directories and 250 files\n",
            "101_food_classes_10_percent/test/lasagna: There are 0 directories and 250 files\n",
            "101_food_classes_10_percent/test/lobster_bisque: There are 0 directories and 250 files\n",
            "101_food_classes_10_percent/test/creme_brulee: There are 0 directories and 250 files\n",
            "101_food_classes_10_percent/test/filet_mignon: There are 0 directories and 250 files\n"
          ]
        }
      ]
    },
    {
      "cell_type": "markdown",
      "source": [
        "Let's use the `image_dataset_from_directory()` function to turn our images and labels into a `tf.data.Dataset`, a TensorFlow datatype which allows for us to pass it directory to our model.\n",
        "\n",
        "For the test dataset, we're going to set `shuffle=False` so we can perform repeatable evaluation and visualization on it later."
      ],
      "metadata": {
        "id": "c_7irFWbJ5Di"
      }
    },
    {
      "cell_type": "code",
      "source": [
        "# Setup data inputs\n",
        "import tensorflow as tf\n",
        "IMG_SIZE = (224,224)\n",
        "\n",
        "train_data = tf.keras.preprocessing.image_dataset_from_directory(train_dir,\n",
        "                                                                label_mode=\"categorical\",\n",
        "                                                                image_size=IMG_SIZE)\n",
        "\n",
        "test_data = tf.keras.preprocessing.image_dataset_from_directory(test_dir,\n",
        "                                                                label_mode=\"categorical\",\n",
        "                                                                image_size=IMG_SIZE,\n",
        "                                                                shuffle=False)"
      ],
      "metadata": {
        "colab": {
          "base_uri": "https://localhost:8080/"
        },
        "id": "U-_Yu0kVJy1D",
        "outputId": "733c51c7-ef78-4f51-9cb5-37ac08b29fa8"
      },
      "execution_count": 21,
      "outputs": [
        {
          "output_type": "stream",
          "name": "stdout",
          "text": [
            "Found 7575 files belonging to 101 classes.\n",
            "Found 25250 files belonging to 101 classes.\n"
          ]
        }
      ]
    },
    {
      "cell_type": "markdown",
      "source": [
        "## Train a big dog model with transfer learning on 10% of 101 food classes\n",
        "\n",
        "Our food image data has been imported into TensorFlow, time to model it.\n",
        "\n",
        "To keep our experiments swift, we're going to start by using feature extraction transfer learning with a pre-trained model for a few epochs and then fine-tune for a few more epochs.\n",
        "\n",
        "More specifically, our goal will be to see if we can beeat the baseline from original **Food101 paper** (50.76% accuracy on 101 classes) with 10% of the training data and the following modelling setup:\n",
        "\n",
        "- A `ModelCheckpoint` callback to save our progress during training, this means we could experiment with further training later without having to train from scratch every time.\n",
        "- Data augmentation built right into the model\n",
        "- A headless (no top layers) `EfficientNetB0` architecture from `\n",
        "tf.keras.applications` as our base model.\n",
        "- A `Dense` layer with 101 hidden neurons (same as number of food classes) and softmax activation as the output layer.\n",
        "- Categorical crossentropy as the loss function since we're dealing with more than two classes.\n",
        "- The Adam optimizer with the default settings.\n",
        "- Fitting for 5 full passes on the training data while evaluating on 15% of the test data.\n",
        "\n",
        "It seems like a lot but these are all things we've covered before in the **Transfer Learning in TensorFlow Part 2: Fine-tuning notebook**.\n",
        "\n",
        "Let's start by creating the `ModelCheckpoint` callback."
      ],
      "metadata": {
        "id": "rBzNa4JaCHfi"
      }
    },
    {
      "cell_type": "code",
      "source": [
        "# Create a ModelCheckpoint callback\n",
        "checkpoint_path = \"101_classes_10_percent_data_model_checkpoint\"\n",
        "\n",
        "checkpoint_callback = tf.keras.callbacks.ModelCheckpoint(checkpoint_path,\n",
        "                                                         save_weights_only=True,\n",
        "                                                         monitor='val_accuracy',\n",
        "                                                         save_best_only=True)"
      ],
      "metadata": {
        "id": "eutpFHM2KzOF"
      },
      "execution_count": 22,
      "outputs": []
    },
    {
      "cell_type": "code",
      "source": [
        "# Create a data augmentation layer\n",
        "from tensorflow.keras import layers\n",
        "from tensorflow.keras.layers.experimental import preprocessing\n",
        "from tensorflow.keras.models import Sequential\n",
        "\n",
        "# Setup data augmentation\n",
        "data_augmentation = Sequential([\n",
        "    preprocessing.RandomFlip(\"horizontal\"),\n",
        "    preprocessing.RandomHeight(0.2),\n",
        "    preprocessing.RandomWidth(0.2),\n",
        "    preprocessing.RandomRotation(0.2),\n",
        "    preprocessing.RandomZoom(0.2),\n",
        "    # preprocessing.Rescaling(1/255.) # rescale inputs of images to between 0 and 1 (not need for EfficientNet models)\n",
        "], name=\"data_augmentation_layer\")"
      ],
      "metadata": {
        "id": "07FTtPLPFZ88"
      },
      "execution_count": 23,
      "outputs": []
    },
    {
      "cell_type": "markdown",
      "source": [
        "We'll able to insert the `data_augmentation` Sequential model as a layer in our Functional API model. That way if we want to continue training our model at a later time, the data augmentation is already built right in.\n",
        "\n",
        "Speaking of Functional API model's, time to put together a feature extraction transfer learning model using `tf.keras.applications.EfficientNetB0` as our base model.\n",
        "\n",
        "We'll import the base model using the parameter `include_top=False` so we can add on our own output layers, notably `GlobalAveragePooling2D()` followed by a `Dense` layer."
      ],
      "metadata": {
        "id": "M9Xi0vQoHJYu"
      }
    },
    {
      "cell_type": "code",
      "source": [
        "# Setup base model and freeze its layers (this will extract features)\n",
        "base_model = tf.keras.applications.EfficientNetB0(include_top=False) \n",
        "base_model.trainable = False\n",
        "\n",
        "# Setup model architecture with trainable top layers\n",
        "inputs = layers.Input(shape=(224,224,3), name=\"input_layer\") # shape of input image\n",
        "x = data_augmentation(inputs) # augment images (only happens during training)\n",
        "x = base_model(x, training=False) # put the base model in inference mode so we can use it to extract features without updating the weights\n",
        "x = layers.GlobalAveragePooling2D(name=\"global_average_pooling_layer\")(x)\n",
        "outputs = layers.Dense(len(train_data.class_names), activation=\"softmax\", name=\"output_layer\")(x) # pool the outputs of the base model\n",
        "model = tf.keras.Model(inputs, outputs)"
      ],
      "metadata": {
        "id": "BZdsnNniF_e8"
      },
      "execution_count": 24,
      "outputs": []
    },
    {
      "cell_type": "markdown",
      "source": [
        "![](https://raw.githubusercontent.com/danchaud-vincent/tensorflow-deep-learning/main/images/06-efficientnetb0-feature-extractor-with-dense-layer-on-top.png)"
      ],
      "metadata": {
        "id": "yTcheQJGKn46"
      }
    },
    {
      "cell_type": "code",
      "source": [
        "# summary\n",
        "model.summary()"
      ],
      "metadata": {
        "colab": {
          "base_uri": "https://localhost:8080/"
        },
        "id": "4Yx9hP1-Kk70",
        "outputId": "bf7d2ef7-b736-4339-bd61-009f0163e798"
      },
      "execution_count": 25,
      "outputs": [
        {
          "output_type": "stream",
          "name": "stdout",
          "text": [
            "Model: \"model_1\"\n",
            "_________________________________________________________________\n",
            " Layer (type)                Output Shape              Param #   \n",
            "=================================================================\n",
            " input_layer (InputLayer)    [(None, 224, 224, 3)]     0         \n",
            "                                                                 \n",
            " data_augmentation_layer (Se  (None, 224, 224, 3)      0         \n",
            " quential)                                                       \n",
            "                                                                 \n",
            " efficientnetb0 (Functional)  (None, None, None, 1280)  4049571  \n",
            "                                                                 \n",
            " global_average_pooling_laye  (None, 1280)             0         \n",
            " r (GlobalAveragePooling2D)                                      \n",
            "                                                                 \n",
            " output_layer (Dense)        (None, 101)               129381    \n",
            "                                                                 \n",
            "=================================================================\n",
            "Total params: 4,178,952\n",
            "Trainable params: 129,381\n",
            "Non-trainable params: 4,049,571\n",
            "_________________________________________________________________\n"
          ]
        }
      ]
    },
    {
      "cell_type": "markdown",
      "source": [
        "Our Functional model has 5 layers but each of those layers have varying amounts of layers within them.\n",
        "\n",
        "Notice the number of trainable and non-trainable parameters. It seems the only trainable parameters are within the `output_layer` which is exactly what we're after with this first run of feature extraction; keep all the learned patterns in the base model frozen whilst allowing the model to tune its outputs to our custom data."
      ],
      "metadata": {
        "id": "7knR7YlcLoaI"
      }
    },
    {
      "cell_type": "code",
      "source": [
        "# compile\n",
        "model.compile(loss=tf.keras.losses.CategoricalCrossentropy(),\n",
        "              optimizer=tf.keras.optimizers.Adam(),\n",
        "              metrics=\"accuracy\")\n",
        "\n",
        "# fit the model\n",
        "history_featExtraction_model = model.fit(train_data,\n",
        "                                         epochs=5,\n",
        "                                         steps_per_epoch=len(train_data),\n",
        "                                         validation_data=test_data,\n",
        "                                         validation_steps=int(0.15 * len(test_data)),\n",
        "                                         callbacks=[create_tensorboard_callback(dir_name=\"transfer_learning\", experiment_name=\"feature_extraction_model\"), checkpoint_callback])"
      ],
      "metadata": {
        "colab": {
          "base_uri": "https://localhost:8080/"
        },
        "id": "thWsGO7eLm-g",
        "outputId": "cf43ca8b-3d40-414e-e421-4e55b67a6d2c"
      },
      "execution_count": 26,
      "outputs": [
        {
          "output_type": "stream",
          "name": "stdout",
          "text": [
            "Saving TensorBoard log files to :transfer_learning/feature_extraction_model/2022-10-18_17:57:28\n",
            "Epoch 1/5\n",
            "237/237 [==============================] - 101s 356ms/step - loss: 3.3891 - accuracy: 0.2701 - val_loss: 2.4793 - val_accuracy: 0.4592\n",
            "Epoch 2/5\n",
            "237/237 [==============================] - 69s 286ms/step - loss: 2.2255 - accuracy: 0.4919 - val_loss: 2.0155 - val_accuracy: 0.5212\n",
            "Epoch 3/5\n",
            "237/237 [==============================] - 64s 268ms/step - loss: 1.8604 - accuracy: 0.5585 - val_loss: 1.8543 - val_accuracy: 0.5392\n",
            "Epoch 4/5\n",
            "237/237 [==============================] - 64s 268ms/step - loss: 1.6440 - accuracy: 0.5999 - val_loss: 1.7745 - val_accuracy: 0.5421\n",
            "Epoch 5/5\n",
            "237/237 [==============================] - 61s 255ms/step - loss: 1.4817 - accuracy: 0.6407 - val_loss: 1.7624 - val_accuracy: 0.5418\n"
          ]
        }
      ]
    },
    {
      "cell_type": "code",
      "source": [
        "# Evaluate on the whole test dataset\n",
        "feature_extraction_results = model.evaluate(test_data)"
      ],
      "metadata": {
        "colab": {
          "base_uri": "https://localhost:8080/"
        },
        "id": "Dy_937IwN-wT",
        "outputId": "c9f93c3a-74ac-4c96-9a98-494cfc4132d8"
      },
      "execution_count": 27,
      "outputs": [
        {
          "output_type": "stream",
          "name": "stdout",
          "text": [
            "790/790 [==============================] - 66s 83ms/step - loss: 1.5890 - accuracy: 0.5830\n"
          ]
        }
      ]
    },
    {
      "cell_type": "markdown",
      "source": [
        "Well it looks like we just beat our baseline (the results from the original Food101 paper) with 10% of the data! In under 5-minutes... that's the power of deep learning and more precisely, transfer learning: leveraging what one model has learned on another dataset for our own dataset."
      ],
      "metadata": {
        "id": "nZcj4QJvP1Ft"
      }
    },
    {
      "cell_type": "code",
      "source": [
        "# loss curves\n",
        "plot_loss_curves(history_featExtraction_model)"
      ],
      "metadata": {
        "colab": {
          "base_uri": "https://localhost:8080/",
          "height": 458
        },
        "id": "mfYxC-nrPYlU",
        "outputId": "70b2a982-d281-4322-9c8a-723cd1e5be3a"
      },
      "execution_count": 28,
      "outputs": [
        {
          "output_type": "display_data",
          "data": {
            "text/plain": [
              "<Figure size 864x504 with 2 Axes>"
            ],
            "image/png": "[encoded data removed]"
          },
          "metadata": {
            "needs_background": "light"
          }
        }
      ]
    },
    {
      "cell_type": "markdown",
      "source": [
        "## Fine-tuning\n",
        "\n",
        "Our feature extraction transfer learning model is performing well. Why don't we try to fine-tune a few layers in the base model and see if we gain any improvements?\n",
        "\n",
        "The good news is, thanks to the `ModelCheckpoint` callback, we've got the saved weights of our already well-performing model so if fine-tuning doesn't add any benefits, we can revert back.\n",
        "\n",
        "To fine-tune the base model we'll first set its `trainable` attribute to `True`, unfreezing all of the frozen. \n",
        "\n",
        "Then since we've got a relatively small training dataset, we'll refreeze every layer except for the last 5, making them trainable."
      ],
      "metadata": {
        "id": "qKza9j8tQFHp"
      }
    },
    {
      "cell_type": "code",
      "source": [
        "# Unfreeze all of the layers in the base model\n",
        "base_model.trainable = True\n",
        "\n",
        "# Refreeze\n",
        "for layer in base_model.layers[:-5]:\n",
        "  layer.trainable = False"
      ],
      "metadata": {
        "id": "xDyPInFXP_Sl"
      },
      "execution_count": 29,
      "outputs": []
    },
    {
      "cell_type": "markdown",
      "source": [
        "We just made a change to the layers in our model so we need to recompile it.\n",
        "\n",
        "Because we're fine-tuning, we'll use a 10x lower learning rate to ensure the updates to the previous trained weights aren't too large.\n",
        "\n",
        "![](https://raw.githubusercontent.com/danchaud-vincent/tensorflow-deep-learning/main/images/06-lowering-the-learning-rate.png)"
      ],
      "metadata": {
        "id": "MazBNC5sYbEM"
      }
    },
    {
      "cell_type": "code",
      "source": [
        "# Recompile the model with lower learning rate\n",
        "model.compile(loss=tf.keras.losses.CategoricalCrossentropy(),\n",
        "              optimizer=tf.keras.optimizers.Adam(learning_rate=0.0001),\n",
        "              metrics=[\"accuracy\"])"
      ],
      "metadata": {
        "id": "KG81_GKaXvU7"
      },
      "execution_count": 30,
      "outputs": []
    },
    {
      "cell_type": "code",
      "source": [
        "# What layers in the model are trainable?\n",
        "for i, layer in enumerate(model.layers):\n",
        "  print(i, layer.name, layer.trainable)"
      ],
      "metadata": {
        "colab": {
          "base_uri": "https://localhost:8080/"
        },
        "id": "OqRVsBAYY9AI",
        "outputId": "2c828f2e-de97-4c09-9a69-18afb41697fe"
      },
      "execution_count": 31,
      "outputs": [
        {
          "output_type": "stream",
          "name": "stdout",
          "text": [
            "0 input_layer True\n",
            "1 data_augmentation_layer True\n",
            "2 efficientnetb0 True\n",
            "3 global_average_pooling_layer True\n",
            "4 output_layer True\n"
          ]
        }
      ]
    },
    {
      "cell_type": "code",
      "source": [
        "# Check which layers are trainable in our base model?\n",
        "for i, layer in enumerate(model.layers[2].layers):\n",
        "  print(i, layer.name, layer.trainable)"
      ],
      "metadata": {
        "colab": {
          "base_uri": "https://localhost:8080/"
        },
        "id": "IkLyI_L5Zd9W",
        "outputId": "f29f1701-934e-4894-a753-a3d43ce1e0c7"
      },
      "execution_count": 32,
      "outputs": [
        {
          "output_type": "stream",
          "name": "stdout",
          "text": [
            "0 input_2 False\n",
            "1 rescaling_1 False\n",
            "2 normalization_1 False\n",
            "3 tf.math.truediv_1 False\n",
            "4 stem_conv_pad False\n",
            "5 stem_conv False\n",
            "6 stem_bn False\n",
            "7 stem_activation False\n",
            "8 block1a_dwconv False\n",
            "9 block1a_bn False\n",
            "10 block1a_activation False\n",
            "11 block1a_se_squeeze False\n",
            "12 block1a_se_reshape False\n",
            "13 block1a_se_reduce False\n",
            "14 block1a_se_expand False\n",
            "15 block1a_se_excite False\n",
            "16 block1a_project_conv False\n",
            "17 block1a_project_bn False\n",
            "18 block2a_expand_conv False\n",
            "19 block2a_expand_bn False\n",
            "20 block2a_expand_activation False\n",
            "21 block2a_dwconv_pad False\n",
            "22 block2a_dwconv False\n",
            "23 block2a_bn False\n",
            "24 block2a_activation False\n",
            "25 block2a_se_squeeze False\n",
            "26 block2a_se_reshape False\n",
            "27 block2a_se_reduce False\n",
            "28 block2a_se_expand False\n",
            "29 block2a_se_excite False\n",
            "30 block2a_project_conv False\n",
            "31 block2a_project_bn False\n",
            "32 block2b_expand_conv False\n",
            "33 block2b_expand_bn False\n",
            "34 block2b_expand_activation False\n",
            "35 block2b_dwconv False\n",
            "36 block2b_bn False\n",
            "37 block2b_activation False\n",
            "38 block2b_se_squeeze False\n",
            "39 block2b_se_reshape False\n",
            "40 block2b_se_reduce False\n",
            "41 block2b_se_expand False\n",
            "42 block2b_se_excite False\n",
            "43 block2b_project_conv False\n",
            "44 block2b_project_bn False\n",
            "45 block2b_drop False\n",
            "46 block2b_add False\n",
            "47 block3a_expand_conv False\n",
            "48 block3a_expand_bn False\n",
            "49 block3a_expand_activation False\n",
            "50 block3a_dwconv_pad False\n",
            "51 block3a_dwconv False\n",
            "52 block3a_bn False\n",
            "53 block3a_activation False\n",
            "54 block3a_se_squeeze False\n",
            "55 block3a_se_reshape False\n",
            "56 block3a_se_reduce False\n",
            "57 block3a_se_expand False\n",
            "58 block3a_se_excite False\n",
            "59 block3a_project_conv False\n",
            "60 block3a_project_bn False\n",
            "61 block3b_expand_conv False\n",
            "62 block3b_expand_bn False\n",
            "63 block3b_expand_activation False\n",
            "64 block3b_dwconv False\n",
            "65 block3b_bn False\n",
            "66 block3b_activation False\n",
            "67 block3b_se_squeeze False\n",
            "68 block3b_se_reshape False\n",
            "69 block3b_se_reduce False\n",
            "70 block3b_se_expand False\n",
            "71 block3b_se_excite False\n",
            "72 block3b_project_conv False\n",
            "73 block3b_project_bn False\n",
            "74 block3b_drop False\n",
            "75 block3b_add False\n",
            "76 block4a_expand_conv False\n",
            "77 block4a_expand_bn False\n",
            "78 block4a_expand_activation False\n",
            "79 block4a_dwconv_pad False\n",
            "80 block4a_dwconv False\n",
            "81 block4a_bn False\n",
            "82 block4a_activation False\n",
            "83 block4a_se_squeeze False\n",
            "84 block4a_se_reshape False\n",
            "85 block4a_se_reduce False\n",
            "86 block4a_se_expand False\n",
            "87 block4a_se_excite False\n",
            "88 block4a_project_conv False\n",
            "89 block4a_project_bn False\n",
            "90 block4b_expand_conv False\n",
            "91 block4b_expand_bn False\n",
            "92 block4b_expand_activation False\n",
            "93 block4b_dwconv False\n",
            "94 block4b_bn False\n",
            "95 block4b_activation False\n",
            "96 block4b_se_squeeze False\n",
            "97 block4b_se_reshape False\n",
            "98 block4b_se_reduce False\n",
            "99 block4b_se_expand False\n",
            "100 block4b_se_excite False\n",
            "101 block4b_project_conv False\n",
            "102 block4b_project_bn False\n",
            "103 block4b_drop False\n",
            "104 block4b_add False\n",
            "105 block4c_expand_conv False\n",
            "106 block4c_expand_bn False\n",
            "107 block4c_expand_activation False\n",
            "108 block4c_dwconv False\n",
            "109 block4c_bn False\n",
            "110 block4c_activation False\n",
            "111 block4c_se_squeeze False\n",
            "112 block4c_se_reshape False\n",
            "113 block4c_se_reduce False\n",
            "114 block4c_se_expand False\n",
            "115 block4c_se_excite False\n",
            "116 block4c_project_conv False\n",
            "117 block4c_project_bn False\n",
            "118 block4c_drop False\n",
            "119 block4c_add False\n",
            "120 block5a_expand_conv False\n",
            "121 block5a_expand_bn False\n",
            "122 block5a_expand_activation False\n",
            "123 block5a_dwconv False\n",
            "124 block5a_bn False\n",
            "125 block5a_activation False\n",
            "126 block5a_se_squeeze False\n",
            "127 block5a_se_reshape False\n",
            "128 block5a_se_reduce False\n",
            "129 block5a_se_expand False\n",
            "130 block5a_se_excite False\n",
            "131 block5a_project_conv False\n",
            "132 block5a_project_bn False\n",
            "133 block5b_expand_conv False\n",
            "134 block5b_expand_bn False\n",
            "135 block5b_expand_activation False\n",
            "136 block5b_dwconv False\n",
            "137 block5b_bn False\n",
            "138 block5b_activation False\n",
            "139 block5b_se_squeeze False\n",
            "140 block5b_se_reshape False\n",
            "141 block5b_se_reduce False\n",
            "142 block5b_se_expand False\n",
            "143 block5b_se_excite False\n",
            "144 block5b_project_conv False\n",
            "145 block5b_project_bn False\n",
            "146 block5b_drop False\n",
            "147 block5b_add False\n",
            "148 block5c_expand_conv False\n",
            "149 block5c_expand_bn False\n",
            "150 block5c_expand_activation False\n",
            "151 block5c_dwconv False\n",
            "152 block5c_bn False\n",
            "153 block5c_activation False\n",
            "154 block5c_se_squeeze False\n",
            "155 block5c_se_reshape False\n",
            "156 block5c_se_reduce False\n",
            "157 block5c_se_expand False\n",
            "158 block5c_se_excite False\n",
            "159 block5c_project_conv False\n",
            "160 block5c_project_bn False\n",
            "161 block5c_drop False\n",
            "162 block5c_add False\n",
            "163 block6a_expand_conv False\n",
            "164 block6a_expand_bn False\n",
            "165 block6a_expand_activation False\n",
            "166 block6a_dwconv_pad False\n",
            "167 block6a_dwconv False\n",
            "168 block6a_bn False\n",
            "169 block6a_activation False\n",
            "170 block6a_se_squeeze False\n",
            "171 block6a_se_reshape False\n",
            "172 block6a_se_reduce False\n",
            "173 block6a_se_expand False\n",
            "174 block6a_se_excite False\n",
            "175 block6a_project_conv False\n",
            "176 block6a_project_bn False\n",
            "177 block6b_expand_conv False\n",
            "178 block6b_expand_bn False\n",
            "179 block6b_expand_activation False\n",
            "180 block6b_dwconv False\n",
            "181 block6b_bn False\n",
            "182 block6b_activation False\n",
            "183 block6b_se_squeeze False\n",
            "184 block6b_se_reshape False\n",
            "185 block6b_se_reduce False\n",
            "186 block6b_se_expand False\n",
            "187 block6b_se_excite False\n",
            "188 block6b_project_conv False\n",
            "189 block6b_project_bn False\n",
            "190 block6b_drop False\n",
            "191 block6b_add False\n",
            "192 block6c_expand_conv False\n",
            "193 block6c_expand_bn False\n",
            "194 block6c_expand_activation False\n",
            "195 block6c_dwconv False\n",
            "196 block6c_bn False\n",
            "197 block6c_activation False\n",
            "198 block6c_se_squeeze False\n",
            "199 block6c_se_reshape False\n",
            "200 block6c_se_reduce False\n",
            "201 block6c_se_expand False\n",
            "202 block6c_se_excite False\n",
            "203 block6c_project_conv False\n",
            "204 block6c_project_bn False\n",
            "205 block6c_drop False\n",
            "206 block6c_add False\n",
            "207 block6d_expand_conv False\n",
            "208 block6d_expand_bn False\n",
            "209 block6d_expand_activation False\n",
            "210 block6d_dwconv False\n",
            "211 block6d_bn False\n",
            "212 block6d_activation False\n",
            "213 block6d_se_squeeze False\n",
            "214 block6d_se_reshape False\n",
            "215 block6d_se_reduce False\n",
            "216 block6d_se_expand False\n",
            "217 block6d_se_excite False\n",
            "218 block6d_project_conv False\n",
            "219 block6d_project_bn False\n",
            "220 block6d_drop False\n",
            "221 block6d_add False\n",
            "222 block7a_expand_conv False\n",
            "223 block7a_expand_bn False\n",
            "224 block7a_expand_activation False\n",
            "225 block7a_dwconv False\n",
            "226 block7a_bn False\n",
            "227 block7a_activation False\n",
            "228 block7a_se_squeeze False\n",
            "229 block7a_se_reshape False\n",
            "230 block7a_se_reduce False\n",
            "231 block7a_se_expand False\n",
            "232 block7a_se_excite False\n",
            "233 block7a_project_conv True\n",
            "234 block7a_project_bn True\n",
            "235 top_conv True\n",
            "236 top_bn True\n",
            "237 top_activation True\n"
          ]
        }
      ]
    },
    {
      "cell_type": "markdown",
      "source": [
        "Another 5 epochs should be enough to see whether any benefits come about.\n",
        "\n",
        "We'll start the training off where the feature extraction model left off using the `initial_epoch` parameter in the `fit()` function."
      ],
      "metadata": {
        "id": "unvftX_ca0qQ"
      }
    },
    {
      "cell_type": "code",
      "source": [
        "# fine-tune for 5 more epochs\n",
        "fine_tune_epochs = 10 # model has already done 5 epochs, this is the total number of epochs we're after (5+5=10)\n",
        "\n",
        "history_fine_tune_5_layers_model = model.fit(train_data,\n",
        "                                             epochs = fine_tune_epochs,\n",
        "                                             steps_per_epoch=len(train_data),\n",
        "                                             validation_data=test_data,\n",
        "                                             validation_steps=int(0.15 * len(test_data)),\n",
        "                                             initial_epoch=history_featExtraction_model.epoch[-1]) # start from previous last epoch"
      ],
      "metadata": {
        "colab": {
          "base_uri": "https://localhost:8080/"
        },
        "id": "3W8bYZOMZp0s",
        "outputId": "c22b30ab-be30-4103-85ae-8f69b9efca27"
      },
      "execution_count": 33,
      "outputs": [
        {
          "output_type": "stream",
          "name": "stdout",
          "text": [
            "Epoch 5/10\n",
            "237/237 [==============================] - 66s 240ms/step - loss: 1.2342 - accuracy: 0.6809 - val_loss: 1.6909 - val_accuracy: 0.5530\n",
            "Epoch 6/10\n",
            "237/237 [==============================] - 54s 225ms/step - loss: 1.1447 - accuracy: 0.6964 - val_loss: 1.6910 - val_accuracy: 0.5522\n",
            "Epoch 7/10\n",
            "237/237 [==============================] - 52s 217ms/step - loss: 1.0713 - accuracy: 0.7064 - val_loss: 1.6801 - val_accuracy: 0.5538\n",
            "Epoch 8/10\n",
            "237/237 [==============================] - 52s 217ms/step - loss: 0.9812 - accuracy: 0.7333 - val_loss: 1.7211 - val_accuracy: 0.5469\n",
            "Epoch 9/10\n",
            "237/237 [==============================] - 52s 219ms/step - loss: 0.9270 - accuracy: 0.7545 - val_loss: 1.6631 - val_accuracy: 0.5572\n",
            "Epoch 10/10\n",
            "237/237 [==============================] - 51s 211ms/step - loss: 0.8799 - accuracy: 0.7661 - val_loss: 1.6752 - val_accuracy: 0.5508\n"
          ]
        }
      ]
    },
    {
      "cell_type": "markdown",
      "source": [
        "Once again, during training we were only evaluating on a small portion of the test data, let's find out how our model went on all of the test data."
      ],
      "metadata": {
        "id": "zl22GAC0cb6W"
      }
    },
    {
      "cell_type": "code",
      "source": [
        "fine_tune_5_layers_model_results = model.evaluate(test_data)\n",
        "fine_tune_5_layers_model_results"
      ],
      "metadata": {
        "colab": {
          "base_uri": "https://localhost:8080/"
        },
        "id": "BoJW_3JrcSHB",
        "outputId": "c5822e75-34ef-4023-a358-032162dac7a5"
      },
      "execution_count": 34,
      "outputs": [
        {
          "output_type": "stream",
          "name": "stdout",
          "text": [
            "790/790 [==============================] - 76s 96ms/step - loss: 1.4783 - accuracy: 0.6064\n"
          ]
        },
        {
          "output_type": "execute_result",
          "data": {
            "text/plain": [
              "[1.4782756567001343, 0.606415867805481]"
            ]
          },
          "metadata": {},
          "execution_count": 34
        }
      ]
    },
    {
      "cell_type": "markdown",
      "source": [
        "It seems like our model got a slight boost from fine-tuning"
      ],
      "metadata": {
        "id": "JSuYsekPc3Fm"
      }
    },
    {
      "cell_type": "code",
      "source": [
        "# Compare the historys \n",
        "compare_historys(original_history=history_featExtraction_model,\n",
        "                 new_history=history_fine_tune_5_layers_model,\n",
        "                 initial_epochs=5)"
      ],
      "metadata": {
        "colab": {
          "base_uri": "https://localhost:8080/",
          "height": 513
        },
        "id": "UN5vPtyNcuX6",
        "outputId": "010865f7-c291-49b7-d9e6-0d06eb349c89"
      },
      "execution_count": 35,
      "outputs": [
        {
          "output_type": "display_data",
          "data": {
            "text/plain": [
              "<Figure size 576x576 with 2 Axes>"
            ],
            "image/png": "[encoded data removed]"
          },
          "metadata": {
            "needs_background": "light"
          }
        }
      ]
    },
    {
      "cell_type": "markdown",
      "source": [
        "It seems that after fine-tuning, our model's training metrics improved significantly but validation not so much. Looks like our model is starting to overfit.\n",
        "\n",
        "This is ok though, its very often the case that fine-tuning leads to overfitting when the data a pre-trained model has been trained on is similar to your custom data.\n",
        "\n",
        "In our case, our pre-trained model, `EfficientNetB0` was trained on **ImageNet** which contains many real life pictures of food just like our food dataset.\n",
        "\n",
        "If feature extraction already works well, the improvements you see from fine-tuning may not be as great as if your dataset was significantly different from the data your base model was pre-trained on."
      ],
      "metadata": {
        "id": "0_H31hJbdluo"
      }
    },
    {
      "cell_type": "markdown",
      "source": [
        "## Saving our trained model\n",
        "\n",
        "To prevent having to retrain our model from scratch let's save it to file using the `save()` methode."
      ],
      "metadata": {
        "id": "-CLByBa0eWdy"
      }
    },
    {
      "cell_type": "code",
      "source": [
        "# Save our fine-tuning model\n",
        "# model.save(\"/content/drive/MyDrive/Colab Notebooks/Zero_To_Mastery/101_food_classes_10_percent_saved_big_dog_model\")"
      ],
      "metadata": {
        "id": "7GtsqtBfdTI0"
      },
      "execution_count": 36,
      "outputs": []
    },
    {
      "cell_type": "code",
      "source": [
        "# Load an evaluate saved model\n",
        "loaded_model = tf.keras.models.load_model(\"/content/drive/MyDrive/Colab Notebooks/Zero_To_Mastery/101_food_classes_10_percent_saved_big_dog_model\")"
      ],
      "metadata": {
        "id": "gZpJL-QbfLwB"
      },
      "execution_count": 37,
      "outputs": []
    },
    {
      "cell_type": "markdown",
      "source": [
        "To make sure our loaded model is indead a trained model, let's evaluate its performance on the test dataset."
      ],
      "metadata": {
        "id": "mjek34EWfuBG"
      }
    },
    {
      "cell_type": "code",
      "source": [
        "# Evaluate loaded model and compare performance to pre-saved model\n",
        "loaded_model_results = loaded_model.evaluate(test_data)\n",
        "loaded_model_results"
      ],
      "metadata": {
        "colab": {
          "base_uri": "https://localhost:8080/"
        },
        "id": "vmMmr9BVfZZ9",
        "outputId": "a397745b-c2cd-49d4-d174-604a1d8e20d1"
      },
      "execution_count": 38,
      "outputs": [
        {
          "output_type": "stream",
          "name": "stdout",
          "text": [
            "790/790 [==============================] - 76s 93ms/step - loss: 1.4977 - accuracy: 0.6021\n"
          ]
        },
        {
          "output_type": "execute_result",
          "data": {
            "text/plain": [
              "[1.497715950012207, 0.6020594239234924]"
            ]
          },
          "metadata": {},
          "execution_count": 38
        }
      ]
    },
    {
      "cell_type": "code",
      "source": [
        "# Check if the results are the same than our model results\n",
        "fine_tune_5_layers_model_results"
      ],
      "metadata": {
        "colab": {
          "base_uri": "https://localhost:8080/"
        },
        "id": "5yKzSEp9foU9",
        "outputId": "84aaeb52-17c9-453a-fe00-8969abcb9b18"
      },
      "execution_count": 39,
      "outputs": [
        {
          "output_type": "execute_result",
          "data": {
            "text/plain": [
              "[1.4782756567001343, 0.606415867805481]"
            ]
          },
          "metadata": {},
          "execution_count": 39
        }
      ]
    },
    {
      "cell_type": "markdown",
      "source": [
        "## Evaluating the performance of the big dog model across all different classes\n",
        "\n",
        "We've got a trained and saved model which according to the evaluation metrics we've used is performing fairly well.\n",
        "\n",
        "But let's dive a little deeper into our model's performance and get some visualizations going.\n",
        "\n",
        "To do so, we'll load in the saved model and use it to make some predictions on the test dataset.\n",
        "\n",
        "> **Note:** Evaluating a machine learning model is as important as training one. Metrics can be deceiving. You should always visualize your model's performance on unseen data to make sure you aren't being fooled good looking training numbers."
      ],
      "metadata": {
        "id": "VSxnXQS9SDSY"
      }
    },
    {
      "cell_type": "code",
      "source": [
        "import tensorflow as tf\n",
        "\n",
        "# Download a pre-trained model from google Storage\n",
        "!wget https://storage.googleapis.com/ztm_tf_course/food_vision/06_101_food_class_10_percent_saved_big_dog_model.zip"
      ],
      "metadata": {
        "colab": {
          "base_uri": "https://localhost:8080/"
        },
        "id": "pnq-0pO_TN0i",
        "outputId": "e895765e-3dc2-4e54-cce3-aafa7d089ad2"
      },
      "execution_count": 40,
      "outputs": [
        {
          "output_type": "stream",
          "name": "stdout",
          "text": [
            "--2022-10-18 18:15:22--  https://storage.googleapis.com/ztm_tf_course/food_vision/06_101_food_class_10_percent_saved_big_dog_model.zip\n",
            "Resolving storage.googleapis.com (storage.googleapis.com)... 209.85.145.128, 172.217.219.128, 209.85.147.128, ...\n",
            "Connecting to storage.googleapis.com (storage.googleapis.com)|209.85.145.128|:443... connected.\n",
            "HTTP request sent, awaiting response... 200 OK\n",
            "Length: 46760742 (45M) [application/zip]\n",
            "Saving to: ‘06_101_food_class_10_percent_saved_big_dog_model.zip’\n",
            "\n",
            "06_101_food_class_1 100%[===================>]  44.59M   166MB/s    in 0.3s    \n",
            "\n",
            "2022-10-18 18:15:22 (166 MB/s) - ‘06_101_food_class_10_percent_saved_big_dog_model.zip’ saved [46760742/46760742]\n",
            "\n"
          ]
        }
      ]
    },
    {
      "cell_type": "code",
      "source": [
        "# unzip the data\n",
        "saved_model_path = \"/content/06_101_food_class_10_percent_saved_big_dog_model.zip\"\n",
        "\n",
        "unzip_data(saved_model_path)"
      ],
      "metadata": {
        "id": "DmNk8OSNTqnt"
      },
      "execution_count": 41,
      "outputs": []
    },
    {
      "cell_type": "code",
      "source": [
        "# Load in saved model\n",
        "model = tf.keras.models.load_model(\"/content/06_101_food_class_10_percent_saved_big_dog_model\")"
      ],
      "metadata": {
        "colab": {
          "base_uri": "https://localhost:8080/"
        },
        "id": "R6LedgkSTyTG",
        "outputId": "4f2ead74-a845-42b9-cebb-78a2be09619d"
      },
      "execution_count": 42,
      "outputs": [
        {
          "output_type": "stream",
          "name": "stderr",
          "text": [
            "WARNING:tensorflow:SavedModel saved prior to TF 2.5 detected when loading Keras model. Please ensure that you are saving the model with model.save() or tf.keras.models.save_model(), *NOT* tf.saved_model.save(). To confirm, there should be a file named \"keras_metadata.pb\" in the SavedModel directory.\n",
            "WARNING:absl:Importing a function (__inference_block6c_expand_activation_layer_call_and_return_conditional_losses_419470) with ops with unsaved custom gradients. Will likely fail if a gradient is requested.\n",
            "WARNING:absl:Importing a function (__inference_efficientnetb0_layer_call_and_return_conditional_losses_446460) with ops with unsaved custom gradients. Will likely fail if a gradient is requested.\n",
            "WARNING:absl:Importing a function (__inference_block2a_activation_layer_call_and_return_conditional_losses_450449) with ops with unsaved custom gradients. Will likely fail if a gradient is requested.\n",
            "WARNING:absl:Importing a function (__inference_block2a_expand_activation_layer_call_and_return_conditional_losses_415747) with ops with unsaved custom gradients. Will likely fail if a gradient is requested.\n",
            "WARNING:absl:Importing a function (__inference_block2b_activation_layer_call_and_return_conditional_losses_416083) with ops with unsaved custom gradients. Will likely fail if a gradient is requested.\n",
            "WARNING:absl:Importing a function (__inference_block2b_activation_layer_call_and_return_conditional_losses_450775) with ops with unsaved custom gradients. Will likely fail if a gradient is requested.\n",
            "WARNING:absl:Importing a function (__inference_block4a_activation_layer_call_and_return_conditional_losses_451847) with ops with unsaved custom gradients. Will likely fail if a gradient is requested.\n",
            "WARNING:absl:Importing a function (__inference_block5a_expand_activation_layer_call_and_return_conditional_losses_417915) with ops with unsaved custom gradients. Will likely fail if a gradient is requested.\n",
            "WARNING:absl:Importing a function (__inference_block4a_se_reduce_layer_call_and_return_conditional_losses_451887) with ops with unsaved custom gradients. Will likely fail if a gradient is requested.\n",
            "WARNING:absl:Importing a function (__inference_block4c_expand_activation_layer_call_and_return_conditional_losses_452467) with ops with unsaved custom gradients. Will likely fail if a gradient is requested.\n",
            "WARNING:absl:Importing a function (__inference_functional_17_layer_call_and_return_conditional_losses_438312) with ops with unsaved custom gradients. Will likely fail if a gradient is requested.\n",
            "WARNING:absl:Importing a function (__inference_block4c_expand_activation_layer_call_and_return_conditional_losses_417583) with ops with unsaved custom gradients. Will likely fail if a gradient is requested.\n",
            "WARNING:absl:Importing a function (__inference_block5c_activation_layer_call_and_return_conditional_losses_418582) with ops with unsaved custom gradients. Will likely fail if a gradient is requested.\n",
            "WARNING:absl:Importing a function (__inference_block6a_se_reduce_layer_call_and_return_conditional_losses_454031) with ops with unsaved custom gradients. Will likely fail if a gradient is requested.\n",
            "WARNING:absl:Importing a function (__inference_block7a_activation_layer_call_and_return_conditional_losses_455436) with ops with unsaved custom gradients. Will likely fail if a gradient is requested.\n",
            "WARNING:absl:Importing a function (__inference_block1a_activation_layer_call_and_return_conditional_losses_415524) with ops with unsaved custom gradients. Will likely fail if a gradient is requested.\n",
            "WARNING:absl:Importing a function (__inference_block3b_activation_layer_call_and_return_conditional_losses_451474) with ops with unsaved custom gradients. Will likely fail if a gradient is requested.\n",
            "WARNING:absl:Importing a function (__inference_block4a_expand_activation_layer_call_and_return_conditional_losses_451768) with ops with unsaved custom gradients. Will likely fail if a gradient is requested.\n",
            "WARNING:absl:Importing a function (__inference_efficientnetb0_layer_call_and_return_conditional_losses_441729) with ops with unsaved custom gradients. Will likely fail if a gradient is requested.\n",
            "WARNING:absl:Importing a function (__inference_block6b_se_reduce_layer_call_and_return_conditional_losses_454357) with ops with unsaved custom gradients. Will likely fail if a gradient is requested.\n",
            "WARNING:absl:Importing a function (__inference_block3b_activation_layer_call_and_return_conditional_losses_416695) with ops with unsaved custom gradients. Will likely fail if a gradient is requested.\n",
            "WARNING:absl:Importing a function (__inference_block6b_expand_activation_layer_call_and_return_conditional_losses_454238) with ops with unsaved custom gradients. Will likely fail if a gradient is requested.\n",
            "WARNING:absl:Importing a function (__inference_functional_17_layer_call_and_return_conditional_losses_436681) with ops with unsaved custom gradients. Will likely fail if a gradient is requested.\n",
            "WARNING:absl:Importing a function (__inference_block2a_activation_layer_call_and_return_conditional_losses_415804) with ops with unsaved custom gradients. Will likely fail if a gradient is requested.\n",
            "WARNING:absl:Importing a function (__inference_block5a_activation_layer_call_and_return_conditional_losses_452919) with ops with unsaved custom gradients. Will likely fail if a gradient is requested.\n",
            "WARNING:absl:Importing a function (__inference_block5c_se_reduce_layer_call_and_return_conditional_losses_453658) with ops with unsaved custom gradients. Will likely fail if a gradient is requested.\n",
            "WARNING:absl:Importing a function (__inference_efficientnetb0_layer_call_and_return_conditional_losses_448082) with ops with unsaved custom gradients. Will likely fail if a gradient is requested.\n",
            "WARNING:absl:Importing a function (__inference_block6a_activation_layer_call_and_return_conditional_losses_418915) with ops with unsaved custom gradients. Will likely fail if a gradient is requested.\n",
            "WARNING:absl:Importing a function (__inference_block5c_expand_activation_layer_call_and_return_conditional_losses_453539) with ops with unsaved custom gradients. Will likely fail if a gradient is requested.\n",
            "WARNING:absl:Importing a function (__inference_block4c_se_reduce_layer_call_and_return_conditional_losses_452586) with ops with unsaved custom gradients. Will likely fail if a gradient is requested.\n",
            "WARNING:absl:Importing a function (__inference_block1a_se_reduce_layer_call_and_return_conditional_losses_450163) with ops with unsaved custom gradients. Will likely fail if a gradient is requested.\n",
            "WARNING:absl:Importing a function (__inference_block5a_se_reduce_layer_call_and_return_conditional_losses_418018) with ops with unsaved custom gradients. Will likely fail if a gradient is requested.\n",
            "WARNING:absl:Importing a function (__inference_block7a_expand_activation_layer_call_and_return_conditional_losses_455357) with ops with unsaved custom gradients. Will likely fail if a gradient is requested.\n",
            "WARNING:absl:Importing a function (__inference_block4c_activation_layer_call_and_return_conditional_losses_417639) with ops with unsaved custom gradients. Will likely fail if a gradient is requested.\n",
            "WARNING:absl:Importing a function (__inference_block3a_se_reduce_layer_call_and_return_conditional_losses_451188) with ops with unsaved custom gradients. Will likely fail if a gradient is requested.\n",
            "WARNING:absl:Importing a function (__inference_block7a_activation_layer_call_and_return_conditional_losses_420190) with ops with unsaved custom gradients. Will likely fail if a gradient is requested.\n",
            "WARNING:absl:Importing a function (__inference_stem_activation_layer_call_and_return_conditional_losses_415468) with ops with unsaved custom gradients. Will likely fail if a gradient is requested.\n",
            "WARNING:absl:Importing a function (__inference_block7a_se_reduce_layer_call_and_return_conditional_losses_455476) with ops with unsaved custom gradients. Will likely fail if a gradient is requested.\n",
            "WARNING:absl:Importing a function (__inference_block4b_se_reduce_layer_call_and_return_conditional_losses_417354) with ops with unsaved custom gradients. Will likely fail if a gradient is requested.\n",
            "WARNING:absl:Importing a function (__inference_block4b_se_reduce_layer_call_and_return_conditional_losses_452213) with ops with unsaved custom gradients. Will likely fail if a gradient is requested.\n",
            "WARNING:absl:Importing a function (__inference_block4b_activation_layer_call_and_return_conditional_losses_452173) with ops with unsaved custom gradients. Will likely fail if a gradient is requested.\n",
            "WARNING:absl:Importing a function (__inference_block1a_se_reduce_layer_call_and_return_conditional_losses_415571) with ops with unsaved custom gradients. Will likely fail if a gradient is requested.\n",
            "WARNING:absl:Importing a function (__inference_block3b_se_reduce_layer_call_and_return_conditional_losses_451514) with ops with unsaved custom gradients. Will likely fail if a gradient is requested.\n",
            "WARNING:absl:Importing a function (__inference_block5a_activation_layer_call_and_return_conditional_losses_417971) with ops with unsaved custom gradients. Will likely fail if a gradient is requested.\n",
            "WARNING:absl:Importing a function (__inference_block6c_se_reduce_layer_call_and_return_conditional_losses_454730) with ops with unsaved custom gradients. Will likely fail if a gradient is requested.\n",
            "WARNING:absl:Importing a function (__inference_block3b_se_reduce_layer_call_and_return_conditional_losses_416742) with ops with unsaved custom gradients. Will likely fail if a gradient is requested.\n",
            "WARNING:absl:Importing a function (__inference_block2a_se_reduce_layer_call_and_return_conditional_losses_450489) with ops with unsaved custom gradients. Will likely fail if a gradient is requested.\n",
            "WARNING:absl:Importing a function (__inference_block3a_activation_layer_call_and_return_conditional_losses_451148) with ops with unsaved custom gradients. Will likely fail if a gradient is requested.\n",
            "WARNING:absl:Importing a function (__inference_block5b_expand_activation_layer_call_and_return_conditional_losses_418194) with ops with unsaved custom gradients. Will likely fail if a gradient is requested.\n",
            "WARNING:absl:Importing a function (__inference_block3a_se_reduce_layer_call_and_return_conditional_losses_416463) with ops with unsaved custom gradients. Will likely fail if a gradient is requested.\n",
            "WARNING:absl:Importing a function (__inference_efficientnetb0_layer_call_and_return_conditional_losses_429711) with ops with unsaved custom gradients. Will likely fail if a gradient is requested.\n",
            "WARNING:absl:Importing a function (__inference_efficientnetb0_layer_call_and_return_conditional_losses_443351) with ops with unsaved custom gradients. Will likely fail if a gradient is requested.\n",
            "WARNING:absl:Importing a function (__inference_block5c_expand_activation_layer_call_and_return_conditional_losses_418526) with ops with unsaved custom gradients. Will likely fail if a gradient is requested.\n",
            "WARNING:absl:Importing a function (__inference_block5b_activation_layer_call_and_return_conditional_losses_453245) with ops with unsaved custom gradients. Will likely fail if a gradient is requested.\n",
            "WARNING:absl:Importing a function (__inference_block3a_activation_layer_call_and_return_conditional_losses_416416) with ops with unsaved custom gradients. Will likely fail if a gradient is requested.\n",
            "WARNING:absl:Importing a function (__inference_efficientnetb0_layer_call_and_return_conditional_losses_428089) with ops with unsaved custom gradients. Will likely fail if a gradient is requested.\n",
            "WARNING:absl:Importing a function (__inference_block2b_expand_activation_layer_call_and_return_conditional_losses_416027) with ops with unsaved custom gradients. Will likely fail if a gradient is requested.\n",
            "WARNING:absl:Importing a function (__inference_block6a_expand_activation_layer_call_and_return_conditional_losses_453912) with ops with unsaved custom gradients. Will likely fail if a gradient is requested.\n",
            "WARNING:absl:Importing a function (__inference_block4c_activation_layer_call_and_return_conditional_losses_452546) with ops with unsaved custom gradients. Will likely fail if a gradient is requested.\n",
            "WARNING:absl:Importing a function (__inference_block7a_se_reduce_layer_call_and_return_conditional_losses_420237) with ops with unsaved custom gradients. Will likely fail if a gradient is requested.\n",
            "WARNING:absl:Importing a function (__inference_block5c_se_reduce_layer_call_and_return_conditional_losses_418629) with ops with unsaved custom gradients. Will likely fail if a gradient is requested.\n",
            "WARNING:absl:Importing a function (__inference_block3a_expand_activation_layer_call_and_return_conditional_losses_416359) with ops with unsaved custom gradients. Will likely fail if a gradient is requested.\n",
            "WARNING:absl:Importing a function (__inference_block3b_expand_activation_layer_call_and_return_conditional_losses_451395) with ops with unsaved custom gradients. Will likely fail if a gradient is requested.\n",
            "WARNING:absl:Importing a function (__inference_block6c_activation_layer_call_and_return_conditional_losses_454690) with ops with unsaved custom gradients. Will likely fail if a gradient is requested.\n",
            "WARNING:absl:Importing a function (__inference_block6d_se_reduce_layer_call_and_return_conditional_losses_419905) with ops with unsaved custom gradients. Will likely fail if a gradient is requested.\n",
            "WARNING:absl:Importing a function (__inference_block6c_activation_layer_call_and_return_conditional_losses_419526) with ops with unsaved custom gradients. Will likely fail if a gradient is requested.\n",
            "WARNING:absl:Importing a function (__inference_block5b_se_reduce_layer_call_and_return_conditional_losses_418297) with ops with unsaved custom gradients. Will likely fail if a gradient is requested.\n",
            "WARNING:absl:Importing a function (__inference_block4b_expand_activation_layer_call_and_return_conditional_losses_452094) with ops with unsaved custom gradients. Will likely fail if a gradient is requested.\n",
            "WARNING:absl:Importing a function (__inference__wrapped_model_408990) with ops with unsaved custom gradients. Will likely fail if a gradient is requested.\n",
            "WARNING:absl:Importing a function (__inference_block5c_activation_layer_call_and_return_conditional_losses_453618) with ops with unsaved custom gradients. Will likely fail if a gradient is requested.\n",
            "WARNING:absl:Importing a function (__inference_block6d_expand_activation_layer_call_and_return_conditional_losses_454984) with ops with unsaved custom gradients. Will likely fail if a gradient is requested.\n",
            "WARNING:absl:Importing a function (__inference_block2b_expand_activation_layer_call_and_return_conditional_losses_450696) with ops with unsaved custom gradients. Will likely fail if a gradient is requested.\n",
            "WARNING:absl:Importing a function (__inference_block6a_expand_activation_layer_call_and_return_conditional_losses_418858) with ops with unsaved custom gradients. Will likely fail if a gradient is requested.\n",
            "WARNING:absl:Importing a function (__inference_stem_activation_layer_call_and_return_conditional_losses_450044) with ops with unsaved custom gradients. Will likely fail if a gradient is requested.\n",
            "WARNING:absl:Importing a function (__inference_block5b_activation_layer_call_and_return_conditional_losses_418250) with ops with unsaved custom gradients. Will likely fail if a gradient is requested.\n",
            "WARNING:absl:Importing a function (__inference_block6a_activation_layer_call_and_return_conditional_losses_453991) with ops with unsaved custom gradients. Will likely fail if a gradient is requested.\n",
            "WARNING:absl:Importing a function (__inference_block5b_se_reduce_layer_call_and_return_conditional_losses_453285) with ops with unsaved custom gradients. Will likely fail if a gradient is requested.\n",
            "WARNING:absl:Importing a function (__inference_block4a_expand_activation_layer_call_and_return_conditional_losses_416971) with ops with unsaved custom gradients. Will likely fail if a gradient is requested.\n",
            "WARNING:absl:Importing a function (__inference_top_activation_layer_call_and_return_conditional_losses_455683) with ops with unsaved custom gradients. Will likely fail if a gradient is requested.\n",
            "WARNING:absl:Importing a function (__inference_block2a_se_reduce_layer_call_and_return_conditional_losses_415851) with ops with unsaved custom gradients. Will likely fail if a gradient is requested.\n",
            "WARNING:absl:Importing a function (__inference_block5b_expand_activation_layer_call_and_return_conditional_losses_453166) with ops with unsaved custom gradients. Will likely fail if a gradient is requested.\n",
            "WARNING:absl:Importing a function (__inference_top_activation_layer_call_and_return_conditional_losses_420413) with ops with unsaved custom gradients. Will likely fail if a gradient is requested.\n",
            "WARNING:absl:Importing a function (__inference_block1a_activation_layer_call_and_return_conditional_losses_450123) with ops with unsaved custom gradients. Will likely fail if a gradient is requested.\n",
            "WARNING:absl:Importing a function (__inference_block4a_se_reduce_layer_call_and_return_conditional_losses_417075) with ops with unsaved custom gradients. Will likely fail if a gradient is requested.\n",
            "WARNING:absl:Importing a function (__inference_block5a_expand_activation_layer_call_and_return_conditional_losses_452840) with ops with unsaved custom gradients. Will likely fail if a gradient is requested.\n",
            "WARNING:absl:Importing a function (__inference_block4b_activation_layer_call_and_return_conditional_losses_417307) with ops with unsaved custom gradients. Will likely fail if a gradient is requested.\n",
            "WARNING:absl:Importing a function (__inference_block6d_activation_layer_call_and_return_conditional_losses_455063) with ops with unsaved custom gradients. Will likely fail if a gradient is requested.\n",
            "WARNING:absl:Importing a function (__inference_block6d_expand_activation_layer_call_and_return_conditional_losses_419802) with ops with unsaved custom gradients. Will likely fail if a gradient is requested.\n",
            "WARNING:absl:Importing a function (__inference_block6d_activation_layer_call_and_return_conditional_losses_419858) with ops with unsaved custom gradients. Will likely fail if a gradient is requested.\n",
            "WARNING:absl:Importing a function (__inference_block5a_se_reduce_layer_call_and_return_conditional_losses_452959) with ops with unsaved custom gradients. Will likely fail if a gradient is requested.\n",
            "WARNING:absl:Importing a function (__inference_block3a_expand_activation_layer_call_and_return_conditional_losses_451069) with ops with unsaved custom gradients. Will likely fail if a gradient is requested.\n",
            "WARNING:absl:Importing a function (__inference_block2a_expand_activation_layer_call_and_return_conditional_losses_450370) with ops with unsaved custom gradients. Will likely fail if a gradient is requested.\n",
            "WARNING:absl:Importing a function (__inference_block6b_expand_activation_layer_call_and_return_conditional_losses_419138) with ops with unsaved custom gradients. Will likely fail if a gradient is requested.\n",
            "WARNING:absl:Importing a function (__inference_block6b_activation_layer_call_and_return_conditional_losses_419194) with ops with unsaved custom gradients. Will likely fail if a gradient is requested.\n",
            "WARNING:absl:Importing a function (__inference_block6c_se_reduce_layer_call_and_return_conditional_losses_419573) with ops with unsaved custom gradients. Will likely fail if a gradient is requested.\n",
            "WARNING:absl:Importing a function (__inference_block7a_expand_activation_layer_call_and_return_conditional_losses_420134) with ops with unsaved custom gradients. Will likely fail if a gradient is requested.\n",
            "WARNING:absl:Importing a function (__inference_block4a_activation_layer_call_and_return_conditional_losses_417028) with ops with unsaved custom gradients. Will likely fail if a gradient is requested.\n",
            "WARNING:absl:Importing a function (__inference_block6c_expand_activation_layer_call_and_return_conditional_losses_454611) with ops with unsaved custom gradients. Will likely fail if a gradient is requested.\n",
            "WARNING:absl:Importing a function (__inference_block3b_expand_activation_layer_call_and_return_conditional_losses_416639) with ops with unsaved custom gradients. Will likely fail if a gradient is requested.\n",
            "WARNING:absl:Importing a function (__inference_block4c_se_reduce_layer_call_and_return_conditional_losses_417686) with ops with unsaved custom gradients. Will likely fail if a gradient is requested.\n",
            "WARNING:absl:Importing a function (__inference_block4b_expand_activation_layer_call_and_return_conditional_losses_417251) with ops with unsaved custom gradients. Will likely fail if a gradient is requested.\n",
            "WARNING:absl:Importing a function (__inference_block6d_se_reduce_layer_call_and_return_conditional_losses_455103) with ops with unsaved custom gradients. Will likely fail if a gradient is requested.\n",
            "WARNING:absl:Importing a function (__inference_block2b_se_reduce_layer_call_and_return_conditional_losses_450815) with ops with unsaved custom gradients. Will likely fail if a gradient is requested.\n",
            "WARNING:absl:Importing a function (__inference_block2b_se_reduce_layer_call_and_return_conditional_losses_416130) with ops with unsaved custom gradients. Will likely fail if a gradient is requested.\n",
            "WARNING:absl:Importing a function (__inference_block6b_activation_layer_call_and_return_conditional_losses_454317) with ops with unsaved custom gradients. Will likely fail if a gradient is requested.\n",
            "WARNING:absl:Importing a function (__inference_block6a_se_reduce_layer_call_and_return_conditional_losses_418962) with ops with unsaved custom gradients. Will likely fail if a gradient is requested.\n",
            "WARNING:absl:Importing a function (__inference_block6b_se_reduce_layer_call_and_return_conditional_losses_419241) with ops with unsaved custom gradients. Will likely fail if a gradient is requested.\n"
          ]
        }
      ]
    },
    {
      "cell_type": "code",
      "source": [
        "# check to see if loaded model is a trained model\n",
        "loaded_model_loss, loaded_model_acc = model.evaluate(test_data)\n",
        "loaded_model_loss, loaded_model_acc"
      ],
      "metadata": {
        "colab": {
          "base_uri": "https://localhost:8080/"
        },
        "id": "1gOhFjaEULkU",
        "outputId": "73105d30-7c3e-4f95-ab04-ad685c4b040e"
      },
      "execution_count": 43,
      "outputs": [
        {
          "output_type": "stream",
          "name": "stdout",
          "text": [
            "790/790 [==============================] - 72s 89ms/step - loss: 1.8027 - accuracy: 0.6078\n"
          ]
        },
        {
          "output_type": "execute_result",
          "data": {
            "text/plain": [
              "(1.8027206659317017, 0.6077623963356018)"
            ]
          },
          "metadata": {},
          "execution_count": 43
        }
      ]
    },
    {
      "cell_type": "markdown",
      "source": [],
      "metadata": {
        "id": "6Fqc2KZKUYBN"
      }
    }
  ]
}