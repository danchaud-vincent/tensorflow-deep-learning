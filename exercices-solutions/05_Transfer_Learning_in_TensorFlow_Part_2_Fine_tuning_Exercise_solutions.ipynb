{
  "nbformat": 4,
  "nbformat_minor": 0,
  "metadata": {
    "colab": {
      "provenance": [],
      "collapsed_sections": [],
      "authorship_tag": "ABX9TyNwFiMxsbFhV43aFQBQESZh",
      "include_colab_link": true
    },
    "kernelspec": {
      "name": "python3",
      "display_name": "Python 3"
    },
    "language_info": {
      "name": "python"
    }
  },
  "cells": [
    {
      "cell_type": "markdown",
      "metadata": {
        "id": "view-in-github",
        "colab_type": "text"
      },
      "source": [
        "<a href=\"https://colab.research.google.com/github/danchaud-vincent/tensorflow-deep-learning/blob/main/exercices-solutions/05_Transfer_Learning_in_TensorFlow_Part_2_Fine_tuning_Exercise_solutions.ipynb\" target=\"_parent\"><img src=\"https://colab.research.google.com/assets/colab-badge.svg\" alt=\"Open In Colab\"/></a>"
      ]
    },
    {
      "cell_type": "markdown",
      "source": [
        "# 05 - Transfer Learning in TensorFlow Part 2: Fine-tuning Exercices\n",
        "\n",
        "\n",
        "**Questions:**\n",
        "\n",
        "\n",
        "1. Use feature-extraction to train a transfer learning model on 10% of the Food Vision data for 10 epochs using `tf.keras.applications.EfficientNetB0` as the base model. Use the `ModelCheckpoint` callback to save the weights to file.\n",
        "2. Fine-tune the last 20 layers of the base model you trained in 2 for another 10 epochs. How did it go?\n",
        "3. Fine-tune the last 30 layers of the base model you trained in 2 for another 10 epochs. How dit it go ?\n",
        "4. Write a function to visualize an image from any dataset (train or test file) and any class (e.g. \"steak\", \"pizza\",... etc), visualize it and make a prediction on it using a trained model."
      ],
      "metadata": {
        "id": "GfbCRanubp0V"
      }
    },
    {
      "cell_type": "code",
      "execution_count": null,
      "metadata": {
        "id": "Nf6dQhBVbkay"
      },
      "outputs": [],
      "source": []
    }
  ]
}