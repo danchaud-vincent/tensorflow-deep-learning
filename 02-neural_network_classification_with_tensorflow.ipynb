{
 "cells": [
  {
   "cell_type": "markdown",
   "metadata": {},
   "source": [
    "# 02 - Neural Network Classification with TensorFlow"
   ]
  },
  {
   "cell_type": "markdown",
   "metadata": {},
   "source": [
    "**Content of this notebook :**\n",
    "- Architecture of a classification model\n",
    "- Input shapes and output shapes\n",
    "    - `X` : features/data (inputs)\n",
    "    - `y` : labels (outputs)\n",
    "        - \"What class do the inputs belong to?\"\n",
    "- Creating custom data to view and fit\n",
    "- Steps in modelling for binary and multiclass classification\n",
    "    - Creating a model\n",
    "    - Compiling a model\n",
    "        - Defining a loss function\n",
    "        - Setting up an optimizer\n",
    "            - Finding the best learning rate\n",
    "        - Creating evaluation metrics\n",
    "    - Fitting a model (getting it to find patterns in our data)\n",
    "    - Improving a model\n",
    "- The power of non-linearity\n",
    "- Evaluating classification models\n",
    "    - Visualizing the model\n",
    "    - Looking at training curves\n",
    "    - Compare predictions to ground truth"
   ]
  },
  {
   "cell_type": "markdown",
   "metadata": {},
   "source": [
    "## What is a Classification problem?"
   ]
  },
  {
   "cell_type": "markdown",
   "metadata": {},
   "source": [
    "A `classification problem` involves predicting whether something is one thing or another.\n",
    "\n",
    "For example we might want to:\n",
    "- Predict whether or not someone has heart disease based on their health parameters. This is called **binary classification** since there are only two options.\n",
    "- Decide whether a photo is of food, a person or a dog. This is called **multi-class classification** sine there are more than two options.\n",
    "- Predict what categories should be assigned to Wikipedia article. This is called **multi-label classification** since a single article could have more than one category assigned."
   ]
  },
  {
   "cell_type": "markdown",
   "metadata": {},
   "source": [
    "## Typical Architecture of neural network classification models with TensorFlow"
   ]
  },
  {
   "cell_type": "markdown",
   "metadata": {},
   "source": [
    "| **Hyperparameter** | **Binary Classification** | **Multiclass Classification** |\n",
    "| --- | --- | --- |\n",
    "| Input layer shape | Same shape as number of features (e.g. 5 for age,sex,height,weight, smoking status in heart disease prediction) | Same as binary classification | Same as binary classification |\n",
    "| Hidden layer(s) | Problem specific, minimum = 1, maximum = unlimited | Same as binary classification |\n",
    "| Neurons per hidden layer | Problem specific, generally 10 to 100 | Same as binary classification |\n",
    "| Output layer shape | 1 (one class or the other) | 1 per class (e.g. 3 for food, person or dog photo) |\n",
    "| Hidden activation | Usually ReLU (rectified linear unit) | Same as binary classification |\n",
    "| Output activation | Sigmoid | Softmax |  \n",
    "| Loss function | Cross entropy (`tf.keras.losses.BinaryCrossentropy` in TensorFlow) | Cross entropy (`tf.keras.losses.CategoricalCrossentropy` in TensorFlow) |\n",
    "| Optimizer | SGD (stochastic gradient descent), Adam ... | Same as binary classification |\n",
    "\n",
    "***Table 1:*** *Typical architecture of a classification network.* ***Source:*** *Adapted from page 295 of [Hands-On Machine Learning with Scikit-Learn, Keras & TensorFlow Book by Aurélien Géron](https://www.oreilly.com/library/view/hands-on-machine-learning/9781492032632/)*"
   ]
  },
  {
   "cell_type": "code",
   "execution_count": 1,
   "metadata": {},
   "outputs": [
    {
     "name": "stdout",
     "output_type": "stream",
     "text": [
      "2.8.0\n"
     ]
    }
   ],
   "source": [
    "# import tensorflow\n",
    "import tensorflow as tf\n",
    "print(tf.__version__)"
   ]
  },
  {
   "cell_type": "markdown",
   "metadata": {},
   "source": [
    "## Creating and Viewing classification data"
   ]
  },
  {
   "cell_type": "code",
   "execution_count": null,
   "metadata": {},
   "outputs": [],
   "source": []
  }
 ],
 "metadata": {
  "interpreter": {
   "hash": "6d46af94c2bbce495f1e668725902fa517c90b1782bcfe2fce0dd9868df553d3"
  },
  "kernelspec": {
   "display_name": "Python 3.8.8 ('base')",
   "language": "python",
   "name": "python3"
  },
  "language_info": {
   "codemirror_mode": {
    "name": "ipython",
    "version": 3
   },
   "file_extension": ".py",
   "mimetype": "text/x-python",
   "name": "python",
   "nbconvert_exporter": "python",
   "pygments_lexer": "ipython3",
   "version": "3.8.8"
  },
  "orig_nbformat": 4
 },
 "nbformat": 4,
 "nbformat_minor": 2
}
