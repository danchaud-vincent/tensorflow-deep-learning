{
 "cells": [
  {
   "cell_type": "markdown",
   "metadata": {},
   "source": [
    "# 02 - Neural Network Classification with TensorFlow"
   ]
  },
  {
   "cell_type": "markdown",
   "metadata": {},
   "source": [
    "**Content of this notebook :**\n",
    "- Architecture of a classification model\n",
    "- Input shapes and output shapes\n",
    "    - `X` : features/data (inputs)\n",
    "    - `y` : labels (outputs)\n",
    "        - \"What class do the inputs belong to?\"\n",
    "- Creating custom data to view and fit\n",
    "- Steps in modelling for binary and multiclass classification\n",
    "    - Creating a model\n",
    "    - Compiling a model\n",
    "        - Defining a loss function\n",
    "        - Setting up an optimizer\n",
    "            - Finding the best learning rate\n",
    "        - Creating evaluation metrics\n",
    "    - Fitting a model (getting it to find patterns in our data)\n",
    "    - Improving a model\n",
    "- The power of non-linearity\n",
    "- Evaluating classification models\n",
    "    - Visualizing the model\n",
    "    - Looking at training curves\n",
    "    - Compare predictions to ground truth"
   ]
  },
  {
   "cell_type": "markdown",
   "metadata": {},
   "source": [
    "## What is a Classification problem?"
   ]
  },
  {
   "cell_type": "markdown",
   "metadata": {},
   "source": [
    "A `classification problem` involves predicting whether something is one thing or another.\n",
    "\n",
    "For example we might want to:\n",
    "- Predict whether or not someone has heart disease based on their health parameters. This is called **binary classification** since there are only two options.\n",
    "- Decide whether a photo is of food, a person or a dog. This is called **multi-class classification** sine there are more than two options.\n",
    "- Predict what categories should be assigned to Wikipedia article. This is called **multi-label classification** since a single article could have more than one category assigned."
   ]
  },
  {
   "cell_type": "markdown",
   "metadata": {},
   "source": [
    "## Typical Architecture of neural network classification models with TensorFlow"
   ]
  },
  {
   "cell_type": "markdown",
   "metadata": {},
   "source": [
    "| **Hyperparameter** | **Binary Classification** | **Multiclass Classification** |\n",
    "| --- | --- | --- |\n",
    "| Input layer shape | Same shape as number of features (e.g. 5 for age,sex,height,weight, smoking status in heart disease prediction) | Same as binary classification | Same as binary classification |\n",
    "| Hidden layer(s) | Problem specific, minimum = 1, maximum = unlimited | Same as binary classification |\n",
    "| Neurons per hidden layer | Problem specific, generally 10 to 100 | Same as binary classification |\n",
    "| Output layer shape | 1 (one class or the other) | 1 per class (e.g. 3 for food, person or dog photo) |\n",
    "| Hidden activation | Usually ReLU (rectified linear unit) | Same as binary classification |\n",
    "| Output activation | Sigmoid | Softmax |  \n",
    "| Loss function | Cross entropy (`tf.keras.losses.BinaryCrossentropy` in TensorFlow) | Cross entropy (`tf.keras.losses.CategoricalCrossentropy` in TensorFlow) |\n",
    "| Optimizer | SGD (stochastic gradient descent), Adam ... | Same as binary classification |\n",
    "\n",
    "***Table 1:*** *Typical architecture of a classification network.* ***Source:*** *Adapted from page 295 of [Hands-On Machine Learning with Scikit-Learn, Keras & TensorFlow Book by Aurélien Géron](https://www.oreilly.com/library/view/hands-on-machine-learning/9781492032632/)*"
   ]
  },
  {
   "cell_type": "code",
   "execution_count": 1,
   "metadata": {},
   "outputs": [
    {
     "name": "stdout",
     "output_type": "stream",
     "text": [
      "2.8.0\n"
     ]
    }
   ],
   "source": [
    "# import tensorflow\n",
    "import tensorflow as tf\n",
    "print(tf.__version__)"
   ]
  },
  {
   "cell_type": "markdown",
   "metadata": {},
   "source": [
    "## Creating and Viewing classification data"
   ]
  },
  {
   "cell_type": "markdown",
   "metadata": {},
   "source": [
    "Let's creat a classification dataset using Scikit-Lean's `make_circles()` function."
   ]
  },
  {
   "cell_type": "code",
   "execution_count": 2,
   "metadata": {},
   "outputs": [
    {
     "data": {
      "text/plain": [
       "((1000, 2), (1000,))"
      ]
     },
     "execution_count": 2,
     "metadata": {},
     "output_type": "execute_result"
    }
   ],
   "source": [
    "from sklearn.datasets import make_circles\n",
    "\n",
    "# Make 1000 examples\n",
    "n_samples = 1000\n",
    "\n",
    "# Create circles\n",
    "X, y  = make_circles(n_samples, noise = 0.03, random_state=42)\n",
    "\n",
    "# Shapes\n",
    "X.shape, y.shape"
   ]
  },
  {
   "cell_type": "code",
   "execution_count": 4,
   "metadata": {},
   "outputs": [
    {
     "data": {
      "text/plain": [
       "array([[ 0.75424625,  0.23148074],\n",
       "       [-0.75615888,  0.15325888],\n",
       "       [-0.81539193,  0.17328203],\n",
       "       ...,\n",
       "       [-0.13690036, -0.81001183],\n",
       "       [ 0.67036156, -0.76750154],\n",
       "       [ 0.28105665,  0.96382443]])"
      ]
     },
     "execution_count": 4,
     "metadata": {},
     "output_type": "execute_result"
    }
   ],
   "source": [
    "# check out features\n",
    "X"
   ]
  },
  {
   "cell_type": "code",
   "execution_count": 5,
   "metadata": {},
   "outputs": [
    {
     "data": {
      "text/plain": [
       "array([1, 1, 1, 1, 0, 1, 1, 1, 1, 0, 1, 0, 1, 1, 1, 1, 0, 1, 1, 0, 1, 0,\n",
       "       0, 1, 0, 0, 0, 1, 1, 1, 0, 0, 1, 0, 0, 0, 1, 1, 1, 0, 0, 0, 0, 1,\n",
       "       0, 0, 1, 1, 0, 1, 1, 1, 0, 1, 0, 0, 1, 0, 0, 1, 0, 0, 1, 0, 1, 1,\n",
       "       1, 1, 0, 1, 0, 0, 1, 1, 0, 0, 1, 0, 1, 0, 1, 0, 0, 0, 0, 1, 1, 1,\n",
       "       1, 0, 0, 0, 1, 0, 1, 0, 1, 0, 0, 1, 1, 0, 1, 0, 1, 1, 1, 1, 0, 1,\n",
       "       1, 1, 1, 1, 0, 0, 0, 1, 1, 0, 1, 0, 1, 0, 0, 1, 1, 0, 1, 1, 1, 1,\n",
       "       0, 1, 1, 0, 0, 0, 0, 0, 0, 0, 1, 0, 1, 1, 1, 0, 1, 0, 1, 0, 1, 0,\n",
       "       1, 0, 0, 1, 0, 1, 1, 1, 1, 1, 1, 1, 0, 1, 0, 0, 0, 0, 0, 1, 0, 0,\n",
       "       0, 0, 1, 1, 0, 1, 0, 1, 1, 0, 0, 0, 1, 1, 1, 1, 1, 0, 0, 0, 0, 0,\n",
       "       1, 0, 0, 1, 1, 1, 1, 1, 0, 1, 0, 1, 0, 0, 1, 1, 1, 0, 1, 0, 1, 1,\n",
       "       0, 1, 1, 0, 1, 0, 1, 0, 1, 1, 0, 1, 0, 1, 0, 0, 0, 1, 0, 0, 0, 0,\n",
       "       1, 1, 0, 0, 0, 0, 0, 0, 0, 1, 1, 1, 0, 0, 1, 1, 1, 0, 1, 0, 0, 0,\n",
       "       0, 1, 1, 0, 1, 0, 0, 0, 1, 0, 1, 0, 0, 1, 0, 1, 1, 1, 0, 0, 0, 1,\n",
       "       0, 0, 0, 1, 1, 1, 1, 0, 0, 0, 1, 0, 0, 0, 1, 0, 0, 0, 1, 1, 0, 1,\n",
       "       1, 1, 1, 1, 1, 1, 0, 0, 0, 0, 1, 0, 0, 0, 0, 1, 1, 1, 0, 0, 1, 0,\n",
       "       1, 0, 1, 1, 0, 0, 1, 1, 1, 1, 0, 0, 0, 0, 0, 0, 1, 1, 0, 1, 0, 0,\n",
       "       1, 0, 0, 0, 0, 0, 0, 0, 0, 1, 0, 0, 0, 0, 1, 0, 0, 1, 0, 1, 0, 0,\n",
       "       0, 1, 0, 0, 1, 1, 0, 0, 1, 0, 0, 1, 1, 0, 1, 1, 0, 0, 1, 0, 1, 0,\n",
       "       0, 0, 1, 1, 0, 0, 1, 1, 1, 1, 1, 0, 0, 1, 1, 1, 1, 0, 1, 1, 1, 1,\n",
       "       1, 0, 0, 1, 0, 1, 0, 0, 0, 0, 1, 0, 0, 0, 0, 0, 0, 0, 0, 0, 1, 1,\n",
       "       0, 1, 1, 1, 1, 1, 1, 0, 1, 1, 1, 1, 0, 0, 0, 1, 1, 1, 0, 0, 0, 0,\n",
       "       1, 1, 0, 0, 0, 0, 1, 0, 0, 0, 1, 0, 0, 1, 1, 1, 1, 1, 1, 0, 0, 0,\n",
       "       1, 0, 0, 0, 0, 0, 1, 1, 1, 0, 0, 0, 0, 0, 1, 1, 1, 0, 0, 1, 1, 1,\n",
       "       1, 0, 1, 1, 0, 1, 0, 0, 0, 1, 0, 0, 1, 0, 0, 1, 1, 0, 0, 1, 1, 0,\n",
       "       1, 0, 1, 0, 1, 0, 1, 0, 0, 0, 1, 0, 0, 0, 0, 0, 0, 1, 1, 1, 1, 0,\n",
       "       0, 0, 1, 0, 1, 1, 0, 0, 0, 0, 0, 1, 1, 1, 0, 0, 1, 0, 0, 1, 0, 0,\n",
       "       1, 0, 0, 1, 0, 0, 0, 1, 0, 0, 1, 1, 1, 0, 1, 1, 0, 0, 0, 1, 1, 1,\n",
       "       1, 0, 0, 1, 1, 1, 0, 0, 0, 0, 1, 1, 0, 0, 1, 1, 0, 0, 1, 1, 1, 1,\n",
       "       1, 1, 1, 0, 1, 0, 1, 0, 0, 1, 0, 1, 1, 1, 1, 0, 0, 1, 1, 0, 0, 1,\n",
       "       0, 1, 0, 0, 0, 1, 0, 0, 1, 1, 1, 1, 0, 1, 1, 1, 1, 1, 1, 1, 0, 1,\n",
       "       0, 1, 1, 1, 0, 0, 1, 0, 0, 0, 1, 1, 1, 1, 0, 0, 0, 0, 1, 0, 1, 1,\n",
       "       1, 0, 1, 0, 0, 1, 0, 0, 1, 1, 1, 1, 1, 0, 1, 0, 0, 0, 1, 1, 1, 1,\n",
       "       1, 0, 0, 0, 1, 1, 1, 1, 0, 0, 0, 0, 0, 1, 1, 0, 1, 0, 1, 0, 0, 0,\n",
       "       0, 0, 0, 0, 0, 0, 1, 1, 1, 1, 1, 0, 1, 0, 1, 1, 1, 1, 0, 1, 1, 1,\n",
       "       1, 1, 1, 1, 1, 0, 1, 1, 0, 1, 0, 0, 0, 1, 0, 1, 1, 1, 0, 1, 1, 0,\n",
       "       1, 1, 0, 1, 0, 1, 1, 0, 0, 1, 1, 1, 0, 0, 0, 0, 1, 1, 0, 0, 1, 1,\n",
       "       1, 1, 1, 1, 1, 1, 1, 1, 1, 1, 1, 1, 0, 0, 1, 0, 1, 0, 1, 0, 1, 1,\n",
       "       1, 1, 1, 1, 0, 1, 0, 1, 1, 1, 0, 1, 1, 0, 0, 1, 0, 1, 1, 0, 0, 1,\n",
       "       1, 1, 1, 1, 1, 1, 1, 0, 1, 1, 1, 0, 1, 0, 0, 1, 1, 0, 0, 0, 1, 0,\n",
       "       0, 1, 0, 0, 0, 1, 0, 1, 0, 0, 0, 0, 1, 0, 1, 1, 1, 1, 0, 1, 0, 0,\n",
       "       0, 0, 0, 0, 1, 0, 1, 0, 1, 0, 1, 1, 1, 0, 1, 0, 1, 0, 0, 1, 1, 1,\n",
       "       0, 0, 0, 1, 1, 0, 1, 0, 1, 1, 0, 1, 0, 0, 1, 1, 1, 0, 0, 0, 1, 1,\n",
       "       0, 0, 0, 0, 0, 1, 1, 0, 1, 0, 0, 0, 1, 0, 0, 0, 1, 1, 1, 1, 0, 1,\n",
       "       1, 1, 0, 1, 1, 1, 1, 0, 1, 1, 0, 1, 1, 0, 0, 1, 1, 1, 0, 0, 0, 0,\n",
       "       0, 0, 1, 0, 0, 1, 0, 0, 0, 1, 0, 1, 0, 1, 1, 0, 0, 0, 0, 0, 0, 0,\n",
       "       0, 1, 0, 1, 0, 0, 0, 1, 0, 0], dtype=int64)"
      ]
     },
     "execution_count": 5,
     "metadata": {},
     "output_type": "execute_result"
    }
   ],
   "source": [
    "# Check the labels\n",
    "y"
   ]
  },
  {
   "cell_type": "markdown",
   "metadata": {},
   "source": [
    "> **Note:** One important step of starting any kind of machine learning project is to become one with the data. And one of the best ways to do this is to visualize the data we're working with as much as possible."
   ]
  },
  {
   "cell_type": "markdown",
   "metadata": {},
   "source": [
    "Let's create a DataFrame"
   ]
  },
  {
   "cell_type": "code",
   "execution_count": 6,
   "metadata": {},
   "outputs": [
    {
     "data": {
      "text/html": [
       "<div>\n",
       "<style scoped>\n",
       "    .dataframe tbody tr th:only-of-type {\n",
       "        vertical-align: middle;\n",
       "    }\n",
       "\n",
       "    .dataframe tbody tr th {\n",
       "        vertical-align: top;\n",
       "    }\n",
       "\n",
       "    .dataframe thead th {\n",
       "        text-align: right;\n",
       "    }\n",
       "</style>\n",
       "<table border=\"1\" class=\"dataframe\">\n",
       "  <thead>\n",
       "    <tr style=\"text-align: right;\">\n",
       "      <th></th>\n",
       "      <th>X0</th>\n",
       "      <th>X1</th>\n",
       "      <th>label</th>\n",
       "    </tr>\n",
       "  </thead>\n",
       "  <tbody>\n",
       "    <tr>\n",
       "      <th>0</th>\n",
       "      <td>0.754246</td>\n",
       "      <td>0.231481</td>\n",
       "      <td>1</td>\n",
       "    </tr>\n",
       "    <tr>\n",
       "      <th>1</th>\n",
       "      <td>-0.756159</td>\n",
       "      <td>0.153259</td>\n",
       "      <td>1</td>\n",
       "    </tr>\n",
       "    <tr>\n",
       "      <th>2</th>\n",
       "      <td>-0.815392</td>\n",
       "      <td>0.173282</td>\n",
       "      <td>1</td>\n",
       "    </tr>\n",
       "    <tr>\n",
       "      <th>3</th>\n",
       "      <td>-0.393731</td>\n",
       "      <td>0.692883</td>\n",
       "      <td>1</td>\n",
       "    </tr>\n",
       "    <tr>\n",
       "      <th>4</th>\n",
       "      <td>0.442208</td>\n",
       "      <td>-0.896723</td>\n",
       "      <td>0</td>\n",
       "    </tr>\n",
       "    <tr>\n",
       "      <th>...</th>\n",
       "      <td>...</td>\n",
       "      <td>...</td>\n",
       "      <td>...</td>\n",
       "    </tr>\n",
       "    <tr>\n",
       "      <th>995</th>\n",
       "      <td>0.244054</td>\n",
       "      <td>0.944125</td>\n",
       "      <td>0</td>\n",
       "    </tr>\n",
       "    <tr>\n",
       "      <th>996</th>\n",
       "      <td>-0.978655</td>\n",
       "      <td>-0.272373</td>\n",
       "      <td>0</td>\n",
       "    </tr>\n",
       "    <tr>\n",
       "      <th>997</th>\n",
       "      <td>-0.136900</td>\n",
       "      <td>-0.810012</td>\n",
       "      <td>1</td>\n",
       "    </tr>\n",
       "    <tr>\n",
       "      <th>998</th>\n",
       "      <td>0.670362</td>\n",
       "      <td>-0.767502</td>\n",
       "      <td>0</td>\n",
       "    </tr>\n",
       "    <tr>\n",
       "      <th>999</th>\n",
       "      <td>0.281057</td>\n",
       "      <td>0.963824</td>\n",
       "      <td>0</td>\n",
       "    </tr>\n",
       "  </tbody>\n",
       "</table>\n",
       "<p>1000 rows × 3 columns</p>\n",
       "</div>"
      ],
      "text/plain": [
       "           X0        X1  label\n",
       "0    0.754246  0.231481      1\n",
       "1   -0.756159  0.153259      1\n",
       "2   -0.815392  0.173282      1\n",
       "3   -0.393731  0.692883      1\n",
       "4    0.442208 -0.896723      0\n",
       "..        ...       ...    ...\n",
       "995  0.244054  0.944125      0\n",
       "996 -0.978655 -0.272373      0\n",
       "997 -0.136900 -0.810012      1\n",
       "998  0.670362 -0.767502      0\n",
       "999  0.281057  0.963824      0\n",
       "\n",
       "[1000 rows x 3 columns]"
      ]
     },
     "execution_count": 6,
     "metadata": {},
     "output_type": "execute_result"
    }
   ],
   "source": [
    "# Make a dataframe of features and labels\n",
    "import pandas as pd\n",
    "\n",
    "circles = pd.DataFrame({\"X0\":X[:,0],\"X1\":X[:,1],\"label\":y})\n",
    "circles"
   ]
  },
  {
   "cell_type": "code",
   "execution_count": 7,
   "metadata": {},
   "outputs": [
    {
     "data": {
      "text/plain": [
       "0    500\n",
       "1    500\n",
       "Name: label, dtype: int64"
      ]
     },
     "execution_count": 7,
     "metadata": {},
     "output_type": "execute_result"
    }
   ],
   "source": [
    "# Check out the different labels\n",
    "circles[\"label\"].value_counts()"
   ]
  },
  {
   "cell_type": "markdown",
   "metadata": {},
   "source": [
    "We are dealing with a **binary classification** problem. It's binary because there are only two labels (0 and 1)."
   ]
  },
  {
   "cell_type": "code",
   "execution_count": 8,
   "metadata": {},
   "outputs": [
    {
     "data": {
      "text/plain": [
       "<matplotlib.collections.PathCollection at 0x1ea99c1ccd0>"
      ]
     },
     "execution_count": 8,
     "metadata": {},
     "output_type": "execute_result"
    },
    {
     "data": {
      "image/png": "[encoded data removed]",
      "text/plain": [
       "<Figure size 432x288 with 1 Axes>"
      ]
     },
     "metadata": {
      "needs_background": "light"
     },
     "output_type": "display_data"
    }
   ],
   "source": [
    "# Visualize with a plot\n",
    "import matplotlib.pyplot as plt\n",
    "\n",
    "plt.scatter(X[:,0],X[:,1], c=y, cmap=plt.cm.RdYlBu)"
   ]
  },
  {
   "cell_type": "markdown",
   "metadata": {},
   "source": [
    "From the plot, we can guess that we want to build a model which classify blue or red dots. A model which is able to distinguish blue from red dots.\n",
    "\n",
    "> **Note:** Check the website [TensorFlow Playground](https://playground.tensorflow.org/#activation=relu&batchSize=10&dataset=circle&regDataset=reg-plane&learningRate=0.03&regularizationRate=0&noise=0&networkShape=2,2&seed=0.93799&showTestData=false&discretize=false&percTrainData=50&x=true&y=true&xTimesY=false&xSquared=false&ySquared=false&cosX=false&sinX=false&cosY=false&sinY=false&collectStats=false&problem=classification&initZero=false&hideText=false&regularization_hide=true&regularizationRate_hide=true&batchSize_hide=true) and try adjusting different hyperparameters."
   ]
  },
  {
   "cell_type": "markdown",
   "metadata": {},
   "source": [
    "## Input and output shapes"
   ]
  },
  {
   "cell_type": "markdown",
   "metadata": {},
   "source": [
    "One of the most common issues we'll run into building neural networks is shape mismatches. More specifically the shape of the input data and the shape of the output data."
   ]
  },
  {
   "cell_type": "code",
   "execution_count": 9,
   "metadata": {},
   "outputs": [
    {
     "data": {
      "text/plain": [
       "((1000, 2), (1000,))"
      ]
     },
     "execution_count": 9,
     "metadata": {},
     "output_type": "execute_result"
    }
   ],
   "source": [
    "# check the shapes of our features and labels\n",
    "X.shape, y.shape"
   ]
  },
  {
   "cell_type": "code",
   "execution_count": 10,
   "metadata": {},
   "outputs": [
    {
     "data": {
      "text/plain": [
       "(1000, 1000)"
      ]
     },
     "execution_count": 10,
     "metadata": {},
     "output_type": "execute_result"
    }
   ],
   "source": [
    "# how many samples we're working with\n",
    "len(X), len(y)"
   ]
  },
  {
   "cell_type": "code",
   "execution_count": 11,
   "metadata": {},
   "outputs": [
    {
     "data": {
      "text/plain": [
       "(array([0.75424625, 0.23148074]), 1)"
      ]
     },
     "execution_count": 11,
     "metadata": {},
     "output_type": "execute_result"
    }
   ],
   "source": [
    "# View the first example of features and labels\n",
    "X[0], y[0]"
   ]
  },
  {
   "cell_type": "markdown",
   "metadata": {},
   "source": [
    "## Steps in modelling"
   ]
  },
  {
   "cell_type": "markdown",
   "metadata": {},
   "source": [
    "Let's see how we'could build a neural network to model our data.\n",
    "\n",
    "In TensorFlow, there are typically 3 fundamentals steps to creating and training a model.\n",
    "\n",
    "1. **Creating a model** - piece together the layers of a neural network yourself (using the `functional` or `sequential API`) or import a previously built model (transfer learning).\n",
    "2. **Compiling a model** - defining how a model's performance should be measured (loss/metrics) as well as defining how it should improve (optimizer).\n",
    "3. **Fitting a model** - letting the model try to find patterns in the data"
   ]
  },
  {
   "cell_type": "code",
   "execution_count": 12,
   "metadata": {},
   "outputs": [
    {
     "name": "stdout",
     "output_type": "stream",
     "text": [
      "Epoch 1/10\n",
      "32/32 [==============================] - 1s 987us/step - loss: 2.8544 - accuracy: 0.4600\n",
      "Epoch 2/10\n",
      "32/32 [==============================] - 0s 2ms/step - loss: 0.7131 - accuracy: 0.5430\n",
      "Epoch 3/10\n",
      "32/32 [==============================] - 0s 2ms/step - loss: 0.6973 - accuracy: 0.5090\n",
      "Epoch 4/10\n",
      "32/32 [==============================] - 0s 2ms/step - loss: 0.6950 - accuracy: 0.5010\n",
      "Epoch 5/10\n",
      "32/32 [==============================] - 0s 2ms/step - loss: 0.6942 - accuracy: 0.4820\n",
      "Epoch 6/10\n",
      "32/32 [==============================] - 0s 1ms/step - loss: 0.6938 - accuracy: 0.4990\n",
      "Epoch 7/10\n",
      "32/32 [==============================] - 0s 1ms/step - loss: 0.6943 - accuracy: 0.4880\n",
      "Epoch 8/10\n",
      "32/32 [==============================] - 0s 1ms/step - loss: 0.6941 - accuracy: 0.4950\n",
      "Epoch 9/10\n",
      "32/32 [==============================] - 0s 2ms/step - loss: 0.6940 - accuracy: 0.4840\n",
      "Epoch 10/10\n",
      "32/32 [==============================] - 0s 926us/step - loss: 0.6938 - accuracy: 0.4820\n"
     ]
    },
    {
     "data": {
      "text/plain": [
       "<keras.callbacks.History at 0x1ea9a621fa0>"
      ]
     },
     "execution_count": 12,
     "metadata": {},
     "output_type": "execute_result"
    }
   ],
   "source": [
    "# set the random seed\n",
    "tf.random.set_seed(42)\n",
    "\n",
    "# Create the model using the Sequential API\n",
    "model_1 = tf.keras.Sequential([\n",
    "    tf.keras.layers.Dense(1)\n",
    "])\n",
    "\n",
    "# Compile the model\n",
    "model_1.compile(loss = tf.keras.losses.BinaryCrossentropy(), # binary since we are working with 2 classes (0 & 1)\n",
    "                optimizer = tf.keras.optimizers.SGD(),\n",
    "                metrics = [\"accuracy\"])\n",
    "\n",
    "# fit the model\n",
    "model_1.fit(X,y,epochs = 10)"
   ]
  },
  {
   "cell_type": "markdown",
   "metadata": {},
   "source": [
    "Looking at the accuracy metric, the model performs poorly (50% accuracy)"
   ]
  },
  {
   "cell_type": "code",
   "execution_count": 13,
   "metadata": {},
   "outputs": [
    {
     "name": "stdout",
     "output_type": "stream",
     "text": [
      "Epoch 1/200\n",
      "32/32 [==============================] - 0s 1ms/step - loss: 0.6943 - accuracy: 0.4990\n",
      "Epoch 2/200\n",
      "32/32 [==============================] - 0s 2ms/step - loss: 0.6941 - accuracy: 0.4870\n",
      "Epoch 3/200\n",
      "32/32 [==============================] - 0s 2ms/step - loss: 0.6946 - accuracy: 0.4690\n",
      "Epoch 4/200\n",
      "32/32 [==============================] - 0s 2ms/step - loss: 0.6941 - accuracy: 0.4860\n",
      "Epoch 5/200\n",
      "32/32 [==============================] - 0s 2ms/step - loss: 0.6940 - accuracy: 0.4640\n",
      "Epoch 6/200\n",
      "32/32 [==============================] - 0s 1ms/step - loss: 0.6936 - accuracy: 0.5020\n",
      "Epoch 7/200\n",
      "32/32 [==============================] - 0s 1ms/step - loss: 0.6943 - accuracy: 0.4980\n",
      "Epoch 8/200\n",
      "32/32 [==============================] - 0s 2ms/step - loss: 0.6941 - accuracy: 0.4810\n",
      "Epoch 9/200\n",
      "32/32 [==============================] - 0s 1ms/step - loss: 0.6940 - accuracy: 0.4790\n",
      "Epoch 10/200\n",
      "32/32 [==============================] - 0s 2ms/step - loss: 0.6938 - accuracy: 0.4800\n",
      "Epoch 11/200\n",
      "32/32 [==============================] - 0s 1ms/step - loss: 0.6944 - accuracy: 0.4550\n",
      "Epoch 12/200\n",
      "32/32 [==============================] - 0s 1ms/step - loss: 0.6945 - accuracy: 0.4740\n",
      "Epoch 13/200\n",
      "32/32 [==============================] - 0s 1ms/step - loss: 0.6943 - accuracy: 0.4910\n",
      "Epoch 14/200\n",
      "32/32 [==============================] - 0s 2ms/step - loss: 0.6944 - accuracy: 0.5030\n",
      "Epoch 15/200\n",
      "32/32 [==============================] - 0s 2ms/step - loss: 0.6941 - accuracy: 0.4490\n",
      "Epoch 16/200\n",
      "32/32 [==============================] - 0s 1ms/step - loss: 0.6944 - accuracy: 0.4890\n",
      "Epoch 17/200\n",
      "32/32 [==============================] - 0s 2ms/step - loss: 0.6941 - accuracy: 0.4910\n",
      "Epoch 18/200\n",
      "32/32 [==============================] - 0s 1ms/step - loss: 0.6940 - accuracy: 0.4760\n",
      "Epoch 19/200\n",
      "32/32 [==============================] - 0s 1ms/step - loss: 0.6941 - accuracy: 0.4820\n",
      "Epoch 20/200\n",
      "32/32 [==============================] - 0s 997us/step - loss: 0.6941 - accuracy: 0.4550\n",
      "Epoch 21/200\n",
      "32/32 [==============================] - 0s 2ms/step - loss: 0.6939 - accuracy: 0.4900\n",
      "Epoch 22/200\n",
      "32/32 [==============================] - 0s 933us/step - loss: 0.6942 - accuracy: 0.4690\n",
      "Epoch 23/200\n",
      "32/32 [==============================] - 0s 1ms/step - loss: 0.6940 - accuracy: 0.4840\n",
      "Epoch 24/200\n",
      "32/32 [==============================] - 0s 1ms/step - loss: 0.6942 - accuracy: 0.4680\n",
      "Epoch 25/200\n",
      "32/32 [==============================] - 0s 997us/step - loss: 0.6939 - accuracy: 0.4890\n",
      "Epoch 26/200\n",
      "32/32 [==============================] - 0s 1ms/step - loss: 0.6943 - accuracy: 0.4740\n",
      "Epoch 27/200\n",
      "32/32 [==============================] - 0s 1ms/step - loss: 0.6938 - accuracy: 0.5060\n",
      "Epoch 28/200\n",
      "32/32 [==============================] - 0s 1ms/step - loss: 0.6943 - accuracy: 0.4690\n",
      "Epoch 29/200\n",
      "32/32 [==============================] - 0s 1ms/step - loss: 0.6942 - accuracy: 0.4620\n",
      "Epoch 30/200\n",
      "32/32 [==============================] - 0s 1ms/step - loss: 0.6941 - accuracy: 0.4870\n",
      "Epoch 31/200\n",
      "32/32 [==============================] - 0s 1ms/step - loss: 0.6942 - accuracy: 0.5230\n",
      "Epoch 32/200\n",
      "32/32 [==============================] - 0s 2ms/step - loss: 0.6941 - accuracy: 0.4670\n",
      "Epoch 33/200\n",
      "32/32 [==============================] - 0s 1ms/step - loss: 0.6942 - accuracy: 0.4760\n",
      "Epoch 34/200\n",
      "32/32 [==============================] - 0s 901us/step - loss: 0.6946 - accuracy: 0.4590\n",
      "Epoch 35/200\n",
      "32/32 [==============================] - 0s 1ms/step - loss: 0.6941 - accuracy: 0.5010\n",
      "Epoch 36/200\n",
      "32/32 [==============================] - 0s 2ms/step - loss: 0.6943 - accuracy: 0.4710\n",
      "Epoch 37/200\n",
      "32/32 [==============================] - 0s 2ms/step - loss: 0.6940 - accuracy: 0.5020\n",
      "Epoch 38/200\n",
      "32/32 [==============================] - 0s 1ms/step - loss: 0.6940 - accuracy: 0.4670\n",
      "Epoch 39/200\n",
      "32/32 [==============================] - 0s 993us/step - loss: 0.6941 - accuracy: 0.4350\n",
      "Epoch 40/200\n",
      "32/32 [==============================] - 0s 1ms/step - loss: 0.6948 - accuracy: 0.4720\n",
      "Epoch 41/200\n",
      "32/32 [==============================] - 0s 1ms/step - loss: 0.6941 - accuracy: 0.4730\n",
      "Epoch 42/200\n",
      "32/32 [==============================] - 0s 878us/step - loss: 0.6941 - accuracy: 0.4640\n",
      "Epoch 43/200\n",
      "32/32 [==============================] - 0s 1ms/step - loss: 0.6942 - accuracy: 0.4850\n",
      "Epoch 44/200\n",
      "32/32 [==============================] - 0s 965us/step - loss: 0.6935 - accuracy: 0.5080\n",
      "Epoch 45/200\n",
      "32/32 [==============================] - 0s 1ms/step - loss: 0.6944 - accuracy: 0.4710\n",
      "Epoch 46/200\n",
      "32/32 [==============================] - 0s 1ms/step - loss: 0.6942 - accuracy: 0.4850\n",
      "Epoch 47/200\n",
      "32/32 [==============================] - 0s 965us/step - loss: 0.6939 - accuracy: 0.4940\n",
      "Epoch 48/200\n",
      "32/32 [==============================] - 0s 2ms/step - loss: 0.6939 - accuracy: 0.4900\n",
      "Epoch 49/200\n",
      "32/32 [==============================] - 0s 965us/step - loss: 0.6941 - accuracy: 0.4770\n",
      "Epoch 50/200\n",
      "32/32 [==============================] - 0s 1ms/step - loss: 0.6941 - accuracy: 0.4980\n",
      "Epoch 51/200\n",
      "32/32 [==============================] - 0s 966us/step - loss: 0.6942 - accuracy: 0.4820\n",
      "Epoch 52/200\n",
      "32/32 [==============================] - 0s 1ms/step - loss: 0.6941 - accuracy: 0.4890\n",
      "Epoch 53/200\n",
      "32/32 [==============================] - 0s 933us/step - loss: 0.6939 - accuracy: 0.4690\n",
      "Epoch 54/200\n",
      "32/32 [==============================] - 0s 2ms/step - loss: 0.6943 - accuracy: 0.4920\n",
      "Epoch 55/200\n",
      "32/32 [==============================] - 0s 1ms/step - loss: 0.6942 - accuracy: 0.4970\n",
      "Epoch 56/200\n",
      "32/32 [==============================] - 0s 1ms/step - loss: 0.6940 - accuracy: 0.4800\n",
      "Epoch 57/200\n",
      "32/32 [==============================] - 0s 1ms/step - loss: 0.6944 - accuracy: 0.4710\n",
      "Epoch 58/200\n",
      "32/32 [==============================] - 0s 1ms/step - loss: 0.6942 - accuracy: 0.4870\n",
      "Epoch 59/200\n",
      "32/32 [==============================] - 0s 1ms/step - loss: 0.6939 - accuracy: 0.5030\n",
      "Epoch 60/200\n",
      "32/32 [==============================] - 0s 1ms/step - loss: 0.6942 - accuracy: 0.5060\n",
      "Epoch 61/200\n",
      "32/32 [==============================] - 0s 1ms/step - loss: 0.6944 - accuracy: 0.4990\n",
      "Epoch 62/200\n",
      "32/32 [==============================] - 0s 901us/step - loss: 0.6941 - accuracy: 0.4760\n",
      "Epoch 63/200\n",
      "32/32 [==============================] - 0s 2ms/step - loss: 0.6940 - accuracy: 0.4690\n",
      "Epoch 64/200\n",
      "32/32 [==============================] - 0s 997us/step - loss: 0.6942 - accuracy: 0.4930\n",
      "Epoch 65/200\n",
      "32/32 [==============================] - 0s 1ms/step - loss: 0.6943 - accuracy: 0.4690\n",
      "Epoch 66/200\n",
      "32/32 [==============================] - 0s 1ms/step - loss: 0.6940 - accuracy: 0.4770\n",
      "Epoch 67/200\n",
      "32/32 [==============================] - 0s 2ms/step - loss: 0.6945 - accuracy: 0.4670\n",
      "Epoch 68/200\n",
      "32/32 [==============================] - 0s 916us/step - loss: 0.6939 - accuracy: 0.4680\n",
      "Epoch 69/200\n",
      "32/32 [==============================] - 0s 905us/step - loss: 0.6943 - accuracy: 0.5070\n",
      "Epoch 70/200\n",
      "32/32 [==============================] - 0s 966us/step - loss: 0.6943 - accuracy: 0.4630\n",
      "Epoch 71/200\n",
      "32/32 [==============================] - 0s 1ms/step - loss: 0.6939 - accuracy: 0.4820\n",
      "Epoch 72/200\n",
      "32/32 [==============================] - 0s 965us/step - loss: 0.6942 - accuracy: 0.4890\n",
      "Epoch 73/200\n",
      "32/32 [==============================] - 0s 1ms/step - loss: 0.6941 - accuracy: 0.4760\n",
      "Epoch 74/200\n",
      "32/32 [==============================] - 0s 1ms/step - loss: 0.6940 - accuracy: 0.5090\n",
      "Epoch 75/200\n",
      "32/32 [==============================] - 0s 1ms/step - loss: 0.6941 - accuracy: 0.4940\n",
      "Epoch 76/200\n",
      "32/32 [==============================] - 0s 1ms/step - loss: 0.6940 - accuracy: 0.5010\n",
      "Epoch 77/200\n",
      "32/32 [==============================] - 0s 2ms/step - loss: 0.6942 - accuracy: 0.4870\n",
      "Epoch 78/200\n",
      "32/32 [==============================] - 0s 2ms/step - loss: 0.6941 - accuracy: 0.4610\n",
      "Epoch 79/200\n",
      "32/32 [==============================] - 0s 2ms/step - loss: 0.6940 - accuracy: 0.4860\n",
      "Epoch 80/200\n",
      "32/32 [==============================] - 0s 2ms/step - loss: 0.6943 - accuracy: 0.5050\n",
      "Epoch 81/200\n",
      "32/32 [==============================] - 0s 2ms/step - loss: 0.6943 - accuracy: 0.5050\n",
      "Epoch 82/200\n",
      "32/32 [==============================] - 0s 2ms/step - loss: 0.6941 - accuracy: 0.4690\n",
      "Epoch 83/200\n",
      "32/32 [==============================] - 0s 1ms/step - loss: 0.6941 - accuracy: 0.4930\n",
      "Epoch 84/200\n",
      "32/32 [==============================] - 0s 2ms/step - loss: 0.6942 - accuracy: 0.4960\n",
      "Epoch 85/200\n",
      "32/32 [==============================] - 0s 997us/step - loss: 0.6939 - accuracy: 0.4930\n",
      "Epoch 86/200\n",
      "32/32 [==============================] - 0s 1ms/step - loss: 0.6940 - accuracy: 0.4880\n",
      "Epoch 87/200\n",
      "32/32 [==============================] - 0s 2ms/step - loss: 0.6942 - accuracy: 0.4720\n",
      "Epoch 88/200\n",
      "32/32 [==============================] - 0s 1ms/step - loss: 0.6944 - accuracy: 0.4470\n",
      "Epoch 89/200\n",
      "32/32 [==============================] - 0s 1ms/step - loss: 0.6945 - accuracy: 0.4720\n",
      "Epoch 90/200\n",
      "32/32 [==============================] - 0s 2ms/step - loss: 0.6941 - accuracy: 0.4820\n",
      "Epoch 91/200\n",
      "32/32 [==============================] - 0s 1ms/step - loss: 0.6944 - accuracy: 0.4860\n",
      "Epoch 92/200\n",
      "32/32 [==============================] - 0s 838us/step - loss: 0.6941 - accuracy: 0.5050\n",
      "Epoch 93/200\n",
      "32/32 [==============================] - 0s 1ms/step - loss: 0.6941 - accuracy: 0.4720\n",
      "Epoch 94/200\n",
      "32/32 [==============================] - 0s 1ms/step - loss: 0.6946 - accuracy: 0.4770\n",
      "Epoch 95/200\n",
      "32/32 [==============================] - 0s 901us/step - loss: 0.6940 - accuracy: 0.4760\n",
      "Epoch 96/200\n",
      "32/32 [==============================] - 0s 1ms/step - loss: 0.6945 - accuracy: 0.4610\n",
      "Epoch 97/200\n",
      "32/32 [==============================] - 0s 1ms/step - loss: 0.6942 - accuracy: 0.4690\n",
      "Epoch 98/200\n",
      "32/32 [==============================] - 0s 894us/step - loss: 0.6942 - accuracy: 0.4840\n",
      "Epoch 99/200\n",
      "32/32 [==============================] - 0s 1ms/step - loss: 0.6944 - accuracy: 0.4980\n",
      "Epoch 100/200\n",
      "32/32 [==============================] - 0s 973us/step - loss: 0.6943 - accuracy: 0.4850\n",
      "Epoch 101/200\n",
      "32/32 [==============================] - 0s 1ms/step - loss: 0.6939 - accuracy: 0.5060\n",
      "Epoch 102/200\n",
      "32/32 [==============================] - 0s 965us/step - loss: 0.6946 - accuracy: 0.4750\n",
      "Epoch 103/200\n",
      "32/32 [==============================] - 0s 893us/step - loss: 0.6944 - accuracy: 0.4760\n",
      "Epoch 104/200\n",
      "32/32 [==============================] - 0s 1ms/step - loss: 0.6941 - accuracy: 0.4900\n",
      "Epoch 105/200\n",
      "32/32 [==============================] - 0s 1ms/step - loss: 0.6939 - accuracy: 0.4960\n",
      "Epoch 106/200\n",
      "32/32 [==============================] - 0s 1ms/step - loss: 0.6940 - accuracy: 0.4950\n",
      "Epoch 107/200\n",
      "32/32 [==============================] - 0s 1ms/step - loss: 0.6938 - accuracy: 0.4690\n",
      "Epoch 108/200\n",
      "32/32 [==============================] - 0s 1ms/step - loss: 0.6943 - accuracy: 0.4940\n",
      "Epoch 109/200\n",
      "32/32 [==============================] - 0s 965us/step - loss: 0.6942 - accuracy: 0.4510\n",
      "Epoch 110/200\n",
      "32/32 [==============================] - 0s 1ms/step - loss: 0.6944 - accuracy: 0.4570\n",
      "Epoch 111/200\n",
      "32/32 [==============================] - 0s 1ms/step - loss: 0.6943 - accuracy: 0.4820\n",
      "Epoch 112/200\n",
      "32/32 [==============================] - 0s 1ms/step - loss: 0.6946 - accuracy: 0.4770\n",
      "Epoch 113/200\n",
      "32/32 [==============================] - 0s 901us/step - loss: 0.6944 - accuracy: 0.4740\n",
      "Epoch 114/200\n",
      "32/32 [==============================] - 0s 1ms/step - loss: 0.6944 - accuracy: 0.4660\n",
      "Epoch 115/200\n",
      "32/32 [==============================] - 0s 1ms/step - loss: 0.6941 - accuracy: 0.4690\n",
      "Epoch 116/200\n",
      "32/32 [==============================] - 0s 1ms/step - loss: 0.6942 - accuracy: 0.4830\n",
      "Epoch 117/200\n",
      "32/32 [==============================] - 0s 1ms/step - loss: 0.6943 - accuracy: 0.5000\n",
      "Epoch 118/200\n",
      "32/32 [==============================] - 0s 1ms/step - loss: 0.6939 - accuracy: 0.4990\n",
      "Epoch 119/200\n",
      "32/32 [==============================] - 0s 1ms/step - loss: 0.6944 - accuracy: 0.4750\n",
      "Epoch 120/200\n",
      "32/32 [==============================] - 0s 1ms/step - loss: 0.6940 - accuracy: 0.4980\n",
      "Epoch 121/200\n",
      "32/32 [==============================] - 0s 934us/step - loss: 0.6942 - accuracy: 0.4740\n",
      "Epoch 122/200\n",
      "32/32 [==============================] - 0s 1ms/step - loss: 0.6941 - accuracy: 0.4920\n",
      "Epoch 123/200\n",
      "32/32 [==============================] - 0s 1ms/step - loss: 0.6944 - accuracy: 0.4640\n",
      "Epoch 124/200\n",
      "32/32 [==============================] - 0s 2ms/step - loss: 0.6943 - accuracy: 0.4660\n",
      "Epoch 125/200\n",
      "32/32 [==============================] - 0s 1ms/step - loss: 0.6940 - accuracy: 0.4800\n",
      "Epoch 126/200\n",
      "32/32 [==============================] - 0s 1ms/step - loss: 0.6941 - accuracy: 0.4960\n",
      "Epoch 127/200\n",
      "32/32 [==============================] - 0s 1ms/step - loss: 0.6942 - accuracy: 0.4760\n",
      "Epoch 128/200\n",
      "32/32 [==============================] - 0s 933us/step - loss: 0.6943 - accuracy: 0.4920\n",
      "Epoch 129/200\n",
      "32/32 [==============================] - 0s 1ms/step - loss: 0.6939 - accuracy: 0.5100\n",
      "Epoch 130/200\n",
      "32/32 [==============================] - 0s 2ms/step - loss: 0.6936 - accuracy: 0.4840\n",
      "Epoch 131/200\n",
      "32/32 [==============================] - 0s 1ms/step - loss: 0.6944 - accuracy: 0.4780\n",
      "Epoch 132/200\n",
      "32/32 [==============================] - 0s 1ms/step - loss: 0.6939 - accuracy: 0.4760\n",
      "Epoch 133/200\n",
      "32/32 [==============================] - 0s 1ms/step - loss: 0.6942 - accuracy: 0.4800\n",
      "Epoch 134/200\n",
      "32/32 [==============================] - 0s 1ms/step - loss: 0.6944 - accuracy: 0.4740\n",
      "Epoch 135/200\n",
      "32/32 [==============================] - 0s 2ms/step - loss: 0.6943 - accuracy: 0.4670\n",
      "Epoch 136/200\n",
      "32/32 [==============================] - 0s 2ms/step - loss: 0.6944 - accuracy: 0.4590\n",
      "Epoch 137/200\n",
      "32/32 [==============================] - 0s 1ms/step - loss: 0.6943 - accuracy: 0.4840\n",
      "Epoch 138/200\n",
      "32/32 [==============================] - 0s 1ms/step - loss: 0.6943 - accuracy: 0.4610\n",
      "Epoch 139/200\n",
      "32/32 [==============================] - 0s 1ms/step - loss: 0.6942 - accuracy: 0.4810\n",
      "Epoch 140/200\n",
      "32/32 [==============================] - 0s 1ms/step - loss: 0.6942 - accuracy: 0.4610\n",
      "Epoch 141/200\n",
      "32/32 [==============================] - 0s 997us/step - loss: 0.6941 - accuracy: 0.4630\n",
      "Epoch 142/200\n",
      "32/32 [==============================] - 0s 2ms/step - loss: 0.6941 - accuracy: 0.4790\n",
      "Epoch 143/200\n",
      "32/32 [==============================] - 0s 2ms/step - loss: 0.6943 - accuracy: 0.4790\n",
      "Epoch 144/200\n",
      "32/32 [==============================] - 0s 1ms/step - loss: 0.6943 - accuracy: 0.4650\n",
      "Epoch 145/200\n",
      "32/32 [==============================] - 0s 1ms/step - loss: 0.6943 - accuracy: 0.4990\n",
      "Epoch 146/200\n",
      "32/32 [==============================] - 0s 1ms/step - loss: 0.6945 - accuracy: 0.4570\n",
      "Epoch 147/200\n",
      "32/32 [==============================] - 0s 1ms/step - loss: 0.6943 - accuracy: 0.5110\n",
      "Epoch 148/200\n",
      "32/32 [==============================] - 0s 1ms/step - loss: 0.6943 - accuracy: 0.4880\n",
      "Epoch 149/200\n",
      "32/32 [==============================] - 0s 1ms/step - loss: 0.6941 - accuracy: 0.4500\n",
      "Epoch 150/200\n",
      "32/32 [==============================] - 0s 1ms/step - loss: 0.6943 - accuracy: 0.4700\n",
      "Epoch 151/200\n",
      "32/32 [==============================] - 0s 1ms/step - loss: 0.6938 - accuracy: 0.4620\n",
      "Epoch 152/200\n",
      "32/32 [==============================] - 0s 1ms/step - loss: 0.6940 - accuracy: 0.4990\n",
      "Epoch 153/200\n",
      "32/32 [==============================] - 0s 1ms/step - loss: 0.6942 - accuracy: 0.4870\n",
      "Epoch 154/200\n",
      "32/32 [==============================] - 0s 1ms/step - loss: 0.6936 - accuracy: 0.4810\n",
      "Epoch 155/200\n",
      "32/32 [==============================] - 0s 2ms/step - loss: 0.6944 - accuracy: 0.4780\n",
      "Epoch 156/200\n",
      "32/32 [==============================] - 0s 1ms/step - loss: 0.6944 - accuracy: 0.4680\n",
      "Epoch 157/200\n",
      "32/32 [==============================] - 0s 2ms/step - loss: 0.6944 - accuracy: 0.4990\n",
      "Epoch 158/200\n",
      "32/32 [==============================] - 0s 1ms/step - loss: 0.6940 - accuracy: 0.4940\n",
      "Epoch 159/200\n",
      "32/32 [==============================] - 0s 1ms/step - loss: 0.6943 - accuracy: 0.4710\n",
      "Epoch 160/200\n",
      "32/32 [==============================] - 0s 1ms/step - loss: 0.6943 - accuracy: 0.4880\n",
      "Epoch 161/200\n",
      "32/32 [==============================] - 0s 1ms/step - loss: 0.6942 - accuracy: 0.4770\n",
      "Epoch 162/200\n",
      "32/32 [==============================] - 0s 1ms/step - loss: 0.6943 - accuracy: 0.4920\n",
      "Epoch 163/200\n",
      "32/32 [==============================] - 0s 1ms/step - loss: 0.6946 - accuracy: 0.4690\n",
      "Epoch 164/200\n",
      "32/32 [==============================] - 0s 1ms/step - loss: 0.6943 - accuracy: 0.4610\n",
      "Epoch 165/200\n",
      "32/32 [==============================] - 0s 2ms/step - loss: 0.6939 - accuracy: 0.4970\n",
      "Epoch 166/200\n",
      "32/32 [==============================] - 0s 997us/step - loss: 0.6942 - accuracy: 0.4800\n",
      "Epoch 167/200\n",
      "32/32 [==============================] - 0s 2ms/step - loss: 0.6948 - accuracy: 0.4930\n",
      "Epoch 168/200\n",
      "32/32 [==============================] - 0s 997us/step - loss: 0.6941 - accuracy: 0.4690\n",
      "Epoch 169/200\n",
      "32/32 [==============================] - 0s 2ms/step - loss: 0.6940 - accuracy: 0.4880\n",
      "Epoch 170/200\n",
      "32/32 [==============================] - 0s 2ms/step - loss: 0.6938 - accuracy: 0.4850\n",
      "Epoch 171/200\n",
      "32/32 [==============================] - 0s 1ms/step - loss: 0.6939 - accuracy: 0.4980\n",
      "Epoch 172/200\n",
      "32/32 [==============================] - 0s 1ms/step - loss: 0.6942 - accuracy: 0.4770\n",
      "Epoch 173/200\n",
      "32/32 [==============================] - 0s 1ms/step - loss: 0.6942 - accuracy: 0.4730\n",
      "Epoch 174/200\n",
      "32/32 [==============================] - 0s 1ms/step - loss: 0.6943 - accuracy: 0.4950\n",
      "Epoch 175/200\n",
      "32/32 [==============================] - 0s 1ms/step - loss: 0.6946 - accuracy: 0.4900\n",
      "Epoch 176/200\n",
      "32/32 [==============================] - 0s 1ms/step - loss: 0.6942 - accuracy: 0.4770\n",
      "Epoch 177/200\n",
      "32/32 [==============================] - 0s 1ms/step - loss: 0.6941 - accuracy: 0.4670\n",
      "Epoch 178/200\n",
      "32/32 [==============================] - 0s 1ms/step - loss: 0.6941 - accuracy: 0.4840\n",
      "Epoch 179/200\n",
      "32/32 [==============================] - 0s 1ms/step - loss: 0.6943 - accuracy: 0.4880\n",
      "Epoch 180/200\n",
      "32/32 [==============================] - 0s 1ms/step - loss: 0.6942 - accuracy: 0.4960\n",
      "Epoch 181/200\n",
      "32/32 [==============================] - 0s 987us/step - loss: 0.6943 - accuracy: 0.4890\n",
      "Epoch 182/200\n",
      "32/32 [==============================] - 0s 1ms/step - loss: 0.6941 - accuracy: 0.4760\n",
      "Epoch 183/200\n",
      "32/32 [==============================] - 0s 982us/step - loss: 0.6942 - accuracy: 0.5030\n",
      "Epoch 184/200\n",
      "32/32 [==============================] - 0s 1ms/step - loss: 0.6943 - accuracy: 0.4890\n",
      "Epoch 185/200\n",
      "32/32 [==============================] - 0s 1ms/step - loss: 0.6944 - accuracy: 0.4890\n",
      "Epoch 186/200\n",
      "32/32 [==============================] - 0s 1ms/step - loss: 0.6945 - accuracy: 0.4810\n",
      "Epoch 187/200\n",
      "32/32 [==============================] - 0s 1ms/step - loss: 0.6943 - accuracy: 0.4760\n",
      "Epoch 188/200\n",
      "32/32 [==============================] - 0s 2ms/step - loss: 0.6943 - accuracy: 0.4910\n",
      "Epoch 189/200\n",
      "32/32 [==============================] - 0s 1ms/step - loss: 0.6940 - accuracy: 0.5120\n",
      "Epoch 190/200\n",
      "32/32 [==============================] - 0s 1ms/step - loss: 0.6943 - accuracy: 0.4720\n",
      "Epoch 191/200\n",
      "32/32 [==============================] - 0s 1ms/step - loss: 0.6941 - accuracy: 0.4770\n",
      "Epoch 192/200\n",
      "32/32 [==============================] - 0s 956us/step - loss: 0.6940 - accuracy: 0.4970\n",
      "Epoch 193/200\n",
      "32/32 [==============================] - 0s 2ms/step - loss: 0.6939 - accuracy: 0.4720\n",
      "Epoch 194/200\n",
      "32/32 [==============================] - 0s 1ms/step - loss: 0.6941 - accuracy: 0.4940\n",
      "Epoch 195/200\n",
      "32/32 [==============================] - 0s 1ms/step - loss: 0.6942 - accuracy: 0.4660\n",
      "Epoch 196/200\n",
      "32/32 [==============================] - 0s 2ms/step - loss: 0.6943 - accuracy: 0.4740\n",
      "Epoch 197/200\n",
      "32/32 [==============================] - 0s 1ms/step - loss: 0.6942 - accuracy: 0.4890\n",
      "Epoch 198/200\n",
      "32/32 [==============================] - 0s 1ms/step - loss: 0.6943 - accuracy: 0.4830\n",
      "Epoch 199/200\n",
      "32/32 [==============================] - 0s 1ms/step - loss: 0.6937 - accuracy: 0.5120\n",
      "Epoch 200/200\n",
      "32/32 [==============================] - 0s 1ms/step - loss: 0.6941 - accuracy: 0.4810\n"
     ]
    },
    {
     "data": {
      "text/plain": [
       "<keras.callbacks.History at 0x1eaa1a719a0>"
      ]
     },
     "execution_count": 13,
     "metadata": {},
     "output_type": "execute_result"
    }
   ],
   "source": [
    "# Train our model for longer\n",
    "model_1.fit(X,y, epochs=200)"
   ]
  },
  {
   "cell_type": "code",
   "execution_count": 14,
   "metadata": {},
   "outputs": [
    {
     "name": "stdout",
     "output_type": "stream",
     "text": [
      "32/32 [==============================] - 0s 874us/step - loss: 0.6935 - accuracy: 0.5000\n"
     ]
    },
    {
     "data": {
      "text/plain": [
       "[0.6934829950332642, 0.5]"
      ]
     },
     "execution_count": 14,
     "metadata": {},
     "output_type": "execute_result"
    }
   ],
   "source": [
    "# Evaluate our model (Not good here because we evaluate on our training data, We need to fit on training data on evaluate on testing data)\n",
    "model_1.evaluate(X,y)"
   ]
  },
  {
   "cell_type": "markdown",
   "metadata": {},
   "source": [
    "Even after 200 passes of the data it's still performing poorly. \n",
    "\n",
    "So let's add another layer to improve our model"
   ]
  },
  {
   "cell_type": "code",
   "execution_count": 15,
   "metadata": {},
   "outputs": [
    {
     "name": "stdout",
     "output_type": "stream",
     "text": [
      "Epoch 1/200\n",
      "32/32 [==============================] - 0s 997us/step - loss: 1.8044 - accuracy: 0.5090\n",
      "Epoch 2/200\n",
      "32/32 [==============================] - 0s 1ms/step - loss: 0.7235 - accuracy: 0.5030\n",
      "Epoch 3/200\n",
      "32/32 [==============================] - 0s 2ms/step - loss: 0.7145 - accuracy: 0.4950\n",
      "Epoch 4/200\n",
      "32/32 [==============================] - 0s 2ms/step - loss: 0.7078 - accuracy: 0.5010\n",
      "Epoch 5/200\n",
      "32/32 [==============================] - 0s 2ms/step - loss: 0.7037 - accuracy: 0.5010\n",
      "Epoch 6/200\n",
      "32/32 [==============================] - 0s 1ms/step - loss: 0.7008 - accuracy: 0.4960\n",
      "Epoch 7/200\n",
      "32/32 [==============================] - 0s 1ms/step - loss: 0.7001 - accuracy: 0.4990\n",
      "Epoch 8/200\n",
      "32/32 [==============================] - 0s 1ms/step - loss: 0.6984 - accuracy: 0.4980\n",
      "Epoch 9/200\n",
      "32/32 [==============================] - 0s 1ms/step - loss: 0.6973 - accuracy: 0.4960\n",
      "Epoch 10/200\n",
      "32/32 [==============================] - 0s 1ms/step - loss: 0.6962 - accuracy: 0.4920\n",
      "Epoch 11/200\n",
      "32/32 [==============================] - 0s 2ms/step - loss: 0.6962 - accuracy: 0.4950\n",
      "Epoch 12/200\n",
      "32/32 [==============================] - 0s 2ms/step - loss: 0.6961 - accuracy: 0.4980\n",
      "Epoch 13/200\n",
      "32/32 [==============================] - 0s 2ms/step - loss: 0.6955 - accuracy: 0.4930\n",
      "Epoch 14/200\n",
      "32/32 [==============================] - 0s 2ms/step - loss: 0.6954 - accuracy: 0.4980\n",
      "Epoch 15/200\n",
      "32/32 [==============================] - 0s 2ms/step - loss: 0.6947 - accuracy: 0.4900\n",
      "Epoch 16/200\n",
      "32/32 [==============================] - 0s 2ms/step - loss: 0.6950 - accuracy: 0.5010\n",
      "Epoch 17/200\n",
      "32/32 [==============================] - 0s 1ms/step - loss: 0.6944 - accuracy: 0.5190\n",
      "Epoch 18/200\n",
      "32/32 [==============================] - 0s 1ms/step - loss: 0.6944 - accuracy: 0.4820\n",
      "Epoch 19/200\n",
      "32/32 [==============================] - 0s 1ms/step - loss: 0.6943 - accuracy: 0.5120\n",
      "Epoch 20/200\n",
      "32/32 [==============================] - 0s 826us/step - loss: 0.6942 - accuracy: 0.5060\n",
      "Epoch 21/200\n",
      "32/32 [==============================] - 0s 1ms/step - loss: 0.6939 - accuracy: 0.5060\n",
      "Epoch 22/200\n",
      "32/32 [==============================] - 0s 1ms/step - loss: 0.6943 - accuracy: 0.4630\n",
      "Epoch 23/200\n",
      "32/32 [==============================] - 0s 1ms/step - loss: 0.6940 - accuracy: 0.5130\n",
      "Epoch 24/200\n",
      "32/32 [==============================] - 0s 965us/step - loss: 0.6942 - accuracy: 0.4710\n",
      "Epoch 25/200\n",
      "32/32 [==============================] - 0s 1ms/step - loss: 0.6938 - accuracy: 0.4730\n",
      "Epoch 26/200\n",
      "32/32 [==============================] - 0s 892us/step - loss: 0.6941 - accuracy: 0.4920\n",
      "Epoch 27/200\n",
      "32/32 [==============================] - 0s 1ms/step - loss: 0.6934 - accuracy: 0.5080\n",
      "Epoch 28/200\n",
      "32/32 [==============================] - 0s 1ms/step - loss: 0.6942 - accuracy: 0.4510\n",
      "Epoch 29/200\n",
      "32/32 [==============================] - 0s 933us/step - loss: 0.6940 - accuracy: 0.4830\n",
      "Epoch 30/200\n",
      "32/32 [==============================] - 0s 1ms/step - loss: 0.6938 - accuracy: 0.4940\n",
      "Epoch 31/200\n",
      "32/32 [==============================] - 0s 804us/step - loss: 0.6939 - accuracy: 0.5340\n",
      "Epoch 32/200\n",
      "32/32 [==============================] - 0s 1ms/step - loss: 0.6940 - accuracy: 0.4940\n",
      "Epoch 33/200\n",
      "32/32 [==============================] - 0s 1ms/step - loss: 0.6939 - accuracy: 0.4750\n",
      "Epoch 34/200\n",
      "32/32 [==============================] - 0s 836us/step - loss: 0.6944 - accuracy: 0.4910\n",
      "Epoch 35/200\n",
      "32/32 [==============================] - 0s 1ms/step - loss: 0.6938 - accuracy: 0.5150\n",
      "Epoch 36/200\n",
      "32/32 [==============================] - 0s 1ms/step - loss: 0.6942 - accuracy: 0.4680\n",
      "Epoch 37/200\n",
      "32/32 [==============================] - 0s 1ms/step - loss: 0.6937 - accuracy: 0.5160\n",
      "Epoch 38/200\n",
      "32/32 [==============================] - 0s 965us/step - loss: 0.6938 - accuracy: 0.4900\n",
      "Epoch 39/200\n",
      "32/32 [==============================] - 0s 1ms/step - loss: 0.6937 - accuracy: 0.4890\n",
      "Epoch 40/200\n",
      "32/32 [==============================] - 0s 1ms/step - loss: 0.6947 - accuracy: 0.4640\n",
      "Epoch 41/200\n",
      "32/32 [==============================] - 0s 1ms/step - loss: 0.6938 - accuracy: 0.4900\n",
      "Epoch 42/200\n",
      "32/32 [==============================] - 0s 933us/step - loss: 0.6939 - accuracy: 0.4990\n",
      "Epoch 43/200\n",
      "32/32 [==============================] - 0s 1ms/step - loss: 0.6939 - accuracy: 0.4860\n",
      "Epoch 44/200\n",
      "32/32 [==============================] - 0s 1ms/step - loss: 0.6932 - accuracy: 0.5130\n",
      "Epoch 45/200\n",
      "32/32 [==============================] - 0s 1ms/step - loss: 0.6942 - accuracy: 0.4890\n",
      "Epoch 46/200\n",
      "32/32 [==============================] - 0s 2ms/step - loss: 0.6939 - accuracy: 0.4900\n",
      "Epoch 47/200\n",
      "32/32 [==============================] - 0s 1ms/step - loss: 0.6935 - accuracy: 0.5090\n",
      "Epoch 48/200\n",
      "32/32 [==============================] - 0s 1ms/step - loss: 0.6937 - accuracy: 0.4930\n",
      "Epoch 49/200\n",
      "32/32 [==============================] - 0s 1ms/step - loss: 0.6939 - accuracy: 0.4830\n",
      "Epoch 50/200\n",
      "32/32 [==============================] - 0s 894us/step - loss: 0.6938 - accuracy: 0.5000\n",
      "Epoch 51/200\n",
      "32/32 [==============================] - 0s 1ms/step - loss: 0.6939 - accuracy: 0.4960\n",
      "Epoch 52/200\n",
      "32/32 [==============================] - 0s 1ms/step - loss: 0.6938 - accuracy: 0.4980\n",
      "Epoch 53/200\n",
      "32/32 [==============================] - 0s 944us/step - loss: 0.6938 - accuracy: 0.4720\n",
      "Epoch 54/200\n",
      "32/32 [==============================] - 0s 904us/step - loss: 0.6940 - accuracy: 0.4910\n",
      "Epoch 55/200\n",
      "32/32 [==============================] - 0s 929us/step - loss: 0.6939 - accuracy: 0.4970\n",
      "Epoch 56/200\n",
      "32/32 [==============================] - 0s 1ms/step - loss: 0.6938 - accuracy: 0.4870\n",
      "Epoch 57/200\n",
      "32/32 [==============================] - 0s 1ms/step - loss: 0.6940 - accuracy: 0.4870\n",
      "Epoch 58/200\n",
      "32/32 [==============================] - 0s 1ms/step - loss: 0.6940 - accuracy: 0.4870\n",
      "Epoch 59/200\n",
      "32/32 [==============================] - 0s 1ms/step - loss: 0.6934 - accuracy: 0.5130\n",
      "Epoch 60/200\n",
      "32/32 [==============================] - 0s 1ms/step - loss: 0.6938 - accuracy: 0.4920\n",
      "Epoch 61/200\n",
      "32/32 [==============================] - 0s 921us/step - loss: 0.6942 - accuracy: 0.4950\n",
      "Epoch 62/200\n",
      "32/32 [==============================] - 0s 975us/step - loss: 0.6937 - accuracy: 0.4950\n",
      "Epoch 63/200\n",
      "32/32 [==============================] - 0s 924us/step - loss: 0.6939 - accuracy: 0.4860\n",
      "Epoch 64/200\n",
      "32/32 [==============================] - 0s 1ms/step - loss: 0.6939 - accuracy: 0.4810\n",
      "Epoch 65/200\n",
      "32/32 [==============================] - 0s 764us/step - loss: 0.6939 - accuracy: 0.4980\n",
      "Epoch 66/200\n",
      "32/32 [==============================] - 0s 1ms/step - loss: 0.6938 - accuracy: 0.4910\n",
      "Epoch 67/200\n",
      "32/32 [==============================] - 0s 843us/step - loss: 0.6944 - accuracy: 0.4950\n",
      "Epoch 68/200\n",
      "32/32 [==============================] - 0s 1ms/step - loss: 0.6936 - accuracy: 0.4960\n",
      "Epoch 69/200\n",
      "32/32 [==============================] - 0s 1ms/step - loss: 0.6940 - accuracy: 0.5000\n",
      "Epoch 70/200\n",
      "32/32 [==============================] - 0s 1ms/step - loss: 0.6940 - accuracy: 0.4780\n",
      "Epoch 71/200\n",
      "32/32 [==============================] - 0s 1ms/step - loss: 0.6936 - accuracy: 0.4970\n",
      "Epoch 72/200\n",
      "32/32 [==============================] - 0s 1ms/step - loss: 0.6940 - accuracy: 0.4800\n",
      "Epoch 73/200\n",
      "32/32 [==============================] - 0s 954us/step - loss: 0.6937 - accuracy: 0.4840\n",
      "Epoch 74/200\n",
      "32/32 [==============================] - 0s 979us/step - loss: 0.6937 - accuracy: 0.4900\n",
      "Epoch 75/200\n",
      "32/32 [==============================] - 0s 952us/step - loss: 0.6938 - accuracy: 0.4940\n",
      "Epoch 76/200\n",
      "32/32 [==============================] - 0s 901us/step - loss: 0.6937 - accuracy: 0.5040\n",
      "Epoch 77/200\n",
      "32/32 [==============================] - 0s 1ms/step - loss: 0.6941 - accuracy: 0.4910\n",
      "Epoch 78/200\n",
      "32/32 [==============================] - 0s 1ms/step - loss: 0.6938 - accuracy: 0.4860\n",
      "Epoch 79/200\n",
      "32/32 [==============================] - 0s 1ms/step - loss: 0.6937 - accuracy: 0.5020\n",
      "Epoch 80/200\n",
      "32/32 [==============================] - 0s 924us/step - loss: 0.6941 - accuracy: 0.5000\n",
      "Epoch 81/200\n",
      "32/32 [==============================] - 0s 1ms/step - loss: 0.6941 - accuracy: 0.4820\n",
      "Epoch 82/200\n",
      "32/32 [==============================] - 0s 927us/step - loss: 0.6937 - accuracy: 0.4920\n",
      "Epoch 83/200\n",
      "32/32 [==============================] - 0s 992us/step - loss: 0.6938 - accuracy: 0.5120\n",
      "Epoch 84/200\n",
      "32/32 [==============================] - 0s 1ms/step - loss: 0.6941 - accuracy: 0.5000\n",
      "Epoch 85/200\n",
      "32/32 [==============================] - 0s 1ms/step - loss: 0.6936 - accuracy: 0.4830\n",
      "Epoch 86/200\n",
      "32/32 [==============================] - 0s 1ms/step - loss: 0.6937 - accuracy: 0.4830\n",
      "Epoch 87/200\n",
      "32/32 [==============================] - 0s 875us/step - loss: 0.6940 - accuracy: 0.4880\n",
      "Epoch 88/200\n",
      "32/32 [==============================] - 0s 1ms/step - loss: 0.6941 - accuracy: 0.4860\n",
      "Epoch 89/200\n",
      "32/32 [==============================] - 0s 879us/step - loss: 0.6943 - accuracy: 0.4910\n",
      "Epoch 90/200\n",
      "32/32 [==============================] - 0s 940us/step - loss: 0.6939 - accuracy: 0.4960\n",
      "Epoch 91/200\n",
      "32/32 [==============================] - 0s 835us/step - loss: 0.6941 - accuracy: 0.4970\n",
      "Epoch 92/200\n",
      "32/32 [==============================] - 0s 950us/step - loss: 0.6939 - accuracy: 0.4910\n",
      "Epoch 93/200\n",
      "32/32 [==============================] - 0s 936us/step - loss: 0.6938 - accuracy: 0.5040\n",
      "Epoch 94/200\n",
      "32/32 [==============================] - 0s 959us/step - loss: 0.6944 - accuracy: 0.4750\n",
      "Epoch 95/200\n",
      "32/32 [==============================] - 0s 829us/step - loss: 0.6936 - accuracy: 0.4840\n",
      "Epoch 96/200\n",
      "32/32 [==============================] - 0s 1ms/step - loss: 0.6942 - accuracy: 0.4690\n",
      "Epoch 97/200\n",
      "32/32 [==============================] - 0s 843us/step - loss: 0.6939 - accuracy: 0.4970\n",
      "Epoch 98/200\n",
      "32/32 [==============================] - 0s 1ms/step - loss: 0.6938 - accuracy: 0.5000\n",
      "Epoch 99/200\n",
      "32/32 [==============================] - 0s 978us/step - loss: 0.6943 - accuracy: 0.4980\n",
      "Epoch 100/200\n",
      "32/32 [==============================] - 0s 1ms/step - loss: 0.6941 - accuracy: 0.4690\n",
      "Epoch 101/200\n",
      "32/32 [==============================] - 0s 774us/step - loss: 0.6934 - accuracy: 0.5140\n",
      "Epoch 102/200\n",
      "32/32 [==============================] - 0s 1ms/step - loss: 0.6945 - accuracy: 0.4740\n",
      "Epoch 103/200\n",
      "32/32 [==============================] - 0s 1ms/step - loss: 0.6939 - accuracy: 0.4800\n",
      "Epoch 104/200\n",
      "32/32 [==============================] - 0s 894us/step - loss: 0.6938 - accuracy: 0.4980\n",
      "Epoch 105/200\n",
      "32/32 [==============================] - 0s 1ms/step - loss: 0.6935 - accuracy: 0.5040\n",
      "Epoch 106/200\n",
      "32/32 [==============================] - 0s 1ms/step - loss: 0.6938 - accuracy: 0.4820\n",
      "Epoch 107/200\n",
      "32/32 [==============================] - 0s 991us/step - loss: 0.6933 - accuracy: 0.5050\n",
      "Epoch 108/200\n",
      "32/32 [==============================] - 0s 897us/step - loss: 0.6940 - accuracy: 0.4960\n",
      "Epoch 109/200\n",
      "32/32 [==============================] - 0s 996us/step - loss: 0.6938 - accuracy: 0.4740\n",
      "Epoch 110/200\n",
      "32/32 [==============================] - 0s 995us/step - loss: 0.6942 - accuracy: 0.4780\n",
      "Epoch 111/200\n",
      "32/32 [==============================] - 0s 962us/step - loss: 0.6939 - accuracy: 0.4890\n",
      "Epoch 112/200\n",
      "32/32 [==============================] - 0s 923us/step - loss: 0.6945 - accuracy: 0.4790\n",
      "Epoch 113/200\n",
      "32/32 [==============================] - 0s 1ms/step - loss: 0.6942 - accuracy: 0.4780\n",
      "Epoch 114/200\n",
      "32/32 [==============================] - 0s 827us/step - loss: 0.6941 - accuracy: 0.4790\n",
      "Epoch 115/200\n",
      "32/32 [==============================] - 0s 1ms/step - loss: 0.6938 - accuracy: 0.4790\n",
      "Epoch 116/200\n",
      "32/32 [==============================] - 0s 946us/step - loss: 0.6939 - accuracy: 0.4920\n",
      "Epoch 117/200\n",
      "32/32 [==============================] - 0s 903us/step - loss: 0.6940 - accuracy: 0.5080\n",
      "Epoch 118/200\n",
      "32/32 [==============================] - 0s 1ms/step - loss: 0.6936 - accuracy: 0.5100\n",
      "Epoch 119/200\n",
      "32/32 [==============================] - 0s 904us/step - loss: 0.6943 - accuracy: 0.4790\n",
      "Epoch 120/200\n",
      "32/32 [==============================] - 0s 1ms/step - loss: 0.6937 - accuracy: 0.5040\n",
      "Epoch 121/200\n",
      "32/32 [==============================] - 0s 863us/step - loss: 0.6940 - accuracy: 0.4780\n",
      "Epoch 122/200\n",
      "32/32 [==============================] - 0s 1ms/step - loss: 0.6939 - accuracy: 0.4830\n",
      "Epoch 123/200\n",
      "32/32 [==============================] - 0s 859us/step - loss: 0.6942 - accuracy: 0.4780\n",
      "Epoch 124/200\n",
      "32/32 [==============================] - 0s 850us/step - loss: 0.6941 - accuracy: 0.4860\n",
      "Epoch 125/200\n",
      "32/32 [==============================] - 0s 1ms/step - loss: 0.6938 - accuracy: 0.4780\n",
      "Epoch 126/200\n",
      "32/32 [==============================] - 0s 875us/step - loss: 0.6938 - accuracy: 0.5020\n",
      "Epoch 127/200\n",
      "32/32 [==============================] - 0s 867us/step - loss: 0.6941 - accuracy: 0.4850\n",
      "Epoch 128/200\n",
      "32/32 [==============================] - 0s 1ms/step - loss: 0.6938 - accuracy: 0.4890\n",
      "Epoch 129/200\n",
      "32/32 [==============================] - 0s 961us/step - loss: 0.6936 - accuracy: 0.4920\n",
      "Epoch 130/200\n",
      "32/32 [==============================] - 0s 965us/step - loss: 0.6934 - accuracy: 0.5070\n",
      "Epoch 131/200\n",
      "32/32 [==============================] - 0s 1ms/step - loss: 0.6942 - accuracy: 0.4690\n",
      "Epoch 132/200\n",
      "32/32 [==============================] - 0s 1ms/step - loss: 0.6936 - accuracy: 0.4820\n",
      "Epoch 133/200\n",
      "32/32 [==============================] - 0s 939us/step - loss: 0.6939 - accuracy: 0.4800\n",
      "Epoch 134/200\n",
      "32/32 [==============================] - 0s 999us/step - loss: 0.6942 - accuracy: 0.4730\n",
      "Epoch 135/200\n",
      "32/32 [==============================] - 0s 904us/step - loss: 0.6939 - accuracy: 0.4850\n",
      "Epoch 136/200\n",
      "32/32 [==============================] - 0s 963us/step - loss: 0.6941 - accuracy: 0.4950\n",
      "Epoch 137/200\n",
      "32/32 [==============================] - 0s 773us/step - loss: 0.6939 - accuracy: 0.4880\n",
      "Epoch 138/200\n",
      "32/32 [==============================] - 0s 994us/step - loss: 0.6939 - accuracy: 0.4960\n",
      "Epoch 139/200\n",
      "32/32 [==============================] - 0s 895us/step - loss: 0.6939 - accuracy: 0.4800\n",
      "Epoch 140/200\n",
      "32/32 [==============================] - 0s 1ms/step - loss: 0.6938 - accuracy: 0.4820\n",
      "Epoch 141/200\n",
      "32/32 [==============================] - 0s 1ms/step - loss: 0.6939 - accuracy: 0.4940\n",
      "Epoch 142/200\n",
      "32/32 [==============================] - 0s 945us/step - loss: 0.6939 - accuracy: 0.4780\n",
      "Epoch 143/200\n",
      "32/32 [==============================] - 0s 917us/step - loss: 0.6940 - accuracy: 0.4990\n",
      "Epoch 144/200\n",
      "32/32 [==============================] - 0s 978us/step - loss: 0.6939 - accuracy: 0.4680\n",
      "Epoch 145/200\n",
      "32/32 [==============================] - 0s 945us/step - loss: 0.6937 - accuracy: 0.5120\n",
      "Epoch 146/200\n",
      "32/32 [==============================] - 0s 1ms/step - loss: 0.6943 - accuracy: 0.4950\n",
      "Epoch 147/200\n",
      "32/32 [==============================] - 0s 967us/step - loss: 0.6939 - accuracy: 0.5050\n",
      "Epoch 148/200\n",
      "32/32 [==============================] - 0s 1ms/step - loss: 0.6942 - accuracy: 0.4880\n",
      "Epoch 149/200\n",
      "32/32 [==============================] - 0s 999us/step - loss: 0.6939 - accuracy: 0.4850\n",
      "Epoch 150/200\n",
      "32/32 [==============================] - 0s 873us/step - loss: 0.6939 - accuracy: 0.4800\n",
      "Epoch 151/200\n",
      "32/32 [==============================] - 0s 909us/step - loss: 0.6936 - accuracy: 0.5110\n",
      "Epoch 152/200\n",
      "32/32 [==============================] - 0s 1ms/step - loss: 0.6938 - accuracy: 0.4990\n",
      "Epoch 153/200\n",
      "32/32 [==============================] - 0s 837us/step - loss: 0.6938 - accuracy: 0.5080\n",
      "Epoch 154/200\n",
      "32/32 [==============================] - 0s 1ms/step - loss: 0.6933 - accuracy: 0.4940\n",
      "Epoch 155/200\n",
      "32/32 [==============================] - 0s 939us/step - loss: 0.6941 - accuracy: 0.4790\n",
      "Epoch 156/200\n",
      "32/32 [==============================] - 0s 1ms/step - loss: 0.6941 - accuracy: 0.4700\n",
      "Epoch 157/200\n",
      "32/32 [==============================] - 0s 806us/step - loss: 0.6943 - accuracy: 0.4860\n",
      "Epoch 158/200\n",
      "32/32 [==============================] - 0s 937us/step - loss: 0.6937 - accuracy: 0.4950\n",
      "Epoch 159/200\n",
      "32/32 [==============================] - 0s 922us/step - loss: 0.6939 - accuracy: 0.4860\n",
      "Epoch 160/200\n",
      "32/32 [==============================] - 0s 922us/step - loss: 0.6940 - accuracy: 0.4870\n",
      "Epoch 161/200\n",
      "32/32 [==============================] - 0s 773us/step - loss: 0.6938 - accuracy: 0.4750\n",
      "Epoch 162/200\n",
      "32/32 [==============================] - 0s 905us/step - loss: 0.6941 - accuracy: 0.4870\n",
      "Epoch 163/200\n",
      "32/32 [==============================] - 0s 878us/step - loss: 0.6943 - accuracy: 0.4860\n",
      "Epoch 164/200\n",
      "32/32 [==============================] - 0s 835us/step - loss: 0.6939 - accuracy: 0.4790\n",
      "Epoch 165/200\n",
      "32/32 [==============================] - 0s 999us/step - loss: 0.6937 - accuracy: 0.5060\n",
      "Epoch 166/200\n",
      "32/32 [==============================] - 0s 848us/step - loss: 0.6938 - accuracy: 0.4740\n",
      "Epoch 167/200\n",
      "32/32 [==============================] - 0s 836us/step - loss: 0.6943 - accuracy: 0.4940\n",
      "Epoch 168/200\n",
      "32/32 [==============================] - 0s 1ms/step - loss: 0.6938 - accuracy: 0.4900\n",
      "Epoch 169/200\n",
      "32/32 [==============================] - 0s 867us/step - loss: 0.6937 - accuracy: 0.4850\n",
      "Epoch 170/200\n",
      "32/32 [==============================] - 0s 939us/step - loss: 0.6936 - accuracy: 0.4880\n",
      "Epoch 171/200\n",
      "32/32 [==============================] - 0s 923us/step - loss: 0.6937 - accuracy: 0.4920\n",
      "Epoch 172/200\n",
      "32/32 [==============================] - 0s 825us/step - loss: 0.6939 - accuracy: 0.4790\n",
      "Epoch 173/200\n",
      "32/32 [==============================] - 0s 1ms/step - loss: 0.6939 - accuracy: 0.4910\n",
      "Epoch 174/200\n",
      "32/32 [==============================] - 0s 742us/step - loss: 0.6939 - accuracy: 0.4980\n",
      "Epoch 175/200\n",
      "32/32 [==============================] - 0s 959us/step - loss: 0.6943 - accuracy: 0.4830\n",
      "Epoch 176/200\n",
      "32/32 [==============================] - 0s 977us/step - loss: 0.6939 - accuracy: 0.4950\n",
      "Epoch 177/200\n",
      "32/32 [==============================] - 0s 930us/step - loss: 0.6939 - accuracy: 0.4700\n",
      "Epoch 178/200\n",
      "32/32 [==============================] - 0s 864us/step - loss: 0.6938 - accuracy: 0.4870\n",
      "Epoch 179/200\n",
      "32/32 [==============================] - 0s 942us/step - loss: 0.6941 - accuracy: 0.4850\n",
      "Epoch 180/200\n",
      "32/32 [==============================] - 0s 929us/step - loss: 0.6938 - accuracy: 0.4830\n",
      "Epoch 181/200\n",
      "32/32 [==============================] - 0s 998us/step - loss: 0.6939 - accuracy: 0.4870\n",
      "Epoch 182/200\n",
      "32/32 [==============================] - 0s 1ms/step - loss: 0.6939 - accuracy: 0.4630\n",
      "Epoch 183/200\n",
      "32/32 [==============================] - 0s 793us/step - loss: 0.6940 - accuracy: 0.4960\n",
      "Epoch 184/200\n",
      "32/32 [==============================] - 0s 1ms/step - loss: 0.6941 - accuracy: 0.4780\n",
      "Epoch 185/200\n",
      "32/32 [==============================] - 0s 873us/step - loss: 0.6941 - accuracy: 0.4880\n",
      "Epoch 186/200\n",
      "32/32 [==============================] - 0s 1ms/step - loss: 0.6944 - accuracy: 0.4750\n",
      "Epoch 187/200\n",
      "32/32 [==============================] - 0s 883us/step - loss: 0.6939 - accuracy: 0.4740\n",
      "Epoch 188/200\n",
      "32/32 [==============================] - 0s 1ms/step - loss: 0.6942 - accuracy: 0.4660\n",
      "Epoch 189/200\n",
      "32/32 [==============================] - 0s 999us/step - loss: 0.6937 - accuracy: 0.5020\n",
      "Epoch 190/200\n",
      "32/32 [==============================] - 0s 921us/step - loss: 0.6940 - accuracy: 0.4960\n",
      "Epoch 191/200\n",
      "32/32 [==============================] - 0s 1ms/step - loss: 0.6939 - accuracy: 0.4840\n",
      "Epoch 192/200\n",
      "32/32 [==============================] - 0s 887us/step - loss: 0.6936 - accuracy: 0.4860\n",
      "Epoch 193/200\n",
      "32/32 [==============================] - 0s 996us/step - loss: 0.6934 - accuracy: 0.4990\n",
      "Epoch 194/200\n",
      "32/32 [==============================] - 0s 817us/step - loss: 0.6938 - accuracy: 0.4830\n",
      "Epoch 195/200\n",
      "32/32 [==============================] - 0s 841us/step - loss: 0.6938 - accuracy: 0.4720\n",
      "Epoch 196/200\n",
      "32/32 [==============================] - 0s 1ms/step - loss: 0.6941 - accuracy: 0.4760\n",
      "Epoch 197/200\n",
      "32/32 [==============================] - 0s 871us/step - loss: 0.6939 - accuracy: 0.5010\n",
      "Epoch 198/200\n",
      "32/32 [==============================] - 0s 924us/step - loss: 0.6938 - accuracy: 0.5010\n",
      "Epoch 199/200\n",
      "32/32 [==============================] - 0s 1ms/step - loss: 0.6932 - accuracy: 0.5100\n",
      "Epoch 200/200\n",
      "32/32 [==============================] - 0s 942us/step - loss: 0.6938 - accuracy: 0.4860\n"
     ]
    },
    {
     "data": {
      "text/plain": [
       "<keras.callbacks.History at 0x1eaa1a69580>"
      ]
     },
     "execution_count": 15,
     "metadata": {},
     "output_type": "execute_result"
    }
   ],
   "source": [
    "# set random seed\n",
    "tf.random.set_seed(42)\n",
    "\n",
    "# Create a model with 2 layers\n",
    "model_2 = tf.keras.Sequential([\n",
    "    tf.keras.layers.Dense(1),\n",
    "    tf.keras.layers.Dense(1)\n",
    "])\n",
    "\n",
    "# Compile the model\n",
    "model_2.compile(loss = tf.keras.losses.BinaryCrossentropy(),\n",
    "                optimizer = tf.keras.optimizers.SGD(),\n",
    "                metrics = [\"accuracy\"])\n",
    "\n",
    "# fit the model\n",
    "model_2.fit(X,y, epochs = 200)"
   ]
  },
  {
   "cell_type": "markdown",
   "metadata": {},
   "source": [
    "The accuracy is still 50%..."
   ]
  },
  {
   "cell_type": "markdown",
   "metadata": {},
   "source": [
    "## Improving a model"
   ]
  },
  {
   "cell_type": "markdown",
   "metadata": {},
   "source": [
    "To improve the model, we can alter almost every part of the 3 steps we went through before.\n",
    "\n",
    "1. **Creating a model** - here we can add more layers, increase the number of hidden units within each layer, change the activation functions of each layer.\n",
    "2. **Compiling a model** - we can choose a different optimization function (such as Adam) or perhaps change the learning rate of the optimization function.\n",
    "3. **Fitting a model** - we can perhaps fit a model for more epochs.\n",
    "\n",
    "<center><img src=\"images/02-improving-a-model-from-model-perspective.png\" width=650px></center>"
   ]
  },
  {
   "cell_type": "markdown",
   "metadata": {},
   "source": [
    "Let's try the following modifications:\n",
    "- add more neurons\n",
    "- add an extra layer\n",
    "- use the Adam optimizer"
   ]
  },
  {
   "cell_type": "code",
   "execution_count": 16,
   "metadata": {},
   "outputs": [
    {
     "name": "stdout",
     "output_type": "stream",
     "text": [
      "Epoch 1/100\n",
      "32/32 [==============================] - 1s 1ms/step - loss: 2.9658 - accuracy: 0.4490\n",
      "Epoch 2/100\n",
      "32/32 [==============================] - 0s 1ms/step - loss: 0.7229 - accuracy: 0.4390\n",
      "Epoch 3/100\n",
      "32/32 [==============================] - 0s 2ms/step - loss: 0.6971 - accuracy: 0.4700\n",
      "Epoch 4/100\n",
      "32/32 [==============================] - 0s 2ms/step - loss: 0.6953 - accuracy: 0.4620\n",
      "Epoch 5/100\n",
      "32/32 [==============================] - 0s 2ms/step - loss: 0.6943 - accuracy: 0.4750\n",
      "Epoch 6/100\n",
      "32/32 [==============================] - 0s 1ms/step - loss: 0.6941 - accuracy: 0.4750\n",
      "Epoch 7/100\n",
      "32/32 [==============================] - 0s 1ms/step - loss: 0.6939 - accuracy: 0.5040\n",
      "Epoch 8/100\n",
      "32/32 [==============================] - 0s 1ms/step - loss: 0.6946 - accuracy: 0.4980\n",
      "Epoch 9/100\n",
      "32/32 [==============================] - 0s 1ms/step - loss: 0.6943 - accuracy: 0.4880\n",
      "Epoch 10/100\n",
      "32/32 [==============================] - 0s 1ms/step - loss: 0.6944 - accuracy: 0.4480\n",
      "Epoch 11/100\n",
      "32/32 [==============================] - 0s 1ms/step - loss: 0.6952 - accuracy: 0.4450\n",
      "Epoch 12/100\n",
      "32/32 [==============================] - 0s 2ms/step - loss: 0.6946 - accuracy: 0.4890\n",
      "Epoch 13/100\n",
      "32/32 [==============================] - 0s 1ms/step - loss: 0.6956 - accuracy: 0.4920\n",
      "Epoch 14/100\n",
      "32/32 [==============================] - 0s 2ms/step - loss: 0.6950 - accuracy: 0.5140\n",
      "Epoch 15/100\n",
      "32/32 [==============================] - 0s 2ms/step - loss: 0.6956 - accuracy: 0.4590\n",
      "Epoch 16/100\n",
      "32/32 [==============================] - 0s 2ms/step - loss: 0.6943 - accuracy: 0.4820\n",
      "Epoch 17/100\n",
      "32/32 [==============================] - 0s 1ms/step - loss: 0.6975 - accuracy: 0.4950\n",
      "Epoch 18/100\n",
      "32/32 [==============================] - 0s 1ms/step - loss: 0.6945 - accuracy: 0.4550\n",
      "Epoch 19/100\n",
      "32/32 [==============================] - 0s 1ms/step - loss: 0.6953 - accuracy: 0.5330\n",
      "Epoch 20/100\n",
      "32/32 [==============================] - 0s 1ms/step - loss: 0.6956 - accuracy: 0.4560\n",
      "Epoch 21/100\n",
      "32/32 [==============================] - 0s 1ms/step - loss: 0.6955 - accuracy: 0.4920\n",
      "Epoch 22/100\n",
      "32/32 [==============================] - 0s 1ms/step - loss: 0.6948 - accuracy: 0.4350\n",
      "Epoch 23/100\n",
      "32/32 [==============================] - 0s 1ms/step - loss: 0.6944 - accuracy: 0.4990\n",
      "Epoch 24/100\n",
      "32/32 [==============================] - 0s 1ms/step - loss: 0.6963 - accuracy: 0.4690\n",
      "Epoch 25/100\n",
      "32/32 [==============================] - 0s 1ms/step - loss: 0.6973 - accuracy: 0.4970\n",
      "Epoch 26/100\n",
      "32/32 [==============================] - 0s 1ms/step - loss: 0.6973 - accuracy: 0.4830\n",
      "Epoch 27/100\n",
      "32/32 [==============================] - 0s 1ms/step - loss: 0.6963 - accuracy: 0.5040\n",
      "Epoch 28/100\n",
      "32/32 [==============================] - 0s 1ms/step - loss: 0.6946 - accuracy: 0.4680\n",
      "Epoch 29/100\n",
      "32/32 [==============================] - 0s 1ms/step - loss: 0.6973 - accuracy: 0.4790\n",
      "Epoch 30/100\n",
      "32/32 [==============================] - 0s 1ms/step - loss: 0.6998 - accuracy: 0.4800\n",
      "Epoch 31/100\n",
      "32/32 [==============================] - 0s 1ms/step - loss: 0.6950 - accuracy: 0.5030\n",
      "Epoch 32/100\n",
      "32/32 [==============================] - 0s 1ms/step - loss: 0.6965 - accuracy: 0.4760\n",
      "Epoch 33/100\n",
      "32/32 [==============================] - 0s 1ms/step - loss: 0.6957 - accuracy: 0.4570\n",
      "Epoch 34/100\n",
      "32/32 [==============================] - 0s 1ms/step - loss: 0.6973 - accuracy: 0.4800\n",
      "Epoch 35/100\n",
      "32/32 [==============================] - 0s 1ms/step - loss: 0.6960 - accuracy: 0.5050\n",
      "Epoch 36/100\n",
      "32/32 [==============================] - 0s 1ms/step - loss: 0.6946 - accuracy: 0.4680\n",
      "Epoch 37/100\n",
      "32/32 [==============================] - 0s 1ms/step - loss: 0.6952 - accuracy: 0.4870\n",
      "Epoch 38/100\n",
      "32/32 [==============================] - 0s 1ms/step - loss: 0.6975 - accuracy: 0.4980\n",
      "Epoch 39/100\n",
      "32/32 [==============================] - 0s 1ms/step - loss: 0.6949 - accuracy: 0.4690\n",
      "Epoch 40/100\n",
      "32/32 [==============================] - 0s 1ms/step - loss: 0.6965 - accuracy: 0.4990\n",
      "Epoch 41/100\n",
      "32/32 [==============================] - 0s 1ms/step - loss: 0.6979 - accuracy: 0.4890\n",
      "Epoch 42/100\n",
      "32/32 [==============================] - 0s 2ms/step - loss: 0.6995 - accuracy: 0.4700\n",
      "Epoch 43/100\n",
      "32/32 [==============================] - 0s 1ms/step - loss: 0.6957 - accuracy: 0.5030\n",
      "Epoch 44/100\n",
      "32/32 [==============================] - 0s 1ms/step - loss: 0.6981 - accuracy: 0.4830\n",
      "Epoch 45/100\n",
      "32/32 [==============================] - 0s 1ms/step - loss: 0.6964 - accuracy: 0.5120\n",
      "Epoch 46/100\n",
      "32/32 [==============================] - 0s 1ms/step - loss: 0.6949 - accuracy: 0.4730\n",
      "Epoch 47/100\n",
      "32/32 [==============================] - 0s 1ms/step - loss: 0.6974 - accuracy: 0.5170\n",
      "Epoch 48/100\n",
      "32/32 [==============================] - 0s 1ms/step - loss: 0.6966 - accuracy: 0.4840\n",
      "Epoch 49/100\n",
      "32/32 [==============================] - 0s 1ms/step - loss: 0.6976 - accuracy: 0.4870\n",
      "Epoch 50/100\n",
      "32/32 [==============================] - 0s 1ms/step - loss: 0.6972 - accuracy: 0.4610\n",
      "Epoch 51/100\n",
      "32/32 [==============================] - 0s 1ms/step - loss: 0.6980 - accuracy: 0.4800\n",
      "Epoch 52/100\n",
      "32/32 [==============================] - 0s 1ms/step - loss: 0.6962 - accuracy: 0.5020\n",
      "Epoch 53/100\n",
      "32/32 [==============================] - 0s 2ms/step - loss: 0.6972 - accuracy: 0.4940\n",
      "Epoch 54/100\n",
      "32/32 [==============================] - 0s 2ms/step - loss: 0.6993 - accuracy: 0.5020\n",
      "Epoch 55/100\n",
      "32/32 [==============================] - 0s 1ms/step - loss: 0.6953 - accuracy: 0.5220\n",
      "Epoch 56/100\n",
      "32/32 [==============================] - 0s 2ms/step - loss: 0.6966 - accuracy: 0.4930\n",
      "Epoch 57/100\n",
      "32/32 [==============================] - 0s 1ms/step - loss: 0.6981 - accuracy: 0.4720\n",
      "Epoch 58/100\n",
      "32/32 [==============================] - 0s 1ms/step - loss: 0.6968 - accuracy: 0.4980\n",
      "Epoch 59/100\n",
      "32/32 [==============================] - 0s 1ms/step - loss: 0.7004 - accuracy: 0.4890\n",
      "Epoch 60/100\n",
      "32/32 [==============================] - 0s 1ms/step - loss: 0.7011 - accuracy: 0.4870\n",
      "Epoch 61/100\n",
      "32/32 [==============================] - 0s 2ms/step - loss: 0.6996 - accuracy: 0.4680\n",
      "Epoch 62/100\n",
      "32/32 [==============================] - 0s 2ms/step - loss: 0.6965 - accuracy: 0.4980\n",
      "Epoch 63/100\n",
      "32/32 [==============================] - 0s 1ms/step - loss: 0.6948 - accuracy: 0.4860\n",
      "Epoch 64/100\n",
      "32/32 [==============================] - 0s 1ms/step - loss: 0.6960 - accuracy: 0.4940\n",
      "Epoch 65/100\n",
      "32/32 [==============================] - 0s 1ms/step - loss: 0.6996 - accuracy: 0.4810\n",
      "Epoch 66/100\n",
      "32/32 [==============================] - 0s 1ms/step - loss: 0.6965 - accuracy: 0.5010\n",
      "Epoch 67/100\n",
      "32/32 [==============================] - 0s 1ms/step - loss: 0.6977 - accuracy: 0.4500\n",
      "Epoch 68/100\n",
      "32/32 [==============================] - 0s 1ms/step - loss: 0.6958 - accuracy: 0.5020\n",
      "Epoch 69/100\n",
      "32/32 [==============================] - 0s 1ms/step - loss: 0.6953 - accuracy: 0.5230\n",
      "Epoch 70/100\n",
      "32/32 [==============================] - 0s 1ms/step - loss: 0.6988 - accuracy: 0.4680\n",
      "Epoch 71/100\n",
      "32/32 [==============================] - 0s 1ms/step - loss: 0.6975 - accuracy: 0.4650\n",
      "Epoch 72/100\n",
      "32/32 [==============================] - 0s 1ms/step - loss: 0.6966 - accuracy: 0.5010\n",
      "Epoch 73/100\n",
      "32/32 [==============================] - 0s 1ms/step - loss: 0.6963 - accuracy: 0.4930\n",
      "Epoch 74/100\n",
      "32/32 [==============================] - 0s 1ms/step - loss: 0.6960 - accuracy: 0.5130\n",
      "Epoch 75/100\n",
      "32/32 [==============================] - 0s 2ms/step - loss: 0.6963 - accuracy: 0.4980\n",
      "Epoch 76/100\n",
      "32/32 [==============================] - 0s 1ms/step - loss: 0.6980 - accuracy: 0.4850\n",
      "Epoch 77/100\n",
      "32/32 [==============================] - 0s 2ms/step - loss: 0.6971 - accuracy: 0.5020\n",
      "Epoch 78/100\n",
      "32/32 [==============================] - 0s 1ms/step - loss: 0.6972 - accuracy: 0.4720\n",
      "Epoch 79/100\n",
      "32/32 [==============================] - 0s 2ms/step - loss: 0.7009 - accuracy: 0.5110\n",
      "Epoch 80/100\n",
      "32/32 [==============================] - 0s 1ms/step - loss: 0.6980 - accuracy: 0.4930\n",
      "Epoch 81/100\n",
      "32/32 [==============================] - 0s 2ms/step - loss: 0.6980 - accuracy: 0.5030\n",
      "Epoch 82/100\n",
      "32/32 [==============================] - 0s 1ms/step - loss: 0.6968 - accuracy: 0.4830\n",
      "Epoch 83/100\n",
      "32/32 [==============================] - 0s 2ms/step - loss: 0.7002 - accuracy: 0.4480\n",
      "Epoch 84/100\n",
      "32/32 [==============================] - 0s 1ms/step - loss: 0.6963 - accuracy: 0.4970\n",
      "Epoch 85/100\n",
      "32/32 [==============================] - 0s 1ms/step - loss: 0.6967 - accuracy: 0.4590\n",
      "Epoch 86/100\n",
      "32/32 [==============================] - 0s 2ms/step - loss: 0.7002 - accuracy: 0.4900\n",
      "Epoch 87/100\n",
      "32/32 [==============================] - 0s 1ms/step - loss: 0.6977 - accuracy: 0.4550\n",
      "Epoch 88/100\n",
      "32/32 [==============================] - 0s 2ms/step - loss: 0.6981 - accuracy: 0.4590\n",
      "Epoch 89/100\n",
      "32/32 [==============================] - 0s 1ms/step - loss: 0.6979 - accuracy: 0.4750\n",
      "Epoch 90/100\n",
      "32/32 [==============================] - 0s 2ms/step - loss: 0.6981 - accuracy: 0.4620\n",
      "Epoch 91/100\n",
      "32/32 [==============================] - 0s 1ms/step - loss: 0.6984 - accuracy: 0.4980\n",
      "Epoch 92/100\n",
      "32/32 [==============================] - 0s 1ms/step - loss: 0.6988 - accuracy: 0.4760\n",
      "Epoch 93/100\n",
      "32/32 [==============================] - 0s 1ms/step - loss: 0.6982 - accuracy: 0.4690\n",
      "Epoch 94/100\n",
      "32/32 [==============================] - 0s 1ms/step - loss: 0.7005 - accuracy: 0.4800\n",
      "Epoch 95/100\n",
      "32/32 [==============================] - 0s 1ms/step - loss: 0.6974 - accuracy: 0.4520\n",
      "Epoch 96/100\n",
      "32/32 [==============================] - 0s 1ms/step - loss: 0.6980 - accuracy: 0.4790\n",
      "Epoch 97/100\n",
      "32/32 [==============================] - 0s 1ms/step - loss: 0.6973 - accuracy: 0.4580\n",
      "Epoch 98/100\n",
      "32/32 [==============================] - 0s 1ms/step - loss: 0.6989 - accuracy: 0.4800\n",
      "Epoch 99/100\n",
      "32/32 [==============================] - 0s 2ms/step - loss: 0.6976 - accuracy: 0.5090\n",
      "Epoch 100/100\n",
      "32/32 [==============================] - 0s 1ms/step - loss: 0.6966 - accuracy: 0.4870\n"
     ]
    },
    {
     "data": {
      "text/plain": [
       "<keras.callbacks.History at 0x1eaa1a77f70>"
      ]
     },
     "execution_count": 16,
     "metadata": {},
     "output_type": "execute_result"
    }
   ],
   "source": [
    "# set the random seed\n",
    "tf.random.set_seed(42)\n",
    "\n",
    "# Create the model (3 layers)\n",
    "model_3 = tf.keras.Sequential([\n",
    "    tf.keras.layers.Dense(100), # add 100 neurons\n",
    "    tf.keras.layers.Dense(10),  # add another layer with 10 neurons\n",
    "    tf.keras.layers.Dense(1)\n",
    "])\n",
    "\n",
    "# Compile the model (using Adam)\n",
    "model_3.compile(loss = tf.keras.losses.BinaryCrossentropy(),\n",
    "                optimizer = tf.keras.optimizers.Adam(),\n",
    "                metrics = [\"accuracy\"])\n",
    "\n",
    "# fit the model\n",
    "model_3.fit(X,y, epochs=100)"
   ]
  },
  {
   "cell_type": "markdown",
   "metadata": {},
   "source": [
    "Our model is still not doing better.\n",
    "\n",
    "Let's make some visualizations to see what's happening.\n",
    "\n",
    "> **Note:** Whenever your model is performing strangely or there's something going on with the data we are not quite sure of, remember to visualize! Inspect the data, the model and the model's predictions.\n",
    "\n",
    "To visualize the model's predictions we're going to create a function `plot_decision_boundary()` which:\n",
    "- Takes in a trained model, features `X` and labels `y`.\n",
    "- Creates a meshgrid of the different `X` values.\n",
    "- Makes predictions across the meshgrid.\n",
    "- plots the predictions as well as a line between the different zones."
   ]
  },
  {
   "cell_type": "code",
   "execution_count": 17,
   "metadata": {},
   "outputs": [],
   "source": [
    "# import numpy\n",
    "import numpy as np"
   ]
  },
  {
   "cell_type": "code",
   "execution_count": 18,
   "metadata": {},
   "outputs": [],
   "source": [
    "def plot_decision_boundary(model,X,y):\n",
    "    \"\"\"\n",
    "    Plots the decision boundary created by a model predicting on X.\n",
    "    \n",
    "    Inputs:\n",
    "    - model - model trained\n",
    "    - X - features from the dataset\n",
    "    - y - labels from the dataset\n",
    "    \"\"\"\n",
    "\n",
    "    # Define the axis boundaries of the plot and create a meshgrid\n",
    "    x_min, x_max = X[:,0].min() - 0.1, X[:,0].max() + 0.1\n",
    "    y_min, y_max = X[:,1].min() -0.1, X[:,1].max() + 0.1\n",
    "    xx, yy = np.meshgrid(np.linspace(x_min,x_max,100),\n",
    "                         np.linspace(y_min,y_max,100))\n",
    "\n",
    "    # Create X value (we're going to make predictions on these)\n",
    "    x_in = np.c_[xx.ravel(), yy.ravel()] # stack 2D arrays together\n",
    "\n",
    "    # Make predictions\n",
    "    y_pred = model.predict(x_in)\n",
    "\n",
    "    # Check for multi-class\n",
    "    if len(y_pred[0])>1:\n",
    "        print(\"doing multiclass classification...\")\n",
    "\n",
    "        # We have to reshape our prediction to get them ready for plotting\n",
    "        y_pred = np.argmax(y_pred, axis=1).reshape(xx.shape)\n",
    "    else:\n",
    "        print(\"doing binary classification...\")\n",
    "        y_pred = np.round(y_pred).reshape(xx.shape)\n",
    "    \n",
    "    # Plot the decision boundary\n",
    "    plt.contourf(xx, yy, y_pred, cmap = plt.cm.RdYlBu, alpha=0.7)\n",
    "    plt.scatter(X[:,0], X[:,1], c=y, s=40, cmap=plt.cm.RdYlBu)\n",
    "    plt.xlim(xx.min(),xx.max())\n",
    "    plt.ylim(yy.min(),yy.max())"
   ]
  },
  {
   "cell_type": "code",
   "execution_count": 19,
   "metadata": {},
   "outputs": [
    {
     "name": "stdout",
     "output_type": "stream",
     "text": [
      "doing binary classification...\n"
     ]
    },
    {
     "data": {
      "image/png": "[encoded data removed]",
      "text/plain": [
       "<Figure size 432x288 with 1 Axes>"
      ]
     },
     "metadata": {
      "needs_background": "light"
     },
     "output_type": "display_data"
    }
   ],
   "source": [
    "# Check out the predictions our model is making\n",
    "plot_decision_boundary(model_3, X, y)"
   ]
  },
  {
   "cell_type": "markdown",
   "metadata": {},
   "source": [
    "Looks like our model is trying to draw a straight line through the data.\n",
    "\n",
    "What's wrong with doing this?\n",
    "\n",
    "The main issue is our data isn't separable by a straight line. In a regression problem, our model might work. In fact, let's try it."
   ]
  },
  {
   "cell_type": "code",
   "execution_count": 20,
   "metadata": {},
   "outputs": [
    {
     "name": "stdout",
     "output_type": "stream",
     "text": [
      "Epoch 1/100\n"
     ]
    },
    {
     "ename": "ValueError",
     "evalue": "in user code:\n\n    File \"C:\\Users\\user\\anaconda3\\lib\\site-packages\\keras\\engine\\training.py\", line 1021, in train_function  *\n        return step_function(self, iterator)\n    File \"C:\\Users\\user\\anaconda3\\lib\\site-packages\\keras\\engine\\training.py\", line 1010, in step_function  **\n        outputs = model.distribute_strategy.run(run_step, args=(data,))\n    File \"C:\\Users\\user\\anaconda3\\lib\\site-packages\\keras\\engine\\training.py\", line 1000, in run_step  **\n        outputs = model.train_step(data)\n    File \"C:\\Users\\user\\anaconda3\\lib\\site-packages\\keras\\engine\\training.py\", line 859, in train_step\n        y_pred = self(x, training=True)\n    File \"C:\\Users\\user\\anaconda3\\lib\\site-packages\\keras\\utils\\traceback_utils.py\", line 67, in error_handler\n        raise e.with_traceback(filtered_tb) from None\n    File \"C:\\Users\\user\\anaconda3\\lib\\site-packages\\keras\\engine\\input_spec.py\", line 248, in assert_input_compatibility\n        raise ValueError(\n\n    ValueError: Exception encountered when calling layer \"sequential_2\" (type Sequential).\n    \n    Input 0 of layer \"dense_3\" is incompatible with the layer: expected axis -1 of input shape to have value 2, but received input with shape (None, 1)\n    \n    Call arguments received:\n      • inputs=tf.Tensor(shape=(None, 1), dtype=int32)\n      • training=True\n      • mask=None\n",
     "output_type": "error",
     "traceback": [
      "\u001b[1;31m---------------------------------------------------------------------------\u001b[0m",
      "\u001b[1;31mValueError\u001b[0m                                Traceback (most recent call last)",
      "\u001b[1;32m<ipython-input-20-b6aaee7f3801>\u001b[0m in \u001b[0;36m<module>\u001b[1;34m\u001b[0m\n\u001b[0;32m     14\u001b[0m \u001b[1;33m\u001b[0m\u001b[0m\n\u001b[0;32m     15\u001b[0m \u001b[1;31m# fit our model to the regression data\u001b[0m\u001b[1;33m\u001b[0m\u001b[1;33m\u001b[0m\u001b[1;33m\u001b[0m\u001b[0m\n\u001b[1;32m---> 16\u001b[1;33m \u001b[0mmodel_3\u001b[0m\u001b[1;33m.\u001b[0m\u001b[0mfit\u001b[0m\u001b[1;33m(\u001b[0m\u001b[0mtf\u001b[0m\u001b[1;33m.\u001b[0m\u001b[0mexpand_dims\u001b[0m\u001b[1;33m(\u001b[0m\u001b[0mX_reg_train\u001b[0m\u001b[1;33m,\u001b[0m\u001b[0maxis\u001b[0m\u001b[1;33m=\u001b[0m\u001b[1;33m-\u001b[0m\u001b[1;36m1\u001b[0m\u001b[1;33m)\u001b[0m\u001b[1;33m,\u001b[0m \u001b[0my_reg_train\u001b[0m\u001b[1;33m,\u001b[0m \u001b[0mepochs\u001b[0m\u001b[1;33m=\u001b[0m\u001b[1;36m100\u001b[0m\u001b[1;33m)\u001b[0m\u001b[1;33m\u001b[0m\u001b[1;33m\u001b[0m\u001b[0m\n\u001b[0m",
      "\u001b[1;32m~\\anaconda3\\lib\\site-packages\\keras\\utils\\traceback_utils.py\u001b[0m in \u001b[0;36merror_handler\u001b[1;34m(*args, **kwargs)\u001b[0m\n\u001b[0;32m     65\u001b[0m     \u001b[1;32mexcept\u001b[0m \u001b[0mException\u001b[0m \u001b[1;32mas\u001b[0m \u001b[0me\u001b[0m\u001b[1;33m:\u001b[0m  \u001b[1;31m# pylint: disable=broad-except\u001b[0m\u001b[1;33m\u001b[0m\u001b[1;33m\u001b[0m\u001b[0m\n\u001b[0;32m     66\u001b[0m       \u001b[0mfiltered_tb\u001b[0m \u001b[1;33m=\u001b[0m \u001b[0m_process_traceback_frames\u001b[0m\u001b[1;33m(\u001b[0m\u001b[0me\u001b[0m\u001b[1;33m.\u001b[0m\u001b[0m__traceback__\u001b[0m\u001b[1;33m)\u001b[0m\u001b[1;33m\u001b[0m\u001b[1;33m\u001b[0m\u001b[0m\n\u001b[1;32m---> 67\u001b[1;33m       \u001b[1;32mraise\u001b[0m \u001b[0me\u001b[0m\u001b[1;33m.\u001b[0m\u001b[0mwith_traceback\u001b[0m\u001b[1;33m(\u001b[0m\u001b[0mfiltered_tb\u001b[0m\u001b[1;33m)\u001b[0m \u001b[1;32mfrom\u001b[0m \u001b[1;32mNone\u001b[0m\u001b[1;33m\u001b[0m\u001b[1;33m\u001b[0m\u001b[0m\n\u001b[0m\u001b[0;32m     68\u001b[0m     \u001b[1;32mfinally\u001b[0m\u001b[1;33m:\u001b[0m\u001b[1;33m\u001b[0m\u001b[1;33m\u001b[0m\u001b[0m\n\u001b[0;32m     69\u001b[0m       \u001b[1;32mdel\u001b[0m \u001b[0mfiltered_tb\u001b[0m\u001b[1;33m\u001b[0m\u001b[1;33m\u001b[0m\u001b[0m\n",
      "\u001b[1;32m~\\anaconda3\\lib\\site-packages\\tensorflow\\python\\framework\\func_graph.py\u001b[0m in \u001b[0;36mautograph_handler\u001b[1;34m(*args, **kwargs)\u001b[0m\n\u001b[0;32m   1145\u001b[0m           \u001b[1;32mexcept\u001b[0m \u001b[0mException\u001b[0m \u001b[1;32mas\u001b[0m \u001b[0me\u001b[0m\u001b[1;33m:\u001b[0m  \u001b[1;31m# pylint:disable=broad-except\u001b[0m\u001b[1;33m\u001b[0m\u001b[1;33m\u001b[0m\u001b[0m\n\u001b[0;32m   1146\u001b[0m             \u001b[1;32mif\u001b[0m \u001b[0mhasattr\u001b[0m\u001b[1;33m(\u001b[0m\u001b[0me\u001b[0m\u001b[1;33m,\u001b[0m \u001b[1;34m\"ag_error_metadata\"\u001b[0m\u001b[1;33m)\u001b[0m\u001b[1;33m:\u001b[0m\u001b[1;33m\u001b[0m\u001b[1;33m\u001b[0m\u001b[0m\n\u001b[1;32m-> 1147\u001b[1;33m               \u001b[1;32mraise\u001b[0m \u001b[0me\u001b[0m\u001b[1;33m.\u001b[0m\u001b[0mag_error_metadata\u001b[0m\u001b[1;33m.\u001b[0m\u001b[0mto_exception\u001b[0m\u001b[1;33m(\u001b[0m\u001b[0me\u001b[0m\u001b[1;33m)\u001b[0m\u001b[1;33m\u001b[0m\u001b[1;33m\u001b[0m\u001b[0m\n\u001b[0m\u001b[0;32m   1148\u001b[0m             \u001b[1;32melse\u001b[0m\u001b[1;33m:\u001b[0m\u001b[1;33m\u001b[0m\u001b[1;33m\u001b[0m\u001b[0m\n\u001b[0;32m   1149\u001b[0m               \u001b[1;32mraise\u001b[0m\u001b[1;33m\u001b[0m\u001b[1;33m\u001b[0m\u001b[0m\n",
      "\u001b[1;31mValueError\u001b[0m: in user code:\n\n    File \"C:\\Users\\user\\anaconda3\\lib\\site-packages\\keras\\engine\\training.py\", line 1021, in train_function  *\n        return step_function(self, iterator)\n    File \"C:\\Users\\user\\anaconda3\\lib\\site-packages\\keras\\engine\\training.py\", line 1010, in step_function  **\n        outputs = model.distribute_strategy.run(run_step, args=(data,))\n    File \"C:\\Users\\user\\anaconda3\\lib\\site-packages\\keras\\engine\\training.py\", line 1000, in run_step  **\n        outputs = model.train_step(data)\n    File \"C:\\Users\\user\\anaconda3\\lib\\site-packages\\keras\\engine\\training.py\", line 859, in train_step\n        y_pred = self(x, training=True)\n    File \"C:\\Users\\user\\anaconda3\\lib\\site-packages\\keras\\utils\\traceback_utils.py\", line 67, in error_handler\n        raise e.with_traceback(filtered_tb) from None\n    File \"C:\\Users\\user\\anaconda3\\lib\\site-packages\\keras\\engine\\input_spec.py\", line 248, in assert_input_compatibility\n        raise ValueError(\n\n    ValueError: Exception encountered when calling layer \"sequential_2\" (type Sequential).\n    \n    Input 0 of layer \"dense_3\" is incompatible with the layer: expected axis -1 of input shape to have value 2, but received input with shape (None, 1)\n    \n    Call arguments received:\n      • inputs=tf.Tensor(shape=(None, 1), dtype=int32)\n      • training=True\n      • mask=None\n"
     ]
    }
   ],
   "source": [
    "# let's see if our model can be used for a regression problem...\n",
    "\n",
    "tf.random.set_seed(42)\n",
    "\n",
    "# Create some regression data\n",
    "X_regression = tf.range(0,1000,5)\n",
    "y_regression = tf.range(100,1100,5) # y = X + 100\n",
    "\n",
    "# Split our regression data into training and test set\n",
    "X_reg_train = X_regression[:150]\n",
    "X_reg_test = X_regression[150:]\n",
    "y_reg_train = y_regression[:150]\n",
    "y_reg_test = y_regression[150:]\n",
    "\n",
    "# fit our model to the regression data\n",
    "model_3.fit(tf.expand_dims(X_reg_train,axis=-1), y_reg_train, epochs=100)"
   ]
  },
  {
   "cell_type": "markdown",
   "metadata": {},
   "source": [
    "We compiled our model for a binary classification problem. But we're now working on a regression problem, let's change the model to suit our data"
   ]
  },
  {
   "cell_type": "code",
   "execution_count": 21,
   "metadata": {},
   "outputs": [
    {
     "name": "stdout",
     "output_type": "stream",
     "text": [
      "Epoch 1/100\n",
      "5/5 [==============================] - 0s 5ms/step - loss: 248.2155 - mae: 248.2155\n",
      "Epoch 2/100\n",
      "5/5 [==============================] - 0s 2ms/step - loss: 138.9005 - mae: 138.9005\n",
      "Epoch 3/100\n",
      "5/5 [==============================] - 0s 2ms/step - loss: 53.1039 - mae: 53.1039\n",
      "Epoch 4/100\n",
      "5/5 [==============================] - 0s 1ms/step - loss: 73.5170 - mae: 73.5170\n",
      "Epoch 5/100\n",
      "5/5 [==============================] - 0s 2ms/step - loss: 71.2358 - mae: 71.2358\n",
      "Epoch 6/100\n",
      "5/5 [==============================] - 0s 1ms/step - loss: 47.0040 - mae: 47.0040\n",
      "Epoch 7/100\n",
      "5/5 [==============================] - 0s 1ms/step - loss: 45.9386 - mae: 45.9386\n",
      "Epoch 8/100\n",
      "5/5 [==============================] - 0s 3ms/step - loss: 42.3638 - mae: 42.3638\n",
      "Epoch 9/100\n",
      "5/5 [==============================] - 0s 2ms/step - loss: 43.6831 - mae: 43.6831\n",
      "Epoch 10/100\n",
      "5/5 [==============================] - 0s 2ms/step - loss: 42.6198 - mae: 42.6198\n",
      "Epoch 11/100\n",
      "5/5 [==============================] - 0s 2ms/step - loss: 42.4797 - mae: 42.4797\n",
      "Epoch 12/100\n",
      "5/5 [==============================] - 0s 3ms/step - loss: 41.5537 - mae: 41.5537\n",
      "Epoch 13/100\n",
      "5/5 [==============================] - 0s 2ms/step - loss: 42.0972 - mae: 42.0972\n",
      "Epoch 14/100\n",
      "5/5 [==============================] - 0s 2ms/step - loss: 41.8647 - mae: 41.8647\n",
      "Epoch 15/100\n",
      "5/5 [==============================] - 0s 1ms/step - loss: 41.5342 - mae: 41.5342\n",
      "Epoch 16/100\n",
      "5/5 [==============================] - 0s 1ms/step - loss: 41.4028 - mae: 41.4028\n",
      "Epoch 17/100\n",
      "5/5 [==============================] - 0s 2ms/step - loss: 41.6887 - mae: 41.6887\n",
      "Epoch 18/100\n",
      "5/5 [==============================] - 0s 1ms/step - loss: 41.6137 - mae: 41.6137\n",
      "Epoch 19/100\n",
      "5/5 [==============================] - 0s 1ms/step - loss: 41.2796 - mae: 41.2796\n",
      "Epoch 20/100\n",
      "5/5 [==============================] - 0s 1ms/step - loss: 41.1947 - mae: 41.1947\n",
      "Epoch 21/100\n",
      "5/5 [==============================] - 0s 2ms/step - loss: 41.2130 - mae: 41.2130\n",
      "Epoch 22/100\n",
      "5/5 [==============================] - 0s 2ms/step - loss: 41.0893 - mae: 41.0893\n",
      "Epoch 23/100\n",
      "5/5 [==============================] - 0s 2ms/step - loss: 41.2019 - mae: 41.2019\n",
      "Epoch 24/100\n",
      "5/5 [==============================] - 0s 2ms/step - loss: 40.9989 - mae: 40.9989\n",
      "Epoch 25/100\n",
      "5/5 [==============================] - 0s 2ms/step - loss: 41.0131 - mae: 41.0131\n",
      "Epoch 26/100\n",
      "5/5 [==============================] - 0s 3ms/step - loss: 41.0654 - mae: 41.0654\n",
      "Epoch 27/100\n",
      "5/5 [==============================] - 0s 3ms/step - loss: 40.8764 - mae: 40.8764\n",
      "Epoch 28/100\n",
      "5/5 [==============================] - 0s 2ms/step - loss: 41.0545 - mae: 41.0545\n",
      "Epoch 29/100\n",
      "5/5 [==============================] - 0s 2ms/step - loss: 41.0480 - mae: 41.0480\n",
      "Epoch 30/100\n",
      "5/5 [==============================] - 0s 3ms/step - loss: 40.8807 - mae: 40.8807\n",
      "Epoch 31/100\n",
      "5/5 [==============================] - 0s 2ms/step - loss: 41.2695 - mae: 41.2695\n",
      "Epoch 32/100\n",
      "5/5 [==============================] - 0s 2ms/step - loss: 40.9949 - mae: 40.9949\n",
      "Epoch 33/100\n",
      "5/5 [==============================] - 0s 1ms/step - loss: 41.0760 - mae: 41.0760\n",
      "Epoch 34/100\n",
      "5/5 [==============================] - 0s 2ms/step - loss: 41.2471 - mae: 41.2471\n",
      "Epoch 35/100\n",
      "5/5 [==============================] - 0s 2ms/step - loss: 40.6102 - mae: 40.6102\n",
      "Epoch 36/100\n",
      "5/5 [==============================] - 0s 2ms/step - loss: 41.1093 - mae: 41.1093\n",
      "Epoch 37/100\n",
      "5/5 [==============================] - 0s 1ms/step - loss: 40.8191 - mae: 40.8191\n",
      "Epoch 38/100\n",
      "5/5 [==============================] - 0s 2ms/step - loss: 40.2485 - mae: 40.2485\n",
      "Epoch 39/100\n",
      "5/5 [==============================] - 0s 2ms/step - loss: 41.0625 - mae: 41.0625\n",
      "Epoch 40/100\n",
      "5/5 [==============================] - 0s 3ms/step - loss: 40.5311 - mae: 40.5311\n",
      "Epoch 41/100\n",
      "5/5 [==============================] - 0s 2ms/step - loss: 40.5497 - mae: 40.5497\n",
      "Epoch 42/100\n",
      "5/5 [==============================] - 0s 2ms/step - loss: 40.4322 - mae: 40.4322\n",
      "Epoch 43/100\n",
      "5/5 [==============================] - 0s 2ms/step - loss: 40.5367 - mae: 40.5367\n",
      "Epoch 44/100\n",
      "5/5 [==============================] - 0s 3ms/step - loss: 40.2487 - mae: 40.2487\n",
      "Epoch 45/100\n",
      "5/5 [==============================] - 0s 3ms/step - loss: 40.5152 - mae: 40.5152\n",
      "Epoch 46/100\n",
      "5/5 [==============================] - 0s 2ms/step - loss: 40.3702 - mae: 40.3702\n",
      "Epoch 47/100\n",
      "5/5 [==============================] - 0s 2ms/step - loss: 40.4769 - mae: 40.4769\n",
      "Epoch 48/100\n",
      "5/5 [==============================] - 0s 997us/step - loss: 40.1532 - mae: 40.1532\n",
      "Epoch 49/100\n",
      "5/5 [==============================] - 0s 2ms/step - loss: 40.7291 - mae: 40.7291\n",
      "Epoch 50/100\n",
      "5/5 [==============================] - 0s 1ms/step - loss: 40.1536 - mae: 40.1536\n",
      "Epoch 51/100\n",
      "5/5 [==============================] - 0s 1ms/step - loss: 40.2711 - mae: 40.2711\n",
      "Epoch 52/100\n",
      "5/5 [==============================] - 0s 1ms/step - loss: 40.6572 - mae: 40.6572\n",
      "Epoch 53/100\n",
      "5/5 [==============================] - 0s 2ms/step - loss: 40.6573 - mae: 40.6573\n",
      "Epoch 54/100\n",
      "5/5 [==============================] - 0s 2ms/step - loss: 40.6894 - mae: 40.6894\n",
      "Epoch 55/100\n",
      "5/5 [==============================] - 0s 2ms/step - loss: 41.2771 - mae: 41.2771\n",
      "Epoch 56/100\n",
      "5/5 [==============================] - 0s 2ms/step - loss: 41.8519 - mae: 41.8519\n",
      "Epoch 57/100\n",
      "5/5 [==============================] - 0s 2ms/step - loss: 40.7903 - mae: 40.7903\n",
      "Epoch 58/100\n",
      "5/5 [==============================] - 0s 2ms/step - loss: 40.3128 - mae: 40.3128\n",
      "Epoch 59/100\n",
      "5/5 [==============================] - 0s 2ms/step - loss: 40.7198 - mae: 40.7198\n",
      "Epoch 60/100\n",
      "5/5 [==============================] - 0s 2ms/step - loss: 40.1478 - mae: 40.1478\n",
      "Epoch 61/100\n",
      "5/5 [==============================] - 0s 2ms/step - loss: 40.1117 - mae: 40.1117\n",
      "Epoch 62/100\n",
      "5/5 [==============================] - 0s 1ms/step - loss: 40.7800 - mae: 40.7800\n",
      "Epoch 63/100\n",
      "5/5 [==============================] - 0s 1ms/step - loss: 39.7242 - mae: 39.7242\n",
      "Epoch 64/100\n",
      "5/5 [==============================] - 0s 1ms/step - loss: 40.1465 - mae: 40.1465\n",
      "Epoch 65/100\n",
      "5/5 [==============================] - 0s 1ms/step - loss: 39.6887 - mae: 39.6887\n",
      "Epoch 66/100\n",
      "5/5 [==============================] - 0s 1ms/step - loss: 40.2840 - mae: 40.2840\n",
      "Epoch 67/100\n",
      "5/5 [==============================] - 0s 2ms/step - loss: 39.5541 - mae: 39.5541\n",
      "Epoch 68/100\n",
      "5/5 [==============================] - 0s 2ms/step - loss: 39.7378 - mae: 39.7378\n",
      "Epoch 69/100\n",
      "5/5 [==============================] - 0s 2ms/step - loss: 39.9784 - mae: 39.9784\n",
      "Epoch 70/100\n",
      "5/5 [==============================] - 0s 1ms/step - loss: 40.0016 - mae: 40.0016\n",
      "Epoch 71/100\n",
      "5/5 [==============================] - 0s 2ms/step - loss: 40.0913 - mae: 40.0913\n",
      "Epoch 72/100\n",
      "5/5 [==============================] - 0s 1ms/step - loss: 39.2547 - mae: 39.2547\n",
      "Epoch 73/100\n",
      "5/5 [==============================] - 0s 1ms/step - loss: 39.6828 - mae: 39.6828\n",
      "Epoch 74/100\n",
      "5/5 [==============================] - 0s 1ms/step - loss: 39.5373 - mae: 39.5373\n",
      "Epoch 75/100\n",
      "5/5 [==============================] - 0s 1ms/step - loss: 39.6265 - mae: 39.6265\n",
      "Epoch 76/100\n",
      "5/5 [==============================] - 0s 2ms/step - loss: 39.3110 - mae: 39.3110\n",
      "Epoch 77/100\n",
      "5/5 [==============================] - 0s 1ms/step - loss: 39.1599 - mae: 39.1599\n",
      "Epoch 78/100\n",
      "5/5 [==============================] - 0s 1ms/step - loss: 39.7550 - mae: 39.7550\n",
      "Epoch 79/100\n",
      "5/5 [==============================] - 0s 3ms/step - loss: 39.2542 - mae: 39.2542\n",
      "Epoch 80/100\n",
      "5/5 [==============================] - 0s 2ms/step - loss: 38.6968 - mae: 38.6968\n",
      "Epoch 81/100\n",
      "5/5 [==============================] - 0s 2ms/step - loss: 39.5442 - mae: 39.5442\n",
      "Epoch 82/100\n",
      "5/5 [==============================] - 0s 2ms/step - loss: 39.8686 - mae: 39.8686\n",
      "Epoch 83/100\n",
      "5/5 [==============================] - 0s 2ms/step - loss: 39.1693 - mae: 39.1693\n",
      "Epoch 84/100\n",
      "5/5 [==============================] - 0s 1ms/step - loss: 38.8840 - mae: 38.8840\n",
      "Epoch 85/100\n",
      "5/5 [==============================] - 0s 2ms/step - loss: 38.8887 - mae: 38.8887\n",
      "Epoch 86/100\n",
      "5/5 [==============================] - 0s 2ms/step - loss: 38.6614 - mae: 38.6614\n",
      "Epoch 87/100\n",
      "5/5 [==============================] - 0s 1ms/step - loss: 38.8399 - mae: 38.8399\n",
      "Epoch 88/100\n",
      "5/5 [==============================] - 0s 2ms/step - loss: 38.6604 - mae: 38.6604\n",
      "Epoch 89/100\n",
      "5/5 [==============================] - 0s 1ms/step - loss: 38.7559 - mae: 38.7559\n",
      "Epoch 90/100\n",
      "5/5 [==============================] - 0s 2ms/step - loss: 38.5442 - mae: 38.5442\n",
      "Epoch 91/100\n",
      "5/5 [==============================] - 0s 2ms/step - loss: 38.3247 - mae: 38.3247\n",
      "Epoch 92/100\n",
      "5/5 [==============================] - 0s 2ms/step - loss: 38.8431 - mae: 38.8431\n",
      "Epoch 93/100\n",
      "5/5 [==============================] - 0s 2ms/step - loss: 39.1137 - mae: 39.1137\n",
      "Epoch 94/100\n",
      "5/5 [==============================] - 0s 2ms/step - loss: 38.1463 - mae: 38.1463\n",
      "Epoch 95/100\n",
      "5/5 [==============================] - 0s 1ms/step - loss: 38.3998 - mae: 38.3998\n",
      "Epoch 96/100\n",
      "5/5 [==============================] - 0s 2ms/step - loss: 38.5599 - mae: 38.5599\n",
      "Epoch 97/100\n",
      "5/5 [==============================] - 0s 2ms/step - loss: 38.1038 - mae: 38.1038\n",
      "Epoch 98/100\n",
      "5/5 [==============================] - 0s 2ms/step - loss: 39.0081 - mae: 39.0081\n",
      "Epoch 99/100\n",
      "5/5 [==============================] - 0s 2ms/step - loss: 38.3056 - mae: 38.3056\n",
      "Epoch 100/100\n",
      "5/5 [==============================] - 0s 2ms/step - loss: 37.9976 - mae: 37.9976\n"
     ]
    },
    {
     "data": {
      "text/plain": [
       "<keras.callbacks.History at 0x1eaa3fadf40>"
      ]
     },
     "execution_count": 21,
     "metadata": {},
     "output_type": "execute_result"
    }
   ],
   "source": [
    "# set the random seed\n",
    "tf.random.set_seed(42)\n",
    "\n",
    "# Create the model (3 layers)\n",
    "model_reg = tf.keras.Sequential([\n",
    "    tf.keras.layers.Dense(100), # add 100 neurons\n",
    "    tf.keras.layers.Dense(10),  # add another layer with 10 neurons\n",
    "    tf.keras.layers.Dense(1)\n",
    "])\n",
    "\n",
    "# Compile the model (using Adam)\n",
    "model_reg.compile(loss = tf.keras.losses.mae,\n",
    "                optimizer = tf.keras.optimizers.Adam(),\n",
    "                metrics = [\"mae\"])\n",
    "\n",
    "# fit the model\n",
    "model_reg.fit(tf.expand_dims(X_reg_train,axis=-1),y_reg_train, epochs=100)"
   ]
  },
  {
   "cell_type": "code",
   "execution_count": 22,
   "metadata": {},
   "outputs": [],
   "source": [
    "# make some predictions on our regression problem\n",
    "y_pred_reg = model_reg(X_reg_test, y_reg_test)"
   ]
  },
  {
   "cell_type": "code",
   "execution_count": 23,
   "metadata": {},
   "outputs": [
    {
     "data": {
      "image/png": "[encoded data removed]",
      "text/plain": [
       "<Figure size 720x504 with 1 Axes>"
      ]
     },
     "metadata": {
      "needs_background": "light"
     },
     "output_type": "display_data"
    }
   ],
   "source": [
    "# Visualize the predictions\n",
    "plt.figure(figsize=(10,7))\n",
    "plt.scatter(X_reg_train,y_reg_train, color = \"blue\", label =\"Training set\")\n",
    "plt.scatter(X_reg_test,y_reg_test, color = \"green\", label =\"Test set\")\n",
    "plt.scatter(X_reg_test,y_pred_reg, color = \"red\", label =\"Predictions\")\n",
    "plt.legend()\n",
    "plt.show()"
   ]
  },
  {
   "cell_type": "markdown",
   "metadata": {},
   "source": [
    "The predictions aren't perfet but they look better than the result of the classification problem. So this means our model must be learning something but we're missing out on four our classification problem."
   ]
  },
  {
   "cell_type": "markdown",
   "metadata": {},
   "source": [
    "## The missing piece : Non-linearity"
   ]
  },
  {
   "cell_type": "markdown",
   "metadata": {},
   "source": [
    "We saw our neural network can model straight lines.\n",
    "\n",
    "What about non-straight (non-linear) lines?\n",
    "\n",
    "If we're going to model our classification data, we're going to need some non-linear lines.\n",
    "\n",
    "> **Note:** Let's try to play around with the [TensorFlow Playground](https://playground.tensorflow.org/#activation=linear&batchSize=10&dataset=circle&regDataset=reg-plane&learningRate=0.001&regularizationRate=0&noise=0&networkShape=1&seed=0.53965&showTestData=false&discretize=false&percTrainData=50&x=true&y=true&xTimesY=false&xSquared=false&ySquared=false&cosX=false&sinX=false&cosY=false&sinY=false&collectStats=false&problem=classification&initZero=false&hideText=false) and test a simple neural network with the activation function \"linear\". Then try other activation functions.\n",
    "\n",
    "<center><img src=\"images/02-tensorflow-playground-simple-net-linear-activation.png\" width=650px></center>\n",
    "\n",
    "\n",
    "Let's Create the model we have in TensorFlow Playground using Keras. The main change we'll add to models we've built before is the use of the `activation` keyword."
   ]
  },
  {
   "cell_type": "code",
   "execution_count": 24,
   "metadata": {},
   "outputs": [
    {
     "name": "stdout",
     "output_type": "stream",
     "text": [
      "Epoch 1/100\n",
      "32/32 [==============================] - 0s 910us/step - loss: 4.2380 - accuracy: 0.5000\n",
      "Epoch 2/100\n",
      "32/32 [==============================] - 0s 1ms/step - loss: 4.0223 - accuracy: 0.5000\n",
      "Epoch 3/100\n",
      "32/32 [==============================] - 0s 2ms/step - loss: 3.8296 - accuracy: 0.5000\n",
      "Epoch 4/100\n",
      "32/32 [==============================] - 0s 2ms/step - loss: 3.7654 - accuracy: 0.5000\n",
      "Epoch 5/100\n",
      "32/32 [==============================] - 0s 2ms/step - loss: 3.6464 - accuracy: 0.5000\n",
      "Epoch 6/100\n",
      "32/32 [==============================] - 0s 2ms/step - loss: 3.4960 - accuracy: 0.5000\n",
      "Epoch 7/100\n",
      "32/32 [==============================] - 0s 2ms/step - loss: 3.3803 - accuracy: 0.5000\n",
      "Epoch 8/100\n",
      "32/32 [==============================] - 0s 1ms/step - loss: 3.2273 - accuracy: 0.5000\n",
      "Epoch 9/100\n",
      "32/32 [==============================] - 0s 1ms/step - loss: 2.8035 - accuracy: 0.5000\n",
      "Epoch 10/100\n",
      "32/32 [==============================] - 0s 1ms/step - loss: 2.5701 - accuracy: 0.5000\n",
      "Epoch 11/100\n",
      "32/32 [==============================] - 0s 905us/step - loss: 2.3412 - accuracy: 0.5000\n",
      "Epoch 12/100\n",
      "32/32 [==============================] - 0s 1ms/step - loss: 1.8038 - accuracy: 0.5000\n",
      "Epoch 13/100\n",
      "32/32 [==============================] - 0s 1ms/step - loss: 1.1025 - accuracy: 0.5000\n",
      "Epoch 14/100\n",
      "32/32 [==============================] - 0s 834us/step - loss: 1.0152 - accuracy: 0.5000\n",
      "Epoch 15/100\n",
      "32/32 [==============================] - 0s 930us/step - loss: 0.9831 - accuracy: 0.5000\n",
      "Epoch 16/100\n",
      "32/32 [==============================] - 0s 957us/step - loss: 0.9608 - accuracy: 0.5000\n",
      "Epoch 17/100\n",
      "32/32 [==============================] - 0s 1ms/step - loss: 0.9423 - accuracy: 0.5000\n",
      "Epoch 18/100\n",
      "32/32 [==============================] - 0s 992us/step - loss: 0.9265 - accuracy: 0.5000\n",
      "Epoch 19/100\n",
      "32/32 [==============================] - 0s 1ms/step - loss: 0.9130 - accuracy: 0.5000\n",
      "Epoch 20/100\n",
      "32/32 [==============================] - 0s 1ms/step - loss: 0.9005 - accuracy: 0.5000\n",
      "Epoch 21/100\n",
      "32/32 [==============================] - 0s 1ms/step - loss: 0.8897 - accuracy: 0.5000\n",
      "Epoch 22/100\n",
      "32/32 [==============================] - 0s 970us/step - loss: 0.8793 - accuracy: 0.5000\n",
      "Epoch 23/100\n",
      "32/32 [==============================] - 0s 1ms/step - loss: 0.8701 - accuracy: 0.5000\n",
      "Epoch 24/100\n",
      "32/32 [==============================] - 0s 933us/step - loss: 0.8615 - accuracy: 0.5000\n",
      "Epoch 25/100\n",
      "32/32 [==============================] - 0s 1ms/step - loss: 0.8537 - accuracy: 0.5000\n",
      "Epoch 26/100\n",
      "32/32 [==============================] - 0s 933us/step - loss: 0.8460 - accuracy: 0.4960\n",
      "Epoch 27/100\n",
      "32/32 [==============================] - 0s 933us/step - loss: 0.8390 - accuracy: 0.4920\n",
      "Epoch 28/100\n",
      "32/32 [==============================] - 0s 1ms/step - loss: 0.8322 - accuracy: 0.4820\n",
      "Epoch 29/100\n",
      "32/32 [==============================] - 0s 2ms/step - loss: 0.8259 - accuracy: 0.4730\n",
      "Epoch 30/100\n",
      "32/32 [==============================] - 0s 1ms/step - loss: 0.8199 - accuracy: 0.4670\n",
      "Epoch 31/100\n",
      "32/32 [==============================] - 0s 1ms/step - loss: 0.8142 - accuracy: 0.4520\n",
      "Epoch 32/100\n",
      "32/32 [==============================] - 0s 1ms/step - loss: 0.8086 - accuracy: 0.4450\n",
      "Epoch 33/100\n",
      "32/32 [==============================] - 0s 1ms/step - loss: 0.8036 - accuracy: 0.4360\n",
      "Epoch 34/100\n",
      "32/32 [==============================] - 0s 1ms/step - loss: 0.7988 - accuracy: 0.4320\n",
      "Epoch 35/100\n",
      "32/32 [==============================] - 0s 936us/step - loss: 0.7942 - accuracy: 0.4250\n",
      "Epoch 36/100\n",
      "32/32 [==============================] - 0s 991us/step - loss: 0.7897 - accuracy: 0.4240\n",
      "Epoch 37/100\n",
      "32/32 [==============================] - 0s 882us/step - loss: 0.7856 - accuracy: 0.4140\n",
      "Epoch 38/100\n",
      "32/32 [==============================] - 0s 879us/step - loss: 0.7817 - accuracy: 0.4110\n",
      "Epoch 39/100\n",
      "32/32 [==============================] - 0s 854us/step - loss: 0.7779 - accuracy: 0.4150\n",
      "Epoch 40/100\n",
      "32/32 [==============================] - 0s 857us/step - loss: 0.7743 - accuracy: 0.4180\n",
      "Epoch 41/100\n",
      "32/32 [==============================] - 0s 894us/step - loss: 0.7708 - accuracy: 0.4300\n",
      "Epoch 42/100\n",
      "32/32 [==============================] - 0s 918us/step - loss: 0.7674 - accuracy: 0.4340\n",
      "Epoch 43/100\n",
      "32/32 [==============================] - 0s 1ms/step - loss: 0.7641 - accuracy: 0.4520\n",
      "Epoch 44/100\n",
      "32/32 [==============================] - 0s 906us/step - loss: 0.7612 - accuracy: 0.4570\n",
      "Epoch 45/100\n",
      "32/32 [==============================] - 0s 1ms/step - loss: 0.7583 - accuracy: 0.4570\n",
      "Epoch 46/100\n",
      "32/32 [==============================] - 0s 1ms/step - loss: 0.7556 - accuracy: 0.4570\n",
      "Epoch 47/100\n",
      "32/32 [==============================] - 0s 939us/step - loss: 0.7531 - accuracy: 0.4550\n",
      "Epoch 48/100\n",
      "32/32 [==============================] - 0s 1ms/step - loss: 0.7505 - accuracy: 0.4580\n",
      "Epoch 49/100\n",
      "32/32 [==============================] - 0s 934us/step - loss: 0.7481 - accuracy: 0.4650\n",
      "Epoch 50/100\n",
      "32/32 [==============================] - 0s 931us/step - loss: 0.7458 - accuracy: 0.4650\n",
      "Epoch 51/100\n",
      "32/32 [==============================] - 0s 914us/step - loss: 0.7435 - accuracy: 0.4610\n",
      "Epoch 52/100\n",
      "32/32 [==============================] - 0s 927us/step - loss: 0.7416 - accuracy: 0.4650\n",
      "Epoch 53/100\n",
      "32/32 [==============================] - 0s 1ms/step - loss: 0.7395 - accuracy: 0.4680\n",
      "Epoch 54/100\n",
      "32/32 [==============================] - 0s 900us/step - loss: 0.7376 - accuracy: 0.4690\n",
      "Epoch 55/100\n",
      "32/32 [==============================] - 0s 948us/step - loss: 0.7358 - accuracy: 0.4700\n",
      "Epoch 56/100\n",
      "32/32 [==============================] - 0s 1ms/step - loss: 0.7340 - accuracy: 0.4670\n",
      "Epoch 57/100\n",
      "32/32 [==============================] - 0s 985us/step - loss: 0.7323 - accuracy: 0.4720\n",
      "Epoch 58/100\n",
      "32/32 [==============================] - 0s 1ms/step - loss: 0.7308 - accuracy: 0.4740\n",
      "Epoch 59/100\n",
      "32/32 [==============================] - 0s 997us/step - loss: 0.7293 - accuracy: 0.4760\n",
      "Epoch 60/100\n",
      "32/32 [==============================] - 0s 967us/step - loss: 0.7279 - accuracy: 0.4780\n",
      "Epoch 61/100\n",
      "32/32 [==============================] - 0s 928us/step - loss: 0.7266 - accuracy: 0.4790\n",
      "Epoch 62/100\n",
      "32/32 [==============================] - 0s 977us/step - loss: 0.7254 - accuracy: 0.4760\n",
      "Epoch 63/100\n",
      "32/32 [==============================] - 0s 843us/step - loss: 0.7240 - accuracy: 0.4790\n",
      "Epoch 64/100\n",
      "32/32 [==============================] - 0s 884us/step - loss: 0.7229 - accuracy: 0.4810\n",
      "Epoch 65/100\n",
      "32/32 [==============================] - 0s 805us/step - loss: 0.7218 - accuracy: 0.4800\n",
      "Epoch 66/100\n",
      "32/32 [==============================] - 0s 1ms/step - loss: 0.7207 - accuracy: 0.4800\n",
      "Epoch 67/100\n",
      "32/32 [==============================] - 0s 943us/step - loss: 0.7197 - accuracy: 0.4820\n",
      "Epoch 68/100\n",
      "32/32 [==============================] - 0s 995us/step - loss: 0.7187 - accuracy: 0.4840\n",
      "Epoch 69/100\n",
      "32/32 [==============================] - 0s 813us/step - loss: 0.7177 - accuracy: 0.4860\n",
      "Epoch 70/100\n",
      "32/32 [==============================] - 0s 908us/step - loss: 0.7168 - accuracy: 0.4850\n",
      "Epoch 71/100\n",
      "32/32 [==============================] - 0s 1ms/step - loss: 0.7158 - accuracy: 0.4890\n",
      "Epoch 72/100\n",
      "32/32 [==============================] - 0s 1ms/step - loss: 0.7150 - accuracy: 0.4890\n",
      "Epoch 73/100\n",
      "32/32 [==============================] - 0s 965us/step - loss: 0.7141 - accuracy: 0.4890\n",
      "Epoch 74/100\n",
      "32/32 [==============================] - 0s 933us/step - loss: 0.7133 - accuracy: 0.4900\n",
      "Epoch 75/100\n",
      "32/32 [==============================] - 0s 978us/step - loss: 0.7126 - accuracy: 0.4920\n",
      "Epoch 76/100\n",
      "32/32 [==============================] - 0s 836us/step - loss: 0.7119 - accuracy: 0.4910\n",
      "Epoch 77/100\n",
      "32/32 [==============================] - 0s 996us/step - loss: 0.7112 - accuracy: 0.4900\n",
      "Epoch 78/100\n",
      "32/32 [==============================] - 0s 960us/step - loss: 0.7105 - accuracy: 0.4910\n",
      "Epoch 79/100\n",
      "32/32 [==============================] - 0s 964us/step - loss: 0.7098 - accuracy: 0.4900\n",
      "Epoch 80/100\n",
      "32/32 [==============================] - 0s 837us/step - loss: 0.7092 - accuracy: 0.4890\n",
      "Epoch 81/100\n",
      "32/32 [==============================] - 0s 941us/step - loss: 0.7086 - accuracy: 0.4860\n",
      "Epoch 82/100\n",
      "32/32 [==============================] - 0s 969us/step - loss: 0.7080 - accuracy: 0.4860\n",
      "Epoch 83/100\n",
      "32/32 [==============================] - 0s 893us/step - loss: 0.7075 - accuracy: 0.4880\n",
      "Epoch 84/100\n",
      "32/32 [==============================] - 0s 914us/step - loss: 0.7069 - accuracy: 0.4880\n",
      "Epoch 85/100\n",
      "32/32 [==============================] - 0s 968us/step - loss: 0.7064 - accuracy: 0.4860\n",
      "Epoch 86/100\n",
      "32/32 [==============================] - 0s 911us/step - loss: 0.7059 - accuracy: 0.4880\n",
      "Epoch 87/100\n",
      "32/32 [==============================] - 0s 873us/step - loss: 0.7055 - accuracy: 0.4900\n",
      "Epoch 88/100\n",
      "32/32 [==============================] - 0s 1ms/step - loss: 0.7050 - accuracy: 0.4880\n",
      "Epoch 89/100\n",
      "32/32 [==============================] - 0s 1ms/step - loss: 0.7046 - accuracy: 0.4870\n",
      "Epoch 90/100\n",
      "32/32 [==============================] - 0s 882us/step - loss: 0.7042 - accuracy: 0.4890\n",
      "Epoch 91/100\n",
      "32/32 [==============================] - 0s 1ms/step - loss: 0.7037 - accuracy: 0.4880\n",
      "Epoch 92/100\n",
      "32/32 [==============================] - 0s 945us/step - loss: 0.7034 - accuracy: 0.4930\n",
      "Epoch 93/100\n",
      "32/32 [==============================] - 0s 897us/step - loss: 0.7030 - accuracy: 0.4910\n",
      "Epoch 94/100\n",
      "32/32 [==============================] - 0s 1ms/step - loss: 0.7026 - accuracy: 0.4930\n",
      "Epoch 95/100\n",
      "32/32 [==============================] - 0s 1ms/step - loss: 0.7022 - accuracy: 0.4930\n",
      "Epoch 96/100\n",
      "32/32 [==============================] - 0s 954us/step - loss: 0.7019 - accuracy: 0.4930\n",
      "Epoch 97/100\n",
      "32/32 [==============================] - 0s 1ms/step - loss: 0.7016 - accuracy: 0.4940\n",
      "Epoch 98/100\n",
      "32/32 [==============================] - 0s 1ms/step - loss: 0.7012 - accuracy: 0.4940\n",
      "Epoch 99/100\n",
      "32/32 [==============================] - 0s 1ms/step - loss: 0.7009 - accuracy: 0.4930\n",
      "Epoch 100/100\n",
      "32/32 [==============================] - 0s 1ms/step - loss: 0.7005 - accuracy: 0.4930\n"
     ]
    }
   ],
   "source": [
    "# Set the random seed\n",
    "tf.random.set_seed(42)\n",
    "\n",
    "# Create the model\n",
    "model_4 = tf.keras.Sequential([\n",
    "    tf.keras.layers.Dense(1, activation= tf.keras.activations.linear), # activation function linear\n",
    "    tf.keras.layers.Dense(1) # output layer\n",
    "])\n",
    "\n",
    "# Compile the model\n",
    "model_4.compile(loss = \"binary_crossentropy\",\n",
    "                optimizer = tf.keras.optimizers.Adam(learning_rate = 0.001),\n",
    "                metrics = [\"accuracy\"])\n",
    "\n",
    "# fit the model\n",
    "history = model_4.fit(X,y,epochs = 100)"
   ]
  },
  {
   "cell_type": "code",
   "execution_count": 25,
   "metadata": {},
   "outputs": [
    {
     "data": {
      "text/plain": [
       "<matplotlib.collections.PathCollection at 0x1eaa5211280>"
      ]
     },
     "execution_count": 25,
     "metadata": {},
     "output_type": "execute_result"
    },
    {
     "data": {
      "image/png": "[encoded data removed]",
      "text/plain": [
       "<Figure size 432x288 with 1 Axes>"
      ]
     },
     "metadata": {
      "needs_background": "light"
     },
     "output_type": "display_data"
    }
   ],
   "source": [
    "# Check out our data\n",
    "plt.scatter(X[:,0],X[:,1],c=y, cmap = plt.cm.RdYlBu)"
   ]
  },
  {
   "cell_type": "code",
   "execution_count": 26,
   "metadata": {},
   "outputs": [
    {
     "name": "stdout",
     "output_type": "stream",
     "text": [
      "doing binary classification...\n"
     ]
    },
    {
     "data": {
      "image/png": "[encoded data removed]",
      "text/plain": [
       "<Figure size 432x288 with 1 Axes>"
      ]
     },
     "metadata": {
      "needs_background": "light"
     },
     "output_type": "display_data"
    }
   ],
   "source": [
    "# Check the decision boundary fou our latest model\n",
    "plot_decision_boundary(model_4, X, y)"
   ]
  },
  {
   "cell_type": "markdown",
   "metadata": {},
   "source": [
    "Well, it looks like we're getting a straight (linear) line prediction again. But our data is non-linear. \n",
    "\n",
    "What we're going to have to do is add some non-linearity to our model. \n",
    "\n",
    "To do so, we'll us the `activation` parameter in our layers.\n",
    "\n",
    "Let's try to build a model with a non-linear activation function"
   ]
  },
  {
   "cell_type": "code",
   "execution_count": 27,
   "metadata": {},
   "outputs": [
    {
     "name": "stdout",
     "output_type": "stream",
     "text": [
      "Epoch 1/100\n",
      "32/32 [==============================] - 1s 977us/step - loss: 1.8377 - accuracy: 0.5000\n",
      "Epoch 2/100\n",
      "32/32 [==============================] - 0s 1ms/step - loss: 1.4449 - accuracy: 0.5000\n",
      "Epoch 3/100\n",
      "32/32 [==============================] - 0s 2ms/step - loss: 1.3410 - accuracy: 0.5000\n",
      "Epoch 4/100\n",
      "32/32 [==============================] - 0s 2ms/step - loss: 1.2678 - accuracy: 0.4770\n",
      "Epoch 5/100\n",
      "32/32 [==============================] - 0s 2ms/step - loss: 1.2116 - accuracy: 0.4390\n",
      "Epoch 6/100\n",
      "32/32 [==============================] - 0s 2ms/step - loss: 1.1664 - accuracy: 0.4180\n",
      "Epoch 7/100\n",
      "32/32 [==============================] - 0s 1ms/step - loss: 1.1294 - accuracy: 0.4250\n",
      "Epoch 8/100\n",
      "32/32 [==============================] - 0s 1ms/step - loss: 1.0970 - accuracy: 0.4420\n",
      "Epoch 9/100\n",
      "32/32 [==============================] - 0s 1ms/step - loss: 1.0670 - accuracy: 0.4540\n",
      "Epoch 10/100\n",
      "32/32 [==============================] - 0s 1ms/step - loss: 1.0407 - accuracy: 0.4550\n",
      "Epoch 11/100\n",
      "32/32 [==============================] - 0s 760us/step - loss: 1.0147 - accuracy: 0.4600\n",
      "Epoch 12/100\n",
      "32/32 [==============================] - 0s 1ms/step - loss: 0.9872 - accuracy: 0.4630\n",
      "Epoch 13/100\n",
      "32/32 [==============================] - 0s 1ms/step - loss: 0.9579 - accuracy: 0.4620\n",
      "Epoch 14/100\n",
      "32/32 [==============================] - 0s 1ms/step - loss: 0.9201 - accuracy: 0.4660\n",
      "Epoch 15/100\n",
      "32/32 [==============================] - 0s 2ms/step - loss: 0.8514 - accuracy: 0.4660\n",
      "Epoch 16/100\n",
      "32/32 [==============================] - 0s 2ms/step - loss: 0.7888 - accuracy: 0.4720\n",
      "Epoch 17/100\n",
      "32/32 [==============================] - 0s 1ms/step - loss: 0.7580 - accuracy: 0.4740\n",
      "Epoch 18/100\n",
      "32/32 [==============================] - 0s 1ms/step - loss: 0.7392 - accuracy: 0.4760\n",
      "Epoch 19/100\n",
      "32/32 [==============================] - 0s 1ms/step - loss: 0.7273 - accuracy: 0.4850\n",
      "Epoch 20/100\n",
      "32/32 [==============================] - 0s 1ms/step - loss: 0.7180 - accuracy: 0.4870\n",
      "Epoch 21/100\n",
      "32/32 [==============================] - 0s 1ms/step - loss: 0.7121 - accuracy: 0.4880\n",
      "Epoch 22/100\n",
      "32/32 [==============================] - 0s 1ms/step - loss: 0.7070 - accuracy: 0.4880\n",
      "Epoch 23/100\n",
      "32/32 [==============================] - 0s 1ms/step - loss: 0.7036 - accuracy: 0.4870\n",
      "Epoch 24/100\n",
      "32/32 [==============================] - 0s 1ms/step - loss: 0.7011 - accuracy: 0.4900\n",
      "Epoch 25/100\n",
      "32/32 [==============================] - 0s 1ms/step - loss: 0.6993 - accuracy: 0.4860\n",
      "Epoch 26/100\n",
      "32/32 [==============================] - 0s 1ms/step - loss: 0.6977 - accuracy: 0.4910\n",
      "Epoch 27/100\n",
      "32/32 [==============================] - 0s 1ms/step - loss: 0.6970 - accuracy: 0.4950\n",
      "Epoch 28/100\n",
      "32/32 [==============================] - 0s 1ms/step - loss: 0.6959 - accuracy: 0.4970\n",
      "Epoch 29/100\n",
      "32/32 [==============================] - 0s 1ms/step - loss: 0.6955 - accuracy: 0.4950\n",
      "Epoch 30/100\n",
      "32/32 [==============================] - 0s 1ms/step - loss: 0.6949 - accuracy: 0.4970\n",
      "Epoch 31/100\n",
      "32/32 [==============================] - 0s 1ms/step - loss: 0.6946 - accuracy: 0.4990\n",
      "Epoch 32/100\n",
      "32/32 [==============================] - 0s 1ms/step - loss: 0.6943 - accuracy: 0.4910\n",
      "Epoch 33/100\n",
      "32/32 [==============================] - 0s 1ms/step - loss: 0.6940 - accuracy: 0.5000\n",
      "Epoch 34/100\n",
      "32/32 [==============================] - 0s 1ms/step - loss: 0.6939 - accuracy: 0.4910\n",
      "Epoch 35/100\n",
      "32/32 [==============================] - 0s 1ms/step - loss: 0.6937 - accuracy: 0.4940\n",
      "Epoch 36/100\n",
      "32/32 [==============================] - 0s 1ms/step - loss: 0.6935 - accuracy: 0.4930\n",
      "Epoch 37/100\n",
      "32/32 [==============================] - 0s 1ms/step - loss: 0.6934 - accuracy: 0.4950\n",
      "Epoch 38/100\n",
      "32/32 [==============================] - 0s 1ms/step - loss: 0.6935 - accuracy: 0.4900\n",
      "Epoch 39/100\n",
      "32/32 [==============================] - 0s 1ms/step - loss: 0.6934 - accuracy: 0.4840\n",
      "Epoch 40/100\n",
      "32/32 [==============================] - 0s 1ms/step - loss: 0.6935 - accuracy: 0.5000\n",
      "Epoch 41/100\n",
      "32/32 [==============================] - 0s 1ms/step - loss: 0.6936 - accuracy: 0.5060\n",
      "Epoch 42/100\n",
      "32/32 [==============================] - 0s 1ms/step - loss: 0.6935 - accuracy: 0.4800\n",
      "Epoch 43/100\n",
      "32/32 [==============================] - 0s 1ms/step - loss: 0.6933 - accuracy: 0.5050\n",
      "Epoch 44/100\n",
      "32/32 [==============================] - 0s 1ms/step - loss: 0.6936 - accuracy: 0.4810\n",
      "Epoch 45/100\n",
      "32/32 [==============================] - 0s 1ms/step - loss: 0.6933 - accuracy: 0.4550\n",
      "Epoch 46/100\n",
      "32/32 [==============================] - 0s 1ms/step - loss: 0.6932 - accuracy: 0.4920\n",
      "Epoch 47/100\n",
      "32/32 [==============================] - 0s 1ms/step - loss: 0.6935 - accuracy: 0.4870\n",
      "Epoch 48/100\n",
      "32/32 [==============================] - 0s 1ms/step - loss: 0.6934 - accuracy: 0.5100\n",
      "Epoch 49/100\n",
      "32/32 [==============================] - 0s 966us/step - loss: 0.6934 - accuracy: 0.4770\n",
      "Epoch 50/100\n",
      "32/32 [==============================] - 0s 1ms/step - loss: 0.6934 - accuracy: 0.5000\n",
      "Epoch 51/100\n",
      "32/32 [==============================] - 0s 1ms/step - loss: 0.6933 - accuracy: 0.4760\n",
      "Epoch 52/100\n",
      "32/32 [==============================] - 0s 1ms/step - loss: 0.6934 - accuracy: 0.5010\n",
      "Epoch 53/100\n",
      "32/32 [==============================] - 0s 1ms/step - loss: 0.6935 - accuracy: 0.4880\n",
      "Epoch 54/100\n",
      "32/32 [==============================] - 0s 1ms/step - loss: 0.6933 - accuracy: 0.5530\n",
      "Epoch 55/100\n",
      "32/32 [==============================] - 0s 933us/step - loss: 0.6935 - accuracy: 0.5060\n",
      "Epoch 56/100\n",
      "32/32 [==============================] - 0s 1ms/step - loss: 0.6935 - accuracy: 0.5200\n",
      "Epoch 57/100\n",
      "32/32 [==============================] - 0s 1ms/step - loss: 0.6933 - accuracy: 0.4910\n",
      "Epoch 58/100\n",
      "32/32 [==============================] - 0s 1ms/step - loss: 0.6934 - accuracy: 0.4990\n",
      "Epoch 59/100\n",
      "32/32 [==============================] - 0s 1ms/step - loss: 0.6938 - accuracy: 0.5000\n",
      "Epoch 60/100\n",
      "32/32 [==============================] - 0s 1ms/step - loss: 0.6934 - accuracy: 0.5000\n",
      "Epoch 61/100\n",
      "32/32 [==============================] - 0s 1ms/step - loss: 0.6935 - accuracy: 0.4900\n",
      "Epoch 62/100\n",
      "32/32 [==============================] - 0s 1ms/step - loss: 0.6934 - accuracy: 0.4820\n",
      "Epoch 63/100\n",
      "32/32 [==============================] - 0s 1ms/step - loss: 0.6933 - accuracy: 0.4700\n",
      "Epoch 64/100\n",
      "32/32 [==============================] - 0s 1ms/step - loss: 0.6934 - accuracy: 0.4820\n",
      "Epoch 65/100\n",
      "32/32 [==============================] - 0s 2ms/step - loss: 0.6934 - accuracy: 0.4620\n",
      "Epoch 66/100\n",
      "32/32 [==============================] - 0s 1ms/step - loss: 0.6934 - accuracy: 0.4760\n",
      "Epoch 67/100\n",
      "32/32 [==============================] - 0s 874us/step - loss: 0.6934 - accuracy: 0.4830\n",
      "Epoch 68/100\n",
      "32/32 [==============================] - 0s 1ms/step - loss: 0.6933 - accuracy: 0.4680\n",
      "Epoch 69/100\n",
      "32/32 [==============================] - 0s 1ms/step - loss: 0.6933 - accuracy: 0.5010\n",
      "Epoch 70/100\n",
      "32/32 [==============================] - 0s 1ms/step - loss: 0.6934 - accuracy: 0.4970\n",
      "Epoch 71/100\n",
      "32/32 [==============================] - 0s 1ms/step - loss: 0.6933 - accuracy: 0.4680\n",
      "Epoch 72/100\n",
      "32/32 [==============================] - 0s 1ms/step - loss: 0.6934 - accuracy: 0.5070\n",
      "Epoch 73/100\n",
      "32/32 [==============================] - 0s 1ms/step - loss: 0.6934 - accuracy: 0.5320\n",
      "Epoch 74/100\n",
      "32/32 [==============================] - 0s 938us/step - loss: 0.6933 - accuracy: 0.5290\n",
      "Epoch 75/100\n",
      "32/32 [==============================] - 0s 1ms/step - loss: 0.6935 - accuracy: 0.5000\n",
      "Epoch 76/100\n",
      "32/32 [==============================] - 0s 1ms/step - loss: 0.6935 - accuracy: 0.4730\n",
      "Epoch 77/100\n",
      "32/32 [==============================] - 0s 1ms/step - loss: 0.6935 - accuracy: 0.4870\n",
      "Epoch 78/100\n",
      "32/32 [==============================] - 0s 983us/step - loss: 0.6934 - accuracy: 0.4830\n",
      "Epoch 79/100\n",
      "32/32 [==============================] - 0s 1ms/step - loss: 0.6935 - accuracy: 0.4640\n",
      "Epoch 80/100\n",
      "32/32 [==============================] - 0s 1ms/step - loss: 0.6933 - accuracy: 0.5040\n",
      "Epoch 81/100\n",
      "32/32 [==============================] - 0s 1ms/step - loss: 0.6936 - accuracy: 0.5000\n",
      "Epoch 82/100\n",
      "32/32 [==============================] - 0s 2ms/step - loss: 0.6935 - accuracy: 0.5020\n",
      "Epoch 83/100\n",
      "32/32 [==============================] - 0s 1ms/step - loss: 0.6936 - accuracy: 0.4840\n",
      "Epoch 84/100\n",
      "32/32 [==============================] - 0s 1ms/step - loss: 0.6932 - accuracy: 0.5070\n",
      "Epoch 85/100\n",
      "32/32 [==============================] - 0s 1ms/step - loss: 0.6933 - accuracy: 0.5000\n",
      "Epoch 86/100\n",
      "32/32 [==============================] - 0s 1ms/step - loss: 0.6935 - accuracy: 0.5000\n",
      "Epoch 87/100\n",
      "32/32 [==============================] - 0s 1ms/step - loss: 0.6933 - accuracy: 0.5000\n",
      "Epoch 88/100\n",
      "32/32 [==============================] - 0s 1ms/step - loss: 0.6933 - accuracy: 0.4680\n",
      "Epoch 89/100\n",
      "32/32 [==============================] - 0s 1ms/step - loss: 0.6934 - accuracy: 0.4590\n",
      "Epoch 90/100\n",
      "32/32 [==============================] - 0s 1ms/step - loss: 0.6937 - accuracy: 0.4980\n",
      "Epoch 91/100\n",
      "32/32 [==============================] - 0s 1ms/step - loss: 0.6933 - accuracy: 0.4910\n",
      "Epoch 92/100\n",
      "32/32 [==============================] - 0s 1ms/step - loss: 0.6935 - accuracy: 0.4850\n",
      "Epoch 93/100\n",
      "32/32 [==============================] - 0s 1ms/step - loss: 0.6938 - accuracy: 0.4970\n",
      "Epoch 94/100\n",
      "32/32 [==============================] - 0s 1ms/step - loss: 0.6934 - accuracy: 0.4710\n",
      "Epoch 95/100\n",
      "32/32 [==============================] - 0s 1ms/step - loss: 0.6934 - accuracy: 0.4720\n",
      "Epoch 96/100\n",
      "32/32 [==============================] - 0s 2ms/step - loss: 0.6934 - accuracy: 0.4880\n",
      "Epoch 97/100\n",
      "32/32 [==============================] - 0s 1ms/step - loss: 0.6934 - accuracy: 0.4510\n",
      "Epoch 98/100\n",
      "32/32 [==============================] - 0s 1ms/step - loss: 0.6934 - accuracy: 0.4640\n",
      "Epoch 99/100\n",
      "32/32 [==============================] - 0s 1ms/step - loss: 0.6935 - accuracy: 0.4940\n",
      "Epoch 100/100\n",
      "32/32 [==============================] - 0s 2ms/step - loss: 0.6936 - accuracy: 0.5180\n"
     ]
    }
   ],
   "source": [
    "# set random seed\n",
    "tf.random.set_seed(42)\n",
    "\n",
    "# create a model with a non-linear activation\n",
    "model_5 = tf.keras.Sequential([\n",
    "    tf.keras.layers.Dense(1,activation=tf.keras.activations.relu),\n",
    "    tf.keras.layers.Dense(1)\n",
    "])\n",
    "\n",
    "# Compile the model\n",
    "model_5.compile(loss = tf.keras.losses.BinaryCrossentropy(),\n",
    "                optimizer = tf.keras.optimizers.Adam(learning_rate=0.001),\n",
    "                metrics = [\"accuracy\"])\n",
    "\n",
    "# Fit the model\n",
    "history = model_5.fit(X,y,epochs=100)"
   ]
  },
  {
   "cell_type": "markdown",
   "metadata": {},
   "source": [
    "Still not learning...\n",
    "\n",
    "Let's try to increase the number of neurons and layers in our model. Let's try:\n",
    "- 2 hidden layers with `ReLU` (rectified linear unit)\n",
    "- 4 neurons per layer\n",
    "\n",
    "Te see this network in action, check out [TensorFlow Playground demo](https://playground.tensorflow.org/#activation=relu&batchSize=10&dataset=circle&regDataset=reg-plane&learningRate=0.001&regularizationRate=0&noise=0&networkShape=4,4&seed=0.53965&showTestData=false&discretize=false&percTrainData=50&x=true&y=true&xTimesY=false&xSquared=false&ySquared=false&cosX=false&sinX=false&cosY=false&sinY=false&collectStats=false&problem=classification&initZero=false&hideText=false)\n",
    "\n",
    "\n",
    "<center><img src=\"images/02-tensorflow-playground-two-layer-net-relu-activation.png\" width=650px></center>\n",
    "\n"
   ]
  },
  {
   "cell_type": "code",
   "execution_count": 28,
   "metadata": {},
   "outputs": [
    {
     "name": "stdout",
     "output_type": "stream",
     "text": [
      "Epoch 1/100\n",
      "32/32 [==============================] - 0s 899us/step - loss: 7.7125 - accuracy: 0.5000\n",
      "Epoch 2/100\n",
      "32/32 [==============================] - 0s 1ms/step - loss: 7.7125 - accuracy: 0.5000\n",
      "Epoch 3/100\n",
      "32/32 [==============================] - 0s 1ms/step - loss: 7.7125 - accuracy: 0.5000\n",
      "Epoch 4/100\n",
      "32/32 [==============================] - 0s 1ms/step - loss: 7.7125 - accuracy: 0.5000\n",
      "Epoch 5/100\n",
      "32/32 [==============================] - 0s 2ms/step - loss: 7.7125 - accuracy: 0.5000\n",
      "Epoch 6/100\n",
      "32/32 [==============================] - 0s 1ms/step - loss: 7.7125 - accuracy: 0.5000\n",
      "Epoch 7/100\n",
      "32/32 [==============================] - 0s 1ms/step - loss: 7.7125 - accuracy: 0.5000\n",
      "Epoch 8/100\n",
      "32/32 [==============================] - 0s 2ms/step - loss: 7.7125 - accuracy: 0.5000\n",
      "Epoch 9/100\n",
      "32/32 [==============================] - 0s 1ms/step - loss: 7.7125 - accuracy: 0.5000\n",
      "Epoch 10/100\n",
      "32/32 [==============================] - 0s 2ms/step - loss: 7.7125 - accuracy: 0.5000\n",
      "Epoch 11/100\n",
      "32/32 [==============================] - 0s 2ms/step - loss: 7.7125 - accuracy: 0.5000\n",
      "Epoch 12/100\n",
      "32/32 [==============================] - 0s 2ms/step - loss: 7.7125 - accuracy: 0.5000\n",
      "Epoch 13/100\n",
      "32/32 [==============================] - 0s 2ms/step - loss: 7.7125 - accuracy: 0.5000\n",
      "Epoch 14/100\n",
      "32/32 [==============================] - 0s 1ms/step - loss: 7.7125 - accuracy: 0.5000\n",
      "Epoch 15/100\n",
      "32/32 [==============================] - 0s 2ms/step - loss: 7.7125 - accuracy: 0.5000\n",
      "Epoch 16/100\n",
      "32/32 [==============================] - 0s 2ms/step - loss: 7.7125 - accuracy: 0.5000\n",
      "Epoch 17/100\n",
      "32/32 [==============================] - 0s 1ms/step - loss: 7.7125 - accuracy: 0.5000\n",
      "Epoch 18/100\n",
      "32/32 [==============================] - 0s 1ms/step - loss: 7.7125 - accuracy: 0.5000\n",
      "Epoch 19/100\n",
      "32/32 [==============================] - 0s 2ms/step - loss: 7.7125 - accuracy: 0.5000\n",
      "Epoch 20/100\n",
      "32/32 [==============================] - 0s 1ms/step - loss: 7.7125 - accuracy: 0.5000\n",
      "Epoch 21/100\n",
      "32/32 [==============================] - 0s 2ms/step - loss: 7.7125 - accuracy: 0.5000\n",
      "Epoch 22/100\n",
      "32/32 [==============================] - 0s 1ms/step - loss: 7.7125 - accuracy: 0.5000\n",
      "Epoch 23/100\n",
      "32/32 [==============================] - 0s 1ms/step - loss: 7.7125 - accuracy: 0.5000\n",
      "Epoch 24/100\n",
      "32/32 [==============================] - 0s 1ms/step - loss: 7.7125 - accuracy: 0.5000\n",
      "Epoch 25/100\n",
      "32/32 [==============================] - 0s 1ms/step - loss: 7.7125 - accuracy: 0.5000\n",
      "Epoch 26/100\n",
      "32/32 [==============================] - 0s 1ms/step - loss: 7.7125 - accuracy: 0.5000\n",
      "Epoch 27/100\n",
      "32/32 [==============================] - 0s 1ms/step - loss: 7.7125 - accuracy: 0.5000\n",
      "Epoch 28/100\n",
      "32/32 [==============================] - 0s 2ms/step - loss: 7.7125 - accuracy: 0.5000\n",
      "Epoch 29/100\n",
      "32/32 [==============================] - 0s 2ms/step - loss: 7.7125 - accuracy: 0.5000\n",
      "Epoch 30/100\n",
      "32/32 [==============================] - 0s 1ms/step - loss: 7.7125 - accuracy: 0.5000\n",
      "Epoch 31/100\n",
      "32/32 [==============================] - 0s 1ms/step - loss: 7.7125 - accuracy: 0.5000\n",
      "Epoch 32/100\n",
      "32/32 [==============================] - 0s 1ms/step - loss: 7.7125 - accuracy: 0.5000\n",
      "Epoch 33/100\n",
      "32/32 [==============================] - 0s 1ms/step - loss: 7.7125 - accuracy: 0.5000\n",
      "Epoch 34/100\n",
      "32/32 [==============================] - 0s 2ms/step - loss: 7.7125 - accuracy: 0.5000\n",
      "Epoch 35/100\n",
      "32/32 [==============================] - 0s 2ms/step - loss: 7.7125 - accuracy: 0.5000\n",
      "Epoch 36/100\n",
      "32/32 [==============================] - 0s 2ms/step - loss: 7.7125 - accuracy: 0.5000\n",
      "Epoch 37/100\n",
      "32/32 [==============================] - 0s 2ms/step - loss: 7.7125 - accuracy: 0.5000\n",
      "Epoch 38/100\n",
      "32/32 [==============================] - 0s 2ms/step - loss: 7.7125 - accuracy: 0.5000\n",
      "Epoch 39/100\n",
      "32/32 [==============================] - 0s 2ms/step - loss: 7.7125 - accuracy: 0.5000\n",
      "Epoch 40/100\n",
      "32/32 [==============================] - 0s 2ms/step - loss: 7.7125 - accuracy: 0.5000\n",
      "Epoch 41/100\n",
      "32/32 [==============================] - 0s 1ms/step - loss: 7.7125 - accuracy: 0.5000\n",
      "Epoch 42/100\n",
      "32/32 [==============================] - 0s 1ms/step - loss: 7.7125 - accuracy: 0.5000\n",
      "Epoch 43/100\n",
      "32/32 [==============================] - 0s 1ms/step - loss: 7.7125 - accuracy: 0.5000\n",
      "Epoch 44/100\n",
      "32/32 [==============================] - 0s 1ms/step - loss: 7.7125 - accuracy: 0.5000\n",
      "Epoch 45/100\n",
      "32/32 [==============================] - 0s 1ms/step - loss: 7.7125 - accuracy: 0.5000\n",
      "Epoch 46/100\n",
      "32/32 [==============================] - 0s 1ms/step - loss: 7.7125 - accuracy: 0.5000\n",
      "Epoch 47/100\n",
      "32/32 [==============================] - 0s 1ms/step - loss: 7.7125 - accuracy: 0.5000\n",
      "Epoch 48/100\n",
      "32/32 [==============================] - 0s 1ms/step - loss: 7.7125 - accuracy: 0.5000\n",
      "Epoch 49/100\n",
      "32/32 [==============================] - 0s 1ms/step - loss: 7.7125 - accuracy: 0.5000\n",
      "Epoch 50/100\n",
      "32/32 [==============================] - 0s 942us/step - loss: 7.7125 - accuracy: 0.5000\n",
      "Epoch 51/100\n",
      "32/32 [==============================] - 0s 1ms/step - loss: 7.7125 - accuracy: 0.5000\n",
      "Epoch 52/100\n",
      "32/32 [==============================] - 0s 949us/step - loss: 7.7125 - accuracy: 0.5000\n",
      "Epoch 53/100\n",
      "32/32 [==============================] - 0s 1ms/step - loss: 7.7125 - accuracy: 0.5000\n",
      "Epoch 54/100\n",
      "32/32 [==============================] - 0s 1ms/step - loss: 7.7125 - accuracy: 0.5000\n",
      "Epoch 55/100\n",
      "32/32 [==============================] - 0s 2ms/step - loss: 7.7125 - accuracy: 0.5000\n",
      "Epoch 56/100\n",
      "32/32 [==============================] - 0s 2ms/step - loss: 7.7125 - accuracy: 0.5000\n",
      "Epoch 57/100\n",
      "32/32 [==============================] - 0s 1ms/step - loss: 7.7125 - accuracy: 0.5000\n",
      "Epoch 58/100\n",
      "32/32 [==============================] - 0s 1ms/step - loss: 7.7125 - accuracy: 0.5000\n",
      "Epoch 59/100\n",
      "32/32 [==============================] - 0s 1ms/step - loss: 7.7125 - accuracy: 0.5000\n",
      "Epoch 60/100\n",
      "32/32 [==============================] - 0s 1ms/step - loss: 7.7125 - accuracy: 0.5000\n",
      "Epoch 61/100\n",
      "32/32 [==============================] - 0s 875us/step - loss: 7.7125 - accuracy: 0.5000\n",
      "Epoch 62/100\n",
      "32/32 [==============================] - 0s 1ms/step - loss: 7.7125 - accuracy: 0.5000\n",
      "Epoch 63/100\n",
      "32/32 [==============================] - 0s 871us/step - loss: 7.7125 - accuracy: 0.5000\n",
      "Epoch 64/100\n",
      "32/32 [==============================] - 0s 966us/step - loss: 7.7125 - accuracy: 0.5000\n",
      "Epoch 65/100\n",
      "32/32 [==============================] - 0s 1ms/step - loss: 7.7125 - accuracy: 0.5000\n",
      "Epoch 66/100\n",
      "32/32 [==============================] - 0s 939us/step - loss: 7.7125 - accuracy: 0.5000\n",
      "Epoch 67/100\n",
      "32/32 [==============================] - 0s 1ms/step - loss: 7.7125 - accuracy: 0.5000\n",
      "Epoch 68/100\n",
      "32/32 [==============================] - 0s 981us/step - loss: 7.7125 - accuracy: 0.5000\n",
      "Epoch 69/100\n",
      "32/32 [==============================] - 0s 1ms/step - loss: 7.7125 - accuracy: 0.5000\n",
      "Epoch 70/100\n",
      "32/32 [==============================] - 0s 1ms/step - loss: 7.7125 - accuracy: 0.5000\n",
      "Epoch 71/100\n",
      "32/32 [==============================] - 0s 1ms/step - loss: 7.7125 - accuracy: 0.5000\n",
      "Epoch 72/100\n",
      "32/32 [==============================] - 0s 1ms/step - loss: 7.7125 - accuracy: 0.5000\n",
      "Epoch 73/100\n",
      "32/32 [==============================] - 0s 963us/step - loss: 7.7125 - accuracy: 0.5000\n",
      "Epoch 74/100\n",
      "32/32 [==============================] - 0s 1ms/step - loss: 7.7125 - accuracy: 0.5000\n",
      "Epoch 75/100\n",
      "32/32 [==============================] - 0s 2ms/step - loss: 7.7125 - accuracy: 0.5000\n",
      "Epoch 76/100\n",
      "32/32 [==============================] - 0s 1ms/step - loss: 7.7125 - accuracy: 0.5000\n",
      "Epoch 77/100\n",
      "32/32 [==============================] - 0s 1ms/step - loss: 7.7125 - accuracy: 0.5000\n",
      "Epoch 78/100\n",
      "32/32 [==============================] - 0s 941us/step - loss: 7.7125 - accuracy: 0.5000\n",
      "Epoch 79/100\n",
      "32/32 [==============================] - 0s 1ms/step - loss: 7.7125 - accuracy: 0.5000\n",
      "Epoch 80/100\n",
      "32/32 [==============================] - 0s 1ms/step - loss: 7.7125 - accuracy: 0.5000\n",
      "Epoch 81/100\n",
      "32/32 [==============================] - 0s 999us/step - loss: 7.7125 - accuracy: 0.5000\n",
      "Epoch 82/100\n",
      "32/32 [==============================] - 0s 934us/step - loss: 7.7125 - accuracy: 0.5000\n",
      "Epoch 83/100\n",
      "32/32 [==============================] - 0s 1ms/step - loss: 7.7125 - accuracy: 0.5000\n",
      "Epoch 84/100\n",
      "32/32 [==============================] - 0s 907us/step - loss: 7.7125 - accuracy: 0.5000\n",
      "Epoch 85/100\n",
      "32/32 [==============================] - 0s 992us/step - loss: 7.7125 - accuracy: 0.5000\n",
      "Epoch 86/100\n",
      "32/32 [==============================] - 0s 1ms/step - loss: 7.7125 - accuracy: 0.5000\n",
      "Epoch 87/100\n",
      "32/32 [==============================] - 0s 942us/step - loss: 7.7125 - accuracy: 0.5000\n",
      "Epoch 88/100\n",
      "32/32 [==============================] - 0s 1ms/step - loss: 7.7125 - accuracy: 0.5000\n",
      "Epoch 89/100\n",
      "32/32 [==============================] - 0s 1ms/step - loss: 7.7125 - accuracy: 0.5000\n",
      "Epoch 90/100\n",
      "32/32 [==============================] - 0s 1ms/step - loss: 7.7125 - accuracy: 0.5000\n",
      "Epoch 91/100\n",
      "32/32 [==============================] - 0s 1ms/step - loss: 7.7125 - accuracy: 0.5000\n",
      "Epoch 92/100\n",
      "32/32 [==============================] - 0s 989us/step - loss: 7.7125 - accuracy: 0.5000\n",
      "Epoch 93/100\n",
      "32/32 [==============================] - 0s 2ms/step - loss: 7.7125 - accuracy: 0.5000\n",
      "Epoch 94/100\n",
      "32/32 [==============================] - 0s 2ms/step - loss: 7.7125 - accuracy: 0.5000\n",
      "Epoch 95/100\n",
      "32/32 [==============================] - 0s 1ms/step - loss: 7.7125 - accuracy: 0.5000\n",
      "Epoch 96/100\n",
      "32/32 [==============================] - 0s 1ms/step - loss: 7.7125 - accuracy: 0.5000\n",
      "Epoch 97/100\n",
      "32/32 [==============================] - 0s 1ms/step - loss: 7.7125 - accuracy: 0.5000\n",
      "Epoch 98/100\n",
      "32/32 [==============================] - 0s 1ms/step - loss: 7.7125 - accuracy: 0.5000\n",
      "Epoch 99/100\n",
      "32/32 [==============================] - 0s 990us/step - loss: 7.7125 - accuracy: 0.5000\n",
      "Epoch 100/100\n",
      "32/32 [==============================] - 0s 1ms/step - loss: 7.7125 - accuracy: 0.5000\n"
     ]
    }
   ],
   "source": [
    "# set random seed\n",
    "tf.random.set_seed(42)\n",
    "\n",
    "# Create a model \n",
    "model_6 = tf.keras.Sequential([\n",
    "    tf.keras.layers.Dense(4, activation= \"relu\"),\n",
    "    tf.keras.layers.Dense(4, activation= \"relu\"),\n",
    "    tf.keras.layers.Dense(1)\n",
    "])\n",
    "\n",
    "# Compile the model\n",
    "model_6.compile(loss = tf.keras.losses.BinaryCrossentropy(),\n",
    "                optimizer = tf.keras.optimizers.Adam(learning_rate=0.001),\n",
    "                metrics = [\"accuracy\"])\n",
    "\n",
    "# Fit the model\n",
    "history = model_6.fit(X,y, epochs = 100)"
   ]
  },
  {
   "cell_type": "code",
   "execution_count": 35,
   "metadata": {},
   "outputs": [
    {
     "name": "stdout",
     "output_type": "stream",
     "text": [
      "doing binary classification...\n"
     ]
    },
    {
     "data": {
      "image/png": "[encoded data removed]",
      "text/plain": [
       "<Figure size 432x288 with 1 Axes>"
      ]
     },
     "metadata": {
      "needs_background": "light"
     },
     "output_type": "display_data"
    }
   ],
   "source": [
    "# plot the predictions\n",
    "plot_decision_boundary(model_6,X,y)"
   ]
  },
  {
   "cell_type": "markdown",
   "metadata": {},
   "source": [
    "It seems like our model is the same as the one in the TensorFlow Playground but our model is still drawing straight lines...\n",
    "\n",
    "This time we'll change the activation function on our output layer too. Remember the architecture of a classification model : For binary classification, the output layer activations is usually the `Sigmoid activation function`."
   ]
  },
  {
   "cell_type": "code",
   "execution_count": 29,
   "metadata": {},
   "outputs": [
    {
     "name": "stdout",
     "output_type": "stream",
     "text": [
      "Epoch 1/100\n",
      "32/32 [==============================] - 1s 2ms/step - loss: 0.6891 - accuracy: 0.5020\n",
      "Epoch 2/100\n",
      "32/32 [==============================] - 0s 1ms/step - loss: 0.6848 - accuracy: 0.5170\n",
      "Epoch 3/100\n",
      "32/32 [==============================] - 0s 1ms/step - loss: 0.6824 - accuracy: 0.5160\n",
      "Epoch 4/100\n",
      "32/32 [==============================] - 0s 1ms/step - loss: 0.6813 - accuracy: 0.5300\n",
      "Epoch 5/100\n",
      "32/32 [==============================] - 0s 1ms/step - loss: 0.6802 - accuracy: 0.5390\n",
      "Epoch 6/100\n",
      "32/32 [==============================] - 0s 1ms/step - loss: 0.6794 - accuracy: 0.5380\n",
      "Epoch 7/100\n",
      "32/32 [==============================] - 0s 1ms/step - loss: 0.6785 - accuracy: 0.5500\n",
      "Epoch 8/100\n",
      "32/32 [==============================] - 0s 965us/step - loss: 0.6778 - accuracy: 0.5480\n",
      "Epoch 9/100\n",
      "32/32 [==============================] - 0s 945us/step - loss: 0.6772 - accuracy: 0.5530\n",
      "Epoch 10/100\n",
      "32/32 [==============================] - 0s 933us/step - loss: 0.6766 - accuracy: 0.5510\n",
      "Epoch 11/100\n",
      "32/32 [==============================] - 0s 997us/step - loss: 0.6760 - accuracy: 0.5500\n",
      "Epoch 12/100\n",
      "32/32 [==============================] - 0s 869us/step - loss: 0.6754 - accuracy: 0.5550\n",
      "Epoch 13/100\n",
      "32/32 [==============================] - 0s 997us/step - loss: 0.6747 - accuracy: 0.5560\n",
      "Epoch 14/100\n",
      "32/32 [==============================] - 0s 963us/step - loss: 0.6741 - accuracy: 0.5540\n",
      "Epoch 15/100\n",
      "32/32 [==============================] - 0s 997us/step - loss: 0.6734 - accuracy: 0.5580\n",
      "Epoch 16/100\n",
      "32/32 [==============================] - 0s 865us/step - loss: 0.6727 - accuracy: 0.5550\n",
      "Epoch 17/100\n",
      "32/32 [==============================] - 0s 1ms/step - loss: 0.6722 - accuracy: 0.5550\n",
      "Epoch 18/100\n",
      "32/32 [==============================] - 0s 885us/step - loss: 0.6716 - accuracy: 0.5550\n",
      "Epoch 19/100\n",
      "32/32 [==============================] - 0s 1ms/step - loss: 0.6710 - accuracy: 0.5590\n",
      "Epoch 20/100\n",
      "32/32 [==============================] - 0s 1ms/step - loss: 0.6702 - accuracy: 0.5600\n",
      "Epoch 21/100\n",
      "32/32 [==============================] - 0s 1ms/step - loss: 0.6696 - accuracy: 0.5640\n",
      "Epoch 22/100\n",
      "32/32 [==============================] - 0s 932us/step - loss: 0.6688 - accuracy: 0.5600\n",
      "Epoch 23/100\n",
      "32/32 [==============================] - 0s 965us/step - loss: 0.6682 - accuracy: 0.5700\n",
      "Epoch 24/100\n",
      "32/32 [==============================] - 0s 1ms/step - loss: 0.6679 - accuracy: 0.5570\n",
      "Epoch 25/100\n",
      "32/32 [==============================] - 0s 1ms/step - loss: 0.6671 - accuracy: 0.5670\n",
      "Epoch 26/100\n",
      "32/32 [==============================] - 0s 997us/step - loss: 0.6662 - accuracy: 0.5750\n",
      "Epoch 27/100\n",
      "32/32 [==============================] - 0s 1ms/step - loss: 0.6657 - accuracy: 0.5810\n",
      "Epoch 28/100\n",
      "32/32 [==============================] - 0s 1ms/step - loss: 0.6645 - accuracy: 0.5700\n",
      "Epoch 29/100\n",
      "32/32 [==============================] - 0s 2ms/step - loss: 0.6642 - accuracy: 0.5700\n",
      "Epoch 30/100\n",
      "32/32 [==============================] - 0s 1ms/step - loss: 0.6634 - accuracy: 0.5790\n",
      "Epoch 31/100\n",
      "32/32 [==============================] - 0s 1ms/step - loss: 0.6627 - accuracy: 0.5760\n",
      "Epoch 32/100\n",
      "32/32 [==============================] - 0s 1ms/step - loss: 0.6619 - accuracy: 0.5760\n",
      "Epoch 33/100\n",
      "32/32 [==============================] - 0s 1ms/step - loss: 0.6610 - accuracy: 0.5760\n",
      "Epoch 34/100\n",
      "32/32 [==============================] - 0s 1ms/step - loss: 0.6606 - accuracy: 0.5760\n",
      "Epoch 35/100\n",
      "32/32 [==============================] - 0s 1ms/step - loss: 0.6597 - accuracy: 0.5790\n",
      "Epoch 36/100\n",
      "32/32 [==============================] - 0s 1ms/step - loss: 0.6586 - accuracy: 0.5780\n",
      "Epoch 37/100\n",
      "32/32 [==============================] - 0s 1ms/step - loss: 0.6580 - accuracy: 0.5780\n",
      "Epoch 38/100\n",
      "32/32 [==============================] - 0s 1ms/step - loss: 0.6573 - accuracy: 0.5790\n",
      "Epoch 39/100\n",
      "32/32 [==============================] - 0s 943us/step - loss: 0.6564 - accuracy: 0.5790\n",
      "Epoch 40/100\n",
      "32/32 [==============================] - 0s 1ms/step - loss: 0.6556 - accuracy: 0.5760\n",
      "Epoch 41/100\n",
      "32/32 [==============================] - 0s 1ms/step - loss: 0.6548 - accuracy: 0.5780\n",
      "Epoch 42/100\n",
      "32/32 [==============================] - 0s 1ms/step - loss: 0.6540 - accuracy: 0.5750\n",
      "Epoch 43/100\n",
      "32/32 [==============================] - 0s 1ms/step - loss: 0.6530 - accuracy: 0.5780\n",
      "Epoch 44/100\n",
      "32/32 [==============================] - 0s 1ms/step - loss: 0.6521 - accuracy: 0.5810\n",
      "Epoch 45/100\n",
      "32/32 [==============================] - 0s 1ms/step - loss: 0.6496 - accuracy: 0.5810\n",
      "Epoch 46/100\n",
      "32/32 [==============================] - 0s 938us/step - loss: 0.6481 - accuracy: 0.5830\n",
      "Epoch 47/100\n",
      "32/32 [==============================] - 0s 1ms/step - loss: 0.6472 - accuracy: 0.5850\n",
      "Epoch 48/100\n",
      "32/32 [==============================] - 0s 1ms/step - loss: 0.6451 - accuracy: 0.5880\n",
      "Epoch 49/100\n",
      "32/32 [==============================] - 0s 946us/step - loss: 0.6426 - accuracy: 0.5880\n",
      "Epoch 50/100\n",
      "32/32 [==============================] - 0s 938us/step - loss: 0.6404 - accuracy: 0.5940\n",
      "Epoch 51/100\n",
      "32/32 [==============================] - 0s 847us/step - loss: 0.6384 - accuracy: 0.6010\n",
      "Epoch 52/100\n",
      "32/32 [==============================] - 0s 1ms/step - loss: 0.6364 - accuracy: 0.6130\n",
      "Epoch 53/100\n",
      "32/32 [==============================] - 0s 1ms/step - loss: 0.6344 - accuracy: 0.6110\n",
      "Epoch 54/100\n",
      "32/32 [==============================] - 0s 1ms/step - loss: 0.6312 - accuracy: 0.6280\n",
      "Epoch 55/100\n",
      "32/32 [==============================] - 0s 1ms/step - loss: 0.6287 - accuracy: 0.6380\n",
      "Epoch 56/100\n",
      "32/32 [==============================] - 0s 1ms/step - loss: 0.6259 - accuracy: 0.6840\n",
      "Epoch 57/100\n",
      "32/32 [==============================] - 0s 912us/step - loss: 0.6227 - accuracy: 0.6950\n",
      "Epoch 58/100\n",
      "32/32 [==============================] - 0s 935us/step - loss: 0.6200 - accuracy: 0.6990\n",
      "Epoch 59/100\n",
      "32/32 [==============================] - 0s 845us/step - loss: 0.6168 - accuracy: 0.6950\n",
      "Epoch 60/100\n",
      "32/32 [==============================] - 0s 1ms/step - loss: 0.6133 - accuracy: 0.7240\n",
      "Epoch 61/100\n",
      "32/32 [==============================] - 0s 874us/step - loss: 0.6101 - accuracy: 0.7200\n",
      "Epoch 62/100\n",
      "32/32 [==============================] - 0s 1ms/step - loss: 0.6059 - accuracy: 0.7330\n",
      "Epoch 63/100\n",
      "32/32 [==============================] - 0s 869us/step - loss: 0.6014 - accuracy: 0.7400\n",
      "Epoch 64/100\n",
      "32/32 [==============================] - 0s 1ms/step - loss: 0.5966 - accuracy: 0.7460\n",
      "Epoch 65/100\n",
      "32/32 [==============================] - 0s 855us/step - loss: 0.5905 - accuracy: 0.7440\n",
      "Epoch 66/100\n",
      "32/32 [==============================] - 0s 1ms/step - loss: 0.5830 - accuracy: 0.7450\n",
      "Epoch 67/100\n",
      "32/32 [==============================] - 0s 1ms/step - loss: 0.5757 - accuracy: 0.7460\n",
      "Epoch 68/100\n",
      "32/32 [==============================] - 0s 1ms/step - loss: 0.5683 - accuracy: 0.7800\n",
      "Epoch 69/100\n",
      "32/32 [==============================] - 0s 2ms/step - loss: 0.5614 - accuracy: 0.8010\n",
      "Epoch 70/100\n",
      "32/32 [==============================] - 0s 1ms/step - loss: 0.5548 - accuracy: 0.8010\n",
      "Epoch 71/100\n",
      "32/32 [==============================] - 0s 1ms/step - loss: 0.5474 - accuracy: 0.8240\n",
      "Epoch 72/100\n",
      "32/32 [==============================] - 0s 1ms/step - loss: 0.5406 - accuracy: 0.8460\n",
      "Epoch 73/100\n",
      "32/32 [==============================] - 0s 886us/step - loss: 0.5327 - accuracy: 0.8470\n",
      "Epoch 74/100\n",
      "32/32 [==============================] - 0s 974us/step - loss: 0.5243 - accuracy: 0.8620\n",
      "Epoch 75/100\n",
      "32/32 [==============================] - 0s 931us/step - loss: 0.5148 - accuracy: 0.8870\n",
      "Epoch 76/100\n",
      "32/32 [==============================] - 0s 1ms/step - loss: 0.5042 - accuracy: 0.8820\n",
      "Epoch 77/100\n",
      "32/32 [==============================] - 0s 1ms/step - loss: 0.4927 - accuracy: 0.9300\n",
      "Epoch 78/100\n",
      "32/32 [==============================] - 0s 1ms/step - loss: 0.4824 - accuracy: 0.9090\n",
      "Epoch 79/100\n",
      "32/32 [==============================] - 0s 1ms/step - loss: 0.4733 - accuracy: 0.9460\n",
      "Epoch 80/100\n",
      "32/32 [==============================] - 0s 1ms/step - loss: 0.4632 - accuracy: 0.9600\n",
      "Epoch 81/100\n",
      "32/32 [==============================] - 0s 962us/step - loss: 0.4546 - accuracy: 0.9600\n",
      "Epoch 82/100\n",
      "32/32 [==============================] - 0s 1ms/step - loss: 0.4456 - accuracy: 0.9580\n",
      "Epoch 83/100\n",
      "32/32 [==============================] - 0s 1ms/step - loss: 0.4360 - accuracy: 0.9630\n",
      "Epoch 84/100\n",
      "32/32 [==============================] - 0s 851us/step - loss: 0.4260 - accuracy: 0.9690\n",
      "Epoch 85/100\n",
      "32/32 [==============================] - 0s 931us/step - loss: 0.4145 - accuracy: 0.9700\n",
      "Epoch 86/100\n",
      "32/32 [==============================] - 0s 884us/step - loss: 0.4059 - accuracy: 0.9740\n",
      "Epoch 87/100\n",
      "32/32 [==============================] - 0s 1ms/step - loss: 0.3962 - accuracy: 0.9750\n",
      "Epoch 88/100\n",
      "32/32 [==============================] - 0s 1ms/step - loss: 0.3873 - accuracy: 0.9720\n",
      "Epoch 89/100\n",
      "32/32 [==============================] - 0s 1ms/step - loss: 0.3795 - accuracy: 0.9750\n",
      "Epoch 90/100\n",
      "32/32 [==============================] - 0s 1ms/step - loss: 0.3716 - accuracy: 0.9750\n",
      "Epoch 91/100\n",
      "32/32 [==============================] - 0s 994us/step - loss: 0.3635 - accuracy: 0.9840\n",
      "Epoch 92/100\n",
      "32/32 [==============================] - 0s 1ms/step - loss: 0.3554 - accuracy: 0.9830\n",
      "Epoch 93/100\n",
      "32/32 [==============================] - 0s 933us/step - loss: 0.3482 - accuracy: 0.9800\n",
      "Epoch 94/100\n",
      "32/32 [==============================] - 0s 1ms/step - loss: 0.3404 - accuracy: 0.9820\n",
      "Epoch 95/100\n",
      "32/32 [==============================] - 0s 943us/step - loss: 0.3329 - accuracy: 0.9880\n",
      "Epoch 96/100\n",
      "32/32 [==============================] - 0s 923us/step - loss: 0.3268 - accuracy: 0.9870\n",
      "Epoch 97/100\n",
      "32/32 [==============================] - 0s 1ms/step - loss: 0.3190 - accuracy: 0.9870\n",
      "Epoch 98/100\n",
      "32/32 [==============================] - 0s 988us/step - loss: 0.3122 - accuracy: 0.9890\n",
      "Epoch 99/100\n",
      "32/32 [==============================] - 0s 903us/step - loss: 0.3059 - accuracy: 0.9880\n",
      "Epoch 100/100\n",
      "32/32 [==============================] - 0s 1ms/step - loss: 0.2993 - accuracy: 0.9890\n"
     ]
    },
    {
     "data": {
      "text/plain": [
       "<keras.callbacks.History at 0x1eaa64933d0>"
      ]
     },
     "execution_count": 29,
     "metadata": {},
     "output_type": "execute_result"
    }
   ],
   "source": [
    "# set random seed\n",
    "tf.random.set_seed(42)\n",
    "\n",
    "# create a model\n",
    "model_7 = tf.keras.Sequential([\n",
    "    tf.keras.layers.Dense(4, activation=\"relu\"),\n",
    "    tf.keras.layers.Dense(4, activation=\"relu\"),\n",
    "    tf.keras.layers.Dense(1, activation=\"sigmoid\")\n",
    "])\n",
    "\n",
    "# Compile the model\n",
    "model_7.compile(loss = tf.keras.losses.BinaryCrossentropy(),\n",
    "                optimizer = tf.keras.optimizers.Adam(learning_rate=0.001),\n",
    "                metrics=[\"accuracy\"])\n",
    "\n",
    "# Fit\n",
    "model_7.fit(X,y, epochs=100)"
   ]
  },
  {
   "cell_type": "markdown",
   "metadata": {},
   "source": [
    "It looks like our model is getting some incredible results!"
   ]
  },
  {
   "cell_type": "code",
   "execution_count": 30,
   "metadata": {},
   "outputs": [
    {
     "name": "stdout",
     "output_type": "stream",
     "text": [
      "doing binary classification...\n"
     ]
    },
    {
     "data": {
      "image/png": "[encoded data removed]",
      "text/plain": [
       "<Figure size 432x288 with 1 Axes>"
      ]
     },
     "metadata": {
      "needs_background": "light"
     },
     "output_type": "display_data"
    }
   ],
   "source": [
    "# Plot the decision boundary\n",
    "plot_decision_boundary(model_7,X,y)"
   ]
  },
  {
   "cell_type": "markdown",
   "metadata": {},
   "source": [
    "It looks like our model is almost perfectly separating the two circles.\n",
    "\n",
    "> **Question:** What's wrong with the predictions we've made? Are we really evaluating our model correctly here? Hint: what data did the model learn on and what did we predict on?\n",
    "\n",
    "- We've been evaluating our model on the same data it was trained on.\n",
    "\n",
    "> **Note:** The combination of **linear (straight lines) and non-linear (non(straight lines) functions** is one of the key fundamentals of neural networks."
   ]
  },
  {
   "cell_type": "markdown",
   "metadata": {},
   "source": [
    "### Activation Functions"
   ]
  },
  {
   "cell_type": "code",
   "execution_count": 31,
   "metadata": {},
   "outputs": [
    {
     "data": {
      "text/plain": [
       "<tf.Tensor: shape=(20,), dtype=float32, numpy=\n",
       "array([-10.,  -9.,  -8.,  -7.,  -6.,  -5.,  -4.,  -3.,  -2.,  -1.,   0.,\n",
       "         1.,   2.,   3.,   4.,   5.,   6.,   7.,   8.,   9.],\n",
       "      dtype=float32)>"
      ]
     },
     "execution_count": 31,
     "metadata": {},
     "output_type": "execute_result"
    }
   ],
   "source": [
    "# Create a toy tensor (similar to the data we pass into our models)\n",
    "A = tf.cast(tf.range(-10,10), tf.float32)\n",
    "A"
   ]
  },
  {
   "cell_type": "code",
   "execution_count": 32,
   "metadata": {},
   "outputs": [
    {
     "data": {
      "text/plain": [
       "[<matplotlib.lines.Line2D at 0x1ea8d952670>]"
      ]
     },
     "execution_count": 32,
     "metadata": {},
     "output_type": "execute_result"
    },
    {
     "data": {
      "image/png": "[encoded data removed]",
      "text/plain": [
       "<Figure size 432x288 with 1 Axes>"
      ]
     },
     "metadata": {
      "needs_background": "light"
     },
     "output_type": "display_data"
    }
   ],
   "source": [
    "# Visualize our toy tensor\n",
    "plt.plot(A)"
   ]
  },
  {
   "cell_type": "markdown",
   "metadata": {},
   "source": [
    "Let's recreae the `sigmoid function` and see what it does to our data."
   ]
  },
  {
   "cell_type": "code",
   "execution_count": 33,
   "metadata": {},
   "outputs": [],
   "source": [
    "# sigmoid - sigmoid(x) = 1 / (1 + exp(-x))\n",
    "def sigmoid(x):\n",
    "    return 1 / (1 + tf.exp(-x))"
   ]
  },
  {
   "cell_type": "code",
   "execution_count": 34,
   "metadata": {},
   "outputs": [
    {
     "data": {
      "text/plain": [
       "<tf.Tensor: shape=(20,), dtype=float32, numpy=\n",
       "array([4.5397872e-05, 1.2339458e-04, 3.3535014e-04, 9.1105117e-04,\n",
       "       2.4726233e-03, 6.6928510e-03, 1.7986210e-02, 4.7425874e-02,\n",
       "       1.1920292e-01, 2.6894143e-01, 5.0000000e-01, 7.3105860e-01,\n",
       "       8.8079703e-01, 9.5257413e-01, 9.8201376e-01, 9.9330717e-01,\n",
       "       9.9752742e-01, 9.9908900e-01, 9.9966466e-01, 9.9987662e-01],\n",
       "      dtype=float32)>"
      ]
     },
     "execution_count": 34,
     "metadata": {},
     "output_type": "execute_result"
    }
   ],
   "source": [
    "# Use the sigmoid function on our toy tensor\n",
    "sigmoid(A)"
   ]
  },
  {
   "cell_type": "code",
   "execution_count": 35,
   "metadata": {},
   "outputs": [
    {
     "data": {
      "text/plain": [
       "[<matplotlib.lines.Line2D at 0x1eaa5296250>]"
      ]
     },
     "execution_count": 35,
     "metadata": {},
     "output_type": "execute_result"
    },
    {
     "data": {
      "image/png": "[encoded data removed]",
      "text/plain": [
       "<Figure size 432x288 with 1 Axes>"
      ]
     },
     "metadata": {
      "needs_background": "light"
     },
     "output_type": "display_data"
    }
   ],
   "source": [
    "# Plot our toy tensor transformed by sigmoid\n",
    "plt.plot(sigmoid(A))"
   ]
  },
  {
   "cell_type": "markdown",
   "metadata": {},
   "source": [
    "How about the `ReLU function` (ReLU turns all negatives to 0 and positive numbers stay the same)"
   ]
  },
  {
   "cell_type": "code",
   "execution_count": 36,
   "metadata": {},
   "outputs": [],
   "source": [
    "# relu \n",
    "def relu(x):\n",
    "\n",
    "    return tf.maximum(0,x)"
   ]
  },
  {
   "cell_type": "code",
   "execution_count": 37,
   "metadata": {},
   "outputs": [
    {
     "data": {
      "text/plain": [
       "<tf.Tensor: shape=(20,), dtype=float32, numpy=\n",
       "array([0., 0., 0., 0., 0., 0., 0., 0., 0., 0., 0., 1., 2., 3., 4., 5., 6.,\n",
       "       7., 8., 9.], dtype=float32)>"
      ]
     },
     "execution_count": 37,
     "metadata": {},
     "output_type": "execute_result"
    }
   ],
   "source": [
    "# Use the relu function on our toy tensor\n",
    "relu(A)"
   ]
  },
  {
   "cell_type": "code",
   "execution_count": 38,
   "metadata": {},
   "outputs": [
    {
     "data": {
      "text/plain": [
       "[<matplotlib.lines.Line2D at 0x1eaa40a4400>]"
      ]
     },
     "execution_count": 38,
     "metadata": {},
     "output_type": "execute_result"
    },
    {
     "data": {
      "image/png": "[encoded data removed]",
      "text/plain": [
       "<Figure size 432x288 with 1 Axes>"
      ]
     },
     "metadata": {
      "needs_background": "light"
     },
     "output_type": "display_data"
    }
   ],
   "source": [
    "# Plot our toy tensor transformed by relu\n",
    "plt.plot(relu(A))"
   ]
  },
  {
   "cell_type": "markdown",
   "metadata": {},
   "source": [
    "How about TensorFlow's `linear activation function`"
   ]
  },
  {
   "cell_type": "code",
   "execution_count": 39,
   "metadata": {},
   "outputs": [
    {
     "data": {
      "text/plain": [
       "<tf.Tensor: shape=(20,), dtype=float32, numpy=\n",
       "array([-10.,  -9.,  -8.,  -7.,  -6.,  -5.,  -4.,  -3.,  -2.,  -1.,   0.,\n",
       "         1.,   2.,   3.,   4.,   5.,   6.,   7.,   8.,   9.],\n",
       "      dtype=float32)>"
      ]
     },
     "execution_count": 39,
     "metadata": {},
     "output_type": "execute_result"
    }
   ],
   "source": [
    "# Linear\n",
    "tf.keras.activations.linear(A)"
   ]
  },
  {
   "cell_type": "code",
   "execution_count": 40,
   "metadata": {},
   "outputs": [
    {
     "data": {
      "text/plain": [
       "<tf.Tensor: shape=(20,), dtype=bool, numpy=\n",
       "array([ True,  True,  True,  True,  True,  True,  True,  True,  True,\n",
       "        True,  True,  True,  True,  True,  True,  True,  True,  True,\n",
       "        True,  True])>"
      ]
     },
     "execution_count": 40,
     "metadata": {},
     "output_type": "execute_result"
    }
   ],
   "source": [
    "# Does the linear activation change anything?\n",
    "A == tf.keras.activations.linear(A)"
   ]
  },
  {
   "cell_type": "markdown",
   "metadata": {},
   "source": [
    "## Evaluating and improving our classification model"
   ]
  },
  {
   "cell_type": "markdown",
   "metadata": {},
   "source": [
    "In the previous models, we've been evaluating our model on the same data it was trained on. \n",
    "\n",
    "A better approach would be to split our data into training, validation (optional) and test sets.\n",
    "\n",
    "Once we've done that, we'll train our model on the training set and then see how well it learned the patterns by using it to predict values on the test set."
   ]
  },
  {
   "cell_type": "code",
   "execution_count": 41,
   "metadata": {},
   "outputs": [
    {
     "data": {
      "text/plain": [
       "1000"
      ]
     },
     "execution_count": 41,
     "metadata": {},
     "output_type": "execute_result"
    }
   ],
   "source": [
    "# Check how many examples we have\n",
    "len(X)"
   ]
  },
  {
   "cell_type": "code",
   "execution_count": 42,
   "metadata": {},
   "outputs": [
    {
     "data": {
      "text/plain": [
       "((800, 2), (200, 2), (800,), (200,))"
      ]
     },
     "execution_count": 42,
     "metadata": {},
     "output_type": "execute_result"
    }
   ],
   "source": [
    "# Split data into train and test sets\n",
    "X_train , y_train = X[:800], y[:800]\n",
    "X_test, y_test = X[800:], y[800:]\n",
    "\n",
    "# Shapes\n",
    "X_train.shape, X_test.shape, y_train.shape, y_test.shape"
   ]
  },
  {
   "cell_type": "markdown",
   "metadata": {},
   "source": [
    "Great, now we've got training and test sets, let's model the training data and evaluate what our model has learned on the test set."
   ]
  },
  {
   "cell_type": "code",
   "execution_count": 43,
   "metadata": {},
   "outputs": [
    {
     "name": "stdout",
     "output_type": "stream",
     "text": [
      "Epoch 1/25\n",
      "25/25 [==============================] - 1s 942us/step - loss: 0.6847 - accuracy: 0.5425\n",
      "Epoch 2/25\n",
      "25/25 [==============================] - 0s 965us/step - loss: 0.6777 - accuracy: 0.5525\n",
      "Epoch 3/25\n",
      "25/25 [==============================] - 0s 1ms/step - loss: 0.6736 - accuracy: 0.5512\n",
      "Epoch 4/25\n",
      "25/25 [==============================] - 0s 1ms/step - loss: 0.6681 - accuracy: 0.5775\n",
      "Epoch 5/25\n",
      "25/25 [==============================] - 0s 1ms/step - loss: 0.6633 - accuracy: 0.5850\n",
      "Epoch 6/25\n",
      "25/25 [==============================] - 0s 926us/step - loss: 0.6546 - accuracy: 0.5838\n",
      "Epoch 7/25\n",
      "25/25 [==============================] - 0s 1ms/step - loss: 0.6413 - accuracy: 0.6750\n",
      "Epoch 8/25\n",
      "25/25 [==============================] - 0s 886us/step - loss: 0.6264 - accuracy: 0.7013\n",
      "Epoch 9/25\n",
      "25/25 [==============================] - 0s 976us/step - loss: 0.6038 - accuracy: 0.7487\n",
      "Epoch 10/25\n",
      "25/25 [==============================] - 0s 1ms/step - loss: 0.5714 - accuracy: 0.7738\n",
      "Epoch 11/25\n",
      "25/25 [==============================] - 0s 983us/step - loss: 0.5404 - accuracy: 0.7650\n",
      "Epoch 12/25\n",
      "25/25 [==============================] - 0s 1ms/step - loss: 0.5015 - accuracy: 0.7837\n",
      "Epoch 13/25\n",
      "25/25 [==============================] - 0s 952us/step - loss: 0.4683 - accuracy: 0.7975\n",
      "Epoch 14/25\n",
      "25/25 [==============================] - 0s 961us/step - loss: 0.4113 - accuracy: 0.8450\n",
      "Epoch 15/25\n",
      "25/25 [==============================] - 0s 1ms/step - loss: 0.3625 - accuracy: 0.9125\n",
      "Epoch 16/25\n",
      "25/25 [==============================] - 0s 884us/step - loss: 0.3209 - accuracy: 0.9312\n",
      "Epoch 17/25\n",
      "25/25 [==============================] - 0s 996us/step - loss: 0.2847 - accuracy: 0.9488\n",
      "Epoch 18/25\n",
      "25/25 [==============================] - 0s 873us/step - loss: 0.2597 - accuracy: 0.9525\n",
      "Epoch 19/25\n",
      "25/25 [==============================] - 0s 944us/step - loss: 0.2375 - accuracy: 0.9563\n",
      "Epoch 20/25\n",
      "25/25 [==============================] - 0s 858us/step - loss: 0.2135 - accuracy: 0.9663\n",
      "Epoch 21/25\n",
      "25/25 [==============================] - 0s 964us/step - loss: 0.1938 - accuracy: 0.9775\n",
      "Epoch 22/25\n",
      "25/25 [==============================] - 0s 1ms/step - loss: 0.1752 - accuracy: 0.9737\n",
      "Epoch 23/25\n",
      "25/25 [==============================] - 0s 1ms/step - loss: 0.1619 - accuracy: 0.9787\n",
      "Epoch 24/25\n",
      "25/25 [==============================] - 0s 1ms/step - loss: 0.1550 - accuracy: 0.9775\n",
      "Epoch 25/25\n",
      "25/25 [==============================] - 0s 943us/step - loss: 0.1490 - accuracy: 0.9762\n"
     ]
    }
   ],
   "source": [
    "# set seed\n",
    "tf.random.set_seed(42)\n",
    "\n",
    "# Create the model\n",
    "model_8 = tf.keras.Sequential([\n",
    "    tf.keras.layers.Dense(4,activation=\"relu\"),\n",
    "    tf.keras.layers.Dense(4,activation=\"relu\"),\n",
    "    tf.keras.layers.Dense(1, activation=\"sigmoid\")\n",
    "])\n",
    "\n",
    "# compile\n",
    "model_8.compile(loss = tf.keras.losses.BinaryCrossentropy(),\n",
    "                optimizer = tf.keras.optimizers.Adam(learning_rate=0.01), # increase learning rate from 0.001 to 0.01 for faster learning\n",
    "                metrics = [\"accuracy\"])\n",
    "\n",
    "# Fit\n",
    "history = model_8.fit(X_train, y_train, epochs=25)"
   ]
  },
  {
   "cell_type": "code",
   "execution_count": 44,
   "metadata": {},
   "outputs": [
    {
     "name": "stdout",
     "output_type": "stream",
     "text": [
      "7/7 [==============================] - 0s 972us/step - loss: 0.1247 - accuracy: 1.0000\n",
      "Model loss on the test set  0.12\n",
      "Model accuracy on the test set  100.00%\n"
     ]
    }
   ],
   "source": [
    "# Evaluate the model on the test set\n",
    "loss, accuracy = model_8.evaluate(X_test, y_test)\n",
    "print(f\"Model loss on the test set {loss : .2f}\")\n",
    "print(f\"Model accuracy on the test set {100 * accuracy : .2f}%\")"
   ]
  },
  {
   "cell_type": "code",
   "execution_count": 45,
   "metadata": {},
   "outputs": [
    {
     "name": "stdout",
     "output_type": "stream",
     "text": [
      "doing binary classification...\n",
      "doing binary classification...\n"
     ]
    },
    {
     "data": {
      "image/png": "[encoded data removed]",
      "text/plain": [
       "<Figure size 864x432 with 2 Axes>"
      ]
     },
     "metadata": {
      "needs_background": "light"
     },
     "output_type": "display_data"
    }
   ],
   "source": [
    "# plot the decision boudaries for the training and test sets\n",
    "plt.figure(figsize = (12,6))\n",
    "plt.subplot(1,2,1)\n",
    "plt.title(\"Train\")\n",
    "plot_decision_boundary(model_8,X_train,y_train)\n",
    "plt.subplot(1,2,2)\n",
    "plt.title(\"Test\")\n",
    "plot_decision_boundary(model_8,X_test,y_test)\n",
    "plt.show()"
   ]
  },
  {
   "cell_type": "markdown",
   "metadata": {},
   "source": [
    "99.50% accuracy great! \n",
    "\n",
    "We change a few things in our model in order to obtain this result:\n",
    "- **The `activation` parameter** - We used `\"relu\"` & `\"sigmoid\"` \n",
    "- **The `learning_rate` parameter (also `lr`)** - we increased the **learning rate** parameter in the `Adam optimizer` to `0.01`\n",
    "    - You can think of the learning rate as how quickly a model learns. The higher the learning rate, the faster the model's capacity to learn, however, there's such a thing as a too high learning rate, where a model tries to learn too fast and doesn't learn anything.\n",
    "- **The number of epochs** - We lowered the number of epochs from 100 to 25 but our model still got an incredible result on both the training and test sets.\n",
    "    - One of the reasons our model performed well in even less epochs than before is because we increased the learning rate."
   ]
  },
  {
   "cell_type": "markdown",
   "metadata": {},
   "source": [
    "### Plot the loss curves"
   ]
  },
  {
   "cell_type": "markdown",
   "metadata": {},
   "source": [
    "Looking at the plots above, we can see the outputs of our model are very good. But how did our model go whilst it was learning?\n",
    "\n",
    "To figure this out, we can check the **loss curves** (also referred to as the **learning curves**)."
   ]
  },
  {
   "cell_type": "code",
   "execution_count": 46,
   "metadata": {},
   "outputs": [
    {
     "data": {
      "text/plain": [
       "{'loss': [0.6846511960029602,\n",
       "  0.6777210235595703,\n",
       "  0.6735944151878357,\n",
       "  0.6681485772132874,\n",
       "  0.6632686853408813,\n",
       "  0.6545671820640564,\n",
       "  0.6412575244903564,\n",
       "  0.6264280676841736,\n",
       "  0.6038310527801514,\n",
       "  0.5714035630226135,\n",
       "  0.540442943572998,\n",
       "  0.5015039443969727,\n",
       "  0.468331903219223,\n",
       "  0.4113016128540039,\n",
       "  0.3625060021877289,\n",
       "  0.32090437412261963,\n",
       "  0.28470802307128906,\n",
       "  0.25971999764442444,\n",
       "  0.23746901750564575,\n",
       "  0.21351958811283112,\n",
       "  0.1938202828168869,\n",
       "  0.17524370551109314,\n",
       "  0.16189303994178772,\n",
       "  0.1549890786409378,\n",
       "  0.14897286891937256],\n",
       " 'accuracy': [0.5425000190734863,\n",
       "  0.5525000095367432,\n",
       "  0.5512499809265137,\n",
       "  0.5774999856948853,\n",
       "  0.5849999785423279,\n",
       "  0.5837500095367432,\n",
       "  0.675000011920929,\n",
       "  0.7012500166893005,\n",
       "  0.7487499713897705,\n",
       "  0.7737500071525574,\n",
       "  0.7649999856948853,\n",
       "  0.7837499976158142,\n",
       "  0.7975000143051147,\n",
       "  0.8450000286102295,\n",
       "  0.9125000238418579,\n",
       "  0.9312499761581421,\n",
       "  0.9487500190734863,\n",
       "  0.9524999856948853,\n",
       "  0.956250011920929,\n",
       "  0.9662500023841858,\n",
       "  0.9775000214576721,\n",
       "  0.9737499952316284,\n",
       "  0.9787499904632568,\n",
       "  0.9775000214576721,\n",
       "  0.9762499928474426]}"
      ]
     },
     "execution_count": 46,
     "metadata": {},
     "output_type": "execute_result"
    }
   ],
   "source": [
    "# You can access the information in the history variable\n",
    "history.history"
   ]
  },
  {
   "cell_type": "code",
   "execution_count": 47,
   "metadata": {},
   "outputs": [
    {
     "data": {
      "text/html": [
       "<div>\n",
       "<style scoped>\n",
       "    .dataframe tbody tr th:only-of-type {\n",
       "        vertical-align: middle;\n",
       "    }\n",
       "\n",
       "    .dataframe tbody tr th {\n",
       "        vertical-align: top;\n",
       "    }\n",
       "\n",
       "    .dataframe thead th {\n",
       "        text-align: right;\n",
       "    }\n",
       "</style>\n",
       "<table border=\"1\" class=\"dataframe\">\n",
       "  <thead>\n",
       "    <tr style=\"text-align: right;\">\n",
       "      <th></th>\n",
       "      <th>loss</th>\n",
       "      <th>accuracy</th>\n",
       "    </tr>\n",
       "  </thead>\n",
       "  <tbody>\n",
       "    <tr>\n",
       "      <th>0</th>\n",
       "      <td>0.684651</td>\n",
       "      <td>0.54250</td>\n",
       "    </tr>\n",
       "    <tr>\n",
       "      <th>1</th>\n",
       "      <td>0.677721</td>\n",
       "      <td>0.55250</td>\n",
       "    </tr>\n",
       "    <tr>\n",
       "      <th>2</th>\n",
       "      <td>0.673594</td>\n",
       "      <td>0.55125</td>\n",
       "    </tr>\n",
       "    <tr>\n",
       "      <th>3</th>\n",
       "      <td>0.668149</td>\n",
       "      <td>0.57750</td>\n",
       "    </tr>\n",
       "    <tr>\n",
       "      <th>4</th>\n",
       "      <td>0.663269</td>\n",
       "      <td>0.58500</td>\n",
       "    </tr>\n",
       "    <tr>\n",
       "      <th>5</th>\n",
       "      <td>0.654567</td>\n",
       "      <td>0.58375</td>\n",
       "    </tr>\n",
       "    <tr>\n",
       "      <th>6</th>\n",
       "      <td>0.641258</td>\n",
       "      <td>0.67500</td>\n",
       "    </tr>\n",
       "    <tr>\n",
       "      <th>7</th>\n",
       "      <td>0.626428</td>\n",
       "      <td>0.70125</td>\n",
       "    </tr>\n",
       "    <tr>\n",
       "      <th>8</th>\n",
       "      <td>0.603831</td>\n",
       "      <td>0.74875</td>\n",
       "    </tr>\n",
       "    <tr>\n",
       "      <th>9</th>\n",
       "      <td>0.571404</td>\n",
       "      <td>0.77375</td>\n",
       "    </tr>\n",
       "    <tr>\n",
       "      <th>10</th>\n",
       "      <td>0.540443</td>\n",
       "      <td>0.76500</td>\n",
       "    </tr>\n",
       "    <tr>\n",
       "      <th>11</th>\n",
       "      <td>0.501504</td>\n",
       "      <td>0.78375</td>\n",
       "    </tr>\n",
       "    <tr>\n",
       "      <th>12</th>\n",
       "      <td>0.468332</td>\n",
       "      <td>0.79750</td>\n",
       "    </tr>\n",
       "    <tr>\n",
       "      <th>13</th>\n",
       "      <td>0.411302</td>\n",
       "      <td>0.84500</td>\n",
       "    </tr>\n",
       "    <tr>\n",
       "      <th>14</th>\n",
       "      <td>0.362506</td>\n",
       "      <td>0.91250</td>\n",
       "    </tr>\n",
       "    <tr>\n",
       "      <th>15</th>\n",
       "      <td>0.320904</td>\n",
       "      <td>0.93125</td>\n",
       "    </tr>\n",
       "    <tr>\n",
       "      <th>16</th>\n",
       "      <td>0.284708</td>\n",
       "      <td>0.94875</td>\n",
       "    </tr>\n",
       "    <tr>\n",
       "      <th>17</th>\n",
       "      <td>0.259720</td>\n",
       "      <td>0.95250</td>\n",
       "    </tr>\n",
       "    <tr>\n",
       "      <th>18</th>\n",
       "      <td>0.237469</td>\n",
       "      <td>0.95625</td>\n",
       "    </tr>\n",
       "    <tr>\n",
       "      <th>19</th>\n",
       "      <td>0.213520</td>\n",
       "      <td>0.96625</td>\n",
       "    </tr>\n",
       "    <tr>\n",
       "      <th>20</th>\n",
       "      <td>0.193820</td>\n",
       "      <td>0.97750</td>\n",
       "    </tr>\n",
       "    <tr>\n",
       "      <th>21</th>\n",
       "      <td>0.175244</td>\n",
       "      <td>0.97375</td>\n",
       "    </tr>\n",
       "    <tr>\n",
       "      <th>22</th>\n",
       "      <td>0.161893</td>\n",
       "      <td>0.97875</td>\n",
       "    </tr>\n",
       "    <tr>\n",
       "      <th>23</th>\n",
       "      <td>0.154989</td>\n",
       "      <td>0.97750</td>\n",
       "    </tr>\n",
       "    <tr>\n",
       "      <th>24</th>\n",
       "      <td>0.148973</td>\n",
       "      <td>0.97625</td>\n",
       "    </tr>\n",
       "  </tbody>\n",
       "</table>\n",
       "</div>"
      ],
      "text/plain": [
       "        loss  accuracy\n",
       "0   0.684651   0.54250\n",
       "1   0.677721   0.55250\n",
       "2   0.673594   0.55125\n",
       "3   0.668149   0.57750\n",
       "4   0.663269   0.58500\n",
       "5   0.654567   0.58375\n",
       "6   0.641258   0.67500\n",
       "7   0.626428   0.70125\n",
       "8   0.603831   0.74875\n",
       "9   0.571404   0.77375\n",
       "10  0.540443   0.76500\n",
       "11  0.501504   0.78375\n",
       "12  0.468332   0.79750\n",
       "13  0.411302   0.84500\n",
       "14  0.362506   0.91250\n",
       "15  0.320904   0.93125\n",
       "16  0.284708   0.94875\n",
       "17  0.259720   0.95250\n",
       "18  0.237469   0.95625\n",
       "19  0.213520   0.96625\n",
       "20  0.193820   0.97750\n",
       "21  0.175244   0.97375\n",
       "22  0.161893   0.97875\n",
       "23  0.154989   0.97750\n",
       "24  0.148973   0.97625"
      ]
     },
     "execution_count": 47,
     "metadata": {},
     "output_type": "execute_result"
    }
   ],
   "source": [
    "# convert into a dataframe\n",
    "pd.DataFrame(history.history)"
   ]
  },
  {
   "cell_type": "code",
   "execution_count": 48,
   "metadata": {},
   "outputs": [
    {
     "data": {
      "image/png": "[encoded data removed]",
      "text/plain": [
       "<Figure size 432x288 with 1 Axes>"
      ]
     },
     "metadata": {
      "needs_background": "light"
     },
     "output_type": "display_data"
    }
   ],
   "source": [
    "# Plot the loss curves\n",
    "pd.DataFrame(history.history).plot()\n",
    "plt.title(\"Model_8 loss curves\")\n",
    "plt.show()"
   ]
  },
  {
   "cell_type": "markdown",
   "metadata": {},
   "source": [
    "> **Note:** For many problems, the loss function going down means the model is improving (the predictions it's making are getting closer to the ground truth labels)."
   ]
  },
  {
   "cell_type": "markdown",
   "metadata": {},
   "source": [
    "### Finding the best learning rate"
   ]
  },
  {
   "cell_type": "markdown",
   "metadata": {},
   "source": [
    "Aside from the architecture itself (the layers, number of neurons, activations, etc), the most important hyperparameter you can tune for your neural network models is the **learning rate**.\n",
    "\n",
    "In `model_8` we saw we lowered the Adam optimizer's learning rate from the default of `0.001` to `0.01`. We changed this value to see how the model went. Build a model of machine learning or Deep learning is very experimental. We try different values of hyperparameters and different architecture of neural network and we evaluate it to find the best configuration.\n",
    "\n",
    "To find the optimal learning rate for our models we are going to use the following steps:\n",
    "\n",
    "- A **learning rate callback**\n",
    "    - you can thing of a callback as an extra piece of functionality you can add to your model while its training.\n",
    "- Another model\n",
    "- A modified loss curves plot.\n",
    "\n",
    "> **Note:** The default hyperparameters of many neural network building blocks in TensorFlow are setup in a way which usually work right out of the box (e.g. the **Adam optimizer's** default settings can usually get good results on many datasets). So it's a good idea to try the defaults first, then adjust as needed."
   ]
  },
  {
   "cell_type": "code",
   "execution_count": 49,
   "metadata": {},
   "outputs": [
    {
     "name": "stdout",
     "output_type": "stream",
     "text": [
      "Epoch 1/100\n",
      "25/25 [==============================] - 1s 3ms/step - loss: 0.6945 - accuracy: 0.4988 - lr: 1.0000e-04\n",
      "Epoch 2/100\n",
      "25/25 [==============================] - 0s 4ms/step - loss: 0.6938 - accuracy: 0.4975 - lr: 1.1220e-04\n",
      "Epoch 3/100\n",
      "25/25 [==============================] - 0s 4ms/step - loss: 0.6930 - accuracy: 0.4963 - lr: 1.2589e-04\n",
      "Epoch 4/100\n",
      "25/25 [==============================] - 0s 4ms/step - loss: 0.6922 - accuracy: 0.4975 - lr: 1.4125e-04\n",
      "Epoch 5/100\n",
      "25/25 [==============================] - 0s 3ms/step - loss: 0.6914 - accuracy: 0.5063 - lr: 1.5849e-04\n",
      "Epoch 6/100\n",
      "25/25 [==============================] - 0s 4ms/step - loss: 0.6906 - accuracy: 0.5013 - lr: 1.7783e-04\n",
      "Epoch 7/100\n",
      "25/25 [==============================] - 0s 4ms/step - loss: 0.6898 - accuracy: 0.4950 - lr: 1.9953e-04\n",
      "Epoch 8/100\n",
      "25/25 [==============================] - 0s 4ms/step - loss: 0.6889 - accuracy: 0.5038 - lr: 2.2387e-04\n",
      "Epoch 9/100\n",
      "25/25 [==============================] - 0s 4ms/step - loss: 0.6880 - accuracy: 0.5013 - lr: 2.5119e-04\n",
      "Epoch 10/100\n",
      "25/25 [==============================] - 0s 4ms/step - loss: 0.6871 - accuracy: 0.5050 - lr: 2.8184e-04\n",
      "Epoch 11/100\n",
      "25/25 [==============================] - 0s 4ms/step - loss: 0.6863 - accuracy: 0.5200 - lr: 3.1623e-04\n",
      "Epoch 12/100\n",
      "25/25 [==============================] - 0s 4ms/step - loss: 0.6856 - accuracy: 0.5163 - lr: 3.5481e-04\n",
      "Epoch 13/100\n",
      "25/25 [==============================] - 0s 5ms/step - loss: 0.6847 - accuracy: 0.5175 - lr: 3.9811e-04\n",
      "Epoch 14/100\n",
      "25/25 [==============================] - 0s 5ms/step - loss: 0.6842 - accuracy: 0.5200 - lr: 4.4668e-04\n",
      "Epoch 15/100\n",
      "25/25 [==============================] - 0s 3ms/step - loss: 0.6835 - accuracy: 0.5213 - lr: 5.0119e-04\n",
      "Epoch 16/100\n",
      "25/25 [==============================] - 0s 4ms/step - loss: 0.6829 - accuracy: 0.5213 - lr: 5.6234e-04\n",
      "Epoch 17/100\n",
      "25/25 [==============================] - 0s 5ms/step - loss: 0.6826 - accuracy: 0.5225 - lr: 6.3096e-04\n",
      "Epoch 18/100\n",
      "25/25 [==============================] - 0s 5ms/step - loss: 0.6819 - accuracy: 0.5300 - lr: 7.0795e-04\n",
      "Epoch 19/100\n",
      "25/25 [==============================] - 0s 3ms/step - loss: 0.6816 - accuracy: 0.5312 - lr: 7.9433e-04\n",
      "Epoch 20/100\n",
      "25/25 [==============================] - 0s 5ms/step - loss: 0.6811 - accuracy: 0.5387 - lr: 8.9125e-04\n",
      "Epoch 21/100\n",
      "25/25 [==============================] - 0s 5ms/step - loss: 0.6806 - accuracy: 0.5400 - lr: 0.0010\n",
      "Epoch 22/100\n",
      "25/25 [==============================] - 0s 4ms/step - loss: 0.6801 - accuracy: 0.5412 - lr: 0.0011\n",
      "Epoch 23/100\n",
      "25/25 [==============================] - 0s 3ms/step - loss: 0.6796 - accuracy: 0.5400 - lr: 0.0013\n",
      "Epoch 24/100\n",
      "25/25 [==============================] - 0s 7ms/step - loss: 0.6790 - accuracy: 0.5425 - lr: 0.0014\n",
      "Epoch 25/100\n",
      "25/25 [==============================] - 0s 6ms/step - loss: 0.6784 - accuracy: 0.5450 - lr: 0.0016\n",
      "Epoch 26/100\n",
      "25/25 [==============================] - 0s 4ms/step - loss: 0.6778 - accuracy: 0.5387 - lr: 0.0018\n",
      "Epoch 27/100\n",
      "25/25 [==============================] - 0s 4ms/step - loss: 0.6770 - accuracy: 0.5425 - lr: 0.0020\n",
      "Epoch 28/100\n",
      "25/25 [==============================] - 0s 2ms/step - loss: 0.6760 - accuracy: 0.5537 - lr: 0.0022\n",
      "Epoch 29/100\n",
      "25/25 [==============================] - 0s 4ms/step - loss: 0.6754 - accuracy: 0.5512 - lr: 0.0025\n",
      "Epoch 30/100\n",
      "25/25 [==============================] - 0s 4ms/step - loss: 0.6739 - accuracy: 0.5575 - lr: 0.0028\n",
      "Epoch 31/100\n",
      "25/25 [==============================] - 0s 3ms/step - loss: 0.6726 - accuracy: 0.5500 - lr: 0.0032\n",
      "Epoch 32/100\n",
      "25/25 [==============================] - 0s 3ms/step - loss: 0.6711 - accuracy: 0.5512 - lr: 0.0035\n",
      "Epoch 33/100\n",
      "25/25 [==============================] - 0s 4ms/step - loss: 0.6688 - accuracy: 0.5562 - lr: 0.0040\n",
      "Epoch 34/100\n",
      "25/25 [==============================] - 0s 4ms/step - loss: 0.6672 - accuracy: 0.5612 - lr: 0.0045\n",
      "Epoch 35/100\n",
      "25/25 [==============================] - 0s 4ms/step - loss: 0.6660 - accuracy: 0.5888 - lr: 0.0050\n",
      "Epoch 36/100\n",
      "25/25 [==============================] - 0s 4ms/step - loss: 0.6625 - accuracy: 0.5625 - lr: 0.0056\n",
      "Epoch 37/100\n",
      "25/25 [==============================] - 0s 3ms/step - loss: 0.6560 - accuracy: 0.5813 - lr: 0.0063\n",
      "Epoch 38/100\n",
      "25/25 [==============================] - 0s 3ms/step - loss: 0.6521 - accuracy: 0.6025 - lr: 0.0071\n",
      "Epoch 39/100\n",
      "25/25 [==============================] - 0s 3ms/step - loss: 0.6415 - accuracy: 0.7088 - lr: 0.0079\n",
      "Epoch 40/100\n",
      "25/25 [==============================] - 0s 4ms/step - loss: 0.6210 - accuracy: 0.7113 - lr: 0.0089\n",
      "Epoch 41/100\n",
      "25/25 [==============================] - 0s 3ms/step - loss: 0.5904 - accuracy: 0.7487 - lr: 0.0100\n",
      "Epoch 42/100\n",
      "25/25 [==============================] - 0s 3ms/step - loss: 0.5688 - accuracy: 0.7312 - lr: 0.0112\n",
      "Epoch 43/100\n",
      "25/25 [==============================] - 0s 4ms/step - loss: 0.5346 - accuracy: 0.7563 - lr: 0.0126\n",
      "Epoch 44/100\n",
      "25/25 [==============================] - 0s 4ms/step - loss: 0.4533 - accuracy: 0.8150 - lr: 0.0141\n",
      "Epoch 45/100\n",
      "25/25 [==============================] - 0s 5ms/step - loss: 0.3455 - accuracy: 0.9112 - lr: 0.0158\n",
      "Epoch 46/100\n",
      "25/25 [==============================] - 0s 4ms/step - loss: 0.2570 - accuracy: 0.9463 - lr: 0.0178\n",
      "Epoch 47/100\n",
      "25/25 [==============================] - 0s 4ms/step - loss: 0.1968 - accuracy: 0.9575 - lr: 0.0200\n",
      "Epoch 48/100\n",
      "25/25 [==============================] - 0s 4ms/step - loss: 0.1336 - accuracy: 0.9700 - lr: 0.0224\n",
      "Epoch 49/100\n",
      "25/25 [==============================] - 0s 5ms/step - loss: 0.1310 - accuracy: 0.9613 - lr: 0.0251\n",
      "Epoch 50/100\n",
      "25/25 [==============================] - 0s 4ms/step - loss: 0.1002 - accuracy: 0.9700 - lr: 0.0282\n",
      "Epoch 51/100\n",
      "25/25 [==============================] - 0s 3ms/step - loss: 0.1166 - accuracy: 0.9638 - lr: 0.0316\n",
      "Epoch 52/100\n",
      "25/25 [==============================] - 0s 4ms/step - loss: 0.1368 - accuracy: 0.9513 - lr: 0.0355\n",
      "Epoch 53/100\n",
      "25/25 [==============================] - 0s 3ms/step - loss: 0.0879 - accuracy: 0.9787 - lr: 0.0398\n",
      "Epoch 54/100\n",
      "25/25 [==============================] - 0s 4ms/step - loss: 0.1187 - accuracy: 0.9588 - lr: 0.0447\n",
      "Epoch 55/100\n",
      "25/25 [==============================] - 0s 4ms/step - loss: 0.0733 - accuracy: 0.9712 - lr: 0.0501\n",
      "Epoch 56/100\n",
      "25/25 [==============================] - 0s 5ms/step - loss: 0.1132 - accuracy: 0.9550 - lr: 0.0562\n",
      "Epoch 57/100\n",
      "25/25 [==============================] - 0s 5ms/step - loss: 0.1057 - accuracy: 0.9613 - lr: 0.0631\n",
      "Epoch 58/100\n",
      "25/25 [==============================] - 0s 4ms/step - loss: 0.0665 - accuracy: 0.9750 - lr: 0.0708\n",
      "Epoch 59/100\n",
      "25/25 [==============================] - 0s 4ms/step - loss: 0.1864 - accuracy: 0.9300 - lr: 0.0794\n",
      "Epoch 60/100\n",
      "25/25 [==============================] - 0s 5ms/step - loss: 0.1819 - accuracy: 0.9312 - lr: 0.0891\n",
      "Epoch 61/100\n",
      "25/25 [==============================] - 0s 5ms/step - loss: 0.2939 - accuracy: 0.9025 - lr: 0.1000\n",
      "Epoch 62/100\n",
      "25/25 [==============================] - 0s 4ms/step - loss: 0.1302 - accuracy: 0.9787 - lr: 0.1122\n",
      "Epoch 63/100\n",
      "25/25 [==============================] - 0s 4ms/step - loss: 0.0452 - accuracy: 0.9962 - lr: 0.1259\n",
      "Epoch 64/100\n",
      "25/25 [==============================] - 0s 4ms/step - loss: 0.1041 - accuracy: 0.9613 - lr: 0.1413\n",
      "Epoch 65/100\n",
      "25/25 [==============================] - 0s 4ms/step - loss: 0.1608 - accuracy: 0.9388 - lr: 0.1585\n",
      "Epoch 66/100\n",
      "25/25 [==============================] - 0s 4ms/step - loss: 0.0732 - accuracy: 0.9762 - lr: 0.1778\n",
      "Epoch 67/100\n",
      "25/25 [==============================] - 0s 4ms/step - loss: 0.6007 - accuracy: 0.8037 - lr: 0.1995\n",
      "Epoch 68/100\n",
      "25/25 [==============================] - 0s 4ms/step - loss: 0.5252 - accuracy: 0.7063 - lr: 0.2239\n",
      "Epoch 69/100\n",
      "25/25 [==============================] - 0s 5ms/step - loss: 0.3724 - accuracy: 0.8425 - lr: 0.2512\n",
      "Epoch 70/100\n",
      "25/25 [==============================] - 0s 4ms/step - loss: 0.5198 - accuracy: 0.7412 - lr: 0.2818\n",
      "Epoch 71/100\n",
      "25/25 [==============================] - 0s 5ms/step - loss: 0.4536 - accuracy: 0.8012 - lr: 0.3162\n",
      "Epoch 72/100\n",
      "25/25 [==============================] - 0s 5ms/step - loss: 0.5487 - accuracy: 0.6900 - lr: 0.3548\n",
      "Epoch 73/100\n",
      "25/25 [==============================] - 0s 3ms/step - loss: 0.5382 - accuracy: 0.6888 - lr: 0.3981\n",
      "Epoch 74/100\n",
      "25/25 [==============================] - 0s 4ms/step - loss: 0.6783 - accuracy: 0.5800 - lr: 0.4467\n",
      "Epoch 75/100\n",
      "25/25 [==============================] - 0s 4ms/step - loss: 0.5507 - accuracy: 0.7538 - lr: 0.5012\n",
      "Epoch 76/100\n",
      "25/25 [==============================] - 0s 3ms/step - loss: 0.4724 - accuracy: 0.8075 - lr: 0.5623\n",
      "Epoch 77/100\n",
      "25/25 [==============================] - 0s 4ms/step - loss: 0.5994 - accuracy: 0.7113 - lr: 0.6310\n",
      "Epoch 78/100\n",
      "25/25 [==============================] - 0s 4ms/step - loss: 0.6006 - accuracy: 0.6150 - lr: 0.7079\n",
      "Epoch 79/100\n",
      "25/25 [==============================] - 0s 3ms/step - loss: 0.5600 - accuracy: 0.6900 - lr: 0.7943\n",
      "Epoch 80/100\n",
      "25/25 [==============================] - 0s 4ms/step - loss: 0.5524 - accuracy: 0.6862 - lr: 0.8913\n",
      "Epoch 81/100\n",
      "25/25 [==============================] - 0s 5ms/step - loss: 0.5564 - accuracy: 0.6775 - lr: 1.0000\n",
      "Epoch 82/100\n",
      "25/25 [==============================] - 0s 4ms/step - loss: 0.6685 - accuracy: 0.7088 - lr: 1.1220\n",
      "Epoch 83/100\n",
      "25/25 [==============================] - 0s 4ms/step - loss: 0.7621 - accuracy: 0.4963 - lr: 1.2589\n",
      "Epoch 84/100\n",
      "25/25 [==============================] - 0s 4ms/step - loss: 0.7024 - accuracy: 0.4988 - lr: 1.4125\n",
      "Epoch 85/100\n",
      "25/25 [==============================] - 0s 4ms/step - loss: 0.7290 - accuracy: 0.5038 - lr: 1.5849\n",
      "Epoch 86/100\n",
      "25/25 [==============================] - 0s 5ms/step - loss: 0.7749 - accuracy: 0.5038 - lr: 1.7783\n",
      "Epoch 87/100\n",
      "25/25 [==============================] - 0s 5ms/step - loss: 0.7674 - accuracy: 0.5063 - lr: 1.9953\n",
      "Epoch 88/100\n",
      "25/25 [==============================] - 0s 4ms/step - loss: 0.7572 - accuracy: 0.5163 - lr: 2.2387\n",
      "Epoch 89/100\n",
      "25/25 [==============================] - 0s 4ms/step - loss: 0.7571 - accuracy: 0.4963 - lr: 2.5119\n",
      "Epoch 90/100\n",
      "25/25 [==============================] - 0s 4ms/step - loss: 0.7829 - accuracy: 0.5238 - lr: 2.8184\n",
      "Epoch 91/100\n",
      "25/25 [==============================] - 0s 4ms/step - loss: 0.8095 - accuracy: 0.5213 - lr: 3.1623\n",
      "Epoch 92/100\n",
      "25/25 [==============================] - 0s 5ms/step - loss: 0.7358 - accuracy: 0.4888 - lr: 3.5481\n",
      "Epoch 93/100\n",
      "25/25 [==============================] - 0s 5ms/step - loss: 0.7422 - accuracy: 0.5063 - lr: 3.9811\n",
      "Epoch 94/100\n",
      "25/25 [==============================] - 0s 5ms/step - loss: 0.7596 - accuracy: 0.5063 - lr: 4.4668\n",
      "Epoch 95/100\n",
      "25/25 [==============================] - 0s 4ms/step - loss: 0.8234 - accuracy: 0.4863 - lr: 5.0119\n",
      "Epoch 96/100\n",
      "25/25 [==============================] - 0s 4ms/step - loss: 0.7862 - accuracy: 0.4613 - lr: 5.6234\n",
      "Epoch 97/100\n",
      "25/25 [==============================] - 0s 4ms/step - loss: 0.8076 - accuracy: 0.5013 - lr: 6.3096\n",
      "Epoch 98/100\n",
      "25/25 [==============================] - 0s 4ms/step - loss: 0.9650 - accuracy: 0.4963 - lr: 7.0795\n",
      "Epoch 99/100\n",
      "25/25 [==============================] - 0s 5ms/step - loss: 0.9718 - accuracy: 0.4913 - lr: 7.9433\n",
      "Epoch 100/100\n",
      "25/25 [==============================] - 0s 5ms/step - loss: 0.8583 - accuracy: 0.4613 - lr: 8.9125\n"
     ]
    }
   ],
   "source": [
    "# set seed\n",
    "tf.random.set_seed(42)\n",
    "\n",
    "# create a model\n",
    "model_9 = tf.keras.Sequential([\n",
    "    tf.keras.layers.Dense(4,activation=\"relu\"),\n",
    "    tf.keras.layers.Dense(4,activation=\"relu\"),\n",
    "    tf.keras.layers.Dense(1,activation=\"sigmoid\")\n",
    "])\n",
    "\n",
    "# compile\n",
    "model_9.compile(loss = tf.keras.losses.BinaryCrossentropy(),\n",
    "                optimizer = tf.keras.optimizers.Adam(),\n",
    "                metrics = [\"accuracy\"])\n",
    "\n",
    "# create a learning rate callback\n",
    "lr_scheduler = tf.keras.callbacks.LearningRateScheduler(lambda epoch: 1e-4 * 10**(epoch/20))\n",
    "\n",
    "# fit the model\n",
    "history_9 = model_9.fit(X_train, y_train, epochs = 100, callbacks = [lr_scheduler])\n"
   ]
  },
  {
   "cell_type": "code",
   "execution_count": 50,
   "metadata": {},
   "outputs": [
    {
     "data": {
      "text/plain": [
       "<AxesSubplot:xlabel='epochs'>"
      ]
     },
     "execution_count": 50,
     "metadata": {},
     "output_type": "execute_result"
    },
    {
     "data": {
      "image/png": "[encoded data removed]",
      "text/plain": [
       "<Figure size 720x504 with 1 Axes>"
      ]
     },
     "metadata": {
      "needs_background": "light"
     },
     "output_type": "display_data"
    }
   ],
   "source": [
    "# Checkout the history\n",
    "pd.DataFrame(history_9.history).plot(figsize=(10,7), xlabel=\"epochs\")"
   ]
  },
  {
   "cell_type": "markdown",
   "metadata": {},
   "source": [
    "As we can see the learning rate exponentially increases as the number of epochs increases.\n",
    "\n",
    "And we can see the model's accuracy goes up (and loss goes down) at a specific point when the learning rate slowly increases.\n",
    "\n",
    "To figure out where this infliction point is, we can plot the loss versus the log-scale learning rate."
   ]
  },
  {
   "cell_type": "code",
   "execution_count": 55,
   "metadata": {},
   "outputs": [
    {
     "data": {
      "image/png": "[encoded data removed]",
      "text/plain": [
       "<Figure size 720x504 with 1 Axes>"
      ]
     },
     "metadata": {
      "needs_background": "light"
     },
     "output_type": "display_data"
    }
   ],
   "source": [
    "# plot the learning rate versus the loss\n",
    "lrs = 1e-4 * (10 ** (tf.range(100)/20))\n",
    "plt.figure(figsize=(10,7))\n",
    "plt.semilogx(lrs, history_9.history[\"loss\"])\n",
    "plt.xlabel(\"Learning rate\")\n",
    "plt.ylabel(\"Loss\")\n",
    "plt.title(\"Learning rate vs. loss\")\n",
    "plt.show()"
   ]
  },
  {
   "cell_type": "markdown",
   "metadata": {},
   "source": [
    "To figure out the ideal value of the learning rate (at least the ideal value to begin training our model), the rule of thumb is to take the learning rate value where the loss is still decreasing but not quite flattened out (usually about 10x smaller than the bottom of curve).\n",
    "\n",
    "In this case, our ideal learning rate ends up between `0.01` and `0.02`.\n",
    "\n",
    "<center><img src=\"images/02-learning-rate-vs-loss.png\" width = 650px></center>"
   ]
  },
  {
   "cell_type": "code",
   "execution_count": 58,
   "metadata": {},
   "outputs": [
    {
     "data": {
      "text/plain": [
       "(1, 0.1, 0.01, 0.001, 0.0001)"
      ]
     },
     "execution_count": 58,
     "metadata": {},
     "output_type": "execute_result"
    }
   ],
   "source": [
    "# Example of other typical learning rate values\n",
    "10**0, 10**-1, 10**-2, 10**-3, 10**-4"
   ]
  },
  {
   "cell_type": "markdown",
   "metadata": {},
   "source": [
    "Now we've estimated the ideal learning rate (we'll use 0.02) for our model, let's refit it."
   ]
  },
  {
   "cell_type": "code",
   "execution_count": 59,
   "metadata": {},
   "outputs": [
    {
     "name": "stdout",
     "output_type": "stream",
     "text": [
      "Epoch 1/20\n",
      "25/25 [==============================] - 1s 3ms/step - loss: 0.6837 - accuracy: 0.5600\n",
      "Epoch 2/20\n",
      "25/25 [==============================] - 0s 4ms/step - loss: 0.6744 - accuracy: 0.5750\n",
      "Epoch 3/20\n",
      "25/25 [==============================] - 0s 5ms/step - loss: 0.6626 - accuracy: 0.5875\n",
      "Epoch 4/20\n",
      "25/25 [==============================] - 0s 7ms/step - loss: 0.6332 - accuracy: 0.6388\n",
      "Epoch 5/20\n",
      "25/25 [==============================] - 0s 4ms/step - loss: 0.5830 - accuracy: 0.7563\n",
      "Epoch 6/20\n",
      "25/25 [==============================] - 0s 4ms/step - loss: 0.4907 - accuracy: 0.8313\n",
      "Epoch 7/20\n",
      "25/25 [==============================] - 0s 5ms/step - loss: 0.4251 - accuracy: 0.8450\n",
      "Epoch 8/20\n",
      "25/25 [==============================] - 0s 4ms/step - loss: 0.3596 - accuracy: 0.8875\n",
      "Epoch 9/20\n",
      "25/25 [==============================] - 0s 3ms/step - loss: 0.3152 - accuracy: 0.9100\n",
      "Epoch 10/20\n",
      "25/25 [==============================] - 0s 4ms/step - loss: 0.2512 - accuracy: 0.9500\n",
      "Epoch 11/20\n",
      "25/25 [==============================] - 0s 4ms/step - loss: 0.2152 - accuracy: 0.9500\n",
      "Epoch 12/20\n",
      "25/25 [==============================] - 0s 3ms/step - loss: 0.1721 - accuracy: 0.9750\n",
      "Epoch 13/20\n",
      "25/25 [==============================] - 0s 4ms/step - loss: 0.1443 - accuracy: 0.9837\n",
      "Epoch 14/20\n",
      "25/25 [==============================] - 0s 5ms/step - loss: 0.1232 - accuracy: 0.9862\n",
      "Epoch 15/20\n",
      "25/25 [==============================] - 0s 3ms/step - loss: 0.1085 - accuracy: 0.9850\n",
      "Epoch 16/20\n",
      "25/25 [==============================] - 0s 4ms/step - loss: 0.0940 - accuracy: 0.9937\n",
      "Epoch 17/20\n",
      "25/25 [==============================] - 0s 4ms/step - loss: 0.0827 - accuracy: 0.9962\n",
      "Epoch 18/20\n",
      "25/25 [==============================] - 0s 3ms/step - loss: 0.0798 - accuracy: 0.9937\n",
      "Epoch 19/20\n",
      "25/25 [==============================] - 0s 5ms/step - loss: 0.0845 - accuracy: 0.9875\n",
      "Epoch 20/20\n",
      "25/25 [==============================] - 0s 4ms/step - loss: 0.0790 - accuracy: 0.9887\n"
     ]
    }
   ],
   "source": [
    "# set random seed\n",
    "tf.random.set_seed(42)\n",
    "\n",
    "# create the model\n",
    "model_10 = tf.keras.Sequential([\n",
    "    tf.keras.layers.Dense(4,activation=\"relu\"),\n",
    "    tf.keras.layers.Dense(4,activation=\"relu\"),\n",
    "    tf.keras.layers.Dense(1,activation=\"sigmoid\")\n",
    "])\n",
    "\n",
    "# compile the model\n",
    "model_10.compile(loss = tf.keras.losses.BinaryCrossentropy(),\n",
    "                 optimizer = tf.keras.optimizers.Adam(learning_rate=0.02),\n",
    "                 metrics=[\"accuracy\"])\n",
    "\n",
    "# fit the model\n",
    "history_10 = model_10.fit(X_train,y_train,epochs = 20)"
   ]
  },
  {
   "cell_type": "markdown",
   "metadata": {},
   "source": [
    "Nice ! With a little higher learning rate (`0.02` instead of `0.01`) we reach a higher accuracy than `model_8` in less epochs (`20` instead of `25`)"
   ]
  },
  {
   "cell_type": "code",
   "execution_count": 61,
   "metadata": {},
   "outputs": [
    {
     "name": "stdout",
     "output_type": "stream",
     "text": [
      "7/7 [==============================] - 0s 4ms/step - loss: 0.1247 - accuracy: 1.0000\n"
     ]
    },
    {
     "data": {
      "text/plain": [
       "[0.1246885135769844, 1.0]"
      ]
     },
     "execution_count": 61,
     "metadata": {},
     "output_type": "execute_result"
    }
   ],
   "source": [
    "# Evaluate model 8\n",
    "model_8.evaluate(X_test,y_test)"
   ]
  },
  {
   "cell_type": "code",
   "execution_count": 60,
   "metadata": {},
   "outputs": [
    {
     "name": "stdout",
     "output_type": "stream",
     "text": [
      "7/7 [==============================] - 1s 4ms/step - loss: 0.0574 - accuracy: 0.9900\n"
     ]
    },
    {
     "data": {
      "text/plain": [
       "[0.057401832193136215, 0.9900000095367432]"
      ]
     },
     "execution_count": 60,
     "metadata": {},
     "output_type": "execute_result"
    }
   ],
   "source": [
    "# Evaluate model 10 on the test set\n",
    "model_10.evaluate(X_test,y_test)"
   ]
  },
  {
   "cell_type": "code",
   "execution_count": 64,
   "metadata": {},
   "outputs": [
    {
     "name": "stdout",
     "output_type": "stream",
     "text": [
      "doing binary classification...\n",
      "doing binary classification...\n"
     ]
    },
    {
     "data": {
      "image/png": "[encoded data removed]",
      "text/plain": [
       "<Figure size 864x432 with 2 Axes>"
      ]
     },
     "metadata": {
      "needs_background": "light"
     },
     "output_type": "display_data"
    }
   ],
   "source": [
    "# Plot the decision boundaries for the training and test sets\n",
    "plt.figure(figsize = (12,6))\n",
    "plt.subplot(1,2,1)\n",
    "plt.title(\"Train\")\n",
    "plot_decision_boundary(model_10,X_train, y_train)\n",
    "plt.subplot(1,2,2)\n",
    "plt.title(\"Test\")\n",
    "plot_decision_boundary(model_10,X_test,y_test)\n",
    "plt.show()"
   ]
  },
  {
   "cell_type": "markdown",
   "metadata": {},
   "source": [
    "### More classification evaluation methods"
   ]
  },
  {
   "cell_type": "markdown",
   "metadata": {},
   "source": [
    "Alongside the visualizations we've been making, there are a numbe of different evaluation metrics we can use to evaluate a classification model."
   ]
  },
  {
   "cell_type": "markdown",
   "metadata": {},
   "source": [
    "| **Metric name/Evaluation method** | **Definition** | **Formula** | **Code**|\n",
    "| ---- | ---- | ---- | ---- |\n",
    "| Accuracy | Out of 100 predictions, how many does your model get correct? E.g. 95% accuracy means it get 95/100 predictions correct | $$Accuracy = \\frac{tp+tn}{tp+tn+fp+fn}$$ | `sklearn.metrics.accuracy_score()` or `tf.keras.metrics.Accuracy()` |\n",
    "| Precision | Proportion of true positives over total number of samples. Higher precision leads to less false positives | $$Precision = \\frac{tp}{tp+fp}$$ | `sklearn.metrics.precision_score()` or `tf.keras.metrics.Precision()` |\n",
    "| Recall | Proportion of true positives over total number of true positives and false negatives (model predicts 0 when it should've been 1). Higher recall leads to less false negatives.  | $$Recall = \\frac{tp}{tp+fn}$$  | `sklearn.metrics.recall_score()` or `tf.keras.metrics.Recall()` |\n",
    "| F1-score | Combines precision and recall into one metric. 1 is best, 0 is worst. |  $$F1-score = 2 * \\frac{precision * recall}{precision+recall}$$ | `sklearn.metrics.f1_score()` |\n",
    "| Confusion matrix | Compares the predicted values with the true values in a tabular way, if 100% correct, all values in the matrix will be top left to bottom right (diagnol line). | NA | `sklearn.metrics.confusion_matrix()` |"
   ]
  },
  {
   "cell_type": "markdown",
   "metadata": {},
   "source": [
    "Because we passed `[\"accuracy\"]` to the `metrics` parameter when we compiled the model, calling evaluate() on it will return the loss as well as accuracy."
   ]
  },
  {
   "cell_type": "code",
   "execution_count": null,
   "metadata": {},
   "outputs": [],
   "source": [
    "# Check out the accuracy of our model\n"
   ]
  }
 ],
 "metadata": {
  "interpreter": {
   "hash": "6d46af94c2bbce495f1e668725902fa517c90b1782bcfe2fce0dd9868df553d3"
  },
  "kernelspec": {
   "display_name": "Python 3.8.8 ('base')",
   "language": "python",
   "name": "python3"
  },
  "language_info": {
   "codemirror_mode": {
    "name": "ipython",
    "version": 3
   },
   "file_extension": ".py",
   "mimetype": "text/x-python",
   "name": "python",
   "nbconvert_exporter": "python",
   "pygments_lexer": "ipython3",
   "version": "3.8.8"
  },
  "orig_nbformat": 4
 },
 "nbformat": 4,
 "nbformat_minor": 2
}
